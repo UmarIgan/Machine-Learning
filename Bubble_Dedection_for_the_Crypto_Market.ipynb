{
  "cells": [
    {
      "cell_type": "markdown",
      "metadata": {
        "id": "view-in-github",
        "colab_type": "text"
      },
      "source": [
        "<a href=\"https://colab.research.google.com/github/UmarIgan/Jupyter-Notebooks/blob/master/Bubble_Dedection_for_the_Crypto_Market.ipynb\" target=\"_parent\"><img src=\"https://colab.research.google.com/assets/colab-badge.svg\" alt=\"Open In Colab\"/></a>"
      ]
    },
    {
      "cell_type": "markdown",
      "metadata": {
        "id": "wqxGUvXOeo6I"
      },
      "source": [
        "# Dedecting Bubbles In Crypto\n",
        "In today worlds we all became an inverstor and we try to learn protect our money's value. At this time some market has what we call bubble by\n",
        "other various investor to manipulate markets. As we know, we can track multiple behaivor of markets to understand how price can be move in the\n",
        "future but understand market manipulation by other investors is a hard topic to handle for regular investors like us. The mathematic is full of\n",
        "magic and some great minds make this kind of market mainpulation more visible with the power of math.\n",
        "\n",
        "I am going to cover a great way to track this kind of behaviour here with a python module called lppls aka Log **Periodic Power Law Singularity**.\n",
        "\n",
        "###some main outputs of lppls:\n",
        "- Expected Log Price Colon : expected log price at the date of the termination of the bubble\n",
        "- Critical Time Colon ('tc'): critical time (date of termination of the bubble and transition in a new regime)\n",
        "- A Colon(a) : log price at the peak when the end of the bubble is reached at Critical Time\n",
        "- B Colon : amplitude of the power law acceleration\n",
        "- C Colon : amplitude of the log-periodic oscillations\n",
        "- m Colon : degree of the super exponential growth\n",
        "- omega Colon : scaling ratio of the temporal hierarchy of oscillations\n",
        "phi Colon : time scale of the oscillations\n",
        "\n",
        "Let's start"
      ]
    },
    {
      "cell_type": "markdown",
      "metadata": {
        "id": "hx5pBh0afk6O"
      },
      "source": [
        "Let's first install required modules"
      ]
    },
    {
      "cell_type": "code",
      "execution_count": 16,
      "metadata": {
        "colab": {
          "base_uri": "https://localhost:8080/"
        },
        "id": "V0Sy2Kkodc2A",
        "outputId": "c47efe89-e98c-4013-ce96-422068879b76"
      },
      "outputs": [
        {
          "output_type": "stream",
          "name": "stdout",
          "text": [
            "Looking in indexes: https://pypi.org/simple, https://us-python.pkg.dev/colab-wheels/public/simple/\n",
            "Requirement already satisfied: pandas in /usr/local/lib/python3.7/dist-packages (1.3.5)\n",
            "Requirement already satisfied: numpy in /usr/local/lib/python3.7/dist-packages (1.21.6)\n",
            "Requirement already satisfied: lppls in /usr/local/lib/python3.7/dist-packages (0.6.5)\n",
            "Requirement already satisfied: requests in /usr/local/lib/python3.7/dist-packages (2.23.0)\n",
            "Requirement already satisfied: ipython-autotime in /usr/local/lib/python3.7/dist-packages (0.3.1)\n",
            "Requirement already satisfied: pytz>=2017.3 in /usr/local/lib/python3.7/dist-packages (from pandas) (2022.1)\n",
            "Requirement already satisfied: python-dateutil>=2.7.3 in /usr/local/lib/python3.7/dist-packages (from pandas) (2.8.2)\n",
            "Requirement already satisfied: six>=1.5 in /usr/local/lib/python3.7/dist-packages (from python-dateutil>=2.7.3->pandas) (1.15.0)\n",
            "Requirement already satisfied: xarray in /usr/local/lib/python3.7/dist-packages (from lppls) (0.20.2)\n",
            "Requirement already satisfied: scipy in /usr/local/lib/python3.7/dist-packages (from lppls) (1.7.3)\n",
            "Requirement already satisfied: cma in /usr/local/lib/python3.7/dist-packages (from lppls) (3.2.2)\n",
            "Requirement already satisfied: matplotlib in /usr/local/lib/python3.7/dist-packages (from lppls) (3.2.2)\n",
            "Requirement already satisfied: chardet<4,>=3.0.2 in /usr/local/lib/python3.7/dist-packages (from requests) (3.0.4)\n",
            "Requirement already satisfied: certifi>=2017.4.17 in /usr/local/lib/python3.7/dist-packages (from requests) (2022.6.15)\n",
            "Requirement already satisfied: urllib3!=1.25.0,!=1.25.1,<1.26,>=1.21.1 in /usr/local/lib/python3.7/dist-packages (from requests) (1.24.3)\n",
            "Requirement already satisfied: idna<3,>=2.5 in /usr/local/lib/python3.7/dist-packages (from requests) (2.10)\n",
            "Requirement already satisfied: ipython in /usr/local/lib/python3.7/dist-packages (from ipython-autotime) (5.5.0)\n",
            "Requirement already satisfied: pexpect in /usr/local/lib/python3.7/dist-packages (from ipython->ipython-autotime) (4.8.0)\n",
            "Requirement already satisfied: simplegeneric>0.8 in /usr/local/lib/python3.7/dist-packages (from ipython->ipython-autotime) (0.8.1)\n",
            "Requirement already satisfied: setuptools>=18.5 in /usr/local/lib/python3.7/dist-packages (from ipython->ipython-autotime) (57.4.0)\n",
            "Requirement already satisfied: prompt-toolkit<2.0.0,>=1.0.4 in /usr/local/lib/python3.7/dist-packages (from ipython->ipython-autotime) (1.0.18)\n",
            "Requirement already satisfied: pygments in /usr/local/lib/python3.7/dist-packages (from ipython->ipython-autotime) (2.6.1)\n",
            "Requirement already satisfied: decorator in /usr/local/lib/python3.7/dist-packages (from ipython->ipython-autotime) (4.4.2)\n",
            "Requirement already satisfied: pickleshare in /usr/local/lib/python3.7/dist-packages (from ipython->ipython-autotime) (0.7.5)\n",
            "Requirement already satisfied: traitlets>=4.2 in /usr/local/lib/python3.7/dist-packages (from ipython->ipython-autotime) (5.1.1)\n",
            "Requirement already satisfied: wcwidth in /usr/local/lib/python3.7/dist-packages (from prompt-toolkit<2.0.0,>=1.0.4->ipython->ipython-autotime) (0.2.5)\n",
            "Requirement already satisfied: cycler>=0.10 in /usr/local/lib/python3.7/dist-packages (from matplotlib->lppls) (0.11.0)\n",
            "Requirement already satisfied: pyparsing!=2.0.4,!=2.1.2,!=2.1.6,>=2.0.1 in /usr/local/lib/python3.7/dist-packages (from matplotlib->lppls) (3.0.9)\n",
            "Requirement already satisfied: kiwisolver>=1.0.1 in /usr/local/lib/python3.7/dist-packages (from matplotlib->lppls) (1.4.4)\n",
            "Requirement already satisfied: typing-extensions in /usr/local/lib/python3.7/dist-packages (from kiwisolver>=1.0.1->matplotlib->lppls) (4.1.1)\n",
            "Requirement already satisfied: ptyprocess>=0.5 in /usr/local/lib/python3.7/dist-packages (from pexpect->ipython->ipython-autotime) (0.7.0)\n",
            "Requirement already satisfied: importlib-metadata in /usr/local/lib/python3.7/dist-packages (from xarray->lppls) (4.12.0)\n",
            "Requirement already satisfied: zipp>=0.5 in /usr/local/lib/python3.7/dist-packages (from importlib-metadata->xarray->lppls) (3.8.1)\n",
            "The autotime extension is already loaded. To reload it, use:\n",
            "  %reload_ext autotime\n",
            "time: 3.24 s (started: 2022-07-27 17:20:08 +00:00)\n"
          ]
        }
      ],
      "source": [
        "!pip install pandas numpy lppls requests ipython-autotime\n",
        "%load_ext autotime"
      ]
    },
    {
      "cell_type": "markdown",
      "metadata": {
        "id": "dr1-Xr-SftW9"
      },
      "source": [
        "And import them"
      ]
    },
    {
      "cell_type": "code",
      "execution_count": 17,
      "metadata": {
        "colab": {
          "base_uri": "https://localhost:8080/"
        },
        "id": "UAm9a1ckaLEw",
        "outputId": "cf5c3d59-5aaa-4b69-86e3-0199e74c0184"
      },
      "outputs": [
        {
          "output_type": "stream",
          "name": "stdout",
          "text": [
            "The autotime extension is already loaded. To reload it, use:\n",
            "  %reload_ext autotime\n",
            "time: 10 ms (started: 2022-07-27 17:20:12 +00:00)\n"
          ]
        }
      ],
      "source": [
        "from lppls import lppls, data_loader\n",
        "import numpy as np\n",
        "import pandas as pd\n",
        "from datetime import datetime as dt\n",
        "import requests\n",
        "import json\n",
        "import warnings\n",
        "import datetime as dt\n",
        "import matplotlib.pyplot as plt\n",
        "warnings.filterwarnings(\"ignore\")\n",
        "#pd.options.mode.chained_assignment = None\n",
        "#pd.set_option('display.max_columns', None)\n",
        "#pd.options.mode.chained_assignment = None\n",
        "%load_ext autotime \n",
        "%matplotlib inline"
      ]
    },
    {
      "cell_type": "markdown",
      "metadata": {
        "id": "iQDXYGcxgAXP"
      },
      "source": [
        "I am am going to mine hourly data of 8 populer crypto from binance which is populer, free and has fast response time "
      ]
    },
    {
      "cell_type": "code",
      "execution_count": 18,
      "metadata": {
        "colab": {
          "base_uri": "https://localhost:8080/",
          "height": 255
        },
        "id": "vQW-g6nOeXE9",
        "outputId": "473c1498-4288-462b-b659-a379d733a674"
      },
      "outputs": [
        {
          "output_type": "execute_result",
          "data": {
            "text/plain": [
              "                     ADAUSDT   BTCUSDT  DOGEUSDT  DOTUSDT  ETHUSDT  LTCUSDT  \\\n",
              "index                                                                         \n",
              "2022-07-21 23:00:00   0.4993  23152.19   0.06998     7.53  1575.45    58.02   \n",
              "2022-07-20 02:00:00   0.5235  23370.43   0.06912     7.83  1546.27    58.09   \n",
              "2022-07-07 11:00:00   0.4656  20507.83   0.06938     7.03  1186.07    50.18   \n",
              "2022-07-27 05:00:00   0.4691  21247.25   0.06285     6.79  1452.67    53.80   \n",
              "2022-07-13 20:00:00   0.4206  19670.02   0.06019     6.28  1076.64    48.38   \n",
              "\n",
              "                     SOLUSDT  XRPUSDT  \n",
              "index                                  \n",
              "2022-07-21 23:00:00    43.11   0.3669  \n",
              "2022-07-20 02:00:00    45.07   0.3730  \n",
              "2022-07-07 11:00:00    37.26   0.3292  \n",
              "2022-07-27 05:00:00    37.02   0.3365  \n",
              "2022-07-13 20:00:00    33.57   0.3180  "
            ],
            "text/html": [
              "\n",
              "  <div id=\"df-7f8f1c82-a162-4958-97e9-1df04149cc94\">\n",
              "    <div class=\"colab-df-container\">\n",
              "      <div>\n",
              "<style scoped>\n",
              "    .dataframe tbody tr th:only-of-type {\n",
              "        vertical-align: middle;\n",
              "    }\n",
              "\n",
              "    .dataframe tbody tr th {\n",
              "        vertical-align: top;\n",
              "    }\n",
              "\n",
              "    .dataframe thead th {\n",
              "        text-align: right;\n",
              "    }\n",
              "</style>\n",
              "<table border=\"1\" class=\"dataframe\">\n",
              "  <thead>\n",
              "    <tr style=\"text-align: right;\">\n",
              "      <th></th>\n",
              "      <th>ADAUSDT</th>\n",
              "      <th>BTCUSDT</th>\n",
              "      <th>DOGEUSDT</th>\n",
              "      <th>DOTUSDT</th>\n",
              "      <th>ETHUSDT</th>\n",
              "      <th>LTCUSDT</th>\n",
              "      <th>SOLUSDT</th>\n",
              "      <th>XRPUSDT</th>\n",
              "    </tr>\n",
              "    <tr>\n",
              "      <th>index</th>\n",
              "      <th></th>\n",
              "      <th></th>\n",
              "      <th></th>\n",
              "      <th></th>\n",
              "      <th></th>\n",
              "      <th></th>\n",
              "      <th></th>\n",
              "      <th></th>\n",
              "    </tr>\n",
              "  </thead>\n",
              "  <tbody>\n",
              "    <tr>\n",
              "      <th>2022-07-21 23:00:00</th>\n",
              "      <td>0.4993</td>\n",
              "      <td>23152.19</td>\n",
              "      <td>0.06998</td>\n",
              "      <td>7.53</td>\n",
              "      <td>1575.45</td>\n",
              "      <td>58.02</td>\n",
              "      <td>43.11</td>\n",
              "      <td>0.3669</td>\n",
              "    </tr>\n",
              "    <tr>\n",
              "      <th>2022-07-20 02:00:00</th>\n",
              "      <td>0.5235</td>\n",
              "      <td>23370.43</td>\n",
              "      <td>0.06912</td>\n",
              "      <td>7.83</td>\n",
              "      <td>1546.27</td>\n",
              "      <td>58.09</td>\n",
              "      <td>45.07</td>\n",
              "      <td>0.3730</td>\n",
              "    </tr>\n",
              "    <tr>\n",
              "      <th>2022-07-07 11:00:00</th>\n",
              "      <td>0.4656</td>\n",
              "      <td>20507.83</td>\n",
              "      <td>0.06938</td>\n",
              "      <td>7.03</td>\n",
              "      <td>1186.07</td>\n",
              "      <td>50.18</td>\n",
              "      <td>37.26</td>\n",
              "      <td>0.3292</td>\n",
              "    </tr>\n",
              "    <tr>\n",
              "      <th>2022-07-27 05:00:00</th>\n",
              "      <td>0.4691</td>\n",
              "      <td>21247.25</td>\n",
              "      <td>0.06285</td>\n",
              "      <td>6.79</td>\n",
              "      <td>1452.67</td>\n",
              "      <td>53.80</td>\n",
              "      <td>37.02</td>\n",
              "      <td>0.3365</td>\n",
              "    </tr>\n",
              "    <tr>\n",
              "      <th>2022-07-13 20:00:00</th>\n",
              "      <td>0.4206</td>\n",
              "      <td>19670.02</td>\n",
              "      <td>0.06019</td>\n",
              "      <td>6.28</td>\n",
              "      <td>1076.64</td>\n",
              "      <td>48.38</td>\n",
              "      <td>33.57</td>\n",
              "      <td>0.3180</td>\n",
              "    </tr>\n",
              "  </tbody>\n",
              "</table>\n",
              "</div>\n",
              "      <button class=\"colab-df-convert\" onclick=\"convertToInteractive('df-7f8f1c82-a162-4958-97e9-1df04149cc94')\"\n",
              "              title=\"Convert this dataframe to an interactive table.\"\n",
              "              style=\"display:none;\">\n",
              "        \n",
              "  <svg xmlns=\"http://www.w3.org/2000/svg\" height=\"24px\"viewBox=\"0 0 24 24\"\n",
              "       width=\"24px\">\n",
              "    <path d=\"M0 0h24v24H0V0z\" fill=\"none\"/>\n",
              "    <path d=\"M18.56 5.44l.94 2.06.94-2.06 2.06-.94-2.06-.94-.94-2.06-.94 2.06-2.06.94zm-11 1L8.5 8.5l.94-2.06 2.06-.94-2.06-.94L8.5 2.5l-.94 2.06-2.06.94zm10 10l.94 2.06.94-2.06 2.06-.94-2.06-.94-.94-2.06-.94 2.06-2.06.94z\"/><path d=\"M17.41 7.96l-1.37-1.37c-.4-.4-.92-.59-1.43-.59-.52 0-1.04.2-1.43.59L10.3 9.45l-7.72 7.72c-.78.78-.78 2.05 0 2.83L4 21.41c.39.39.9.59 1.41.59.51 0 1.02-.2 1.41-.59l7.78-7.78 2.81-2.81c.8-.78.8-2.07 0-2.86zM5.41 20L4 18.59l7.72-7.72 1.47 1.35L5.41 20z\"/>\n",
              "  </svg>\n",
              "      </button>\n",
              "      \n",
              "  <style>\n",
              "    .colab-df-container {\n",
              "      display:flex;\n",
              "      flex-wrap:wrap;\n",
              "      gap: 12px;\n",
              "    }\n",
              "\n",
              "    .colab-df-convert {\n",
              "      background-color: #E8F0FE;\n",
              "      border: none;\n",
              "      border-radius: 50%;\n",
              "      cursor: pointer;\n",
              "      display: none;\n",
              "      fill: #1967D2;\n",
              "      height: 32px;\n",
              "      padding: 0 0 0 0;\n",
              "      width: 32px;\n",
              "    }\n",
              "\n",
              "    .colab-df-convert:hover {\n",
              "      background-color: #E2EBFA;\n",
              "      box-shadow: 0px 1px 2px rgba(60, 64, 67, 0.3), 0px 1px 3px 1px rgba(60, 64, 67, 0.15);\n",
              "      fill: #174EA6;\n",
              "    }\n",
              "\n",
              "    [theme=dark] .colab-df-convert {\n",
              "      background-color: #3B4455;\n",
              "      fill: #D2E3FC;\n",
              "    }\n",
              "\n",
              "    [theme=dark] .colab-df-convert:hover {\n",
              "      background-color: #434B5C;\n",
              "      box-shadow: 0px 1px 3px 1px rgba(0, 0, 0, 0.15);\n",
              "      filter: drop-shadow(0px 1px 2px rgba(0, 0, 0, 0.3));\n",
              "      fill: #FFFFFF;\n",
              "    }\n",
              "  </style>\n",
              "\n",
              "      <script>\n",
              "        const buttonEl =\n",
              "          document.querySelector('#df-7f8f1c82-a162-4958-97e9-1df04149cc94 button.colab-df-convert');\n",
              "        buttonEl.style.display =\n",
              "          google.colab.kernel.accessAllowed ? 'block' : 'none';\n",
              "\n",
              "        async function convertToInteractive(key) {\n",
              "          const element = document.querySelector('#df-7f8f1c82-a162-4958-97e9-1df04149cc94');\n",
              "          const dataTable =\n",
              "            await google.colab.kernel.invokeFunction('convertToInteractive',\n",
              "                                                     [key], {});\n",
              "          if (!dataTable) return;\n",
              "\n",
              "          const docLinkHtml = 'Like what you see? Visit the ' +\n",
              "            '<a target=\"_blank\" href=https://colab.research.google.com/notebooks/data_table.ipynb>data table notebook</a>'\n",
              "            + ' to learn more about interactive tables.';\n",
              "          element.innerHTML = '';\n",
              "          dataTable['output_type'] = 'display_data';\n",
              "          await google.colab.output.renderOutput(dataTable, element);\n",
              "          const docLink = document.createElement('div');\n",
              "          docLink.innerHTML = docLinkHtml;\n",
              "          element.appendChild(docLink);\n",
              "        }\n",
              "      </script>\n",
              "    </div>\n",
              "  </div>\n",
              "  "
            ]
          },
          "metadata": {},
          "execution_count": 18
        },
        {
          "output_type": "stream",
          "name": "stdout",
          "text": [
            "time: 1.92 s (started: 2022-07-27 17:20:12 +00:00)\n"
          ]
        }
      ],
      "source": [
        "\n",
        "\n",
        "\n",
        "cryptos=[{'name': 'Bitcoin', 'symbol': 'BTCUSDT', 'usym': '₿', 'gecko': 'bitcoin'},\n",
        "         {'name': 'Ethereum', 'symbol': 'ETHUSDT', 'usym': 'Ξ', 'gecko': 'ethereum'},\n",
        "         {'name': 'Cardano', 'symbol': 'ADAUSDT', 'usym': '₳', 'gecko': 'cardano'},\n",
        "         {'name': 'XRP', 'symbol': 'XRPUSDT', 'usym': '✕', 'gecko': 'ripple'},\n",
        "         {'name': 'Solana', 'symbol': 'SOLUSDT', 'usym': '◎', 'gecko': 'solana'},\n",
        "         {'name': 'Polkadot', 'symbol': 'DOTUSDT', 'usym': '●', 'gecko': 'polkadot'},\n",
        "         {'name': 'Dogecoin', 'symbol': 'DOGEUSDT', 'usym': 'Ð', 'gecko': 'dogecoin'},\n",
        "         {'name': 'Litecoin', 'symbol': 'LTCUSDT', 'usym': 'Ł', 'gecko': 'litecoin'},\n",
        "        {'name': 'Litecoin', 'symbol': 'LTCUSDT', 'usym': 'Ł', 'gecko': 'litecoin'},\n",
        "         ]\n",
        "\n",
        "\n",
        "symbols= [i['symbol'] for i in cryptos]\n",
        "\n",
        "#main function to get data as ohlc\n",
        "def get_bars (symbol, interval='1d'):\n",
        "    root_url = 'https://api.binance.com/api/v1/klines'\n",
        "    url = root_url + '?symbol=' + symbol + '&interval=' + interval\n",
        "    data = json.loads (requests.get (url).text)\n",
        "    df = pd.DataFrame (data)\n",
        "    df.columns = ['open_time',\n",
        "                  'open', 'high', 'low', 'close', 'volume',\n",
        "                  'close_time', 'qav', 'num_trades',\n",
        "                  'buyer_seller_volume', 'taker_quote_vol', 'ignore']\n",
        "    df.index = [dt.datetime.fromtimestamp (x / 1000.0) for x in df.open_time]\n",
        "    df['close'] = pd.to_numeric (df['close'])\n",
        "    df['open'] = pd.to_numeric (df['open'])\n",
        "    df['high'] = pd.to_numeric (df['high'])\n",
        "    df['low'] = pd.to_numeric (df['low'])\n",
        "    df['volume'] = pd.to_numeric (df['volume'])\n",
        "    df['close'] = pd.to_numeric (df['close'])\n",
        "    df['buyer_seller_volume'] = pd.to_numeric (df['buyer_seller_volume'])\n",
        "    df['num_trades'] = pd.to_numeric (df['num_trades'])\n",
        "    df['symbol'] = symbol\n",
        "    #df_.loc[:, 'name'] = symbol\n",
        "    return df\n",
        "#this function will transform data to close values of each hour for each crypto\n",
        "def return_close_values():\n",
        "    listi = []\n",
        "    for i in symbols:\n",
        "        data = get_bars (i, interval='1h')\n",
        "        listi.append (data)\n",
        "    dfi = pd.concat ([pd.DataFrame (x) for x in listi]).apply (pd.Series)\n",
        "    lis = dfi[['close', 'symbol']].reset_index()\n",
        "    data2 = lis.pivot_table(index='index', columns='symbol', values='close').reset_index ().rename_axis (None,axis=1).set_index ('index').dropna ()\n",
        "    data2.index = pd.to_datetime (data2.index)\n",
        "    return data2\n",
        "data = return_close_values()#data\n",
        "data.sample(5)"
      ]
    },
    {
      "cell_type": "markdown",
      "metadata": {
        "id": "Uf0IkS9igpA6"
      },
      "source": [
        "As you can see, we mined the data. \n",
        "Now below, I copy some codes from example in [lppls](https://github.com/Boulder-Investment-Technologies/lppls) github page and functionalized them for fitting above data.\n",
        "\n",
        "-  ***bubble_finder***:  this function will return lppls results as a dataframe\n",
        "- ***return_lppls_df***: this function will apply above function to all data and return concaded dataset\n",
        "- ***plot_pos_confidence_indicators***: this function copied from [lppls](https://github.com/Boulder-Investment-Technologies/lppls) to plot all results separetly to understand results"
      ]
    },
    {
      "cell_type": "code",
      "execution_count": 19,
      "metadata": {
        "colab": {
          "base_uri": "https://localhost:8080/"
        },
        "id": "5HUTMORbheRw",
        "outputId": "18acf4f8-211c-4852-e884-2018dcaa23fd"
      },
      "outputs": [
        {
          "output_type": "stream",
          "name": "stdout",
          "text": [
            "time: 28.8 ms (started: 2022-07-27 17:20:14 +00:00)\n"
          ]
        }
      ],
      "source": [
        "def bubble_finder(data):\n",
        "    time_ord = [pd.Timestamp.toordinal(t1) for t1 in data.index]\n",
        "    # create list of observation data\n",
        "    price = np.log(data.values)\n",
        "\n",
        "    # create observations array (expected format for LPPLS observations)\n",
        "    observations = np.array([time_ord, price])\n",
        "\n",
        "    # set the max number for searches to perform before giving-up\n",
        "    MAX_SEARCHES = 25\n",
        "   \n",
        "    lppls_model = lppls.LPPLS(observations=observations)\n",
        "\n",
        "    res = lppls_model.mp_compute_nested_fits(\n",
        "        max_searches=5, workers=8\n",
        "        # filter_conditions_config={} # not implemented in 0.6.x\n",
        "    )\n",
        "    res_df = lppls_model.compute_indicators(res)\n",
        "    res_df['ordinal_time'] = res_df['time']\n",
        "    res_df['symbol'] = data.name\n",
        "    #res_df['date2'] =data.index\n",
        "    #res_df['time'] = [pd.Timestamp.fromordinal(int(t1)) for t1 in res_df['time']]\n",
        "    #res_df.set_index('time', inplace=True)\n",
        "  \n",
        "    return res_df\n",
        "\n",
        "\n",
        "def plot_pos_confidence_indicators(res_df):\n",
        "    #https://github.com/Boulder-Investment-Technologies/avoiding_bubbles/blob/main/utils/plotting.py\n",
        "    fig, (ax1) = plt.subplots(nrows=1, ncols=1, sharex=True, figsize=(12, 6))\n",
        "    ts = res_df.index\n",
        "    # plot pos bubbles\n",
        "    ax1_0 = ax1.twinx()\n",
        "    ax1.plot(ts, res_df['price'], color='black', linewidth=0.75)\n",
        "    # ax1_0.plot(compatible_date, pos_lst, label='pos bubbles', color='gray', alpha=0.5)\n",
        "    ax1_0.plot(ts, res_df['pos_conf'], label='bubble indicator (pos)', color='red', alpha=0.5)\n",
        "    # set grids\n",
        "    ax1.grid(which='major', axis='both')\n",
        "    # set labels\n",
        "    ax1.set_ylabel('ln(p)')\n",
        "    ax1_0.set_ylabel('bubble indicator (pos)')\n",
        "    ax1_0.legend(loc=2)\n",
        "    plt.title('Positive LPPLS Conf Indicator')\n",
        "    plt.fill_between(ts, res_df['pos_conf'], color='red', alpha=0.5)\n",
        "    plt.show()"
      ]
    },
    {
      "cell_type": "code",
      "source": [
        "res_btc = bubble_finder(data['BTCUSDT'])\n",
        "plot_pos_confidence_indicators(res_btc.reset_index())"
      ],
      "metadata": {
        "colab": {
          "base_uri": "https://localhost:8080/",
          "height": 426
        },
        "id": "tr3NNX1EYmNH",
        "outputId": "ab5cd6fe-8c49-40fe-803f-80a31ce50628"
      },
      "execution_count": 20,
      "outputs": [
        {
          "output_type": "stream",
          "name": "stderr",
          "text": [
            "100%|██████████| 85/85 [01:44<00:00,  1.23s/it]\n"
          ]
        },
        {
          "output_type": "display_data",
          "data": {
            "text/plain": [
              "<Figure size 864x432 with 2 Axes>"
            ],
            "image/png": "[encoded data removed]"
          },
          "metadata": {
            "needs_background": "light"
          }
        },
        {
          "output_type": "stream",
          "name": "stdout",
          "text": [
            "time: 1min 44s (started: 2022-07-27 17:20:14 +00:00)\n"
          ]
        }
      ]
    },
    {
      "cell_type": "code",
      "source": [
        "res_dog"
      ],
      "metadata": {
        "colab": {
          "base_uri": "https://localhost:8080/",
          "height": 442
        },
        "id": "4S15aOKvq86r",
        "outputId": "c50dfcd4-536f-4b90-f887-c6d1e463d966"
      },
      "execution_count": 21,
      "outputs": [
        {
          "output_type": "execute_result",
          "data": {
            "text/plain": [
              "                   time     price  pos_conf  neg_conf  \\\n",
              "0   1657429200000000000 -2.681360         0         0   \n",
              "1   1657447200000000000 -2.688101         0         0   \n",
              "2   1657465200000000000 -2.706052         0         0   \n",
              "3   1657483200000000000 -2.694443         0         0   \n",
              "4   1657501200000000000 -2.717192         0         0   \n",
              "..                  ...       ...       ...       ...   \n",
              "80  1658869200000000000 -2.792791         0         0   \n",
              "81  1658887200000000000 -2.776436         0         0   \n",
              "82  1658905200000000000 -2.768437         0         0   \n",
              "83  1658923200000000000 -2.766209         0         0   \n",
              "84  1658941200000000000 -2.772589         0         0   \n",
              "\n",
              "                                                _fits         ordinal_time  \\\n",
              "0   [{'tc': 0, 'm': 0, 'w': 0, 'a': 0, 'b': 0, 'c'...  1657429200000000000   \n",
              "1   [{'tc': 0, 'm': 0, 'w': 0, 'a': 0, 'b': 0, 'c'...  1657447200000000000   \n",
              "2   [{'tc': 0, 'm': 0, 'w': 0, 'a': 0, 'b': 0, 'c'...  1657465200000000000   \n",
              "3   [{'tc': 0, 'm': 0, 'w': 0, 'a': 0, 'b': 0, 'c'...  1657483200000000000   \n",
              "4   [{'tc': 0, 'm': 0, 'w': 0, 'a': 0, 'b': 0, 'c'...  1657501200000000000   \n",
              "..                                                ...                  ...   \n",
              "80  [{'tc': 0, 'm': 0, 'w': 0, 'a': 0, 'b': 0, 'c'...  1658869200000000000   \n",
              "81  [{'tc': 0, 'm': 0, 'w': 0, 'a': 0, 'b': 0, 'c'...  1658887200000000000   \n",
              "82  [{'tc': 0, 'm': 0, 'w': 0, 'a': 0, 'b': 0, 'c'...  1658905200000000000   \n",
              "83  [{'tc': 0, 'm': 0, 'w': 0, 'a': 0, 'b': 0, 'c'...  1658923200000000000   \n",
              "84  [{'tc': 0, 'm': 0, 'w': 0, 'a': 0, 'b': 0, 'c'...  1658941200000000000   \n",
              "\n",
              "      symbol  \n",
              "0   DOGEUSDT  \n",
              "1   DOGEUSDT  \n",
              "2   DOGEUSDT  \n",
              "3   DOGEUSDT  \n",
              "4   DOGEUSDT  \n",
              "..       ...  \n",
              "80  DOGEUSDT  \n",
              "81  DOGEUSDT  \n",
              "82  DOGEUSDT  \n",
              "83  DOGEUSDT  \n",
              "84  DOGEUSDT  \n",
              "\n",
              "[85 rows x 7 columns]"
            ],
            "text/html": [
              "\n",
              "  <div id=\"df-ce8b212f-b823-4e61-aa2b-a3a9d974ab1d\">\n",
              "    <div class=\"colab-df-container\">\n",
              "      <div>\n",
              "<style scoped>\n",
              "    .dataframe tbody tr th:only-of-type {\n",
              "        vertical-align: middle;\n",
              "    }\n",
              "\n",
              "    .dataframe tbody tr th {\n",
              "        vertical-align: top;\n",
              "    }\n",
              "\n",
              "    .dataframe thead th {\n",
              "        text-align: right;\n",
              "    }\n",
              "</style>\n",
              "<table border=\"1\" class=\"dataframe\">\n",
              "  <thead>\n",
              "    <tr style=\"text-align: right;\">\n",
              "      <th></th>\n",
              "      <th>time</th>\n",
              "      <th>price</th>\n",
              "      <th>pos_conf</th>\n",
              "      <th>neg_conf</th>\n",
              "      <th>_fits</th>\n",
              "      <th>ordinal_time</th>\n",
              "      <th>symbol</th>\n",
              "    </tr>\n",
              "  </thead>\n",
              "  <tbody>\n",
              "    <tr>\n",
              "      <th>0</th>\n",
              "      <td>1657429200000000000</td>\n",
              "      <td>-2.681360</td>\n",
              "      <td>0</td>\n",
              "      <td>0</td>\n",
              "      <td>[{'tc': 0, 'm': 0, 'w': 0, 'a': 0, 'b': 0, 'c'...</td>\n",
              "      <td>1657429200000000000</td>\n",
              "      <td>DOGEUSDT</td>\n",
              "    </tr>\n",
              "    <tr>\n",
              "      <th>1</th>\n",
              "      <td>1657447200000000000</td>\n",
              "      <td>-2.688101</td>\n",
              "      <td>0</td>\n",
              "      <td>0</td>\n",
              "      <td>[{'tc': 0, 'm': 0, 'w': 0, 'a': 0, 'b': 0, 'c'...</td>\n",
              "      <td>1657447200000000000</td>\n",
              "      <td>DOGEUSDT</td>\n",
              "    </tr>\n",
              "    <tr>\n",
              "      <th>2</th>\n",
              "      <td>1657465200000000000</td>\n",
              "      <td>-2.706052</td>\n",
              "      <td>0</td>\n",
              "      <td>0</td>\n",
              "      <td>[{'tc': 0, 'm': 0, 'w': 0, 'a': 0, 'b': 0, 'c'...</td>\n",
              "      <td>1657465200000000000</td>\n",
              "      <td>DOGEUSDT</td>\n",
              "    </tr>\n",
              "    <tr>\n",
              "      <th>3</th>\n",
              "      <td>1657483200000000000</td>\n",
              "      <td>-2.694443</td>\n",
              "      <td>0</td>\n",
              "      <td>0</td>\n",
              "      <td>[{'tc': 0, 'm': 0, 'w': 0, 'a': 0, 'b': 0, 'c'...</td>\n",
              "      <td>1657483200000000000</td>\n",
              "      <td>DOGEUSDT</td>\n",
              "    </tr>\n",
              "    <tr>\n",
              "      <th>4</th>\n",
              "      <td>1657501200000000000</td>\n",
              "      <td>-2.717192</td>\n",
              "      <td>0</td>\n",
              "      <td>0</td>\n",
              "      <td>[{'tc': 0, 'm': 0, 'w': 0, 'a': 0, 'b': 0, 'c'...</td>\n",
              "      <td>1657501200000000000</td>\n",
              "      <td>DOGEUSDT</td>\n",
              "    </tr>\n",
              "    <tr>\n",
              "      <th>...</th>\n",
              "      <td>...</td>\n",
              "      <td>...</td>\n",
              "      <td>...</td>\n",
              "      <td>...</td>\n",
              "      <td>...</td>\n",
              "      <td>...</td>\n",
              "      <td>...</td>\n",
              "    </tr>\n",
              "    <tr>\n",
              "      <th>80</th>\n",
              "      <td>1658869200000000000</td>\n",
              "      <td>-2.792791</td>\n",
              "      <td>0</td>\n",
              "      <td>0</td>\n",
              "      <td>[{'tc': 0, 'm': 0, 'w': 0, 'a': 0, 'b': 0, 'c'...</td>\n",
              "      <td>1658869200000000000</td>\n",
              "      <td>DOGEUSDT</td>\n",
              "    </tr>\n",
              "    <tr>\n",
              "      <th>81</th>\n",
              "      <td>1658887200000000000</td>\n",
              "      <td>-2.776436</td>\n",
              "      <td>0</td>\n",
              "      <td>0</td>\n",
              "      <td>[{'tc': 0, 'm': 0, 'w': 0, 'a': 0, 'b': 0, 'c'...</td>\n",
              "      <td>1658887200000000000</td>\n",
              "      <td>DOGEUSDT</td>\n",
              "    </tr>\n",
              "    <tr>\n",
              "      <th>82</th>\n",
              "      <td>1658905200000000000</td>\n",
              "      <td>-2.768437</td>\n",
              "      <td>0</td>\n",
              "      <td>0</td>\n",
              "      <td>[{'tc': 0, 'm': 0, 'w': 0, 'a': 0, 'b': 0, 'c'...</td>\n",
              "      <td>1658905200000000000</td>\n",
              "      <td>DOGEUSDT</td>\n",
              "    </tr>\n",
              "    <tr>\n",
              "      <th>83</th>\n",
              "      <td>1658923200000000000</td>\n",
              "      <td>-2.766209</td>\n",
              "      <td>0</td>\n",
              "      <td>0</td>\n",
              "      <td>[{'tc': 0, 'm': 0, 'w': 0, 'a': 0, 'b': 0, 'c'...</td>\n",
              "      <td>1658923200000000000</td>\n",
              "      <td>DOGEUSDT</td>\n",
              "    </tr>\n",
              "    <tr>\n",
              "      <th>84</th>\n",
              "      <td>1658941200000000000</td>\n",
              "      <td>-2.772589</td>\n",
              "      <td>0</td>\n",
              "      <td>0</td>\n",
              "      <td>[{'tc': 0, 'm': 0, 'w': 0, 'a': 0, 'b': 0, 'c'...</td>\n",
              "      <td>1658941200000000000</td>\n",
              "      <td>DOGEUSDT</td>\n",
              "    </tr>\n",
              "  </tbody>\n",
              "</table>\n",
              "<p>85 rows × 7 columns</p>\n",
              "</div>\n",
              "      <button class=\"colab-df-convert\" onclick=\"convertToInteractive('df-ce8b212f-b823-4e61-aa2b-a3a9d974ab1d')\"\n",
              "              title=\"Convert this dataframe to an interactive table.\"\n",
              "              style=\"display:none;\">\n",
              "        \n",
              "  <svg xmlns=\"http://www.w3.org/2000/svg\" height=\"24px\"viewBox=\"0 0 24 24\"\n",
              "       width=\"24px\">\n",
              "    <path d=\"M0 0h24v24H0V0z\" fill=\"none\"/>\n",
              "    <path d=\"M18.56 5.44l.94 2.06.94-2.06 2.06-.94-2.06-.94-.94-2.06-.94 2.06-2.06.94zm-11 1L8.5 8.5l.94-2.06 2.06-.94-2.06-.94L8.5 2.5l-.94 2.06-2.06.94zm10 10l.94 2.06.94-2.06 2.06-.94-2.06-.94-.94-2.06-.94 2.06-2.06.94z\"/><path d=\"M17.41 7.96l-1.37-1.37c-.4-.4-.92-.59-1.43-.59-.52 0-1.04.2-1.43.59L10.3 9.45l-7.72 7.72c-.78.78-.78 2.05 0 2.83L4 21.41c.39.39.9.59 1.41.59.51 0 1.02-.2 1.41-.59l7.78-7.78 2.81-2.81c.8-.78.8-2.07 0-2.86zM5.41 20L4 18.59l7.72-7.72 1.47 1.35L5.41 20z\"/>\n",
              "  </svg>\n",
              "      </button>\n",
              "      \n",
              "  <style>\n",
              "    .colab-df-container {\n",
              "      display:flex;\n",
              "      flex-wrap:wrap;\n",
              "      gap: 12px;\n",
              "    }\n",
              "\n",
              "    .colab-df-convert {\n",
              "      background-color: #E8F0FE;\n",
              "      border: none;\n",
              "      border-radius: 50%;\n",
              "      cursor: pointer;\n",
              "      display: none;\n",
              "      fill: #1967D2;\n",
              "      height: 32px;\n",
              "      padding: 0 0 0 0;\n",
              "      width: 32px;\n",
              "    }\n",
              "\n",
              "    .colab-df-convert:hover {\n",
              "      background-color: #E2EBFA;\n",
              "      box-shadow: 0px 1px 2px rgba(60, 64, 67, 0.3), 0px 1px 3px 1px rgba(60, 64, 67, 0.15);\n",
              "      fill: #174EA6;\n",
              "    }\n",
              "\n",
              "    [theme=dark] .colab-df-convert {\n",
              "      background-color: #3B4455;\n",
              "      fill: #D2E3FC;\n",
              "    }\n",
              "\n",
              "    [theme=dark] .colab-df-convert:hover {\n",
              "      background-color: #434B5C;\n",
              "      box-shadow: 0px 1px 3px 1px rgba(0, 0, 0, 0.15);\n",
              "      filter: drop-shadow(0px 1px 2px rgba(0, 0, 0, 0.3));\n",
              "      fill: #FFFFFF;\n",
              "    }\n",
              "  </style>\n",
              "\n",
              "      <script>\n",
              "        const buttonEl =\n",
              "          document.querySelector('#df-ce8b212f-b823-4e61-aa2b-a3a9d974ab1d button.colab-df-convert');\n",
              "        buttonEl.style.display =\n",
              "          google.colab.kernel.accessAllowed ? 'block' : 'none';\n",
              "\n",
              "        async function convertToInteractive(key) {\n",
              "          const element = document.querySelector('#df-ce8b212f-b823-4e61-aa2b-a3a9d974ab1d');\n",
              "          const dataTable =\n",
              "            await google.colab.kernel.invokeFunction('convertToInteractive',\n",
              "                                                     [key], {});\n",
              "          if (!dataTable) return;\n",
              "\n",
              "          const docLinkHtml = 'Like what you see? Visit the ' +\n",
              "            '<a target=\"_blank\" href=https://colab.research.google.com/notebooks/data_table.ipynb>data table notebook</a>'\n",
              "            + ' to learn more about interactive tables.';\n",
              "          element.innerHTML = '';\n",
              "          dataTable['output_type'] = 'display_data';\n",
              "          await google.colab.output.renderOutput(dataTable, element);\n",
              "          const docLink = document.createElement('div');\n",
              "          docLink.innerHTML = docLinkHtml;\n",
              "          element.appendChild(docLink);\n",
              "        }\n",
              "      </script>\n",
              "    </div>\n",
              "  </div>\n",
              "  "
            ]
          },
          "metadata": {},
          "execution_count": 21
        },
        {
          "output_type": "stream",
          "name": "stdout",
          "text": [
            "time: 130 ms (started: 2022-07-27 17:21:58 +00:00)\n"
          ]
        }
      ]
    },
    {
      "cell_type": "code",
      "source": [
        "res_dog = bubble_finder(data['DOGEUSDT'])\n",
        "plot_pos_confidence_indicators(res_dog.reset_index())"
      ],
      "metadata": {
        "colab": {
          "base_uri": "https://localhost:8080/",
          "height": 426
        },
        "id": "eX6Yja8rnwaM",
        "outputId": "346f76ff-e601-4471-b349-672c44fd375c"
      },
      "execution_count": 22,
      "outputs": [
        {
          "output_type": "stream",
          "name": "stderr",
          "text": [
            "100%|██████████| 85/85 [01:29<00:00,  1.05s/it]\n"
          ]
        },
        {
          "output_type": "display_data",
          "data": {
            "text/plain": [
              "<Figure size 864x432 with 2 Axes>"
            ],
            "image/png": "[encoded data removed]"
          },
          "metadata": {
            "needs_background": "light"
          }
        },
        {
          "output_type": "stream",
          "name": "stdout",
          "text": [
            "time: 1min 30s (started: 2022-07-27 17:21:59 +00:00)\n"
          ]
        }
      ]
    },
    {
      "cell_type": "code",
      "source": [
        ""
      ],
      "metadata": {
        "id": "HJjbN6bZn0tS"
      },
      "execution_count": 22,
      "outputs": []
    }
  ],
  "metadata": {
    "colab": {
      "collapsed_sections": [],
      "name": "Bubble Dedection for the Crypto Market.ipynb",
      "provenance": [],
      "authorship_tag": "ABX9TyPN3bTO9mf21iV2hEOe71Vk",
      "include_colab_link": true
    },
    "kernelspec": {
      "display_name": "Python 3",
      "name": "python3"
    },
    "language_info": {
      "name": "python"
    }
  },
  "nbformat": 4,
  "nbformat_minor": 0
}
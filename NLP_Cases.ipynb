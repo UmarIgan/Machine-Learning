{
  "nbformat": 4,
  "nbformat_minor": 0,
  "metadata": {
    "colab": {
      "provenance": [],
      "collapsed_sections": [
        "5tTNflF-WggZ",
        "n_IH7o36y74u",
        "ecl3YOs-zHda",
        "u9537h_NzNjd",
        "bq9Si9hKzSQQ"
      ]
    },
    "kernelspec": {
      "name": "python3",
      "display_name": "Python 3"
    },
    "language_info": {
      "name": "python"
    },
    "widgets": {
      "application/vnd.jupyter.widget-state+json": {
        "8636f69be5364f87937a60e9311e3403": {
          "model_module": "@jupyter-widgets/controls",
          "model_name": "HBoxModel",
          "model_module_version": "1.5.0",
          "state": {
            "_dom_classes": [],
            "_model_module": "@jupyter-widgets/controls",
            "_model_module_version": "1.5.0",
            "_model_name": "HBoxModel",
            "_view_count": null,
            "_view_module": "@jupyter-widgets/controls",
            "_view_module_version": "1.5.0",
            "_view_name": "HBoxView",
            "box_style": "",
            "children": [
              "IPY_MODEL_f4d9984907da4a0e8d582e75e922db8b",
              "IPY_MODEL_a41c9e0b120f4b71b177841da85f8d4c",
              "IPY_MODEL_fe69e82e3f3a4573916c9d77a8182493"
            ],
            "layout": "IPY_MODEL_ece9ea995bf54bf0991d5e41f702d2c2"
          }
        },
        "f4d9984907da4a0e8d582e75e922db8b": {
          "model_module": "@jupyter-widgets/controls",
          "model_name": "HTMLModel",
          "model_module_version": "1.5.0",
          "state": {
            "_dom_classes": [],
            "_model_module": "@jupyter-widgets/controls",
            "_model_module_version": "1.5.0",
            "_model_name": "HTMLModel",
            "_view_count": null,
            "_view_module": "@jupyter-widgets/controls",
            "_view_module_version": "1.5.0",
            "_view_name": "HTMLView",
            "description": "",
            "description_tooltip": null,
            "layout": "IPY_MODEL_403dac9ed55046c5b59a9a9e97c639d4",
            "placeholder": "​",
            "style": "IPY_MODEL_a302c734bc964bd08f103efc24f0311a",
            "value": "Downloading (…)lve/main/config.json: 100%"
          }
        },
        "a41c9e0b120f4b71b177841da85f8d4c": {
          "model_module": "@jupyter-widgets/controls",
          "model_name": "FloatProgressModel",
          "model_module_version": "1.5.0",
          "state": {
            "_dom_classes": [],
            "_model_module": "@jupyter-widgets/controls",
            "_model_module_version": "1.5.0",
            "_model_name": "FloatProgressModel",
            "_view_count": null,
            "_view_module": "@jupyter-widgets/controls",
            "_view_module_version": "1.5.0",
            "_view_name": "ProgressView",
            "bar_style": "success",
            "description": "",
            "description_tooltip": null,
            "layout": "IPY_MODEL_57e2e80512f741cabe45cca001efa90f",
            "max": 1244,
            "min": 0,
            "orientation": "horizontal",
            "style": "IPY_MODEL_568e62bd3eda4006b21046f17a337940",
            "value": 1244
          }
        },
        "fe69e82e3f3a4573916c9d77a8182493": {
          "model_module": "@jupyter-widgets/controls",
          "model_name": "HTMLModel",
          "model_module_version": "1.5.0",
          "state": {
            "_dom_classes": [],
            "_model_module": "@jupyter-widgets/controls",
            "_model_module_version": "1.5.0",
            "_model_name": "HTMLModel",
            "_view_count": null,
            "_view_module": "@jupyter-widgets/controls",
            "_view_module_version": "1.5.0",
            "_view_name": "HTMLView",
            "description": "",
            "description_tooltip": null,
            "layout": "IPY_MODEL_e71e3cf07f794a4db7597f02641ca64d",
            "placeholder": "​",
            "style": "IPY_MODEL_74be1b03e0204d5bb48e7d9d576db9ee",
            "value": " 1.24k/1.24k [00:00&lt;00:00, 33.8kB/s]"
          }
        },
        "ece9ea995bf54bf0991d5e41f702d2c2": {
          "model_module": "@jupyter-widgets/base",
          "model_name": "LayoutModel",
          "model_module_version": "1.2.0",
          "state": {
            "_model_module": "@jupyter-widgets/base",
            "_model_module_version": "1.2.0",
            "_model_name": "LayoutModel",
            "_view_count": null,
            "_view_module": "@jupyter-widgets/base",
            "_view_module_version": "1.2.0",
            "_view_name": "LayoutView",
            "align_content": null,
            "align_items": null,
            "align_self": null,
            "border": null,
            "bottom": null,
            "display": null,
            "flex": null,
            "flex_flow": null,
            "grid_area": null,
            "grid_auto_columns": null,
            "grid_auto_flow": null,
            "grid_auto_rows": null,
            "grid_column": null,
            "grid_gap": null,
            "grid_row": null,
            "grid_template_areas": null,
            "grid_template_columns": null,
            "grid_template_rows": null,
            "height": null,
            "justify_content": null,
            "justify_items": null,
            "left": null,
            "margin": null,
            "max_height": null,
            "max_width": null,
            "min_height": null,
            "min_width": null,
            "object_fit": null,
            "object_position": null,
            "order": null,
            "overflow": null,
            "overflow_x": null,
            "overflow_y": null,
            "padding": null,
            "right": null,
            "top": null,
            "visibility": null,
            "width": null
          }
        },
        "403dac9ed55046c5b59a9a9e97c639d4": {
          "model_module": "@jupyter-widgets/base",
          "model_name": "LayoutModel",
          "model_module_version": "1.2.0",
          "state": {
            "_model_module": "@jupyter-widgets/base",
            "_model_module_version": "1.2.0",
            "_model_name": "LayoutModel",
            "_view_count": null,
            "_view_module": "@jupyter-widgets/base",
            "_view_module_version": "1.2.0",
            "_view_name": "LayoutView",
            "align_content": null,
            "align_items": null,
            "align_self": null,
            "border": null,
            "bottom": null,
            "display": null,
            "flex": null,
            "flex_flow": null,
            "grid_area": null,
            "grid_auto_columns": null,
            "grid_auto_flow": null,
            "grid_auto_rows": null,
            "grid_column": null,
            "grid_gap": null,
            "grid_row": null,
            "grid_template_areas": null,
            "grid_template_columns": null,
            "grid_template_rows": null,
            "height": null,
            "justify_content": null,
            "justify_items": null,
            "left": null,
            "margin": null,
            "max_height": null,
            "max_width": null,
            "min_height": null,
            "min_width": null,
            "object_fit": null,
            "object_position": null,
            "order": null,
            "overflow": null,
            "overflow_x": null,
            "overflow_y": null,
            "padding": null,
            "right": null,
            "top": null,
            "visibility": null,
            "width": null
          }
        },
        "a302c734bc964bd08f103efc24f0311a": {
          "model_module": "@jupyter-widgets/controls",
          "model_name": "DescriptionStyleModel",
          "model_module_version": "1.5.0",
          "state": {
            "_model_module": "@jupyter-widgets/controls",
            "_model_module_version": "1.5.0",
            "_model_name": "DescriptionStyleModel",
            "_view_count": null,
            "_view_module": "@jupyter-widgets/base",
            "_view_module_version": "1.2.0",
            "_view_name": "StyleView",
            "description_width": ""
          }
        },
        "57e2e80512f741cabe45cca001efa90f": {
          "model_module": "@jupyter-widgets/base",
          "model_name": "LayoutModel",
          "model_module_version": "1.2.0",
          "state": {
            "_model_module": "@jupyter-widgets/base",
            "_model_module_version": "1.2.0",
            "_model_name": "LayoutModel",
            "_view_count": null,
            "_view_module": "@jupyter-widgets/base",
            "_view_module_version": "1.2.0",
            "_view_name": "LayoutView",
            "align_content": null,
            "align_items": null,
            "align_self": null,
            "border": null,
            "bottom": null,
            "display": null,
            "flex": null,
            "flex_flow": null,
            "grid_area": null,
            "grid_auto_columns": null,
            "grid_auto_flow": null,
            "grid_auto_rows": null,
            "grid_column": null,
            "grid_gap": null,
            "grid_row": null,
            "grid_template_areas": null,
            "grid_template_columns": null,
            "grid_template_rows": null,
            "height": null,
            "justify_content": null,
            "justify_items": null,
            "left": null,
            "margin": null,
            "max_height": null,
            "max_width": null,
            "min_height": null,
            "min_width": null,
            "object_fit": null,
            "object_position": null,
            "order": null,
            "overflow": null,
            "overflow_x": null,
            "overflow_y": null,
            "padding": null,
            "right": null,
            "top": null,
            "visibility": null,
            "width": null
          }
        },
        "568e62bd3eda4006b21046f17a337940": {
          "model_module": "@jupyter-widgets/controls",
          "model_name": "ProgressStyleModel",
          "model_module_version": "1.5.0",
          "state": {
            "_model_module": "@jupyter-widgets/controls",
            "_model_module_version": "1.5.0",
            "_model_name": "ProgressStyleModel",
            "_view_count": null,
            "_view_module": "@jupyter-widgets/base",
            "_view_module_version": "1.2.0",
            "_view_name": "StyleView",
            "bar_color": null,
            "description_width": ""
          }
        },
        "e71e3cf07f794a4db7597f02641ca64d": {
          "model_module": "@jupyter-widgets/base",
          "model_name": "LayoutModel",
          "model_module_version": "1.2.0",
          "state": {
            "_model_module": "@jupyter-widgets/base",
            "_model_module_version": "1.2.0",
            "_model_name": "LayoutModel",
            "_view_count": null,
            "_view_module": "@jupyter-widgets/base",
            "_view_module_version": "1.2.0",
            "_view_name": "LayoutView",
            "align_content": null,
            "align_items": null,
            "align_self": null,
            "border": null,
            "bottom": null,
            "display": null,
            "flex": null,
            "flex_flow": null,
            "grid_area": null,
            "grid_auto_columns": null,
            "grid_auto_flow": null,
            "grid_auto_rows": null,
            "grid_column": null,
            "grid_gap": null,
            "grid_row": null,
            "grid_template_areas": null,
            "grid_template_columns": null,
            "grid_template_rows": null,
            "height": null,
            "justify_content": null,
            "justify_items": null,
            "left": null,
            "margin": null,
            "max_height": null,
            "max_width": null,
            "min_height": null,
            "min_width": null,
            "object_fit": null,
            "object_position": null,
            "order": null,
            "overflow": null,
            "overflow_x": null,
            "overflow_y": null,
            "padding": null,
            "right": null,
            "top": null,
            "visibility": null,
            "width": null
          }
        },
        "74be1b03e0204d5bb48e7d9d576db9ee": {
          "model_module": "@jupyter-widgets/controls",
          "model_name": "DescriptionStyleModel",
          "model_module_version": "1.5.0",
          "state": {
            "_model_module": "@jupyter-widgets/controls",
            "_model_module_version": "1.5.0",
            "_model_name": "DescriptionStyleModel",
            "_view_count": null,
            "_view_module": "@jupyter-widgets/base",
            "_view_module_version": "1.2.0",
            "_view_name": "StyleView",
            "description_width": ""
          }
        },
        "86802eb1a74d457f98c0c318b7e44af8": {
          "model_module": "@jupyter-widgets/controls",
          "model_name": "HBoxModel",
          "model_module_version": "1.5.0",
          "state": {
            "_dom_classes": [],
            "_model_module": "@jupyter-widgets/controls",
            "_model_module_version": "1.5.0",
            "_model_name": "HBoxModel",
            "_view_count": null,
            "_view_module": "@jupyter-widgets/controls",
            "_view_module_version": "1.5.0",
            "_view_name": "HBoxView",
            "box_style": "",
            "children": [
              "IPY_MODEL_33a67fa9007e4142977708f9b465524c",
              "IPY_MODEL_0f8189c7b91c4a0f959c5cceeee02a97",
              "IPY_MODEL_f74408710f9f4f0eb5b96f1ffb6322f0"
            ],
            "layout": "IPY_MODEL_06730ac88bc84a23a83206d6760bf723"
          }
        },
        "33a67fa9007e4142977708f9b465524c": {
          "model_module": "@jupyter-widgets/controls",
          "model_name": "HTMLModel",
          "model_module_version": "1.5.0",
          "state": {
            "_dom_classes": [],
            "_model_module": "@jupyter-widgets/controls",
            "_model_module_version": "1.5.0",
            "_model_name": "HTMLModel",
            "_view_count": null,
            "_view_module": "@jupyter-widgets/controls",
            "_view_module_version": "1.5.0",
            "_view_name": "HTMLView",
            "description": "",
            "description_tooltip": null,
            "layout": "IPY_MODEL_1350f5a64850431c90f0a1ffba357137",
            "placeholder": "​",
            "style": "IPY_MODEL_41f59bc4ad0b4da4a081c715ec14c37c",
            "value": "Downloading pytorch_model.bin: 100%"
          }
        },
        "0f8189c7b91c4a0f959c5cceeee02a97": {
          "model_module": "@jupyter-widgets/controls",
          "model_name": "FloatProgressModel",
          "model_module_version": "1.5.0",
          "state": {
            "_dom_classes": [],
            "_model_module": "@jupyter-widgets/controls",
            "_model_module_version": "1.5.0",
            "_model_name": "FloatProgressModel",
            "_view_count": null,
            "_view_module": "@jupyter-widgets/controls",
            "_view_module_version": "1.5.0",
            "_view_name": "ProgressView",
            "bar_style": "success",
            "description": "",
            "description_tooltip": null,
            "layout": "IPY_MODEL_15cb5fdea5454d70897126559b5ab7fe",
            "max": 442523764,
            "min": 0,
            "orientation": "horizontal",
            "style": "IPY_MODEL_6731a668034d4e06ae3ab2dba52df627",
            "value": 442523764
          }
        },
        "f74408710f9f4f0eb5b96f1ffb6322f0": {
          "model_module": "@jupyter-widgets/controls",
          "model_name": "HTMLModel",
          "model_module_version": "1.5.0",
          "state": {
            "_dom_classes": [],
            "_model_module": "@jupyter-widgets/controls",
            "_model_module_version": "1.5.0",
            "_model_name": "HTMLModel",
            "_view_count": null,
            "_view_module": "@jupyter-widgets/controls",
            "_view_module_version": "1.5.0",
            "_view_name": "HTMLView",
            "description": "",
            "description_tooltip": null,
            "layout": "IPY_MODEL_054c7bfe0e2f480c94533fe523e6ba55",
            "placeholder": "​",
            "style": "IPY_MODEL_a2c33936dd9a44a9871506a66b32647b",
            "value": " 443M/443M [00:12&lt;00:00, 34.3MB/s]"
          }
        },
        "06730ac88bc84a23a83206d6760bf723": {
          "model_module": "@jupyter-widgets/base",
          "model_name": "LayoutModel",
          "model_module_version": "1.2.0",
          "state": {
            "_model_module": "@jupyter-widgets/base",
            "_model_module_version": "1.2.0",
            "_model_name": "LayoutModel",
            "_view_count": null,
            "_view_module": "@jupyter-widgets/base",
            "_view_module_version": "1.2.0",
            "_view_name": "LayoutView",
            "align_content": null,
            "align_items": null,
            "align_self": null,
            "border": null,
            "bottom": null,
            "display": null,
            "flex": null,
            "flex_flow": null,
            "grid_area": null,
            "grid_auto_columns": null,
            "grid_auto_flow": null,
            "grid_auto_rows": null,
            "grid_column": null,
            "grid_gap": null,
            "grid_row": null,
            "grid_template_areas": null,
            "grid_template_columns": null,
            "grid_template_rows": null,
            "height": null,
            "justify_content": null,
            "justify_items": null,
            "left": null,
            "margin": null,
            "max_height": null,
            "max_width": null,
            "min_height": null,
            "min_width": null,
            "object_fit": null,
            "object_position": null,
            "order": null,
            "overflow": null,
            "overflow_x": null,
            "overflow_y": null,
            "padding": null,
            "right": null,
            "top": null,
            "visibility": null,
            "width": null
          }
        },
        "1350f5a64850431c90f0a1ffba357137": {
          "model_module": "@jupyter-widgets/base",
          "model_name": "LayoutModel",
          "model_module_version": "1.2.0",
          "state": {
            "_model_module": "@jupyter-widgets/base",
            "_model_module_version": "1.2.0",
            "_model_name": "LayoutModel",
            "_view_count": null,
            "_view_module": "@jupyter-widgets/base",
            "_view_module_version": "1.2.0",
            "_view_name": "LayoutView",
            "align_content": null,
            "align_items": null,
            "align_self": null,
            "border": null,
            "bottom": null,
            "display": null,
            "flex": null,
            "flex_flow": null,
            "grid_area": null,
            "grid_auto_columns": null,
            "grid_auto_flow": null,
            "grid_auto_rows": null,
            "grid_column": null,
            "grid_gap": null,
            "grid_row": null,
            "grid_template_areas": null,
            "grid_template_columns": null,
            "grid_template_rows": null,
            "height": null,
            "justify_content": null,
            "justify_items": null,
            "left": null,
            "margin": null,
            "max_height": null,
            "max_width": null,
            "min_height": null,
            "min_width": null,
            "object_fit": null,
            "object_position": null,
            "order": null,
            "overflow": null,
            "overflow_x": null,
            "overflow_y": null,
            "padding": null,
            "right": null,
            "top": null,
            "visibility": null,
            "width": null
          }
        },
        "41f59bc4ad0b4da4a081c715ec14c37c": {
          "model_module": "@jupyter-widgets/controls",
          "model_name": "DescriptionStyleModel",
          "model_module_version": "1.5.0",
          "state": {
            "_model_module": "@jupyter-widgets/controls",
            "_model_module_version": "1.5.0",
            "_model_name": "DescriptionStyleModel",
            "_view_count": null,
            "_view_module": "@jupyter-widgets/base",
            "_view_module_version": "1.2.0",
            "_view_name": "StyleView",
            "description_width": ""
          }
        },
        "15cb5fdea5454d70897126559b5ab7fe": {
          "model_module": "@jupyter-widgets/base",
          "model_name": "LayoutModel",
          "model_module_version": "1.2.0",
          "state": {
            "_model_module": "@jupyter-widgets/base",
            "_model_module_version": "1.2.0",
            "_model_name": "LayoutModel",
            "_view_count": null,
            "_view_module": "@jupyter-widgets/base",
            "_view_module_version": "1.2.0",
            "_view_name": "LayoutView",
            "align_content": null,
            "align_items": null,
            "align_self": null,
            "border": null,
            "bottom": null,
            "display": null,
            "flex": null,
            "flex_flow": null,
            "grid_area": null,
            "grid_auto_columns": null,
            "grid_auto_flow": null,
            "grid_auto_rows": null,
            "grid_column": null,
            "grid_gap": null,
            "grid_row": null,
            "grid_template_areas": null,
            "grid_template_columns": null,
            "grid_template_rows": null,
            "height": null,
            "justify_content": null,
            "justify_items": null,
            "left": null,
            "margin": null,
            "max_height": null,
            "max_width": null,
            "min_height": null,
            "min_width": null,
            "object_fit": null,
            "object_position": null,
            "order": null,
            "overflow": null,
            "overflow_x": null,
            "overflow_y": null,
            "padding": null,
            "right": null,
            "top": null,
            "visibility": null,
            "width": null
          }
        },
        "6731a668034d4e06ae3ab2dba52df627": {
          "model_module": "@jupyter-widgets/controls",
          "model_name": "ProgressStyleModel",
          "model_module_version": "1.5.0",
          "state": {
            "_model_module": "@jupyter-widgets/controls",
            "_model_module_version": "1.5.0",
            "_model_name": "ProgressStyleModel",
            "_view_count": null,
            "_view_module": "@jupyter-widgets/base",
            "_view_module_version": "1.2.0",
            "_view_name": "StyleView",
            "bar_color": null,
            "description_width": ""
          }
        },
        "054c7bfe0e2f480c94533fe523e6ba55": {
          "model_module": "@jupyter-widgets/base",
          "model_name": "LayoutModel",
          "model_module_version": "1.2.0",
          "state": {
            "_model_module": "@jupyter-widgets/base",
            "_model_module_version": "1.2.0",
            "_model_name": "LayoutModel",
            "_view_count": null,
            "_view_module": "@jupyter-widgets/base",
            "_view_module_version": "1.2.0",
            "_view_name": "LayoutView",
            "align_content": null,
            "align_items": null,
            "align_self": null,
            "border": null,
            "bottom": null,
            "display": null,
            "flex": null,
            "flex_flow": null,
            "grid_area": null,
            "grid_auto_columns": null,
            "grid_auto_flow": null,
            "grid_auto_rows": null,
            "grid_column": null,
            "grid_gap": null,
            "grid_row": null,
            "grid_template_areas": null,
            "grid_template_columns": null,
            "grid_template_rows": null,
            "height": null,
            "justify_content": null,
            "justify_items": null,
            "left": null,
            "margin": null,
            "max_height": null,
            "max_width": null,
            "min_height": null,
            "min_width": null,
            "object_fit": null,
            "object_position": null,
            "order": null,
            "overflow": null,
            "overflow_x": null,
            "overflow_y": null,
            "padding": null,
            "right": null,
            "top": null,
            "visibility": null,
            "width": null
          }
        },
        "a2c33936dd9a44a9871506a66b32647b": {
          "model_module": "@jupyter-widgets/controls",
          "model_name": "DescriptionStyleModel",
          "model_module_version": "1.5.0",
          "state": {
            "_model_module": "@jupyter-widgets/controls",
            "_model_module_version": "1.5.0",
            "_model_name": "DescriptionStyleModel",
            "_view_count": null,
            "_view_module": "@jupyter-widgets/base",
            "_view_module_version": "1.2.0",
            "_view_name": "StyleView",
            "description_width": ""
          }
        },
        "9b25efe46b444fb9a6ea2c84d3a1efa0": {
          "model_module": "@jupyter-widgets/controls",
          "model_name": "HBoxModel",
          "model_module_version": "1.5.0",
          "state": {
            "_dom_classes": [],
            "_model_module": "@jupyter-widgets/controls",
            "_model_module_version": "1.5.0",
            "_model_name": "HBoxModel",
            "_view_count": null,
            "_view_module": "@jupyter-widgets/controls",
            "_view_module_version": "1.5.0",
            "_view_name": "HBoxView",
            "box_style": "",
            "children": [
              "IPY_MODEL_476e01f31cdf49bfb7d194e28d253ded",
              "IPY_MODEL_9cfa289af6b744c9b4b02f482258d610",
              "IPY_MODEL_e210a970331d41a68354803f461d7347"
            ],
            "layout": "IPY_MODEL_2b5446a45c8e4156860a3644ec29d3dc"
          }
        },
        "476e01f31cdf49bfb7d194e28d253ded": {
          "model_module": "@jupyter-widgets/controls",
          "model_name": "HTMLModel",
          "model_module_version": "1.5.0",
          "state": {
            "_dom_classes": [],
            "_model_module": "@jupyter-widgets/controls",
            "_model_module_version": "1.5.0",
            "_model_name": "HTMLModel",
            "_view_count": null,
            "_view_module": "@jupyter-widgets/controls",
            "_view_module_version": "1.5.0",
            "_view_name": "HTMLView",
            "description": "",
            "description_tooltip": null,
            "layout": "IPY_MODEL_663feb5efb564967a535a70a598c0d06",
            "placeholder": "​",
            "style": "IPY_MODEL_77d24cb78f484e76aaeb1f37c3088a8b",
            "value": "Downloading (…)okenizer_config.json: 100%"
          }
        },
        "9cfa289af6b744c9b4b02f482258d610": {
          "model_module": "@jupyter-widgets/controls",
          "model_name": "FloatProgressModel",
          "model_module_version": "1.5.0",
          "state": {
            "_dom_classes": [],
            "_model_module": "@jupyter-widgets/controls",
            "_model_module_version": "1.5.0",
            "_model_name": "FloatProgressModel",
            "_view_count": null,
            "_view_module": "@jupyter-widgets/controls",
            "_view_module_version": "1.5.0",
            "_view_name": "ProgressView",
            "bar_style": "success",
            "description": "",
            "description_tooltip": null,
            "layout": "IPY_MODEL_f3cde009b6f24d998777056ffa27160a",
            "max": 40,
            "min": 0,
            "orientation": "horizontal",
            "style": "IPY_MODEL_a20569af7b0f4b8d9e86d3293e9bf34b",
            "value": 40
          }
        },
        "e210a970331d41a68354803f461d7347": {
          "model_module": "@jupyter-widgets/controls",
          "model_name": "HTMLModel",
          "model_module_version": "1.5.0",
          "state": {
            "_dom_classes": [],
            "_model_module": "@jupyter-widgets/controls",
            "_model_module_version": "1.5.0",
            "_model_name": "HTMLModel",
            "_view_count": null,
            "_view_module": "@jupyter-widgets/controls",
            "_view_module_version": "1.5.0",
            "_view_name": "HTMLView",
            "description": "",
            "description_tooltip": null,
            "layout": "IPY_MODEL_991f22493b5e4b8582fe45e3034cf972",
            "placeholder": "​",
            "style": "IPY_MODEL_b25ffe78b175483892ccb65438fc098a",
            "value": " 40.0/40.0 [00:00&lt;00:00, 261B/s]"
          }
        },
        "2b5446a45c8e4156860a3644ec29d3dc": {
          "model_module": "@jupyter-widgets/base",
          "model_name": "LayoutModel",
          "model_module_version": "1.2.0",
          "state": {
            "_model_module": "@jupyter-widgets/base",
            "_model_module_version": "1.2.0",
            "_model_name": "LayoutModel",
            "_view_count": null,
            "_view_module": "@jupyter-widgets/base",
            "_view_module_version": "1.2.0",
            "_view_name": "LayoutView",
            "align_content": null,
            "align_items": null,
            "align_self": null,
            "border": null,
            "bottom": null,
            "display": null,
            "flex": null,
            "flex_flow": null,
            "grid_area": null,
            "grid_auto_columns": null,
            "grid_auto_flow": null,
            "grid_auto_rows": null,
            "grid_column": null,
            "grid_gap": null,
            "grid_row": null,
            "grid_template_areas": null,
            "grid_template_columns": null,
            "grid_template_rows": null,
            "height": null,
            "justify_content": null,
            "justify_items": null,
            "left": null,
            "margin": null,
            "max_height": null,
            "max_width": null,
            "min_height": null,
            "min_width": null,
            "object_fit": null,
            "object_position": null,
            "order": null,
            "overflow": null,
            "overflow_x": null,
            "overflow_y": null,
            "padding": null,
            "right": null,
            "top": null,
            "visibility": null,
            "width": null
          }
        },
        "663feb5efb564967a535a70a598c0d06": {
          "model_module": "@jupyter-widgets/base",
          "model_name": "LayoutModel",
          "model_module_version": "1.2.0",
          "state": {
            "_model_module": "@jupyter-widgets/base",
            "_model_module_version": "1.2.0",
            "_model_name": "LayoutModel",
            "_view_count": null,
            "_view_module": "@jupyter-widgets/base",
            "_view_module_version": "1.2.0",
            "_view_name": "LayoutView",
            "align_content": null,
            "align_items": null,
            "align_self": null,
            "border": null,
            "bottom": null,
            "display": null,
            "flex": null,
            "flex_flow": null,
            "grid_area": null,
            "grid_auto_columns": null,
            "grid_auto_flow": null,
            "grid_auto_rows": null,
            "grid_column": null,
            "grid_gap": null,
            "grid_row": null,
            "grid_template_areas": null,
            "grid_template_columns": null,
            "grid_template_rows": null,
            "height": null,
            "justify_content": null,
            "justify_items": null,
            "left": null,
            "margin": null,
            "max_height": null,
            "max_width": null,
            "min_height": null,
            "min_width": null,
            "object_fit": null,
            "object_position": null,
            "order": null,
            "overflow": null,
            "overflow_x": null,
            "overflow_y": null,
            "padding": null,
            "right": null,
            "top": null,
            "visibility": null,
            "width": null
          }
        },
        "77d24cb78f484e76aaeb1f37c3088a8b": {
          "model_module": "@jupyter-widgets/controls",
          "model_name": "DescriptionStyleModel",
          "model_module_version": "1.5.0",
          "state": {
            "_model_module": "@jupyter-widgets/controls",
            "_model_module_version": "1.5.0",
            "_model_name": "DescriptionStyleModel",
            "_view_count": null,
            "_view_module": "@jupyter-widgets/base",
            "_view_module_version": "1.2.0",
            "_view_name": "StyleView",
            "description_width": ""
          }
        },
        "f3cde009b6f24d998777056ffa27160a": {
          "model_module": "@jupyter-widgets/base",
          "model_name": "LayoutModel",
          "model_module_version": "1.2.0",
          "state": {
            "_model_module": "@jupyter-widgets/base",
            "_model_module_version": "1.2.0",
            "_model_name": "LayoutModel",
            "_view_count": null,
            "_view_module": "@jupyter-widgets/base",
            "_view_module_version": "1.2.0",
            "_view_name": "LayoutView",
            "align_content": null,
            "align_items": null,
            "align_self": null,
            "border": null,
            "bottom": null,
            "display": null,
            "flex": null,
            "flex_flow": null,
            "grid_area": null,
            "grid_auto_columns": null,
            "grid_auto_flow": null,
            "grid_auto_rows": null,
            "grid_column": null,
            "grid_gap": null,
            "grid_row": null,
            "grid_template_areas": null,
            "grid_template_columns": null,
            "grid_template_rows": null,
            "height": null,
            "justify_content": null,
            "justify_items": null,
            "left": null,
            "margin": null,
            "max_height": null,
            "max_width": null,
            "min_height": null,
            "min_width": null,
            "object_fit": null,
            "object_position": null,
            "order": null,
            "overflow": null,
            "overflow_x": null,
            "overflow_y": null,
            "padding": null,
            "right": null,
            "top": null,
            "visibility": null,
            "width": null
          }
        },
        "a20569af7b0f4b8d9e86d3293e9bf34b": {
          "model_module": "@jupyter-widgets/controls",
          "model_name": "ProgressStyleModel",
          "model_module_version": "1.5.0",
          "state": {
            "_model_module": "@jupyter-widgets/controls",
            "_model_module_version": "1.5.0",
            "_model_name": "ProgressStyleModel",
            "_view_count": null,
            "_view_module": "@jupyter-widgets/base",
            "_view_module_version": "1.2.0",
            "_view_name": "StyleView",
            "bar_color": null,
            "description_width": ""
          }
        },
        "991f22493b5e4b8582fe45e3034cf972": {
          "model_module": "@jupyter-widgets/base",
          "model_name": "LayoutModel",
          "model_module_version": "1.2.0",
          "state": {
            "_model_module": "@jupyter-widgets/base",
            "_model_module_version": "1.2.0",
            "_model_name": "LayoutModel",
            "_view_count": null,
            "_view_module": "@jupyter-widgets/base",
            "_view_module_version": "1.2.0",
            "_view_name": "LayoutView",
            "align_content": null,
            "align_items": null,
            "align_self": null,
            "border": null,
            "bottom": null,
            "display": null,
            "flex": null,
            "flex_flow": null,
            "grid_area": null,
            "grid_auto_columns": null,
            "grid_auto_flow": null,
            "grid_auto_rows": null,
            "grid_column": null,
            "grid_gap": null,
            "grid_row": null,
            "grid_template_areas": null,
            "grid_template_columns": null,
            "grid_template_rows": null,
            "height": null,
            "justify_content": null,
            "justify_items": null,
            "left": null,
            "margin": null,
            "max_height": null,
            "max_width": null,
            "min_height": null,
            "min_width": null,
            "object_fit": null,
            "object_position": null,
            "order": null,
            "overflow": null,
            "overflow_x": null,
            "overflow_y": null,
            "padding": null,
            "right": null,
            "top": null,
            "visibility": null,
            "width": null
          }
        },
        "b25ffe78b175483892ccb65438fc098a": {
          "model_module": "@jupyter-widgets/controls",
          "model_name": "DescriptionStyleModel",
          "model_module_version": "1.5.0",
          "state": {
            "_model_module": "@jupyter-widgets/controls",
            "_model_module_version": "1.5.0",
            "_model_name": "DescriptionStyleModel",
            "_view_count": null,
            "_view_module": "@jupyter-widgets/base",
            "_view_module_version": "1.2.0",
            "_view_name": "StyleView",
            "description_width": ""
          }
        },
        "750aef138ceb460eb7795afe119de48a": {
          "model_module": "@jupyter-widgets/controls",
          "model_name": "HBoxModel",
          "model_module_version": "1.5.0",
          "state": {
            "_dom_classes": [],
            "_model_module": "@jupyter-widgets/controls",
            "_model_module_version": "1.5.0",
            "_model_name": "HBoxModel",
            "_view_count": null,
            "_view_module": "@jupyter-widgets/controls",
            "_view_module_version": "1.5.0",
            "_view_name": "HBoxView",
            "box_style": "",
            "children": [
              "IPY_MODEL_5f5d67ff551c4c99be9a0f4bc28f08eb",
              "IPY_MODEL_aeb3129b4cdd45b3a28b2bc145fa9194",
              "IPY_MODEL_222eaacd5c524013859d3735a1658f49"
            ],
            "layout": "IPY_MODEL_49fdd005b4c84061b6af34c0d35b4236"
          }
        },
        "5f5d67ff551c4c99be9a0f4bc28f08eb": {
          "model_module": "@jupyter-widgets/controls",
          "model_name": "HTMLModel",
          "model_module_version": "1.5.0",
          "state": {
            "_dom_classes": [],
            "_model_module": "@jupyter-widgets/controls",
            "_model_module_version": "1.5.0",
            "_model_name": "HTMLModel",
            "_view_count": null,
            "_view_module": "@jupyter-widgets/controls",
            "_view_module_version": "1.5.0",
            "_view_name": "HTMLView",
            "description": "",
            "description_tooltip": null,
            "layout": "IPY_MODEL_33550bcd4bc448c3b88df577f1af15c9",
            "placeholder": "​",
            "style": "IPY_MODEL_ba5630bb5a8642059cd1eb6f35078ea1",
            "value": "Downloading (…)solve/main/vocab.txt: 100%"
          }
        },
        "aeb3129b4cdd45b3a28b2bc145fa9194": {
          "model_module": "@jupyter-widgets/controls",
          "model_name": "FloatProgressModel",
          "model_module_version": "1.5.0",
          "state": {
            "_dom_classes": [],
            "_model_module": "@jupyter-widgets/controls",
            "_model_module_version": "1.5.0",
            "_model_name": "FloatProgressModel",
            "_view_count": null,
            "_view_module": "@jupyter-widgets/controls",
            "_view_module_version": "1.5.0",
            "_view_name": "ProgressView",
            "bar_style": "success",
            "description": "",
            "description_tooltip": null,
            "layout": "IPY_MODEL_204fc2f8b71a481cbcd2ab8a299a569d",
            "max": 251003,
            "min": 0,
            "orientation": "horizontal",
            "style": "IPY_MODEL_b4980a2d8baa4769955444b70b43c87c",
            "value": 251003
          }
        },
        "222eaacd5c524013859d3735a1658f49": {
          "model_module": "@jupyter-widgets/controls",
          "model_name": "HTMLModel",
          "model_module_version": "1.5.0",
          "state": {
            "_dom_classes": [],
            "_model_module": "@jupyter-widgets/controls",
            "_model_module_version": "1.5.0",
            "_model_name": "HTMLModel",
            "_view_count": null,
            "_view_module": "@jupyter-widgets/controls",
            "_view_module_version": "1.5.0",
            "_view_name": "HTMLView",
            "description": "",
            "description_tooltip": null,
            "layout": "IPY_MODEL_f40f2f005c344d55bc6f56bee46b756f",
            "placeholder": "​",
            "style": "IPY_MODEL_15d4798e0bad41b680698a9afff55701",
            "value": " 251k/251k [00:00&lt;00:00, 1.10MB/s]"
          }
        },
        "49fdd005b4c84061b6af34c0d35b4236": {
          "model_module": "@jupyter-widgets/base",
          "model_name": "LayoutModel",
          "model_module_version": "1.2.0",
          "state": {
            "_model_module": "@jupyter-widgets/base",
            "_model_module_version": "1.2.0",
            "_model_name": "LayoutModel",
            "_view_count": null,
            "_view_module": "@jupyter-widgets/base",
            "_view_module_version": "1.2.0",
            "_view_name": "LayoutView",
            "align_content": null,
            "align_items": null,
            "align_self": null,
            "border": null,
            "bottom": null,
            "display": null,
            "flex": null,
            "flex_flow": null,
            "grid_area": null,
            "grid_auto_columns": null,
            "grid_auto_flow": null,
            "grid_auto_rows": null,
            "grid_column": null,
            "grid_gap": null,
            "grid_row": null,
            "grid_template_areas": null,
            "grid_template_columns": null,
            "grid_template_rows": null,
            "height": null,
            "justify_content": null,
            "justify_items": null,
            "left": null,
            "margin": null,
            "max_height": null,
            "max_width": null,
            "min_height": null,
            "min_width": null,
            "object_fit": null,
            "object_position": null,
            "order": null,
            "overflow": null,
            "overflow_x": null,
            "overflow_y": null,
            "padding": null,
            "right": null,
            "top": null,
            "visibility": null,
            "width": null
          }
        },
        "33550bcd4bc448c3b88df577f1af15c9": {
          "model_module": "@jupyter-widgets/base",
          "model_name": "LayoutModel",
          "model_module_version": "1.2.0",
          "state": {
            "_model_module": "@jupyter-widgets/base",
            "_model_module_version": "1.2.0",
            "_model_name": "LayoutModel",
            "_view_count": null,
            "_view_module": "@jupyter-widgets/base",
            "_view_module_version": "1.2.0",
            "_view_name": "LayoutView",
            "align_content": null,
            "align_items": null,
            "align_self": null,
            "border": null,
            "bottom": null,
            "display": null,
            "flex": null,
            "flex_flow": null,
            "grid_area": null,
            "grid_auto_columns": null,
            "grid_auto_flow": null,
            "grid_auto_rows": null,
            "grid_column": null,
            "grid_gap": null,
            "grid_row": null,
            "grid_template_areas": null,
            "grid_template_columns": null,
            "grid_template_rows": null,
            "height": null,
            "justify_content": null,
            "justify_items": null,
            "left": null,
            "margin": null,
            "max_height": null,
            "max_width": null,
            "min_height": null,
            "min_width": null,
            "object_fit": null,
            "object_position": null,
            "order": null,
            "overflow": null,
            "overflow_x": null,
            "overflow_y": null,
            "padding": null,
            "right": null,
            "top": null,
            "visibility": null,
            "width": null
          }
        },
        "ba5630bb5a8642059cd1eb6f35078ea1": {
          "model_module": "@jupyter-widgets/controls",
          "model_name": "DescriptionStyleModel",
          "model_module_version": "1.5.0",
          "state": {
            "_model_module": "@jupyter-widgets/controls",
            "_model_module_version": "1.5.0",
            "_model_name": "DescriptionStyleModel",
            "_view_count": null,
            "_view_module": "@jupyter-widgets/base",
            "_view_module_version": "1.2.0",
            "_view_name": "StyleView",
            "description_width": ""
          }
        },
        "204fc2f8b71a481cbcd2ab8a299a569d": {
          "model_module": "@jupyter-widgets/base",
          "model_name": "LayoutModel",
          "model_module_version": "1.2.0",
          "state": {
            "_model_module": "@jupyter-widgets/base",
            "_model_module_version": "1.2.0",
            "_model_name": "LayoutModel",
            "_view_count": null,
            "_view_module": "@jupyter-widgets/base",
            "_view_module_version": "1.2.0",
            "_view_name": "LayoutView",
            "align_content": null,
            "align_items": null,
            "align_self": null,
            "border": null,
            "bottom": null,
            "display": null,
            "flex": null,
            "flex_flow": null,
            "grid_area": null,
            "grid_auto_columns": null,
            "grid_auto_flow": null,
            "grid_auto_rows": null,
            "grid_column": null,
            "grid_gap": null,
            "grid_row": null,
            "grid_template_areas": null,
            "grid_template_columns": null,
            "grid_template_rows": null,
            "height": null,
            "justify_content": null,
            "justify_items": null,
            "left": null,
            "margin": null,
            "max_height": null,
            "max_width": null,
            "min_height": null,
            "min_width": null,
            "object_fit": null,
            "object_position": null,
            "order": null,
            "overflow": null,
            "overflow_x": null,
            "overflow_y": null,
            "padding": null,
            "right": null,
            "top": null,
            "visibility": null,
            "width": null
          }
        },
        "b4980a2d8baa4769955444b70b43c87c": {
          "model_module": "@jupyter-widgets/controls",
          "model_name": "ProgressStyleModel",
          "model_module_version": "1.5.0",
          "state": {
            "_model_module": "@jupyter-widgets/controls",
            "_model_module_version": "1.5.0",
            "_model_name": "ProgressStyleModel",
            "_view_count": null,
            "_view_module": "@jupyter-widgets/base",
            "_view_module_version": "1.2.0",
            "_view_name": "StyleView",
            "bar_color": null,
            "description_width": ""
          }
        },
        "f40f2f005c344d55bc6f56bee46b756f": {
          "model_module": "@jupyter-widgets/base",
          "model_name": "LayoutModel",
          "model_module_version": "1.2.0",
          "state": {
            "_model_module": "@jupyter-widgets/base",
            "_model_module_version": "1.2.0",
            "_model_name": "LayoutModel",
            "_view_count": null,
            "_view_module": "@jupyter-widgets/base",
            "_view_module_version": "1.2.0",
            "_view_name": "LayoutView",
            "align_content": null,
            "align_items": null,
            "align_self": null,
            "border": null,
            "bottom": null,
            "display": null,
            "flex": null,
            "flex_flow": null,
            "grid_area": null,
            "grid_auto_columns": null,
            "grid_auto_flow": null,
            "grid_auto_rows": null,
            "grid_column": null,
            "grid_gap": null,
            "grid_row": null,
            "grid_template_areas": null,
            "grid_template_columns": null,
            "grid_template_rows": null,
            "height": null,
            "justify_content": null,
            "justify_items": null,
            "left": null,
            "margin": null,
            "max_height": null,
            "max_width": null,
            "min_height": null,
            "min_width": null,
            "object_fit": null,
            "object_position": null,
            "order": null,
            "overflow": null,
            "overflow_x": null,
            "overflow_y": null,
            "padding": null,
            "right": null,
            "top": null,
            "visibility": null,
            "width": null
          }
        },
        "15d4798e0bad41b680698a9afff55701": {
          "model_module": "@jupyter-widgets/controls",
          "model_name": "DescriptionStyleModel",
          "model_module_version": "1.5.0",
          "state": {
            "_model_module": "@jupyter-widgets/controls",
            "_model_module_version": "1.5.0",
            "_model_name": "DescriptionStyleModel",
            "_view_count": null,
            "_view_module": "@jupyter-widgets/base",
            "_view_module_version": "1.2.0",
            "_view_name": "StyleView",
            "description_width": ""
          }
        },
        "a67ccb9fc67a49288a280cca2498e25b": {
          "model_module": "@jupyter-widgets/controls",
          "model_name": "HBoxModel",
          "model_module_version": "1.5.0",
          "state": {
            "_dom_classes": [],
            "_model_module": "@jupyter-widgets/controls",
            "_model_module_version": "1.5.0",
            "_model_name": "HBoxModel",
            "_view_count": null,
            "_view_module": "@jupyter-widgets/controls",
            "_view_module_version": "1.5.0",
            "_view_name": "HBoxView",
            "box_style": "",
            "children": [
              "IPY_MODEL_461631ae234f486b90749e935ac304e4",
              "IPY_MODEL_630c395af7f2415086f58b81521aa0ac",
              "IPY_MODEL_79a54aea59da47459517d80942fd3551"
            ],
            "layout": "IPY_MODEL_1e2ab0de0ccf43e69d8e5490066eb0ee"
          }
        },
        "461631ae234f486b90749e935ac304e4": {
          "model_module": "@jupyter-widgets/controls",
          "model_name": "HTMLModel",
          "model_module_version": "1.5.0",
          "state": {
            "_dom_classes": [],
            "_model_module": "@jupyter-widgets/controls",
            "_model_module_version": "1.5.0",
            "_model_name": "HTMLModel",
            "_view_count": null,
            "_view_module": "@jupyter-widgets/controls",
            "_view_module_version": "1.5.0",
            "_view_name": "HTMLView",
            "description": "",
            "description_tooltip": null,
            "layout": "IPY_MODEL_2400fdbb59314a6b9fb9919113fb2280",
            "placeholder": "​",
            "style": "IPY_MODEL_014f2d74d8c9465a8697250ae750b2ef",
            "value": "Downloading (…)cial_tokens_map.json: 100%"
          }
        },
        "630c395af7f2415086f58b81521aa0ac": {
          "model_module": "@jupyter-widgets/controls",
          "model_name": "FloatProgressModel",
          "model_module_version": "1.5.0",
          "state": {
            "_dom_classes": [],
            "_model_module": "@jupyter-widgets/controls",
            "_model_module_version": "1.5.0",
            "_model_name": "FloatProgressModel",
            "_view_count": null,
            "_view_module": "@jupyter-widgets/controls",
            "_view_module_version": "1.5.0",
            "_view_name": "ProgressView",
            "bar_style": "success",
            "description": "",
            "description_tooltip": null,
            "layout": "IPY_MODEL_98ab7d1673b7496f8b09bb044f2ccd90",
            "max": 112,
            "min": 0,
            "orientation": "horizontal",
            "style": "IPY_MODEL_36aa83707c814d5196f65fe5919faa89",
            "value": 112
          }
        },
        "79a54aea59da47459517d80942fd3551": {
          "model_module": "@jupyter-widgets/controls",
          "model_name": "HTMLModel",
          "model_module_version": "1.5.0",
          "state": {
            "_dom_classes": [],
            "_model_module": "@jupyter-widgets/controls",
            "_model_module_version": "1.5.0",
            "_model_name": "HTMLModel",
            "_view_count": null,
            "_view_module": "@jupyter-widgets/controls",
            "_view_module_version": "1.5.0",
            "_view_name": "HTMLView",
            "description": "",
            "description_tooltip": null,
            "layout": "IPY_MODEL_6f1a48a84de94132bb2262b3fae51f81",
            "placeholder": "​",
            "style": "IPY_MODEL_57ab809f8c894c97906f2dd3d0838bee",
            "value": " 112/112 [00:00&lt;00:00, 583B/s]"
          }
        },
        "1e2ab0de0ccf43e69d8e5490066eb0ee": {
          "model_module": "@jupyter-widgets/base",
          "model_name": "LayoutModel",
          "model_module_version": "1.2.0",
          "state": {
            "_model_module": "@jupyter-widgets/base",
            "_model_module_version": "1.2.0",
            "_model_name": "LayoutModel",
            "_view_count": null,
            "_view_module": "@jupyter-widgets/base",
            "_view_module_version": "1.2.0",
            "_view_name": "LayoutView",
            "align_content": null,
            "align_items": null,
            "align_self": null,
            "border": null,
            "bottom": null,
            "display": null,
            "flex": null,
            "flex_flow": null,
            "grid_area": null,
            "grid_auto_columns": null,
            "grid_auto_flow": null,
            "grid_auto_rows": null,
            "grid_column": null,
            "grid_gap": null,
            "grid_row": null,
            "grid_template_areas": null,
            "grid_template_columns": null,
            "grid_template_rows": null,
            "height": null,
            "justify_content": null,
            "justify_items": null,
            "left": null,
            "margin": null,
            "max_height": null,
            "max_width": null,
            "min_height": null,
            "min_width": null,
            "object_fit": null,
            "object_position": null,
            "order": null,
            "overflow": null,
            "overflow_x": null,
            "overflow_y": null,
            "padding": null,
            "right": null,
            "top": null,
            "visibility": null,
            "width": null
          }
        },
        "2400fdbb59314a6b9fb9919113fb2280": {
          "model_module": "@jupyter-widgets/base",
          "model_name": "LayoutModel",
          "model_module_version": "1.2.0",
          "state": {
            "_model_module": "@jupyter-widgets/base",
            "_model_module_version": "1.2.0",
            "_model_name": "LayoutModel",
            "_view_count": null,
            "_view_module": "@jupyter-widgets/base",
            "_view_module_version": "1.2.0",
            "_view_name": "LayoutView",
            "align_content": null,
            "align_items": null,
            "align_self": null,
            "border": null,
            "bottom": null,
            "display": null,
            "flex": null,
            "flex_flow": null,
            "grid_area": null,
            "grid_auto_columns": null,
            "grid_auto_flow": null,
            "grid_auto_rows": null,
            "grid_column": null,
            "grid_gap": null,
            "grid_row": null,
            "grid_template_areas": null,
            "grid_template_columns": null,
            "grid_template_rows": null,
            "height": null,
            "justify_content": null,
            "justify_items": null,
            "left": null,
            "margin": null,
            "max_height": null,
            "max_width": null,
            "min_height": null,
            "min_width": null,
            "object_fit": null,
            "object_position": null,
            "order": null,
            "overflow": null,
            "overflow_x": null,
            "overflow_y": null,
            "padding": null,
            "right": null,
            "top": null,
            "visibility": null,
            "width": null
          }
        },
        "014f2d74d8c9465a8697250ae750b2ef": {
          "model_module": "@jupyter-widgets/controls",
          "model_name": "DescriptionStyleModel",
          "model_module_version": "1.5.0",
          "state": {
            "_model_module": "@jupyter-widgets/controls",
            "_model_module_version": "1.5.0",
            "_model_name": "DescriptionStyleModel",
            "_view_count": null,
            "_view_module": "@jupyter-widgets/base",
            "_view_module_version": "1.2.0",
            "_view_name": "StyleView",
            "description_width": ""
          }
        },
        "98ab7d1673b7496f8b09bb044f2ccd90": {
          "model_module": "@jupyter-widgets/base",
          "model_name": "LayoutModel",
          "model_module_version": "1.2.0",
          "state": {
            "_model_module": "@jupyter-widgets/base",
            "_model_module_version": "1.2.0",
            "_model_name": "LayoutModel",
            "_view_count": null,
            "_view_module": "@jupyter-widgets/base",
            "_view_module_version": "1.2.0",
            "_view_name": "LayoutView",
            "align_content": null,
            "align_items": null,
            "align_self": null,
            "border": null,
            "bottom": null,
            "display": null,
            "flex": null,
            "flex_flow": null,
            "grid_area": null,
            "grid_auto_columns": null,
            "grid_auto_flow": null,
            "grid_auto_rows": null,
            "grid_column": null,
            "grid_gap": null,
            "grid_row": null,
            "grid_template_areas": null,
            "grid_template_columns": null,
            "grid_template_rows": null,
            "height": null,
            "justify_content": null,
            "justify_items": null,
            "left": null,
            "margin": null,
            "max_height": null,
            "max_width": null,
            "min_height": null,
            "min_width": null,
            "object_fit": null,
            "object_position": null,
            "order": null,
            "overflow": null,
            "overflow_x": null,
            "overflow_y": null,
            "padding": null,
            "right": null,
            "top": null,
            "visibility": null,
            "width": null
          }
        },
        "36aa83707c814d5196f65fe5919faa89": {
          "model_module": "@jupyter-widgets/controls",
          "model_name": "ProgressStyleModel",
          "model_module_version": "1.5.0",
          "state": {
            "_model_module": "@jupyter-widgets/controls",
            "_model_module_version": "1.5.0",
            "_model_name": "ProgressStyleModel",
            "_view_count": null,
            "_view_module": "@jupyter-widgets/base",
            "_view_module_version": "1.2.0",
            "_view_name": "StyleView",
            "bar_color": null,
            "description_width": ""
          }
        },
        "6f1a48a84de94132bb2262b3fae51f81": {
          "model_module": "@jupyter-widgets/base",
          "model_name": "LayoutModel",
          "model_module_version": "1.2.0",
          "state": {
            "_model_module": "@jupyter-widgets/base",
            "_model_module_version": "1.2.0",
            "_model_name": "LayoutModel",
            "_view_count": null,
            "_view_module": "@jupyter-widgets/base",
            "_view_module_version": "1.2.0",
            "_view_name": "LayoutView",
            "align_content": null,
            "align_items": null,
            "align_self": null,
            "border": null,
            "bottom": null,
            "display": null,
            "flex": null,
            "flex_flow": null,
            "grid_area": null,
            "grid_auto_columns": null,
            "grid_auto_flow": null,
            "grid_auto_rows": null,
            "grid_column": null,
            "grid_gap": null,
            "grid_row": null,
            "grid_template_areas": null,
            "grid_template_columns": null,
            "grid_template_rows": null,
            "height": null,
            "justify_content": null,
            "justify_items": null,
            "left": null,
            "margin": null,
            "max_height": null,
            "max_width": null,
            "min_height": null,
            "min_width": null,
            "object_fit": null,
            "object_position": null,
            "order": null,
            "overflow": null,
            "overflow_x": null,
            "overflow_y": null,
            "padding": null,
            "right": null,
            "top": null,
            "visibility": null,
            "width": null
          }
        },
        "57ab809f8c894c97906f2dd3d0838bee": {
          "model_module": "@jupyter-widgets/controls",
          "model_name": "DescriptionStyleModel",
          "model_module_version": "1.5.0",
          "state": {
            "_model_module": "@jupyter-widgets/controls",
            "_model_module_version": "1.5.0",
            "_model_name": "DescriptionStyleModel",
            "_view_count": null,
            "_view_module": "@jupyter-widgets/base",
            "_view_module_version": "1.2.0",
            "_view_name": "StyleView",
            "description_width": ""
          }
        }
      }
    }
  },
  "cells": [
    {
      "cell_type": "markdown",
      "source": [
        "Brief Implemention of NLP Methods in Turkish Language"
      ],
      "metadata": {
        "id": "jIjRd4MlU9WH"
      }
    },
    {
      "cell_type": "markdown",
      "source": [
        "### Installs"
      ],
      "metadata": {
        "id": "5tTNflF-WggZ"
      }
    },
    {
      "cell_type": "code",
      "source": [
        "!pip install transformers\n",
        "!pip install gensim\n",
        "!pip install snowballstemmer\n",
        "!pip install sentence_transformers\n",
        "!pip install InstructorEmbedding"
      ],
      "metadata": {
        "colab": {
          "base_uri": "https://localhost:8080/"
        },
        "id": "3bkDAoie4Ay5",
        "outputId": "0bff780d-d9a2-4a3e-961d-36fad3530496"
      },
      "execution_count": 1,
      "outputs": [
        {
          "output_type": "stream",
          "name": "stdout",
          "text": [
            "Requirement already satisfied: transformers in /usr/local/lib/python3.10/dist-packages (4.30.2)\n",
            "Requirement already satisfied: filelock in /usr/local/lib/python3.10/dist-packages (from transformers) (3.12.2)\n",
            "Requirement already satisfied: huggingface-hub<1.0,>=0.14.1 in /usr/local/lib/python3.10/dist-packages (from transformers) (0.16.2)\n",
            "Requirement already satisfied: numpy>=1.17 in /usr/local/lib/python3.10/dist-packages (from transformers) (1.22.4)\n",
            "Requirement already satisfied: packaging>=20.0 in /usr/local/lib/python3.10/dist-packages (from transformers) (23.1)\n",
            "Requirement already satisfied: pyyaml>=5.1 in /usr/local/lib/python3.10/dist-packages (from transformers) (6.0)\n",
            "Requirement already satisfied: regex!=2019.12.17 in /usr/local/lib/python3.10/dist-packages (from transformers) (2022.10.31)\n",
            "Requirement already satisfied: requests in /usr/local/lib/python3.10/dist-packages (from transformers) (2.27.1)\n",
            "Requirement already satisfied: tokenizers!=0.11.3,<0.14,>=0.11.1 in /usr/local/lib/python3.10/dist-packages (from transformers) (0.13.3)\n",
            "Requirement already satisfied: safetensors>=0.3.1 in /usr/local/lib/python3.10/dist-packages (from transformers) (0.3.1)\n",
            "Requirement already satisfied: tqdm>=4.27 in /usr/local/lib/python3.10/dist-packages (from transformers) (4.65.0)\n",
            "Requirement already satisfied: fsspec in /usr/local/lib/python3.10/dist-packages (from huggingface-hub<1.0,>=0.14.1->transformers) (2023.6.0)\n",
            "Requirement already satisfied: typing-extensions>=3.7.4.3 in /usr/local/lib/python3.10/dist-packages (from huggingface-hub<1.0,>=0.14.1->transformers) (4.6.3)\n",
            "Requirement already satisfied: urllib3<1.27,>=1.21.1 in /usr/local/lib/python3.10/dist-packages (from requests->transformers) (1.26.16)\n",
            "Requirement already satisfied: certifi>=2017.4.17 in /usr/local/lib/python3.10/dist-packages (from requests->transformers) (2023.5.7)\n",
            "Requirement already satisfied: charset-normalizer~=2.0.0 in /usr/local/lib/python3.10/dist-packages (from requests->transformers) (2.0.12)\n",
            "Requirement already satisfied: idna<4,>=2.5 in /usr/local/lib/python3.10/dist-packages (from requests->transformers) (3.4)\n",
            "Requirement already satisfied: gensim in /usr/local/lib/python3.10/dist-packages (4.3.1)\n",
            "Requirement already satisfied: numpy>=1.18.5 in /usr/local/lib/python3.10/dist-packages (from gensim) (1.22.4)\n",
            "Requirement already satisfied: scipy>=1.7.0 in /usr/local/lib/python3.10/dist-packages (from gensim) (1.10.1)\n",
            "Requirement already satisfied: smart-open>=1.8.1 in /usr/local/lib/python3.10/dist-packages (from gensim) (6.3.0)\n",
            "Requirement already satisfied: snowballstemmer in /usr/local/lib/python3.10/dist-packages (2.2.0)\n",
            "Requirement already satisfied: sentence_transformers in /usr/local/lib/python3.10/dist-packages (2.2.2)\n",
            "Requirement already satisfied: transformers<5.0.0,>=4.6.0 in /usr/local/lib/python3.10/dist-packages (from sentence_transformers) (4.30.2)\n",
            "Requirement already satisfied: tqdm in /usr/local/lib/python3.10/dist-packages (from sentence_transformers) (4.65.0)\n",
            "Requirement already satisfied: torch>=1.6.0 in /usr/local/lib/python3.10/dist-packages (from sentence_transformers) (2.0.1+cu118)\n",
            "Requirement already satisfied: torchvision in /usr/local/lib/python3.10/dist-packages (from sentence_transformers) (0.15.2+cu118)\n",
            "Requirement already satisfied: numpy in /usr/local/lib/python3.10/dist-packages (from sentence_transformers) (1.22.4)\n",
            "Requirement already satisfied: scikit-learn in /usr/local/lib/python3.10/dist-packages (from sentence_transformers) (1.2.2)\n",
            "Requirement already satisfied: scipy in /usr/local/lib/python3.10/dist-packages (from sentence_transformers) (1.10.1)\n",
            "Requirement already satisfied: nltk in /usr/local/lib/python3.10/dist-packages (from sentence_transformers) (3.8.1)\n",
            "Requirement already satisfied: sentencepiece in /usr/local/lib/python3.10/dist-packages (from sentence_transformers) (0.1.99)\n",
            "Requirement already satisfied: huggingface-hub>=0.4.0 in /usr/local/lib/python3.10/dist-packages (from sentence_transformers) (0.16.2)\n",
            "Requirement already satisfied: filelock in /usr/local/lib/python3.10/dist-packages (from huggingface-hub>=0.4.0->sentence_transformers) (3.12.2)\n",
            "Requirement already satisfied: fsspec in /usr/local/lib/python3.10/dist-packages (from huggingface-hub>=0.4.0->sentence_transformers) (2023.6.0)\n",
            "Requirement already satisfied: requests in /usr/local/lib/python3.10/dist-packages (from huggingface-hub>=0.4.0->sentence_transformers) (2.27.1)\n",
            "Requirement already satisfied: pyyaml>=5.1 in /usr/local/lib/python3.10/dist-packages (from huggingface-hub>=0.4.0->sentence_transformers) (6.0)\n",
            "Requirement already satisfied: typing-extensions>=3.7.4.3 in /usr/local/lib/python3.10/dist-packages (from huggingface-hub>=0.4.0->sentence_transformers) (4.6.3)\n",
            "Requirement already satisfied: packaging>=20.9 in /usr/local/lib/python3.10/dist-packages (from huggingface-hub>=0.4.0->sentence_transformers) (23.1)\n",
            "Requirement already satisfied: sympy in /usr/local/lib/python3.10/dist-packages (from torch>=1.6.0->sentence_transformers) (1.11.1)\n",
            "Requirement already satisfied: networkx in /usr/local/lib/python3.10/dist-packages (from torch>=1.6.0->sentence_transformers) (3.1)\n",
            "Requirement already satisfied: jinja2 in /usr/local/lib/python3.10/dist-packages (from torch>=1.6.0->sentence_transformers) (3.1.2)\n",
            "Requirement already satisfied: triton==2.0.0 in /usr/local/lib/python3.10/dist-packages (from torch>=1.6.0->sentence_transformers) (2.0.0)\n",
            "Requirement already satisfied: cmake in /usr/local/lib/python3.10/dist-packages (from triton==2.0.0->torch>=1.6.0->sentence_transformers) (3.25.2)\n",
            "Requirement already satisfied: lit in /usr/local/lib/python3.10/dist-packages (from triton==2.0.0->torch>=1.6.0->sentence_transformers) (16.0.6)\n",
            "Requirement already satisfied: regex!=2019.12.17 in /usr/local/lib/python3.10/dist-packages (from transformers<5.0.0,>=4.6.0->sentence_transformers) (2022.10.31)\n",
            "Requirement already satisfied: tokenizers!=0.11.3,<0.14,>=0.11.1 in /usr/local/lib/python3.10/dist-packages (from transformers<5.0.0,>=4.6.0->sentence_transformers) (0.13.3)\n",
            "Requirement already satisfied: safetensors>=0.3.1 in /usr/local/lib/python3.10/dist-packages (from transformers<5.0.0,>=4.6.0->sentence_transformers) (0.3.1)\n",
            "Requirement already satisfied: click in /usr/local/lib/python3.10/dist-packages (from nltk->sentence_transformers) (8.1.3)\n",
            "Requirement already satisfied: joblib in /usr/local/lib/python3.10/dist-packages (from nltk->sentence_transformers) (1.2.0)\n",
            "Requirement already satisfied: threadpoolctl>=2.0.0 in /usr/local/lib/python3.10/dist-packages (from scikit-learn->sentence_transformers) (3.1.0)\n",
            "Requirement already satisfied: pillow!=8.3.*,>=5.3.0 in /usr/local/lib/python3.10/dist-packages (from torchvision->sentence_transformers) (8.4.0)\n",
            "Requirement already satisfied: MarkupSafe>=2.0 in /usr/local/lib/python3.10/dist-packages (from jinja2->torch>=1.6.0->sentence_transformers) (2.1.3)\n",
            "Requirement already satisfied: urllib3<1.27,>=1.21.1 in /usr/local/lib/python3.10/dist-packages (from requests->huggingface-hub>=0.4.0->sentence_transformers) (1.26.16)\n",
            "Requirement already satisfied: certifi>=2017.4.17 in /usr/local/lib/python3.10/dist-packages (from requests->huggingface-hub>=0.4.0->sentence_transformers) (2023.5.7)\n",
            "Requirement already satisfied: charset-normalizer~=2.0.0 in /usr/local/lib/python3.10/dist-packages (from requests->huggingface-hub>=0.4.0->sentence_transformers) (2.0.12)\n",
            "Requirement already satisfied: idna<4,>=2.5 in /usr/local/lib/python3.10/dist-packages (from requests->huggingface-hub>=0.4.0->sentence_transformers) (3.4)\n",
            "Requirement already satisfied: mpmath>=0.19 in /usr/local/lib/python3.10/dist-packages (from sympy->torch>=1.6.0->sentence_transformers) (1.3.0)\n",
            "Requirement already satisfied: InstructorEmbedding in /usr/local/lib/python3.10/dist-packages (1.0.1)\n"
          ]
        }
      ]
    },
    {
      "cell_type": "code",
      "source": [
        "from snowballstemmer import TurkishStemmer\n",
        "from transformers import pipeline, AutoModelForTokenClassification, AutoTokenizer, AutoModelForSequenceClassification, AutoModelForSeq2SeqLM\n",
        "from gensim.models.fasttext import FastText\n",
        "import gensim\n",
        "from gensim import corpora\n",
        "from snowballstemmer import TurkishStemmer\n",
        "from nltk import word_tokenize\n",
        "import nltk\n",
        "\n",
        "import numpy as np\n",
        "import pandas as pd"
      ],
      "metadata": {
        "id": "QvhPEu92xLv8"
      },
      "execution_count": 2,
      "outputs": []
    },
    {
      "cell_type": "markdown",
      "source": [
        "### Text Classification"
      ],
      "metadata": {
        "id": "n_IH7o36y74u"
      }
    },
    {
      "cell_type": "markdown",
      "source": [
        "-- Use Case\n",
        "- text classification help us to classify text easly\n",
        "- source ; https://huggingface.co/savasy/bert-turkish-text-classification\n",
        "- https://github.com/mcagricaliskan/turkish-news-classification/tree/master"
      ],
      "metadata": {
        "id": "0uUHBdM-z1-C"
      }
    },
    {
      "cell_type": "code",
      "source": [
        "df = pd.read_excel('https://github.com/mcagricaliskan/turkish-news-classification/raw/master/Dataset/raw_dataset_20_02_2022.xlsx', engine='openpyxl')\n",
        "df"
      ],
      "metadata": {
        "colab": {
          "base_uri": "https://localhost:8080/",
          "height": 902
        },
        "id": "XRnLx7hZ2h9U",
        "outputId": "e1bb553b-8f89-427a-d91f-01f9a77dd9c2"
      },
      "execution_count": 3,
      "outputs": [
        {
          "output_type": "execute_result",
          "data": {
            "text/plain": [
              "           Source    Category  \\\n",
              "0      Ensonhaber  Automobile   \n",
              "1      Ensonhaber      Living   \n",
              "2      Ensonhaber  Automobile   \n",
              "3      Ensonhaber      Health   \n",
              "4      Ensonhaber      Living   \n",
              "...           ...         ...   \n",
              "42658  Ensonhaber       Daily   \n",
              "42659  Ensonhaber       Daily   \n",
              "42660  Ensonhaber       Daily   \n",
              "42661  Ensonhaber       Daily   \n",
              "42662  Ensonhaber       Daily   \n",
              "\n",
              "                                                    Link  \\\n",
              "0      https://www.ensonhaber.com/otomobil/turkiye-20...   \n",
              "1      https://www.ensonhaber.com/yasam/mpi-4-subat-2...   \n",
              "2      https://www.ensonhaber.com/otomobil/ilk-8-ayda...   \n",
              "3      https://www.ensonhaber.com/saglik/etten-daha-f...   \n",
              "4      https://www.ensonhaber.com/kadin/iletisim-kura...   \n",
              "...                                                  ...   \n",
              "42658  https://www.ensonhaber.com/gundem/lutfu-turkka...   \n",
              "42659  https://www.ensonhaber.com/kralspor/halis-ozka...   \n",
              "42660  https://www.ensonhaber.com/gundem/omer-celik-l...   \n",
              "42661  https://www.ensonhaber.com/gundem/5-kasim-turk...   \n",
              "42662  https://www.ensonhaber.com/gundem/lutfu-turkka...   \n",
              "\n",
              "                                                   Title  \\\n",
              "0      Türkiye, 2020'de 9.5 milyar dolarlık binek oto...   \n",
              "1      MPİ 3 Şubat 2022 Süper Loto sonuçları: Büyük i...   \n",
              "2             İlk 8 ayda otomotiv üretimi yüzde 14 arttı   \n",
              "3      Etten daha fazla protein içeren yer fıstığının...   \n",
              "4      İletişim kurarken güven vermenin en etkili 6 yolu   \n",
              "...                                                  ...   \n",
              "42658     Lütfü Türkkan'ın basın açıklaması iptal edildi   \n",
              "42659  Halis Özkahya Gaziantep FK, Kasımpaşa maçına a...   \n",
              "42660  Ömer Çelik: Lütfü Türkkan tüm şehit yakınların...   \n",
              "42661            5 Kasım Türkiye'nin koronavirüs tablosu   \n",
              "42662  Lütfü Türkkan, şehit ağabeyine küfrettiği görü...   \n",
              "\n",
              "                                                 Summary  \\\n",
              "0      Türkiye'den 2020'de 118 ülke ve özerk bölgeye ...   \n",
              "1      Milli Piyango İdaresi tarafından canlı çekilen...   \n",
              "2      Ağustos sonu itibarıyla toplam otomotiv üretim...   \n",
              "3      İyi bir protein kaynağı olan ve aynı zamanda k...   \n",
              "4      Sosyal ya da iş hayatında iletişim kurarken ka...   \n",
              "...                                                  ...   \n",
              "42658  Şehit ağabeyine ettiği küfürle tepki çeken İyi...   \n",
              "42659  Gaziantep FK, Kasımpaşa karşılaşmasında maçın ...   \n",
              "42660  AK Parti Sözcüsü Ömer Çelik, bir milletvekilin...   \n",
              "42661  Türkiye'de bugün 28 bin 193 kişinin daha koron...   \n",
              "42662  Meral Akşener'e tepki gösteren şehit yakınına ...   \n",
              "\n",
              "                                                 Context        Date  \n",
              "0      Uludağ Otomotiv Endüstrisi İhracatçıları Birli...  2021/01/20  \n",
              "1      3 Şubat 2022 Perşembe tarihli çekiliş sonuçlar...  2022/02/03  \n",
              "2      Otomotiv Sanayii Derneği (OSD), ocak-ağustos d...  2021/09/14  \n",
              "3      Cips gibi tipik atıştırmalık yiyeceklerin çoğu...  2022/01/24  \n",
              "4      Kendine güven, becerilerinize, niteliklerinize...  2022/02/01  \n",
              "...                                                  ...         ...  \n",
              "42658  İyi Parti Genel Başkanı Meral Akşener ve heyet...  2021/11/05  \n",
              "42659  Süper Lig'in 12. haftasında Gaziantep FK evind...  2021/11/05  \n",
              "42660  İyi Parti Milletvekili Lütfü Türkkan'ın şehit ...  2021/11/05  \n",
              "42661  Sağlık Bakanlığı, yenilenen koronavirüs vaka t...  2021/11/05  \n",
              "42662  Bingöl ziyaretinde İyi Parti Genel Başkanı Mer...  2021/11/05  \n",
              "\n",
              "[42663 rows x 7 columns]"
            ],
            "text/html": [
              "\n",
              "  <div id=\"df-1322f4d7-7833-48fb-80f3-17de16ab31d4\">\n",
              "    <div class=\"colab-df-container\">\n",
              "      <div>\n",
              "<style scoped>\n",
              "    .dataframe tbody tr th:only-of-type {\n",
              "        vertical-align: middle;\n",
              "    }\n",
              "\n",
              "    .dataframe tbody tr th {\n",
              "        vertical-align: top;\n",
              "    }\n",
              "\n",
              "    .dataframe thead th {\n",
              "        text-align: right;\n",
              "    }\n",
              "</style>\n",
              "<table border=\"1\" class=\"dataframe\">\n",
              "  <thead>\n",
              "    <tr style=\"text-align: right;\">\n",
              "      <th></th>\n",
              "      <th>Source</th>\n",
              "      <th>Category</th>\n",
              "      <th>Link</th>\n",
              "      <th>Title</th>\n",
              "      <th>Summary</th>\n",
              "      <th>Context</th>\n",
              "      <th>Date</th>\n",
              "    </tr>\n",
              "  </thead>\n",
              "  <tbody>\n",
              "    <tr>\n",
              "      <th>0</th>\n",
              "      <td>Ensonhaber</td>\n",
              "      <td>Automobile</td>\n",
              "      <td>https://www.ensonhaber.com/otomobil/turkiye-20...</td>\n",
              "      <td>Türkiye, 2020'de 9.5 milyar dolarlık binek oto...</td>\n",
              "      <td>Türkiye'den 2020'de 118 ülke ve özerk bölgeye ...</td>\n",
              "      <td>Uludağ Otomotiv Endüstrisi İhracatçıları Birli...</td>\n",
              "      <td>2021/01/20</td>\n",
              "    </tr>\n",
              "    <tr>\n",
              "      <th>1</th>\n",
              "      <td>Ensonhaber</td>\n",
              "      <td>Living</td>\n",
              "      <td>https://www.ensonhaber.com/yasam/mpi-4-subat-2...</td>\n",
              "      <td>MPİ 3 Şubat 2022 Süper Loto sonuçları: Büyük i...</td>\n",
              "      <td>Milli Piyango İdaresi tarafından canlı çekilen...</td>\n",
              "      <td>3 Şubat 2022 Perşembe tarihli çekiliş sonuçlar...</td>\n",
              "      <td>2022/02/03</td>\n",
              "    </tr>\n",
              "    <tr>\n",
              "      <th>2</th>\n",
              "      <td>Ensonhaber</td>\n",
              "      <td>Automobile</td>\n",
              "      <td>https://www.ensonhaber.com/otomobil/ilk-8-ayda...</td>\n",
              "      <td>İlk 8 ayda otomotiv üretimi yüzde 14 arttı</td>\n",
              "      <td>Ağustos sonu itibarıyla toplam otomotiv üretim...</td>\n",
              "      <td>Otomotiv Sanayii Derneği (OSD), ocak-ağustos d...</td>\n",
              "      <td>2021/09/14</td>\n",
              "    </tr>\n",
              "    <tr>\n",
              "      <th>3</th>\n",
              "      <td>Ensonhaber</td>\n",
              "      <td>Health</td>\n",
              "      <td>https://www.ensonhaber.com/saglik/etten-daha-f...</td>\n",
              "      <td>Etten daha fazla protein içeren yer fıstığının...</td>\n",
              "      <td>İyi bir protein kaynağı olan ve aynı zamanda k...</td>\n",
              "      <td>Cips gibi tipik atıştırmalık yiyeceklerin çoğu...</td>\n",
              "      <td>2022/01/24</td>\n",
              "    </tr>\n",
              "    <tr>\n",
              "      <th>4</th>\n",
              "      <td>Ensonhaber</td>\n",
              "      <td>Living</td>\n",
              "      <td>https://www.ensonhaber.com/kadin/iletisim-kura...</td>\n",
              "      <td>İletişim kurarken güven vermenin en etkili 6 yolu</td>\n",
              "      <td>Sosyal ya da iş hayatında iletişim kurarken ka...</td>\n",
              "      <td>Kendine güven, becerilerinize, niteliklerinize...</td>\n",
              "      <td>2022/02/01</td>\n",
              "    </tr>\n",
              "    <tr>\n",
              "      <th>...</th>\n",
              "      <td>...</td>\n",
              "      <td>...</td>\n",
              "      <td>...</td>\n",
              "      <td>...</td>\n",
              "      <td>...</td>\n",
              "      <td>...</td>\n",
              "      <td>...</td>\n",
              "    </tr>\n",
              "    <tr>\n",
              "      <th>42658</th>\n",
              "      <td>Ensonhaber</td>\n",
              "      <td>Daily</td>\n",
              "      <td>https://www.ensonhaber.com/gundem/lutfu-turkka...</td>\n",
              "      <td>Lütfü Türkkan'ın basın açıklaması iptal edildi</td>\n",
              "      <td>Şehit ağabeyine ettiği küfürle tepki çeken İyi...</td>\n",
              "      <td>İyi Parti Genel Başkanı Meral Akşener ve heyet...</td>\n",
              "      <td>2021/11/05</td>\n",
              "    </tr>\n",
              "    <tr>\n",
              "      <th>42659</th>\n",
              "      <td>Ensonhaber</td>\n",
              "      <td>Daily</td>\n",
              "      <td>https://www.ensonhaber.com/kralspor/halis-ozka...</td>\n",
              "      <td>Halis Özkahya Gaziantep FK, Kasımpaşa maçına a...</td>\n",
              "      <td>Gaziantep FK, Kasımpaşa karşılaşmasında maçın ...</td>\n",
              "      <td>Süper Lig'in 12. haftasında Gaziantep FK evind...</td>\n",
              "      <td>2021/11/05</td>\n",
              "    </tr>\n",
              "    <tr>\n",
              "      <th>42660</th>\n",
              "      <td>Ensonhaber</td>\n",
              "      <td>Daily</td>\n",
              "      <td>https://www.ensonhaber.com/gundem/omer-celik-l...</td>\n",
              "      <td>Ömer Çelik: Lütfü Türkkan tüm şehit yakınların...</td>\n",
              "      <td>AK Parti Sözcüsü Ömer Çelik, bir milletvekilin...</td>\n",
              "      <td>İyi Parti Milletvekili Lütfü Türkkan'ın şehit ...</td>\n",
              "      <td>2021/11/05</td>\n",
              "    </tr>\n",
              "    <tr>\n",
              "      <th>42661</th>\n",
              "      <td>Ensonhaber</td>\n",
              "      <td>Daily</td>\n",
              "      <td>https://www.ensonhaber.com/gundem/5-kasim-turk...</td>\n",
              "      <td>5 Kasım Türkiye'nin koronavirüs tablosu</td>\n",
              "      <td>Türkiye'de bugün 28 bin 193 kişinin daha koron...</td>\n",
              "      <td>Sağlık Bakanlığı, yenilenen koronavirüs vaka t...</td>\n",
              "      <td>2021/11/05</td>\n",
              "    </tr>\n",
              "    <tr>\n",
              "      <th>42662</th>\n",
              "      <td>Ensonhaber</td>\n",
              "      <td>Daily</td>\n",
              "      <td>https://www.ensonhaber.com/gundem/lutfu-turkka...</td>\n",
              "      <td>Lütfü Türkkan, şehit ağabeyine küfrettiği görü...</td>\n",
              "      <td>Meral Akşener'e tepki gösteren şehit yakınına ...</td>\n",
              "      <td>Bingöl ziyaretinde İyi Parti Genel Başkanı Mer...</td>\n",
              "      <td>2021/11/05</td>\n",
              "    </tr>\n",
              "  </tbody>\n",
              "</table>\n",
              "<p>42663 rows × 7 columns</p>\n",
              "</div>\n",
              "      <button class=\"colab-df-convert\" onclick=\"convertToInteractive('df-1322f4d7-7833-48fb-80f3-17de16ab31d4')\"\n",
              "              title=\"Convert this dataframe to an interactive table.\"\n",
              "              style=\"display:none;\">\n",
              "        \n",
              "  <svg xmlns=\"http://www.w3.org/2000/svg\" height=\"24px\"viewBox=\"0 0 24 24\"\n",
              "       width=\"24px\">\n",
              "    <path d=\"M0 0h24v24H0V0z\" fill=\"none\"/>\n",
              "    <path d=\"M18.56 5.44l.94 2.06.94-2.06 2.06-.94-2.06-.94-.94-2.06-.94 2.06-2.06.94zm-11 1L8.5 8.5l.94-2.06 2.06-.94-2.06-.94L8.5 2.5l-.94 2.06-2.06.94zm10 10l.94 2.06.94-2.06 2.06-.94-2.06-.94-.94-2.06-.94 2.06-2.06.94z\"/><path d=\"M17.41 7.96l-1.37-1.37c-.4-.4-.92-.59-1.43-.59-.52 0-1.04.2-1.43.59L10.3 9.45l-7.72 7.72c-.78.78-.78 2.05 0 2.83L4 21.41c.39.39.9.59 1.41.59.51 0 1.02-.2 1.41-.59l7.78-7.78 2.81-2.81c.8-.78.8-2.07 0-2.86zM5.41 20L4 18.59l7.72-7.72 1.47 1.35L5.41 20z\"/>\n",
              "  </svg>\n",
              "      </button>\n",
              "      \n",
              "  <style>\n",
              "    .colab-df-container {\n",
              "      display:flex;\n",
              "      flex-wrap:wrap;\n",
              "      gap: 12px;\n",
              "    }\n",
              "\n",
              "    .colab-df-convert {\n",
              "      background-color: #E8F0FE;\n",
              "      border: none;\n",
              "      border-radius: 50%;\n",
              "      cursor: pointer;\n",
              "      display: none;\n",
              "      fill: #1967D2;\n",
              "      height: 32px;\n",
              "      padding: 0 0 0 0;\n",
              "      width: 32px;\n",
              "    }\n",
              "\n",
              "    .colab-df-convert:hover {\n",
              "      background-color: #E2EBFA;\n",
              "      box-shadow: 0px 1px 2px rgba(60, 64, 67, 0.3), 0px 1px 3px 1px rgba(60, 64, 67, 0.15);\n",
              "      fill: #174EA6;\n",
              "    }\n",
              "\n",
              "    [theme=dark] .colab-df-convert {\n",
              "      background-color: #3B4455;\n",
              "      fill: #D2E3FC;\n",
              "    }\n",
              "\n",
              "    [theme=dark] .colab-df-convert:hover {\n",
              "      background-color: #434B5C;\n",
              "      box-shadow: 0px 1px 3px 1px rgba(0, 0, 0, 0.15);\n",
              "      filter: drop-shadow(0px 1px 2px rgba(0, 0, 0, 0.3));\n",
              "      fill: #FFFFFF;\n",
              "    }\n",
              "  </style>\n",
              "\n",
              "      <script>\n",
              "        const buttonEl =\n",
              "          document.querySelector('#df-1322f4d7-7833-48fb-80f3-17de16ab31d4 button.colab-df-convert');\n",
              "        buttonEl.style.display =\n",
              "          google.colab.kernel.accessAllowed ? 'block' : 'none';\n",
              "\n",
              "        async function convertToInteractive(key) {\n",
              "          const element = document.querySelector('#df-1322f4d7-7833-48fb-80f3-17de16ab31d4');\n",
              "          const dataTable =\n",
              "            await google.colab.kernel.invokeFunction('convertToInteractive',\n",
              "                                                     [key], {});\n",
              "          if (!dataTable) return;\n",
              "\n",
              "          const docLinkHtml = 'Like what you see? Visit the ' +\n",
              "            '<a target=\"_blank\" href=https://colab.research.google.com/notebooks/data_table.ipynb>data table notebook</a>'\n",
              "            + ' to learn more about interactive tables.';\n",
              "          element.innerHTML = '';\n",
              "          dataTable['output_type'] = 'display_data';\n",
              "          await google.colab.output.renderOutput(dataTable, element);\n",
              "          const docLink = document.createElement('div');\n",
              "          docLink.innerHTML = docLinkHtml;\n",
              "          element.appendChild(docLink);\n",
              "        }\n",
              "      </script>\n",
              "    </div>\n",
              "  </div>\n",
              "  "
            ]
          },
          "metadata": {},
          "execution_count": 3
        }
      ]
    },
    {
      "cell_type": "code",
      "source": [
        "df_test = df.sample(1000)"
      ],
      "metadata": {
        "id": "ZWcOEBDGYp4L"
      },
      "execution_count": 4,
      "outputs": []
    },
    {
      "cell_type": "markdown",
      "source": [
        "- Testing prebuilded transformers"
      ],
      "metadata": {
        "id": "oYzgj_tYTw3j"
      }
    },
    {
      "cell_type": "code",
      "source": [
        "# import libraries\n",
        "tokenizer= AutoTokenizer.from_pretrained(\"savasy/bert-turkish-text-classification\")\n",
        "\n",
        "# build and load model, it take time depending on your internet connection\n",
        "model= AutoModelForSequenceClassification.from_pretrained(\"savasy/bert-turkish-text-classification\")\n",
        "\n",
        "# make pipeline\n",
        "nlp=pipeline(\"sentiment-analysis\", model=model, tokenizer=tokenizer)"
      ],
      "metadata": {
        "colab": {
          "base_uri": "https://localhost:8080/"
        },
        "id": "3j575l164ht5",
        "outputId": "5c45b359-9c4d-4825-8cd1-bedb7117428d"
      },
      "execution_count": 12,
      "outputs": [
        {
          "output_type": "stream",
          "name": "stderr",
          "text": [
            "Xformers is not installed correctly. If you want to use memory_efficient_attention to accelerate training use the following command to install Xformers\n",
            "pip install xformers.\n"
          ]
        }
      ]
    },
    {
      "cell_type": "code",
      "source": [
        "df_test['TransformersClass'] = df_test['Summary'].apply(nlp)"
      ],
      "metadata": {
        "id": "_NMPX1yE6roR"
      },
      "execution_count": 13,
      "outputs": []
    },
    {
      "cell_type": "code",
      "source": [
        "df_test.sample(5)"
      ],
      "metadata": {
        "colab": {
          "base_uri": "https://localhost:8080/",
          "height": 635
        },
        "id": "3twLYIWZAdx4",
        "outputId": "2d76b178-7d4e-49c5-ca03-b9684d89e53b"
      },
      "execution_count": 14,
      "outputs": [
        {
          "output_type": "execute_result",
          "data": {
            "text/plain": [
              "           Source    Category  \\\n",
              "9885   Ensonhaber  Technology   \n",
              "38167  Ensonhaber    Magazine   \n",
              "4970   Ensonhaber  Technology   \n",
              "12720  Ensonhaber       Sport   \n",
              "30474  Ensonhaber    Magazine   \n",
              "\n",
              "                                                    Link  \\\n",
              "9885   https://www.ensonhaber.com/teknoloji/cin-yeni-...   \n",
              "38167  https://www.ensonhaber.com/magazin/nusret-gokc...   \n",
              "4970   https://www.ensonhaber.com/teknoloji/whatsappa...   \n",
              "12720  https://www.ensonhaber.com/kralspor/transfer-d...   \n",
              "30474  https://www.ensonhaber.com/magazin/burcu-esmer...   \n",
              "\n",
              "                                                   Title  \\\n",
              "9885                   Çin, yeni nesil uydusunu fırlattı   \n",
              "38167                 Nusret Gökçe'den Al Pacino ile poz   \n",
              "4970   WhatsApp'a Android'den iPhone'a mesaj taşıma ö...   \n",
              "12720        Beşiktaş, Cyle Larin için ısrarcı olmayacak   \n",
              "30474                    Burcu Esmersoy: Simit delisiyim   \n",
              "\n",
              "                                                 Summary  \\\n",
              "9885   Uzay Teknolojisi Akademisi'nin geliştirdiği uy...   \n",
              "38167  Bir hayalinin daha gerçek olduğunu yaptığı pay...   \n",
              "4970   Anlık mesajlaşma uygulaması WhatsApp, Android'...   \n",
              "12720  Siyah-beyazlılar, sezon sonu sözleşmesi bitece...   \n",
              "30474  Bir süredir Bodrum'da deniz ve güneşin tadını ...   \n",
              "\n",
              "                                                 Context        Date  \\\n",
              "9885   Çin, yeni bir uzay misyonuna imza attı.\\nYeni ...  2021/12/14   \n",
              "38167  'Salt Bae' hareketiyle dünya çapında şöhret sa...  2021/05/19   \n",
              "4970   Dünya çapında yaklaşık 1,6 milyar kullanıcıya ...  2022/01/24   \n",
              "12720  Beşiktaş'ta Avrupa ve ligde alınan sonuçlar ne...  2021/11/30   \n",
              "30474  Güzelliğinin yanı sıra sosyal medya paylaşımla...  2021/07/26   \n",
              "\n",
              "                                       TransformersClass  \n",
              "9885   [{'label': 'technology', 'score': 0.9972903728...  \n",
              "38167  [{'label': 'technology', 'score': 0.4028791487...  \n",
              "4970   [{'label': 'technology', 'score': 0.9982972741...  \n",
              "12720  [{'label': 'sport', 'score': 0.9988558292388916}]  \n",
              "30474  [{'label': 'sport', 'score': 0.3109605014324188}]  "
            ],
            "text/html": [
              "\n",
              "  <div id=\"df-27b7d5ec-7b57-4051-bead-4342ef75f997\">\n",
              "    <div class=\"colab-df-container\">\n",
              "      <div>\n",
              "<style scoped>\n",
              "    .dataframe tbody tr th:only-of-type {\n",
              "        vertical-align: middle;\n",
              "    }\n",
              "\n",
              "    .dataframe tbody tr th {\n",
              "        vertical-align: top;\n",
              "    }\n",
              "\n",
              "    .dataframe thead th {\n",
              "        text-align: right;\n",
              "    }\n",
              "</style>\n",
              "<table border=\"1\" class=\"dataframe\">\n",
              "  <thead>\n",
              "    <tr style=\"text-align: right;\">\n",
              "      <th></th>\n",
              "      <th>Source</th>\n",
              "      <th>Category</th>\n",
              "      <th>Link</th>\n",
              "      <th>Title</th>\n",
              "      <th>Summary</th>\n",
              "      <th>Context</th>\n",
              "      <th>Date</th>\n",
              "      <th>TransformersClass</th>\n",
              "    </tr>\n",
              "  </thead>\n",
              "  <tbody>\n",
              "    <tr>\n",
              "      <th>9885</th>\n",
              "      <td>Ensonhaber</td>\n",
              "      <td>Technology</td>\n",
              "      <td>https://www.ensonhaber.com/teknoloji/cin-yeni-...</td>\n",
              "      <td>Çin, yeni nesil uydusunu fırlattı</td>\n",
              "      <td>Uzay Teknolojisi Akademisi'nin geliştirdiği uy...</td>\n",
              "      <td>Çin, yeni bir uzay misyonuna imza attı.\\nYeni ...</td>\n",
              "      <td>2021/12/14</td>\n",
              "      <td>[{'label': 'technology', 'score': 0.9972903728...</td>\n",
              "    </tr>\n",
              "    <tr>\n",
              "      <th>38167</th>\n",
              "      <td>Ensonhaber</td>\n",
              "      <td>Magazine</td>\n",
              "      <td>https://www.ensonhaber.com/magazin/nusret-gokc...</td>\n",
              "      <td>Nusret Gökçe'den Al Pacino ile poz</td>\n",
              "      <td>Bir hayalinin daha gerçek olduğunu yaptığı pay...</td>\n",
              "      <td>'Salt Bae' hareketiyle dünya çapında şöhret sa...</td>\n",
              "      <td>2021/05/19</td>\n",
              "      <td>[{'label': 'technology', 'score': 0.4028791487...</td>\n",
              "    </tr>\n",
              "    <tr>\n",
              "      <th>4970</th>\n",
              "      <td>Ensonhaber</td>\n",
              "      <td>Technology</td>\n",
              "      <td>https://www.ensonhaber.com/teknoloji/whatsappa...</td>\n",
              "      <td>WhatsApp'a Android'den iPhone'a mesaj taşıma ö...</td>\n",
              "      <td>Anlık mesajlaşma uygulaması WhatsApp, Android'...</td>\n",
              "      <td>Dünya çapında yaklaşık 1,6 milyar kullanıcıya ...</td>\n",
              "      <td>2022/01/24</td>\n",
              "      <td>[{'label': 'technology', 'score': 0.9982972741...</td>\n",
              "    </tr>\n",
              "    <tr>\n",
              "      <th>12720</th>\n",
              "      <td>Ensonhaber</td>\n",
              "      <td>Sport</td>\n",
              "      <td>https://www.ensonhaber.com/kralspor/transfer-d...</td>\n",
              "      <td>Beşiktaş, Cyle Larin için ısrarcı olmayacak</td>\n",
              "      <td>Siyah-beyazlılar, sezon sonu sözleşmesi bitece...</td>\n",
              "      <td>Beşiktaş'ta Avrupa ve ligde alınan sonuçlar ne...</td>\n",
              "      <td>2021/11/30</td>\n",
              "      <td>[{'label': 'sport', 'score': 0.9988558292388916}]</td>\n",
              "    </tr>\n",
              "    <tr>\n",
              "      <th>30474</th>\n",
              "      <td>Ensonhaber</td>\n",
              "      <td>Magazine</td>\n",
              "      <td>https://www.ensonhaber.com/magazin/burcu-esmer...</td>\n",
              "      <td>Burcu Esmersoy: Simit delisiyim</td>\n",
              "      <td>Bir süredir Bodrum'da deniz ve güneşin tadını ...</td>\n",
              "      <td>Güzelliğinin yanı sıra sosyal medya paylaşımla...</td>\n",
              "      <td>2021/07/26</td>\n",
              "      <td>[{'label': 'sport', 'score': 0.3109605014324188}]</td>\n",
              "    </tr>\n",
              "  </tbody>\n",
              "</table>\n",
              "</div>\n",
              "      <button class=\"colab-df-convert\" onclick=\"convertToInteractive('df-27b7d5ec-7b57-4051-bead-4342ef75f997')\"\n",
              "              title=\"Convert this dataframe to an interactive table.\"\n",
              "              style=\"display:none;\">\n",
              "        \n",
              "  <svg xmlns=\"http://www.w3.org/2000/svg\" height=\"24px\"viewBox=\"0 0 24 24\"\n",
              "       width=\"24px\">\n",
              "    <path d=\"M0 0h24v24H0V0z\" fill=\"none\"/>\n",
              "    <path d=\"M18.56 5.44l.94 2.06.94-2.06 2.06-.94-2.06-.94-.94-2.06-.94 2.06-2.06.94zm-11 1L8.5 8.5l.94-2.06 2.06-.94-2.06-.94L8.5 2.5l-.94 2.06-2.06.94zm10 10l.94 2.06.94-2.06 2.06-.94-2.06-.94-.94-2.06-.94 2.06-2.06.94z\"/><path d=\"M17.41 7.96l-1.37-1.37c-.4-.4-.92-.59-1.43-.59-.52 0-1.04.2-1.43.59L10.3 9.45l-7.72 7.72c-.78.78-.78 2.05 0 2.83L4 21.41c.39.39.9.59 1.41.59.51 0 1.02-.2 1.41-.59l7.78-7.78 2.81-2.81c.8-.78.8-2.07 0-2.86zM5.41 20L4 18.59l7.72-7.72 1.47 1.35L5.41 20z\"/>\n",
              "  </svg>\n",
              "      </button>\n",
              "      \n",
              "  <style>\n",
              "    .colab-df-container {\n",
              "      display:flex;\n",
              "      flex-wrap:wrap;\n",
              "      gap: 12px;\n",
              "    }\n",
              "\n",
              "    .colab-df-convert {\n",
              "      background-color: #E8F0FE;\n",
              "      border: none;\n",
              "      border-radius: 50%;\n",
              "      cursor: pointer;\n",
              "      display: none;\n",
              "      fill: #1967D2;\n",
              "      height: 32px;\n",
              "      padding: 0 0 0 0;\n",
              "      width: 32px;\n",
              "    }\n",
              "\n",
              "    .colab-df-convert:hover {\n",
              "      background-color: #E2EBFA;\n",
              "      box-shadow: 0px 1px 2px rgba(60, 64, 67, 0.3), 0px 1px 3px 1px rgba(60, 64, 67, 0.15);\n",
              "      fill: #174EA6;\n",
              "    }\n",
              "\n",
              "    [theme=dark] .colab-df-convert {\n",
              "      background-color: #3B4455;\n",
              "      fill: #D2E3FC;\n",
              "    }\n",
              "\n",
              "    [theme=dark] .colab-df-convert:hover {\n",
              "      background-color: #434B5C;\n",
              "      box-shadow: 0px 1px 3px 1px rgba(0, 0, 0, 0.15);\n",
              "      filter: drop-shadow(0px 1px 2px rgba(0, 0, 0, 0.3));\n",
              "      fill: #FFFFFF;\n",
              "    }\n",
              "  </style>\n",
              "\n",
              "      <script>\n",
              "        const buttonEl =\n",
              "          document.querySelector('#df-27b7d5ec-7b57-4051-bead-4342ef75f997 button.colab-df-convert');\n",
              "        buttonEl.style.display =\n",
              "          google.colab.kernel.accessAllowed ? 'block' : 'none';\n",
              "\n",
              "        async function convertToInteractive(key) {\n",
              "          const element = document.querySelector('#df-27b7d5ec-7b57-4051-bead-4342ef75f997');\n",
              "          const dataTable =\n",
              "            await google.colab.kernel.invokeFunction('convertToInteractive',\n",
              "                                                     [key], {});\n",
              "          if (!dataTable) return;\n",
              "\n",
              "          const docLinkHtml = 'Like what you see? Visit the ' +\n",
              "            '<a target=\"_blank\" href=https://colab.research.google.com/notebooks/data_table.ipynb>data table notebook</a>'\n",
              "            + ' to learn more about interactive tables.';\n",
              "          element.innerHTML = '';\n",
              "          dataTable['output_type'] = 'display_data';\n",
              "          await google.colab.output.renderOutput(dataTable, element);\n",
              "          const docLink = document.createElement('div');\n",
              "          docLink.innerHTML = docLinkHtml;\n",
              "          element.appendChild(docLink);\n",
              "        }\n",
              "      </script>\n",
              "    </div>\n",
              "  </div>\n",
              "  "
            ]
          },
          "metadata": {},
          "execution_count": 14
        }
      ]
    },
    {
      "cell_type": "markdown",
      "source": [
        "Another way to achieve this is zero shot learning.\n",
        "We are going to use this model in other case as well.\n",
        "\n"
      ],
      "metadata": {
        "id": "3e9IBJ7qvfQ2"
      }
    },
    {
      "cell_type": "code",
      "source": [
        "# Set file names for train and test data\n",
        "corpus_file = \"/content/dunya-nz.txt\"# get txt file form here:https://github.com/UmarIgan/Data/blob/main/dunya-nz.txt.zip\n",
        "\n",
        "model = FastText()\n",
        "\n",
        "# build the vocabulary\n",
        "model.build_vocab(corpus_file=corpus_file)\n",
        "\n",
        "# train the model\n",
        "model.train(\n",
        "    corpus_file=corpus_file, epochs=model.epochs,\n",
        "    total_examples=model.corpus_count, total_words=model.corpus_total_words,\n",
        ")"
      ],
      "metadata": {
        "colab": {
          "base_uri": "https://localhost:8080/"
        },
        "id": "sF-VLj-o42P8",
        "outputId": "16026396-5f90-4d2b-abfa-d8c9937c2895"
      },
      "execution_count": 15,
      "outputs": [
        {
          "output_type": "execute_result",
          "data": {
            "text/plain": [
              "(30947943, 34364505)"
            ]
          },
          "metadata": {},
          "execution_count": 15
        }
      ]
    },
    {
      "cell_type": "code",
      "source": [
        "model.corpus_total_words"
      ],
      "metadata": {
        "id": "PPCSWkQJUUa3",
        "colab": {
          "base_uri": "https://localhost:8080/"
        },
        "outputId": "c6eb1888-542a-4f1e-eab2-1880f9b11b80"
      },
      "execution_count": 16,
      "outputs": [
        {
          "output_type": "execute_result",
          "data": {
            "text/plain": [
              "6855454"
            ]
          },
          "metadata": {},
          "execution_count": 16
        }
      ]
    },
    {
      "cell_type": "code",
      "source": [
        "nltk.download('punkt')\n",
        "\n",
        "wv = model.wv\n",
        "def stemming_tokenizer(text):\n",
        "    stemmer = TurkishStemmer()\n",
        "    return [stemmer.stemWord(w) for w in word_tokenize(text)]\n",
        "def zero_shot_learning_turkish(sentence, classes):\n",
        "    listem=[]\n",
        "    sentence=stemming_tokenizer(sentence)\n",
        "    for line in sentence:#.split():\n",
        "        listem.append((wv.similarity(line, classes)))\n",
        "    return np.mean(listem)\n",
        "\n",
        "#here is how it works\n",
        "sentence=\"\"\"geminin uluslararası hukuka uygun bir yükü bulunuyorsa,\n",
        "uluslararası hukuka göre gereğini yapacağın baskındır.\"\"\"\n",
        "print(f'{sentence}')\n",
        "classes=['futbol', 'siyaset', 'ekonomi']\n",
        "for clf in classes:\n",
        "    print((zero_shot_learning_turkish(sentence, clf)), clf)"
      ],
      "metadata": {
        "colab": {
          "base_uri": "https://localhost:8080/"
        },
        "id": "ymDHACKxv6XF",
        "outputId": "f352f4a7-bf0d-445f-8eb6-55d643973487"
      },
      "execution_count": 17,
      "outputs": [
        {
          "output_type": "stream",
          "name": "stdout",
          "text": [
            "geminin uluslararası hukuka uygun bir yükü bulunuyorsa,\n",
            "uluslararası hukuka göre gereğini yapacağın baskındır.\n",
            "0.00893052 futbol\n",
            "0.22327824 siyaset\n",
            "0.20294549 ekonomi\n"
          ]
        },
        {
          "output_type": "stream",
          "name": "stderr",
          "text": [
            "[nltk_data] Downloading package punkt to /root/nltk_data...\n",
            "[nltk_data]   Package punkt is already up-to-date!\n"
          ]
        }
      ]
    },
    {
      "cell_type": "markdown",
      "source": [
        "### Named Entity Recognation\n"
      ],
      "metadata": {
        "id": "ecl3YOs-zHda"
      }
    },
    {
      "cell_type": "code",
      "source": [
        "model_ner = AutoModelForTokenClassification.from_pretrained(\"savasy/bert-base-turkish-ner-cased\")\n",
        "tokenizer_ner = AutoTokenizer.from_pretrained(\"savasy/bert-base-turkish-ner-cased\")\n",
        "ner=pipeline('ner', model=model_ner, tokenizer=tokenizer_ner)"
      ],
      "metadata": {
        "id": "IM2bmWU4ZoZg"
      },
      "execution_count": 19,
      "outputs": []
    },
    {
      "cell_type": "code",
      "source": [
        "sample_content = df_test.sample()['Summary'].values[0]\n",
        "print(sample_content)\n",
        "ner(sample_content)"
      ],
      "metadata": {
        "colab": {
          "base_uri": "https://localhost:8080/"
        },
        "id": "r_0K8nO3ibhN",
        "outputId": "97b6c143-5a44-4075-8075-61d133de4a70"
      },
      "execution_count": 20,
      "outputs": [
        {
          "output_type": "stream",
          "name": "stdout",
          "text": [
            "Kendinden yaşça büyük evli bir adama kaçan 18 yaşındaki Elif Yıldırım'a sert sözlerle yüklenen Esra Erol, tepkilerin odağındaydı. Erol konuyla ilgili sessizliğini bozdu.\n"
          ]
        },
        {
          "output_type": "execute_result",
          "data": {
            "text/plain": [
              "[{'entity': 'B-PER',\n",
              "  'score': 0.79043937,\n",
              "  'index': 13,\n",
              "  'word': 'Elif',\n",
              "  'start': 56,\n",
              "  'end': 60},\n",
              " {'entity': 'I-PER',\n",
              "  'score': 0.9129078,\n",
              "  'index': 14,\n",
              "  'word': 'Yıldırım',\n",
              "  'start': 61,\n",
              "  'end': 69},\n",
              " {'entity': 'B-PER',\n",
              "  'score': 0.9995307,\n",
              "  'index': 20,\n",
              "  'word': 'Esra',\n",
              "  'start': 95,\n",
              "  'end': 99},\n",
              " {'entity': 'I-PER',\n",
              "  'score': 0.9992974,\n",
              "  'index': 21,\n",
              "  'word': 'Erol',\n",
              "  'start': 100,\n",
              "  'end': 104}]"
            ]
          },
          "metadata": {},
          "execution_count": 20
        }
      ]
    },
    {
      "cell_type": "markdown",
      "source": [
        "So this is an example case I grapped from hugging face, In current case we will summarize news from our dataframe"
      ],
      "metadata": {
        "id": "cRintE7nbE16"
      }
    },
    {
      "cell_type": "markdown",
      "source": [
        "### Informal Retrievel"
      ],
      "metadata": {
        "id": "u9537h_NzNjd"
      }
    },
    {
      "cell_type": "code",
      "source": [
        "import numpy as np\n",
        "from sklearn.metrics.pairwise import cosine_similarity\n",
        "from InstructorEmbedding import INSTRUCTOR\n",
        "\n",
        "model = INSTRUCTOR('hkunlp/instructor-xl')"
      ],
      "metadata": {
        "colab": {
          "base_uri": "https://localhost:8080/"
        },
        "id": "88Mb9p-mIfSd",
        "outputId": "ac15c0eb-872a-4eb1-b455-2d1945c56fee"
      },
      "execution_count": 5,
      "outputs": [
        {
          "output_type": "stream",
          "name": "stdout",
          "text": [
            "load INSTRUCTOR_Transformer\n",
            "max_seq_length  512\n"
          ]
        }
      ]
    },
    {
      "cell_type": "markdown",
      "source": [
        "For big documents you have it can be easier to find to\n",
        "correct correspond to your search this way.\n",
        "Lets try this on news dataset."
      ],
      "metadata": {
        "id": "U7eHhV8XNisL"
      }
    },
    {
      "cell_type": "code",
      "source": [
        "query_corpus = [['Represent news for retrieving for following topic: ','Ekonomi haberleri']]\n",
        "original_list = [list(df_test.sample(100)['Summary'].values)]\n",
        "news_corpus  = [['Represent news for retrieving following topic', item] for item in original_list[0]]\n",
        "\n",
        "\n",
        "query_embeddings_news = model.encode(query_corpus)\n",
        "corpus_embeddings_news = model.encode(news_corpus)\n",
        "\n",
        "similarities_news = cosine_similarity(query_embeddings_news,corpus_embeddings_news)\n",
        "retrieved_doc_id_news = np.argmax(similarities_news)\n",
        "news_corpus[retrieved_doc_id_news][1]"
      ],
      "metadata": {
        "id": "7uKpSYTkNrw3",
        "colab": {
          "base_uri": "https://localhost:8080/",
          "height": 35
        },
        "outputId": "4311e320-85ca-4d43-f04f-a34ea1ab66cf"
      },
      "execution_count": 7,
      "outputs": [
        {
          "output_type": "execute_result",
          "data": {
            "text/plain": [
              "'Doların düşüşü halk arasında bayram havasıyla karşılanırken, muhalif medyada hüzün hakimdi.'"
            ],
            "application/vnd.google.colaboratory.intrinsic+json": {
              "type": "string"
            }
          },
          "metadata": {},
          "execution_count": 7
        }
      ]
    },
    {
      "cell_type": "code",
      "source": [
        "news_corpus[retrieved_doc_id_news]"
      ],
      "metadata": {
        "colab": {
          "base_uri": "https://localhost:8080/"
        },
        "id": "GNCInZoryYb9",
        "outputId": "7352e1eb-10d2-43f5-e64e-5d02723b5b05"
      },
      "execution_count": 8,
      "outputs": [
        {
          "output_type": "execute_result",
          "data": {
            "text/plain": [
              "['Represent news for retrieving following topic',\n",
              " 'Doların düşüşü halk arasında bayram havasıyla karşılanırken, muhalif medyada hüzün hakimdi.']"
            ]
          },
          "metadata": {},
          "execution_count": 8
        }
      ]
    },
    {
      "cell_type": "markdown",
      "source": [
        "### Question Answering"
      ],
      "metadata": {
        "id": "bq9Si9hKzSQQ"
      }
    },
    {
      "cell_type": "markdown",
      "source": [
        "\n",
        "\n",
        "For big document you might want to look for a certain answer, Question Answering models can Help us with this.\n",
        "We have a turkish document to try. We will try to ask questions about it.\n",
        "\n"
      ],
      "metadata": {
        "id": "ZamrL-NXWIQ2"
      }
    },
    {
      "cell_type": "code",
      "source": [
        "qa = pipeline('question-answering', model='lserinol/bert-turkish-question-answering', tokenizer='lserinol/bert-turkish-question-answering')\n",
        "qa({\n",
        "    'question': \"Osmanli devleti istanbulu ne zaman fethetmistir\",\n",
        "    'context': r\"\"\"\n",
        "    İstanbul  Türkiye'de Marmara Bölgesi'nde yer alan şehir ve Türkiye'nin 81 ilinden biridir. Ülkenin nüfus bakımından en çok göç alan ve en kalabalık ilidir. Ekonomik, tarihî ve sosyo-kültürel açıdan önde gelen şehirlerden biridir.[6][7][8] Şehir, iktisadi büyüklük açısından dünyada 34. sırada yer alır. Nüfuslarına göre şehirler listesinde belediye sınırları göz önüne alınarak yapılan sıralamaya göre Türkiye ve Avrupa'da birinci, dünyada ise altıncı sırada yer almaktadır.[9][10]\n",
        "\n",
        "İstanbul Türkiye'nin kuzeybatısında, Marmara kıyısı ve Boğaziçi boyunca, Haliç'i de çevreleyecek şekilde kurulmuştur. İstanbul kıtalararası bir şehir olup, Avrupa'daki bölümüne Avrupa Yakası veya Rumeli Yakası, Asya'daki bölümüne ise Anadolu Yakası veya Asya Yakası denir. Tarihte ilk olarak üç tarafı Marmara Denizi, Boğaziçi ve Haliç'in sardığı bir yarımada üzerinde kurulan İstanbul'un batıdaki sınırını İstanbul Surları oluşturmaktaydı. Gelişme ve büyüme sürecinde surların her seferinde daha batıya ilerletilerek inşa edilmesiyle dört defa genişletilen şehrin[11] 39 ilçesi vardır. Sınırları içerisinde ise büyükşehir belediyesi ile birlikte toplam 40 belediye bulunmaktadır.\n",
        "\n",
        "Dünyanın en eski şehirlerinden biri olan İstanbul, 330-395 yılları arasında Roma İmparatorluğu, 395-1204 yılları arasında Bizans İmparatorluğu, 1204-1261 yılları arasında Latin İmparatorluğu,1261-1453 yılları arasında tekrar Bizans İmparatorluğu ve son olarak 1453-1922 yılları arasında Osmanlı İmparatorluğu'na başkentlik yaptı.[12] Ayrıca İstanbul, Hilâfetin Osmanlı İmparatorluğu'na geçtiği 1517'den kaldırıldığı 1924'e kadar İslam dünyasının da merkezi oldu.[13]\n",
        "    \"\"\"\n",
        "})"
      ],
      "metadata": {
        "id": "aWQqv_Duydx3",
        "colab": {
          "base_uri": "https://localhost:8080/",
          "height": 246,
          "referenced_widgets": [
            "8636f69be5364f87937a60e9311e3403",
            "f4d9984907da4a0e8d582e75e922db8b",
            "a41c9e0b120f4b71b177841da85f8d4c",
            "fe69e82e3f3a4573916c9d77a8182493",
            "ece9ea995bf54bf0991d5e41f702d2c2",
            "403dac9ed55046c5b59a9a9e97c639d4",
            "a302c734bc964bd08f103efc24f0311a",
            "57e2e80512f741cabe45cca001efa90f",
            "568e62bd3eda4006b21046f17a337940",
            "e71e3cf07f794a4db7597f02641ca64d",
            "74be1b03e0204d5bb48e7d9d576db9ee",
            "86802eb1a74d457f98c0c318b7e44af8",
            "33a67fa9007e4142977708f9b465524c",
            "0f8189c7b91c4a0f959c5cceeee02a97",
            "f74408710f9f4f0eb5b96f1ffb6322f0",
            "06730ac88bc84a23a83206d6760bf723",
            "1350f5a64850431c90f0a1ffba357137",
            "41f59bc4ad0b4da4a081c715ec14c37c",
            "15cb5fdea5454d70897126559b5ab7fe",
            "6731a668034d4e06ae3ab2dba52df627",
            "054c7bfe0e2f480c94533fe523e6ba55",
            "a2c33936dd9a44a9871506a66b32647b",
            "9b25efe46b444fb9a6ea2c84d3a1efa0",
            "476e01f31cdf49bfb7d194e28d253ded",
            "9cfa289af6b744c9b4b02f482258d610",
            "e210a970331d41a68354803f461d7347",
            "2b5446a45c8e4156860a3644ec29d3dc",
            "663feb5efb564967a535a70a598c0d06",
            "77d24cb78f484e76aaeb1f37c3088a8b",
            "f3cde009b6f24d998777056ffa27160a",
            "a20569af7b0f4b8d9e86d3293e9bf34b",
            "991f22493b5e4b8582fe45e3034cf972",
            "b25ffe78b175483892ccb65438fc098a",
            "750aef138ceb460eb7795afe119de48a",
            "5f5d67ff551c4c99be9a0f4bc28f08eb",
            "aeb3129b4cdd45b3a28b2bc145fa9194",
            "222eaacd5c524013859d3735a1658f49",
            "49fdd005b4c84061b6af34c0d35b4236",
            "33550bcd4bc448c3b88df577f1af15c9",
            "ba5630bb5a8642059cd1eb6f35078ea1",
            "204fc2f8b71a481cbcd2ab8a299a569d",
            "b4980a2d8baa4769955444b70b43c87c",
            "f40f2f005c344d55bc6f56bee46b756f",
            "15d4798e0bad41b680698a9afff55701",
            "a67ccb9fc67a49288a280cca2498e25b",
            "461631ae234f486b90749e935ac304e4",
            "630c395af7f2415086f58b81521aa0ac",
            "79a54aea59da47459517d80942fd3551",
            "1e2ab0de0ccf43e69d8e5490066eb0ee",
            "2400fdbb59314a6b9fb9919113fb2280",
            "014f2d74d8c9465a8697250ae750b2ef",
            "98ab7d1673b7496f8b09bb044f2ccd90",
            "36aa83707c814d5196f65fe5919faa89",
            "6f1a48a84de94132bb2262b3fae51f81",
            "57ab809f8c894c97906f2dd3d0838bee"
          ]
        },
        "outputId": "9b2b370c-c5a8-4174-998c-150fde68b022"
      },
      "execution_count": 9,
      "outputs": [
        {
          "output_type": "display_data",
          "data": {
            "text/plain": [
              "Downloading (…)lve/main/config.json:   0%|          | 0.00/1.24k [00:00<?, ?B/s]"
            ],
            "application/vnd.jupyter.widget-view+json": {
              "version_major": 2,
              "version_minor": 0,
              "model_id": "8636f69be5364f87937a60e9311e3403"
            }
          },
          "metadata": {}
        },
        {
          "output_type": "display_data",
          "data": {
            "text/plain": [
              "Downloading pytorch_model.bin:   0%|          | 0.00/443M [00:00<?, ?B/s]"
            ],
            "application/vnd.jupyter.widget-view+json": {
              "version_major": 2,
              "version_minor": 0,
              "model_id": "86802eb1a74d457f98c0c318b7e44af8"
            }
          },
          "metadata": {}
        },
        {
          "output_type": "display_data",
          "data": {
            "text/plain": [
              "Downloading (…)okenizer_config.json:   0%|          | 0.00/40.0 [00:00<?, ?B/s]"
            ],
            "application/vnd.jupyter.widget-view+json": {
              "version_major": 2,
              "version_minor": 0,
              "model_id": "9b25efe46b444fb9a6ea2c84d3a1efa0"
            }
          },
          "metadata": {}
        },
        {
          "output_type": "display_data",
          "data": {
            "text/plain": [
              "Downloading (…)solve/main/vocab.txt:   0%|          | 0.00/251k [00:00<?, ?B/s]"
            ],
            "application/vnd.jupyter.widget-view+json": {
              "version_major": 2,
              "version_minor": 0,
              "model_id": "750aef138ceb460eb7795afe119de48a"
            }
          },
          "metadata": {}
        },
        {
          "output_type": "display_data",
          "data": {
            "text/plain": [
              "Downloading (…)cial_tokens_map.json:   0%|          | 0.00/112 [00:00<?, ?B/s]"
            ],
            "application/vnd.jupyter.widget-view+json": {
              "version_major": 2,
              "version_minor": 0,
              "model_id": "a67ccb9fc67a49288a280cca2498e25b"
            }
          },
          "metadata": {}
        },
        {
          "output_type": "execute_result",
          "data": {
            "text/plain": [
              "{'score': 0.4444579482078552,\n",
              " 'start': 1430,\n",
              " 'end': 1439,\n",
              " 'answer': '1453-1922'}"
            ]
          },
          "metadata": {},
          "execution_count": 9
        }
      ]
    },
    {
      "cell_type": "markdown",
      "source": [
        "### Topic Modelling&Detection"
      ],
      "metadata": {
        "id": "cV9pgAaczs-c"
      }
    },
    {
      "cell_type": "code",
      "source": [
        "mname = \"cristian-popa/bart-tl-ng\"\n",
        "tokenizer = AutoTokenizer.from_pretrained(mname)\n",
        "model = AutoModelForSeq2SeqLM.from_pretrained(mname)"
      ],
      "metadata": {
        "id": "ELum4b5wzDpp"
      },
      "execution_count": 10,
      "outputs": []
    },
    {
      "cell_type": "code",
      "source": [
        "from nltk.corpus import stopwords\n",
        "import nltk\n",
        "nltk.download('stopwords')\n",
        "stoplist=stopwords.words('turkish')\n",
        "def remove_stopwords(text):\n",
        "    \"\"\"custom function to remove the stopwords\"\"\"\n",
        "    return \" \".join([word for word in str(text).split() if word not in stoplist])\n",
        "\n",
        "df_test['Summary_RS'] = df_test['Summary'].apply(lambda text: remove_stopwords(text))"
      ],
      "metadata": {
        "colab": {
          "base_uri": "https://localhost:8080/"
        },
        "id": "FUaBQ5d7rM2Z",
        "outputId": "f8d3842d-084a-4571-cd91-f62bda09c2bc"
      },
      "execution_count": 12,
      "outputs": [
        {
          "output_type": "stream",
          "name": "stderr",
          "text": [
            "[nltk_data] Downloading package stopwords to /root/nltk_data...\n",
            "[nltk_data]   Package stopwords is already up-to-date!\n"
          ]
        }
      ]
    },
    {
      "cell_type": "code",
      "source": [
        "input = df_test.sample(1)['Summary_RS'].values[0]\n",
        "print(f'text to create topic: {input}')\n",
        "enc = tokenizer(input, return_tensors=\"pt\", truncation=True, padding=\"max_length\", max_length=128)\n",
        "outputs = model.generate(\n",
        "    input_ids=enc.input_ids,\n",
        "    attention_mask=enc.attention_mask,\n",
        "    max_length=15,\n",
        "    min_length=5,\n",
        "    do_sample=False,\n",
        "    num_beams=25,\n",
        "    length_penalty=1.0,\n",
        "    repetition_penalty=1.5\n",
        ")\n",
        "\n",
        "decoded = tokenizer.decode(outputs[0], skip_special_tokens=True)\n",
        "print(f'topic created: {decoded}')\n"
      ],
      "metadata": {
        "colab": {
          "base_uri": "https://localhost:8080/"
        },
        "id": "npiz5Oj6zMZe",
        "outputId": "0f67d224-85d4-42d0-a69c-27aeabffcc72"
      },
      "execution_count": 14,
      "outputs": [
        {
          "output_type": "stream",
          "name": "stdout",
          "text": [
            "text to create topic: Petlas Pazarlama Müdürü Erkal Özürün, yolda kalmak istemeyen sürücülerin mutlaka kış lastiğine geçmesi gerektiğini söyledi.\n",
            "topic created: pazarlama yolda geçmesi\n"
          ]
        }
      ]
    },
    {
      "cell_type": "markdown",
      "source": [
        "### Conversatioal Dialogue Systems"
      ],
      "metadata": {
        "id": "kF96PPCPzXy-"
      }
    },
    {
      "cell_type": "markdown",
      "source": [
        "### Dependency Parsing"
      ],
      "metadata": {
        "id": "858SZEBZzidg"
      }
    },
    {
      "cell_type": "markdown",
      "source": [
        "### Relation Extraction"
      ],
      "metadata": {
        "id": "HgsXuPqPzmqG"
      }
    }
  ]
}
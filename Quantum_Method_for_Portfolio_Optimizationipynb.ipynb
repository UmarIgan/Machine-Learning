{
  "nbformat": 4,
  "nbformat_minor": 0,
  "metadata": {
    "colab": {
      "provenance": [],
      "authorship_tag": "ABX9TyP8HbaGssP7BeFRacRrOcaZ",
      "include_colab_link": true
    },
    "kernelspec": {
      "name": "python3",
      "display_name": "Python 3"
    },
    "language_info": {
      "name": "python"
    }
  },
  "cells": [
    {
      "cell_type": "markdown",
      "metadata": {
        "id": "view-in-github",
        "colab_type": "text"
      },
      "source": [
        "<a href=\"https://colab.research.google.com/github/UmarIgan/Machine-Learning/blob/master/Quantum_Method_for_Portfolio_Optimizationipynb.ipynb\" target=\"_parent\"><img src=\"https://colab.research.google.com/assets/colab-badge.svg\" alt=\"Open In Colab\"/></a>"
      ]
    },
    {
      "cell_type": "markdown",
      "source": [
        "Installing the libraries"
      ],
      "metadata": {
        "id": "2HOUIYnJQkC-"
      }
    },
    {
      "cell_type": "markdown",
      "source": [
        "- Quantum computing for porfolio optimization"
      ],
      "metadata": {
        "id": "zfw8TaZxRi6v"
      }
    },
    {
      "cell_type": "code",
      "source": [
        "!pip install qiskit-finance\n",
        "!pip install riskfolio-lib"
      ],
      "metadata": {
        "id": "B6Ie-Jfjhm3l",
        "colab": {
          "base_uri": "https://localhost:8080/"
        },
        "outputId": "9c354b8f-a450-4fef-9f24-a6bfce14eca5"
      },
      "execution_count": 78,
      "outputs": [
        {
          "output_type": "stream",
          "name": "stdout",
          "text": [
            "Looking in indexes: https://pypi.org/simple, https://us-python.pkg.dev/colab-wheels/public/simple/\n",
            "Requirement already satisfied: qiskit-finance in /usr/local/lib/python3.9/dist-packages (0.3.4)\n",
            "Requirement already satisfied: qiskit-terra>=0.20.0 in /usr/local/lib/python3.9/dist-packages (from qiskit-finance) (0.23.3)\n",
            "Requirement already satisfied: numpy>=1.17 in /usr/local/lib/python3.9/dist-packages (from qiskit-finance) (1.22.4)\n",
            "Requirement already satisfied: yfinance>=0.1.70 in /usr/local/lib/python3.9/dist-packages (from qiskit-finance) (0.2.18)\n",
            "Requirement already satisfied: psutil>=5 in /usr/local/lib/python3.9/dist-packages (from qiskit-finance) (5.9.5)\n",
            "Requirement already satisfied: nasdaq-data-link in /usr/local/lib/python3.9/dist-packages (from qiskit-finance) (1.0.4)\n",
            "Requirement already satisfied: scipy>=1.4 in /usr/local/lib/python3.9/dist-packages (from qiskit-finance) (1.10.1)\n",
            "Requirement already satisfied: setuptools>=40.1.0 in /usr/local/lib/python3.9/dist-packages (from qiskit-finance) (67.6.1)\n",
            "Requirement already satisfied: certifi in /usr/local/lib/python3.9/dist-packages (from qiskit-finance) (2022.12.7)\n",
            "Requirement already satisfied: qiskit-optimization>=0.2.0 in /usr/local/lib/python3.9/dist-packages (from qiskit-finance) (0.5.0)\n",
            "Requirement already satisfied: urllib3 in /usr/local/lib/python3.9/dist-packages (from qiskit-finance) (1.26.15)\n",
            "Requirement already satisfied: pandas in /usr/local/lib/python3.9/dist-packages (from qiskit-finance) (1.5.3)\n",
            "Requirement already satisfied: fastdtw in /usr/local/lib/python3.9/dist-packages (from qiskit-finance) (0.3.4)\n",
            "Requirement already satisfied: docplex!=2.24.231,>=2.21.207 in /usr/local/lib/python3.9/dist-packages (from qiskit-optimization>=0.2.0->qiskit-finance) (2.25.236)\n",
            "Requirement already satisfied: networkx>=2.6.3 in /usr/local/lib/python3.9/dist-packages (from qiskit-optimization>=0.2.0->qiskit-finance) (3.1)\n",
            "Requirement already satisfied: ply>=3.10 in /usr/local/lib/python3.9/dist-packages (from qiskit-terra>=0.20.0->qiskit-finance) (3.11)\n",
            "Requirement already satisfied: stevedore>=3.0.0 in /usr/local/lib/python3.9/dist-packages (from qiskit-terra>=0.20.0->qiskit-finance) (5.0.0)\n",
            "Requirement already satisfied: sympy>=1.3 in /usr/local/lib/python3.9/dist-packages (from qiskit-terra>=0.20.0->qiskit-finance) (1.11.1)\n",
            "Requirement already satisfied: rustworkx>=0.12.0 in /usr/local/lib/python3.9/dist-packages (from qiskit-terra>=0.20.0->qiskit-finance) (0.12.1)\n",
            "Requirement already satisfied: symengine>=0.9 in /usr/local/lib/python3.9/dist-packages (from qiskit-terra>=0.20.0->qiskit-finance) (0.10.0)\n",
            "Requirement already satisfied: dill>=0.3 in /usr/local/lib/python3.9/dist-packages (from qiskit-terra>=0.20.0->qiskit-finance) (0.3.6)\n",
            "Requirement already satisfied: python-dateutil>=2.8.0 in /usr/local/lib/python3.9/dist-packages (from qiskit-terra>=0.20.0->qiskit-finance) (2.8.2)\n",
            "Requirement already satisfied: multitasking>=0.0.7 in /usr/local/lib/python3.9/dist-packages (from yfinance>=0.1.70->qiskit-finance) (0.0.11)\n",
            "Requirement already satisfied: lxml>=4.9.1 in /usr/local/lib/python3.9/dist-packages (from yfinance>=0.1.70->qiskit-finance) (4.9.2)\n",
            "Requirement already satisfied: beautifulsoup4>=4.11.1 in /usr/local/lib/python3.9/dist-packages (from yfinance>=0.1.70->qiskit-finance) (4.11.2)\n",
            "Requirement already satisfied: html5lib>=1.1 in /usr/local/lib/python3.9/dist-packages (from yfinance>=0.1.70->qiskit-finance) (1.1)\n",
            "Requirement already satisfied: frozendict>=2.3.4 in /usr/local/lib/python3.9/dist-packages (from yfinance>=0.1.70->qiskit-finance) (2.3.7)\n",
            "Requirement already satisfied: requests>=2.26 in /usr/local/lib/python3.9/dist-packages (from yfinance>=0.1.70->qiskit-finance) (2.27.1)\n",
            "Requirement already satisfied: pytz>=2022.5 in /usr/local/lib/python3.9/dist-packages (from yfinance>=0.1.70->qiskit-finance) (2022.7.1)\n",
            "Requirement already satisfied: cryptography>=3.3.2 in /usr/local/lib/python3.9/dist-packages (from yfinance>=0.1.70->qiskit-finance) (40.0.2)\n",
            "Requirement already satisfied: appdirs>=1.4.4 in /usr/local/lib/python3.9/dist-packages (from yfinance>=0.1.70->qiskit-finance) (1.4.4)\n",
            "Requirement already satisfied: six in /usr/local/lib/python3.9/dist-packages (from nasdaq-data-link->qiskit-finance) (1.16.0)\n",
            "Requirement already satisfied: more-itertools in /usr/local/lib/python3.9/dist-packages (from nasdaq-data-link->qiskit-finance) (9.1.0)\n",
            "Requirement already satisfied: inflection>=0.3.1 in /usr/local/lib/python3.9/dist-packages (from nasdaq-data-link->qiskit-finance) (0.5.1)\n",
            "Requirement already satisfied: soupsieve>1.2 in /usr/local/lib/python3.9/dist-packages (from beautifulsoup4>=4.11.1->yfinance>=0.1.70->qiskit-finance) (2.4.1)\n",
            "Requirement already satisfied: cffi>=1.12 in /usr/local/lib/python3.9/dist-packages (from cryptography>=3.3.2->yfinance>=0.1.70->qiskit-finance) (1.15.1)\n",
            "Requirement already satisfied: webencodings in /usr/local/lib/python3.9/dist-packages (from html5lib>=1.1->yfinance>=0.1.70->qiskit-finance) (0.5.1)\n",
            "Requirement already satisfied: charset-normalizer~=2.0.0 in /usr/local/lib/python3.9/dist-packages (from requests>=2.26->yfinance>=0.1.70->qiskit-finance) (2.0.12)\n",
            "Requirement already satisfied: idna<4,>=2.5 in /usr/local/lib/python3.9/dist-packages (from requests>=2.26->yfinance>=0.1.70->qiskit-finance) (3.4)\n",
            "Requirement already satisfied: pbr!=2.1.0,>=2.0.0 in /usr/local/lib/python3.9/dist-packages (from stevedore>=3.0.0->qiskit-terra>=0.20.0->qiskit-finance) (5.11.1)\n",
            "Requirement already satisfied: mpmath>=0.19 in /usr/local/lib/python3.9/dist-packages (from sympy>=1.3->qiskit-terra>=0.20.0->qiskit-finance) (1.3.0)\n",
            "Requirement already satisfied: pycparser in /usr/local/lib/python3.9/dist-packages (from cffi>=1.12->cryptography>=3.3.2->yfinance>=0.1.70->qiskit-finance) (2.21)\n",
            "Looking in indexes: https://pypi.org/simple, https://us-python.pkg.dev/colab-wheels/public/simple/\n",
            "Requirement already satisfied: riskfolio-lib in /usr/local/lib/python3.9/dist-packages (4.1.1)\n",
            "Requirement already satisfied: scipy>=1.0.1 in /usr/local/lib/python3.9/dist-packages (from riskfolio-lib) (1.10.1)\n",
            "Requirement already satisfied: matplotlib>=3.3.0 in /usr/local/lib/python3.9/dist-packages (from riskfolio-lib) (3.7.1)\n",
            "Requirement already satisfied: arch>=4.15 in /usr/local/lib/python3.9/dist-packages (from riskfolio-lib) (5.4.0)\n",
            "Requirement already satisfied: networkx>=2.5.1 in /usr/local/lib/python3.9/dist-packages (from riskfolio-lib) (3.1)\n",
            "Requirement already satisfied: scikit-learn>=0.22.0 in /usr/local/lib/python3.9/dist-packages (from riskfolio-lib) (1.2.2)\n",
            "Requirement already satisfied: pandas>=1.0.0 in /usr/local/lib/python3.9/dist-packages (from riskfolio-lib) (1.5.3)\n",
            "Requirement already satisfied: numpy>=1.17.0 in /usr/local/lib/python3.9/dist-packages (from riskfolio-lib) (1.22.4)\n",
            "Requirement already satisfied: astropy>=4.3.1 in /usr/local/lib/python3.9/dist-packages (from riskfolio-lib) (5.2.2)\n",
            "Requirement already satisfied: cvxpy>=1.3.1 in /usr/local/lib/python3.9/dist-packages (from riskfolio-lib) (1.3.1)\n",
            "Requirement already satisfied: pybind11>=2.10.1 in /usr/local/lib/python3.9/dist-packages (from riskfolio-lib) (2.10.4)\n",
            "Requirement already satisfied: statsmodels>=0.10.1 in /usr/local/lib/python3.9/dist-packages (from riskfolio-lib) (0.13.5)\n",
            "Requirement already satisfied: xlsxwriter>=1.3.7 in /usr/local/lib/python3.9/dist-packages (from riskfolio-lib) (3.1.0)\n",
            "Requirement already satisfied: property-cached>=1.6.4 in /usr/local/lib/python3.9/dist-packages (from arch>=4.15->riskfolio-lib) (1.6.4)\n",
            "Requirement already satisfied: packaging>=19.0 in /usr/local/lib/python3.9/dist-packages (from astropy>=4.3.1->riskfolio-lib) (23.1)\n",
            "Requirement already satisfied: PyYAML>=3.13 in /usr/local/lib/python3.9/dist-packages (from astropy>=4.3.1->riskfolio-lib) (6.0)\n",
            "Requirement already satisfied: pyerfa>=2.0 in /usr/local/lib/python3.9/dist-packages (from astropy>=4.3.1->riskfolio-lib) (2.0.0.3)\n",
            "Requirement already satisfied: ecos>=2 in /usr/local/lib/python3.9/dist-packages (from cvxpy>=1.3.1->riskfolio-lib) (2.0.12)\n",
            "Requirement already satisfied: scs>=1.1.6 in /usr/local/lib/python3.9/dist-packages (from cvxpy>=1.3.1->riskfolio-lib) (3.2.3)\n",
            "Requirement already satisfied: setuptools>65.5.1 in /usr/local/lib/python3.9/dist-packages (from cvxpy>=1.3.1->riskfolio-lib) (67.6.1)\n",
            "Requirement already satisfied: osqp>=0.4.1 in /usr/local/lib/python3.9/dist-packages (from cvxpy>=1.3.1->riskfolio-lib) (0.6.2.post0)\n",
            "Requirement already satisfied: contourpy>=1.0.1 in /usr/local/lib/python3.9/dist-packages (from matplotlib>=3.3.0->riskfolio-lib) (1.0.7)\n",
            "Requirement already satisfied: kiwisolver>=1.0.1 in /usr/local/lib/python3.9/dist-packages (from matplotlib>=3.3.0->riskfolio-lib) (1.4.4)\n",
            "Requirement already satisfied: pyparsing>=2.3.1 in /usr/local/lib/python3.9/dist-packages (from matplotlib>=3.3.0->riskfolio-lib) (3.0.9)\n",
            "Requirement already satisfied: pillow>=6.2.0 in /usr/local/lib/python3.9/dist-packages (from matplotlib>=3.3.0->riskfolio-lib) (8.4.0)\n",
            "Requirement already satisfied: cycler>=0.10 in /usr/local/lib/python3.9/dist-packages (from matplotlib>=3.3.0->riskfolio-lib) (0.11.0)\n",
            "Requirement already satisfied: fonttools>=4.22.0 in /usr/local/lib/python3.9/dist-packages (from matplotlib>=3.3.0->riskfolio-lib) (4.39.3)\n",
            "Requirement already satisfied: importlib-resources>=3.2.0 in /usr/local/lib/python3.9/dist-packages (from matplotlib>=3.3.0->riskfolio-lib) (5.12.0)\n",
            "Requirement already satisfied: python-dateutil>=2.7 in /usr/local/lib/python3.9/dist-packages (from matplotlib>=3.3.0->riskfolio-lib) (2.8.2)\n",
            "Requirement already satisfied: pytz>=2020.1 in /usr/local/lib/python3.9/dist-packages (from pandas>=1.0.0->riskfolio-lib) (2022.7.1)\n",
            "Requirement already satisfied: threadpoolctl>=2.0.0 in /usr/local/lib/python3.9/dist-packages (from scikit-learn>=0.22.0->riskfolio-lib) (3.1.0)\n",
            "Requirement already satisfied: joblib>=1.1.1 in /usr/local/lib/python3.9/dist-packages (from scikit-learn>=0.22.0->riskfolio-lib) (1.2.0)\n",
            "Requirement already satisfied: patsy>=0.5.2 in /usr/local/lib/python3.9/dist-packages (from statsmodels>=0.10.1->riskfolio-lib) (0.5.3)\n",
            "Requirement already satisfied: zipp>=3.1.0 in /usr/local/lib/python3.9/dist-packages (from importlib-resources>=3.2.0->matplotlib>=3.3.0->riskfolio-lib) (3.15.0)\n",
            "Requirement already satisfied: qdldl in /usr/local/lib/python3.9/dist-packages (from osqp>=0.4.1->cvxpy>=1.3.1->riskfolio-lib) (0.1.7)\n",
            "Requirement already satisfied: six in /usr/local/lib/python3.9/dist-packages (from patsy>=0.5.2->statsmodels>=0.10.1->riskfolio-lib) (1.16.0)\n"
          ]
        }
      ]
    },
    {
      "cell_type": "markdown",
      "source": [
        "**- Import Libraries**\n",
        "\n",
        "Import necessary packages:"
      ],
      "metadata": {
        "id": "o2c0tN1MSUvR"
      }
    },
    {
      "cell_type": "code",
      "source": [
        "%matplotlib inline\n",
        "from qiskit_finance import QiskitFinanceError\n",
        "from qiskit_finance.data_providers import YahooDataProvider\n",
        "from qiskit_finance.applications.optimization import PortfolioOptimization\n",
        "from qiskit.algorithms import QAOA, NumPyMinimumEigensolver\n",
        "from qiskit.utils import algorithm_globals, QuantumInstance\n",
        "from qiskit import Aer, execute\n",
        "from qiskit.algorithms.optimizers import COBYLA\n",
        "from qiskit_optimization.algorithms import MinimumEigenOptimizer\n",
        "from qiskit_optimization.converters import QuadraticProgramToQubo\n",
        "from qiskit_optimization.converters import LinearEqualityToPenalty\n",
        "from qiskit.opflow import PauliExpectation, CVaRExpectation\n",
        "import datetime, matplotlib.pyplot as plt, numpy as np"
      ],
      "metadata": {
        "id": "YTzMg_xsNdVB"
      },
      "execution_count": 79,
      "outputs": []
    },
    {
      "cell_type": "markdown",
      "source": [
        "Retrieve stock data from Yahoo Finance API:\n",
        "\n",
        "> Indented block\n",
        "\n"
      ],
      "metadata": {
        "id": "1cy8e8hvRzcE"
      }
    },
    {
      "cell_type": "code",
      "source": [
        "stocks = [\"THYAO.IS\", \"YUNSA.IS\", \"GARAN.IS\", \"SASA.IS\", \"YKBNK.IS\", \"AKBNK.IS\", \"ENJSA.IS\",\"SAHOL.IS\", \"SISE.IS\", \"VAKBN.IS\", \"HALKB.IS\"]\n",
        "try:\n",
        "    data = YahooDataProvider(\n",
        "                 tickers = stocks,\n",
        "                 start=datetime.datetime(2020, 1, 1),\n",
        "                 end=datetime.datetime(2023, 4, 22))\n",
        "    \n",
        "    data.run()\n",
        "    for (cnt, s) in enumerate(data._tickers):\n",
        "        plt.plot(data._data[cnt], label=s)\n",
        "    plt.legend(loc='upper center', bbox_to_anchor=(0.5, 1.1), ncol=3)\n",
        "    plt.xticks(rotation=90)\n",
        "    plt.show()\n",
        "except QiskitFinanceError as ex: \n",
        "    data = None\n",
        "    print(ex)"
      ],
      "metadata": {
        "colab": {
          "base_uri": "https://localhost:8080/",
          "height": 503
        },
        "id": "FahybjHR9jc5",
        "outputId": "edf2f65a-cf82-460b-c669-7df170a946f3"
      },
      "execution_count": 80,
      "outputs": [
        {
          "output_type": "display_data",
          "data": {
            "text/plain": [
              "<Figure size 640x480 with 1 Axes>"
            ],
            "image/png": "[encoded data removed]"
          },
          "metadata": {}
        }
      ]
    },
    {
      "cell_type": "code",
      "source": [
        "def return_qb(data):\n",
        "    mu = data.get_period_return_mean_vector()\n",
        "    sigma = data.get_period_return_covariance_matrix()\n",
        "    q = 0.5                   # set risk factor\n",
        "    budget = 1  # set budget\n",
        "    penalty = len(stocks)      # set parameter to scale the budget penalty term\n",
        "\n",
        "    portfolio = PortfolioOptimization(expected_returns=mu, covariances=sigma, risk_factor=q, budget=budget)\n",
        "    qp = portfolio.to_quadratic_program()\n",
        "    return qp\n",
        "def index_to_selection(i, num_assets):\n",
        "    s = \"{0:b}\".format(i).rjust(num_assets)\n",
        "    x = np.array([1 if s[i]=='1' else 0 for i in reversed(range(num_assets))])\n",
        "    return x\n",
        "\n",
        "\n",
        "def print_result(result):\n",
        "    selection = result.x\n",
        "    value = result.fval\n",
        "    total_weight = sum(selection)\n",
        "    print('Optimal: selection {}, value {:.4f}'.format(selection, value))\n",
        "    print('\\n----------------- Asset weights ---------------------')\n",
        "    for i in range(len(stocks)):\n",
        "        if selection[i] > 0.5:\n",
        "            weight = selection[i] / total_weight\n",
        "            print('{}: {:.4f}'.format(stocks[i], weight))\n",
        "\n",
        "start_time = time.time()\n",
        "\n",
        "\n",
        "qp = return_qb(data)\n",
        "exact_mes = NumPyMinimumEigensolver()\n",
        "exact_eigensolver = MinimumEigenOptimizer(exact_mes)\n",
        "result = exact_eigensolver.solve(qp)\n",
        "end_time = time.time()\n",
        "print(\"Time taken for quantum method: \", end_time - start_time, \"seconds\") "
      ],
      "metadata": {
        "id": "0YDrowA49x81",
        "colab": {
          "base_uri": "https://localhost:8080/"
        },
        "outputId": "8263111d-66fb-4d81-da2e-d55d86f8a9a7"
      },
      "execution_count": 81,
      "outputs": [
        {
          "output_type": "stream",
          "name": "stdout",
          "text": [
            "Time taken for quantum method:  0.3290722370147705 seconds\n"
          ]
        }
      ]
    },
    {
      "cell_type": "markdown",
      "source": [
        "- probability of each possible selection of assets based on the solution vector obtained from the optimization algorithm"
      ],
      "metadata": {
        "id": "sZLY9NnBUilD"
      }
    },
    {
      "cell_type": "code",
      "source": [
        "dict(zip(stocks, list(result)))"
      ],
      "metadata": {
        "colab": {
          "base_uri": "https://localhost:8080/"
        },
        "id": "uTUqeCIeT4m1",
        "outputId": "20df419a-49da-4e2a-9bdb-9189d8cfa47d"
      },
      "execution_count": 82,
      "outputs": [
        {
          "output_type": "execute_result",
          "data": {
            "text/plain": [
              "{'THYAO.IS': 0.0,\n",
              " 'YUNSA.IS': 0.0,\n",
              " 'GARAN.IS': 0.0,\n",
              " 'SASA.IS': 1.0,\n",
              " 'YKBNK.IS': 0.0,\n",
              " 'AKBNK.IS': 0.0,\n",
              " 'ENJSA.IS': 0.0,\n",
              " 'SAHOL.IS': 0.0,\n",
              " 'SISE.IS': 0.0,\n",
              " 'VAKBN.IS': 0.0,\n",
              " 'HALKB.IS': 0.0}"
            ]
          },
          "metadata": {},
          "execution_count": 82
        }
      ]
    },
    {
      "cell_type": "markdown",
      "source": [
        "- Using classical method "
      ],
      "metadata": {
        "id": "pnnPBiHdYGv6"
      }
    },
    {
      "cell_type": "code",
      "source": [
        "import riskfolio as rp\n",
        "import yfinance as yf\n",
        "import pandas as pd"
      ],
      "metadata": {
        "id": "tcEOp5zdW6F3"
      },
      "execution_count": 83,
      "outputs": []
    },
    {
      "cell_type": "code",
      "source": [
        "data_yf = yf.download(tickers=stocks, \n",
        "                      start=datetime.datetime(2020, 1, 1),\n",
        "                 end=datetime.datetime(2023, 4, 22))\n",
        "close_data = pd.DataFrame(data_yf['Close'])\n",
        "close_data.columns = stocks\n",
        "close_data.head()"
      ],
      "metadata": {
        "colab": {
          "base_uri": "https://localhost:8080/",
          "height": 255
        },
        "id": "xi5RiHlGWyWH",
        "outputId": "78f0fa8d-a5ed-478c-e780-280a8b5a6f1c"
      },
      "execution_count": 84,
      "outputs": [
        {
          "output_type": "stream",
          "name": "stdout",
          "text": [
            "[*********************100%***********************]  11 of 11 completed\n"
          ]
        },
        {
          "output_type": "execute_result",
          "data": {
            "text/plain": [
              "            THYAO.IS  YUNSA.IS  GARAN.IS  SASA.IS  YKBNK.IS  AKBNK.IS  \\\n",
              "Date                                                                    \n",
              "2020-01-02      8.18      7.56     11.26     6.13      9.88  2.923528   \n",
              "2020-01-03      7.96      7.31     10.95     6.02      9.64  2.875358   \n",
              "2020-01-06      7.71      7.13     10.60     6.03      9.41  2.790135   \n",
              "2020-01-07      7.79      7.27     10.59     6.03      9.45  2.853126   \n",
              "2020-01-08      7.96      7.31     11.08     6.10      9.63  2.797545   \n",
              "\n",
              "            ENJSA.IS  SAHOL.IS  SISE.IS  VAKBN.IS  HALKB.IS  \n",
              "Date                                                         \n",
              "2020-01-02      5.33     14.83     5.56      2.52     10.57  \n",
              "2020-01-03      5.27     14.27     5.37      2.45     10.20  \n",
              "2020-01-06      5.12     13.57     5.16      2.40      9.83  \n",
              "2020-01-07      5.12     13.54     5.25      2.40      9.95  \n",
              "2020-01-08      5.09     13.50     5.36      2.42      9.70  "
            ],
            "text/html": [
              "\n",
              "  <div id=\"df-e3e36d1c-b800-48e9-bcd7-2db2305c49cb\">\n",
              "    <div class=\"colab-df-container\">\n",
              "      <div>\n",
              "<style scoped>\n",
              "    .dataframe tbody tr th:only-of-type {\n",
              "        vertical-align: middle;\n",
              "    }\n",
              "\n",
              "    .dataframe tbody tr th {\n",
              "        vertical-align: top;\n",
              "    }\n",
              "\n",
              "    .dataframe thead th {\n",
              "        text-align: right;\n",
              "    }\n",
              "</style>\n",
              "<table border=\"1\" class=\"dataframe\">\n",
              "  <thead>\n",
              "    <tr style=\"text-align: right;\">\n",
              "      <th></th>\n",
              "      <th>THYAO.IS</th>\n",
              "      <th>YUNSA.IS</th>\n",
              "      <th>GARAN.IS</th>\n",
              "      <th>SASA.IS</th>\n",
              "      <th>YKBNK.IS</th>\n",
              "      <th>AKBNK.IS</th>\n",
              "      <th>ENJSA.IS</th>\n",
              "      <th>SAHOL.IS</th>\n",
              "      <th>SISE.IS</th>\n",
              "      <th>VAKBN.IS</th>\n",
              "      <th>HALKB.IS</th>\n",
              "    </tr>\n",
              "    <tr>\n",
              "      <th>Date</th>\n",
              "      <th></th>\n",
              "      <th></th>\n",
              "      <th></th>\n",
              "      <th></th>\n",
              "      <th></th>\n",
              "      <th></th>\n",
              "      <th></th>\n",
              "      <th></th>\n",
              "      <th></th>\n",
              "      <th></th>\n",
              "      <th></th>\n",
              "    </tr>\n",
              "  </thead>\n",
              "  <tbody>\n",
              "    <tr>\n",
              "      <th>2020-01-02</th>\n",
              "      <td>8.18</td>\n",
              "      <td>7.56</td>\n",
              "      <td>11.26</td>\n",
              "      <td>6.13</td>\n",
              "      <td>9.88</td>\n",
              "      <td>2.923528</td>\n",
              "      <td>5.33</td>\n",
              "      <td>14.83</td>\n",
              "      <td>5.56</td>\n",
              "      <td>2.52</td>\n",
              "      <td>10.57</td>\n",
              "    </tr>\n",
              "    <tr>\n",
              "      <th>2020-01-03</th>\n",
              "      <td>7.96</td>\n",
              "      <td>7.31</td>\n",
              "      <td>10.95</td>\n",
              "      <td>6.02</td>\n",
              "      <td>9.64</td>\n",
              "      <td>2.875358</td>\n",
              "      <td>5.27</td>\n",
              "      <td>14.27</td>\n",
              "      <td>5.37</td>\n",
              "      <td>2.45</td>\n",
              "      <td>10.20</td>\n",
              "    </tr>\n",
              "    <tr>\n",
              "      <th>2020-01-06</th>\n",
              "      <td>7.71</td>\n",
              "      <td>7.13</td>\n",
              "      <td>10.60</td>\n",
              "      <td>6.03</td>\n",
              "      <td>9.41</td>\n",
              "      <td>2.790135</td>\n",
              "      <td>5.12</td>\n",
              "      <td>13.57</td>\n",
              "      <td>5.16</td>\n",
              "      <td>2.40</td>\n",
              "      <td>9.83</td>\n",
              "    </tr>\n",
              "    <tr>\n",
              "      <th>2020-01-07</th>\n",
              "      <td>7.79</td>\n",
              "      <td>7.27</td>\n",
              "      <td>10.59</td>\n",
              "      <td>6.03</td>\n",
              "      <td>9.45</td>\n",
              "      <td>2.853126</td>\n",
              "      <td>5.12</td>\n",
              "      <td>13.54</td>\n",
              "      <td>5.25</td>\n",
              "      <td>2.40</td>\n",
              "      <td>9.95</td>\n",
              "    </tr>\n",
              "    <tr>\n",
              "      <th>2020-01-08</th>\n",
              "      <td>7.96</td>\n",
              "      <td>7.31</td>\n",
              "      <td>11.08</td>\n",
              "      <td>6.10</td>\n",
              "      <td>9.63</td>\n",
              "      <td>2.797545</td>\n",
              "      <td>5.09</td>\n",
              "      <td>13.50</td>\n",
              "      <td>5.36</td>\n",
              "      <td>2.42</td>\n",
              "      <td>9.70</td>\n",
              "    </tr>\n",
              "  </tbody>\n",
              "</table>\n",
              "</div>\n",
              "      <button class=\"colab-df-convert\" onclick=\"convertToInteractive('df-e3e36d1c-b800-48e9-bcd7-2db2305c49cb')\"\n",
              "              title=\"Convert this dataframe to an interactive table.\"\n",
              "              style=\"display:none;\">\n",
              "        \n",
              "  <svg xmlns=\"http://www.w3.org/2000/svg\" height=\"24px\"viewBox=\"0 0 24 24\"\n",
              "       width=\"24px\">\n",
              "    <path d=\"M0 0h24v24H0V0z\" fill=\"none\"/>\n",
              "    <path d=\"M18.56 5.44l.94 2.06.94-2.06 2.06-.94-2.06-.94-.94-2.06-.94 2.06-2.06.94zm-11 1L8.5 8.5l.94-2.06 2.06-.94-2.06-.94L8.5 2.5l-.94 2.06-2.06.94zm10 10l.94 2.06.94-2.06 2.06-.94-2.06-.94-.94-2.06-.94 2.06-2.06.94z\"/><path d=\"M17.41 7.96l-1.37-1.37c-.4-.4-.92-.59-1.43-.59-.52 0-1.04.2-1.43.59L10.3 9.45l-7.72 7.72c-.78.78-.78 2.05 0 2.83L4 21.41c.39.39.9.59 1.41.59.51 0 1.02-.2 1.41-.59l7.78-7.78 2.81-2.81c.8-.78.8-2.07 0-2.86zM5.41 20L4 18.59l7.72-7.72 1.47 1.35L5.41 20z\"/>\n",
              "  </svg>\n",
              "      </button>\n",
              "      \n",
              "  <style>\n",
              "    .colab-df-container {\n",
              "      display:flex;\n",
              "      flex-wrap:wrap;\n",
              "      gap: 12px;\n",
              "    }\n",
              "\n",
              "    .colab-df-convert {\n",
              "      background-color: #E8F0FE;\n",
              "      border: none;\n",
              "      border-radius: 50%;\n",
              "      cursor: pointer;\n",
              "      display: none;\n",
              "      fill: #1967D2;\n",
              "      height: 32px;\n",
              "      padding: 0 0 0 0;\n",
              "      width: 32px;\n",
              "    }\n",
              "\n",
              "    .colab-df-convert:hover {\n",
              "      background-color: #E2EBFA;\n",
              "      box-shadow: 0px 1px 2px rgba(60, 64, 67, 0.3), 0px 1px 3px 1px rgba(60, 64, 67, 0.15);\n",
              "      fill: #174EA6;\n",
              "    }\n",
              "\n",
              "    [theme=dark] .colab-df-convert {\n",
              "      background-color: #3B4455;\n",
              "      fill: #D2E3FC;\n",
              "    }\n",
              "\n",
              "    [theme=dark] .colab-df-convert:hover {\n",
              "      background-color: #434B5C;\n",
              "      box-shadow: 0px 1px 3px 1px rgba(0, 0, 0, 0.15);\n",
              "      filter: drop-shadow(0px 1px 2px rgba(0, 0, 0, 0.3));\n",
              "      fill: #FFFFFF;\n",
              "    }\n",
              "  </style>\n",
              "\n",
              "      <script>\n",
              "        const buttonEl =\n",
              "          document.querySelector('#df-e3e36d1c-b800-48e9-bcd7-2db2305c49cb button.colab-df-convert');\n",
              "        buttonEl.style.display =\n",
              "          google.colab.kernel.accessAllowed ? 'block' : 'none';\n",
              "\n",
              "        async function convertToInteractive(key) {\n",
              "          const element = document.querySelector('#df-e3e36d1c-b800-48e9-bcd7-2db2305c49cb');\n",
              "          const dataTable =\n",
              "            await google.colab.kernel.invokeFunction('convertToInteractive',\n",
              "                                                     [key], {});\n",
              "          if (!dataTable) return;\n",
              "\n",
              "          const docLinkHtml = 'Like what you see? Visit the ' +\n",
              "            '<a target=\"_blank\" href=https://colab.research.google.com/notebooks/data_table.ipynb>data table notebook</a>'\n",
              "            + ' to learn more about interactive tables.';\n",
              "          element.innerHTML = '';\n",
              "          dataTable['output_type'] = 'display_data';\n",
              "          await google.colab.output.renderOutput(dataTable, element);\n",
              "          const docLink = document.createElement('div');\n",
              "          docLink.innerHTML = docLinkHtml;\n",
              "          element.appendChild(docLink);\n",
              "        }\n",
              "      </script>\n",
              "    </div>\n",
              "  </div>\n",
              "  "
            ]
          },
          "metadata": {},
          "execution_count": 84
        }
      ]
    },
    {
      "cell_type": "code",
      "source": [
        "import riskfolio as rp\n",
        "def hierarchical_risk_parity(Y):\n",
        "    port = rp.HCPortfolio(returns=Y)\n",
        "\n",
        "    # Estimate optimal portfolio:\n",
        "\n",
        "    model = 'HRP'  # Could be HRP or HERC\n",
        "    codependence = 'pearson'  # Correlation matrix used to group static in clusters\n",
        "    rm = 'MV'  # Risk measure used, this time will be variance\n",
        "    rf = 0  # Risk free rate\n",
        "    linkage = 'single'  # Linkage method used to build clusters\n",
        "    max_k = 10  # Max number of clusters used in two difference gap statistic\n",
        "    leaf_order = True  # Consider optimal order of leafs in dendrogram\n",
        "\n",
        "    w = port.optimization(model=model,codependence=codependence,rm=rm,rf=rf,linkage=linkage,max_k=max_k,leaf_order=leaf_order)\n",
        "    return w\n",
        "\n",
        "def black_litterman(Y):\n",
        "    port = rp.Portfolio(returns=Y)\n",
        "    # Estimate optimal portfolio:\n",
        "    method_mu='hist' # Method to estimate expected returns based on historical data.\n",
        "    method_cov='hist' # Method to estimate covariance matrix based on historical data.\n",
        "    port.assets_stats(method_mu=method_mu, method_cov=method_cov, d=0.94)\n",
        "\n",
        "    # Estimate optimal portfolio:\n",
        "\n",
        "    model='Classic' # Could be Classic (historical), BL (Black Litterman) or FM (Factor Model)\n",
        "    rm = 'EDaR' # Risk measure used, this time will be variance\n",
        "    obj = 'Sharpe' # Objective function, could be MinRisk, MaxRet, Utility or Sharpe\n",
        "    hist = True # Use historical scenarios for risk measures that depend on scenarios\n",
        "    rf = 0 # Risk free rate\n",
        "    l = 0 # Risk aversion factor, only useful when obj is 'Utility'\n",
        "    w = port.optimization(model=model, rm=rm, obj=obj, rf=rf, l=l, hist=hist)\n",
        "    return w\n",
        "\n",
        "def hierarchical_equal_risk_contribution(Y):\n",
        "    port = rp.HCPortfolio(returns=Y)\n",
        "    # Estimate optimal portfolio:\n",
        "\n",
        "    model = 'HERC'  # Could be HRP or HERC\n",
        "    codependence = 'pearson'  # Correlation matrix used to group static in clusters\n",
        "    rm = 'MV'  # Risk measure used, this time will be variance\n",
        "    rf = 0  # Risk free rate\n",
        "    linkage = 'ward'  # Linkage method used to build clusters\n",
        "    max_k = 10  # Max number of clusters used in two difference gap statistic\n",
        "    leaf_order = True  # Consider optimal order of leafs in dendrogram\n",
        "\n",
        "    w = port.optimization(model=model,codependence=codependence,rm=rm,rf=rf,linkage=linkage,max_k=max_k,leaf_order=leaf_order).T\n",
        "\n",
        "    data2 = w.T.reset_index()\n",
        "    data2.columns = ['symbol', 'hierarchical equal risk contribution']\n",
        "\n",
        "    return data2"
      ],
      "metadata": {
        "id": "dGYkG14SWmrb"
      },
      "execution_count": 85,
      "outputs": []
    },
    {
      "cell_type": "code",
      "source": [
        "import time\n",
        "\n",
        "start_time = time.time()\n",
        "result1 = hierarchical_risk_parity(close_data)\n",
        "end_time = time.time()\n",
        "\n",
        "print(\"Time taken for hierarchical_risk_parity: \", end_time - start_time, \"seconds\")\n",
        "print(result1)"
      ],
      "metadata": {
        "colab": {
          "base_uri": "https://localhost:8080/"
        },
        "id": "Qf6aASluXrPE",
        "outputId": "0d9a6b31-4db8-47c3-b1ca-555ea6bf6295"
      },
      "execution_count": 86,
      "outputs": [
        {
          "output_type": "stream",
          "name": "stdout",
          "text": [
            "Time taken for hierarchical_risk_parity:  0.08768820762634277 seconds\n",
            "           weights\n",
            "THYAO.IS  0.075655\n",
            "YUNSA.IS  0.033677\n",
            "GARAN.IS  0.042885\n",
            "SASA.IS   0.328657\n",
            "YKBNK.IS  0.009502\n",
            "AKBNK.IS  0.000682\n",
            "ENJSA.IS  0.016170\n",
            "SAHOL.IS  0.000655\n",
            "SISE.IS   0.332015\n",
            "VAKBN.IS  0.158738\n",
            "HALKB.IS  0.001366\n"
          ]
        }
      ]
    },
    {
      "cell_type": "code",
      "source": [
        "start_time = time.time()\n",
        "result2 = black_litterman(close_data)\n",
        "end_time = time.time()\n",
        "\n",
        "print(\"Time taken for black_litterman: \", end_time - start_time, \"seconds\")\n",
        "print(result2)"
      ],
      "metadata": {
        "colab": {
          "base_uri": "https://localhost:8080/"
        },
        "id": "ZejTU3oiX5dc",
        "outputId": "80583ec9-107d-45f9-f588-007596776589"
      },
      "execution_count": 87,
      "outputs": [
        {
          "output_type": "stream",
          "name": "stdout",
          "text": [
            "Time taken for black_litterman:  0.209367036819458 seconds\n",
            "           weights\n",
            "THYAO.IS  0.012292\n",
            "YUNSA.IS  0.005744\n",
            "GARAN.IS  0.004495\n",
            "SASA.IS   0.023140\n",
            "YKBNK.IS  0.004342\n",
            "AKBNK.IS  0.218107\n",
            "ENJSA.IS  0.013451\n",
            "SAHOL.IS  0.697816\n",
            "SISE.IS   0.009953\n",
            "VAKBN.IS  0.007129\n",
            "HALKB.IS  0.003532\n"
          ]
        }
      ]
    },
    {
      "cell_type": "code",
      "source": [
        "start_time = time.time()\n",
        "result3 = hierarchical_equal_risk_contribution(close_data).set_index('symbol')\n",
        "end_time = time.time()\n",
        "print(\"Time taken for hierarchical_equal_risk_contribution: \", end_time - start_time, \"seconds\")\n",
        "print(result3)"
      ],
      "metadata": {
        "colab": {
          "base_uri": "https://localhost:8080/"
        },
        "id": "Mydgt1vmX8m_",
        "outputId": "84f82eca-4dd8-4bfc-8642-ff59ff075d05"
      },
      "execution_count": 88,
      "outputs": [
        {
          "output_type": "stream",
          "name": "stdout",
          "text": [
            "Time taken for hierarchical_equal_risk_contribution:  0.14191269874572754 seconds\n",
            "          hierarchical equal risk contribution\n",
            "symbol                                        \n",
            "THYAO.IS                          1.457838e-03\n",
            "YUNSA.IS                          3.452973e-05\n",
            "GARAN.IS                          5.798792e-04\n",
            "SASA.IS                           4.948897e-01\n",
            "YKBNK.IS                          1.447931e-05\n",
            "AKBNK.IS                          2.043205e-06\n",
            "ENJSA.IS                          1.138816e-05\n",
            "SAHOL.IS                          9.980930e-07\n",
            "SISE.IS                           4.999462e-01\n",
            "VAKBN.IS                          3.058813e-03\n",
            "HALKB.IS                          4.095768e-06\n"
          ]
        }
      ]
    }
  ]
}
{
  "cells": [
    {
      "cell_type": "markdown",
      "source": [
        "- We will need to install libraries first"
      ],
      "metadata": {
        "id": "4bwGyeB-w30v"
      }
    },
    {
      "cell_type": "code",
      "execution_count": 194,
      "metadata": {
        "colab": {
          "base_uri": "https://localhost:8080/"
        },
        "id": "juEyNOxMWHLG",
        "outputId": "3358ebe3-0dba-40da-b823-00b0940c6f02"
      },
      "outputs": [
        {
          "output_type": "stream",
          "name": "stdout",
          "text": [
            "Requirement already satisfied: transformers in /usr/local/lib/python3.10/dist-packages (4.31.0)\n",
            "Requirement already satisfied: qdrant_client in /usr/local/lib/python3.10/dist-packages (1.4.0)\n",
            "Requirement already satisfied: datasets in /usr/local/lib/python3.10/dist-packages (2.14.4)\n",
            "Requirement already satisfied: torch in /usr/local/lib/python3.10/dist-packages (2.0.1+cu118)\n",
            "Requirement already satisfied: filelock in /usr/local/lib/python3.10/dist-packages (from transformers) (3.12.2)\n",
            "Requirement already satisfied: huggingface-hub<1.0,>=0.14.1 in /usr/local/lib/python3.10/dist-packages (from transformers) (0.16.4)\n",
            "Requirement already satisfied: numpy>=1.17 in /usr/local/lib/python3.10/dist-packages (from transformers) (1.23.5)\n",
            "Requirement already satisfied: packaging>=20.0 in /usr/local/lib/python3.10/dist-packages (from transformers) (23.1)\n",
            "Requirement already satisfied: pyyaml>=5.1 in /usr/local/lib/python3.10/dist-packages (from transformers) (6.0.1)\n",
            "Requirement already satisfied: regex!=2019.12.17 in /usr/local/lib/python3.10/dist-packages (from transformers) (2023.6.3)\n",
            "Requirement already satisfied: requests in /usr/local/lib/python3.10/dist-packages (from transformers) (2.31.0)\n",
            "Requirement already satisfied: tokenizers!=0.11.3,<0.14,>=0.11.1 in /usr/local/lib/python3.10/dist-packages (from transformers) (0.13.3)\n",
            "Requirement already satisfied: safetensors>=0.3.1 in /usr/local/lib/python3.10/dist-packages (from transformers) (0.3.2)\n",
            "Requirement already satisfied: tqdm>=4.27 in /usr/local/lib/python3.10/dist-packages (from transformers) (4.66.1)\n",
            "Requirement already satisfied: grpcio>=1.41.0 in /usr/local/lib/python3.10/dist-packages (from qdrant_client) (1.57.0)\n",
            "Requirement already satisfied: grpcio-tools>=1.41.0 in /usr/local/lib/python3.10/dist-packages (from qdrant_client) (1.57.0)\n",
            "Requirement already satisfied: httpx[http2]>=0.14.0 in /usr/local/lib/python3.10/dist-packages (from qdrant_client) (0.24.1)\n",
            "Requirement already satisfied: portalocker<3.0.0,>=2.7.0 in /usr/local/lib/python3.10/dist-packages (from qdrant_client) (2.7.0)\n",
            "Requirement already satisfied: pydantic>=1.10.8 in /usr/local/lib/python3.10/dist-packages (from qdrant_client) (2.1.1)\n",
            "Requirement already satisfied: urllib3<2.0.0,>=1.26.14 in /usr/local/lib/python3.10/dist-packages (from qdrant_client) (1.26.16)\n",
            "Requirement already satisfied: pyarrow>=8.0.0 in /usr/local/lib/python3.10/dist-packages (from datasets) (9.0.0)\n",
            "Requirement already satisfied: dill<0.3.8,>=0.3.0 in /usr/local/lib/python3.10/dist-packages (from datasets) (0.3.7)\n",
            "Requirement already satisfied: pandas in /usr/local/lib/python3.10/dist-packages (from datasets) (1.5.3)\n",
            "Requirement already satisfied: xxhash in /usr/local/lib/python3.10/dist-packages (from datasets) (3.3.0)\n",
            "Requirement already satisfied: multiprocess in /usr/local/lib/python3.10/dist-packages (from datasets) (0.70.15)\n",
            "Requirement already satisfied: fsspec[http]>=2021.11.1 in /usr/local/lib/python3.10/dist-packages (from datasets) (2023.6.0)\n",
            "Requirement already satisfied: aiohttp in /usr/local/lib/python3.10/dist-packages (from datasets) (3.8.5)\n",
            "Requirement already satisfied: typing-extensions in /usr/local/lib/python3.10/dist-packages (from torch) (4.7.1)\n",
            "Requirement already satisfied: sympy in /usr/local/lib/python3.10/dist-packages (from torch) (1.12)\n",
            "Requirement already satisfied: networkx in /usr/local/lib/python3.10/dist-packages (from torch) (3.1)\n",
            "Requirement already satisfied: jinja2 in /usr/local/lib/python3.10/dist-packages (from torch) (3.1.2)\n",
            "Requirement already satisfied: triton==2.0.0 in /usr/local/lib/python3.10/dist-packages (from torch) (2.0.0)\n",
            "Requirement already satisfied: cmake in /usr/local/lib/python3.10/dist-packages (from triton==2.0.0->torch) (3.27.2)\n",
            "Requirement already satisfied: lit in /usr/local/lib/python3.10/dist-packages (from triton==2.0.0->torch) (16.0.6)\n",
            "Requirement already satisfied: attrs>=17.3.0 in /usr/local/lib/python3.10/dist-packages (from aiohttp->datasets) (23.1.0)\n",
            "Requirement already satisfied: charset-normalizer<4.0,>=2.0 in /usr/local/lib/python3.10/dist-packages (from aiohttp->datasets) (3.2.0)\n",
            "Requirement already satisfied: multidict<7.0,>=4.5 in /usr/local/lib/python3.10/dist-packages (from aiohttp->datasets) (6.0.4)\n",
            "Requirement already satisfied: async-timeout<5.0,>=4.0.0a3 in /usr/local/lib/python3.10/dist-packages (from aiohttp->datasets) (4.0.3)\n",
            "Requirement already satisfied: yarl<2.0,>=1.0 in /usr/local/lib/python3.10/dist-packages (from aiohttp->datasets) (1.9.2)\n",
            "Requirement already satisfied: frozenlist>=1.1.1 in /usr/local/lib/python3.10/dist-packages (from aiohttp->datasets) (1.4.0)\n",
            "Requirement already satisfied: aiosignal>=1.1.2 in /usr/local/lib/python3.10/dist-packages (from aiohttp->datasets) (1.3.1)\n",
            "Requirement already satisfied: protobuf<5.0dev,>=4.21.6 in /usr/local/lib/python3.10/dist-packages (from grpcio-tools>=1.41.0->qdrant_client) (4.24.0)\n",
            "Requirement already satisfied: setuptools in /usr/local/lib/python3.10/dist-packages (from grpcio-tools>=1.41.0->qdrant_client) (67.7.2)\n",
            "Requirement already satisfied: certifi in /usr/local/lib/python3.10/dist-packages (from httpx[http2]>=0.14.0->qdrant_client) (2023.7.22)\n",
            "Requirement already satisfied: httpcore<0.18.0,>=0.15.0 in /usr/local/lib/python3.10/dist-packages (from httpx[http2]>=0.14.0->qdrant_client) (0.17.3)\n",
            "Requirement already satisfied: idna in /usr/local/lib/python3.10/dist-packages (from httpx[http2]>=0.14.0->qdrant_client) (3.4)\n",
            "Requirement already satisfied: sniffio in /usr/local/lib/python3.10/dist-packages (from httpx[http2]>=0.14.0->qdrant_client) (1.3.0)\n",
            "Requirement already satisfied: h2<5,>=3 in /usr/local/lib/python3.10/dist-packages (from httpx[http2]>=0.14.0->qdrant_client) (4.1.0)\n",
            "Requirement already satisfied: annotated-types>=0.4.0 in /usr/local/lib/python3.10/dist-packages (from pydantic>=1.10.8->qdrant_client) (0.5.0)\n",
            "Requirement already satisfied: pydantic-core==2.4.0 in /usr/local/lib/python3.10/dist-packages (from pydantic>=1.10.8->qdrant_client) (2.4.0)\n",
            "Requirement already satisfied: MarkupSafe>=2.0 in /usr/local/lib/python3.10/dist-packages (from jinja2->torch) (2.1.3)\n",
            "Requirement already satisfied: python-dateutil>=2.8.1 in /usr/local/lib/python3.10/dist-packages (from pandas->datasets) (2.8.2)\n",
            "Requirement already satisfied: pytz>=2020.1 in /usr/local/lib/python3.10/dist-packages (from pandas->datasets) (2023.3)\n",
            "Requirement already satisfied: mpmath>=0.19 in /usr/local/lib/python3.10/dist-packages (from sympy->torch) (1.3.0)\n",
            "Requirement already satisfied: hyperframe<7,>=6.0 in /usr/local/lib/python3.10/dist-packages (from h2<5,>=3->httpx[http2]>=0.14.0->qdrant_client) (6.0.1)\n",
            "Requirement already satisfied: hpack<5,>=4.0 in /usr/local/lib/python3.10/dist-packages (from h2<5,>=3->httpx[http2]>=0.14.0->qdrant_client) (4.0.0)\n",
            "Requirement already satisfied: h11<0.15,>=0.13 in /usr/local/lib/python3.10/dist-packages (from httpcore<0.18.0,>=0.15.0->httpx[http2]>=0.14.0->qdrant_client) (0.14.0)\n",
            "Requirement already satisfied: anyio<5.0,>=3.0 in /usr/local/lib/python3.10/dist-packages (from httpcore<0.18.0,>=0.15.0->httpx[http2]>=0.14.0->qdrant_client) (3.7.1)\n",
            "Requirement already satisfied: six>=1.5 in /usr/local/lib/python3.10/dist-packages (from python-dateutil>=2.8.1->pandas->datasets) (1.16.0)\n",
            "Requirement already satisfied: exceptiongroup in /usr/local/lib/python3.10/dist-packages (from anyio<5.0,>=3.0->httpcore<0.18.0,>=0.15.0->httpx[http2]>=0.14.0->qdrant_client) (1.1.2)\n"
          ]
        }
      ],
      "source": [
        "!pip install transformers qdrant_client datasets torch"
      ]
    },
    {
      "cell_type": "code",
      "execution_count": 195,
      "metadata": {
        "id": "2ugviIdtJMBX"
      },
      "outputs": [],
      "source": [
        "from transformers import ViTImageProcessor, ViTModel\n",
        "from qdrant_client import QdrantClient\n",
        "from qdrant_client.http import models\n",
        "from datasets import load_dataset, Dataset\n",
        "import numpy as np\n",
        "import torch"
      ]
    },
    {
      "cell_type": "markdown",
      "source": [
        "You can set up databases on you local computer as well but I am going with cloud since my local computer is limited about storage"
      ],
      "metadata": {
        "id": "xbNS-tnPw-xJ"
      }
    },
    {
      "cell_type": "code",
      "execution_count": 196,
      "metadata": {
        "id": "pkyRS26WJMBZ"
      },
      "outputs": [],
      "source": [
        "#connect to the vector database\n",
        "qdrant_url = \"\"\n",
        "qdrant_api_key = \"\"\n",
        "\n",
        "client = QdrantClient(\n",
        "    url=qdrant_url,\n",
        "    api_key=qdrant_api_key\n",
        "     )"
      ]
    },
    {
      "cell_type": "markdown",
      "source": [
        "We are first going to create a collection."
      ],
      "metadata": {
        "id": "2agBP2kAxNF0"
      }
    },
    {
      "cell_type": "code",
      "execution_count": 197,
      "metadata": {
        "colab": {
          "base_uri": "https://localhost:8080/"
        },
        "id": "nw-szPR7JMBa",
        "outputId": "5d207cf9-fdb0-4ea4-d3ba-bb0db9f258f0"
      },
      "outputs": [
        {
          "output_type": "execute_result",
          "data": {
            "text/plain": [
              "True"
            ]
          },
          "metadata": {},
          "execution_count": 197
        }
      ],
      "source": [
        "my_collection = \"image_collection\"\n",
        "client.recreate_collection(\n",
        "    collection_name=my_collection,\n",
        "    vectors_config=models.VectorParams(size=384, distance=models.Distance.COSINE)\n",
        ")"
      ]
    },
    {
      "cell_type": "markdown",
      "metadata": {
        "id": "xmidJPls7Ziu"
      },
      "source": [
        "- I am going to use Human Action Recognition dataset but you can apply any other dataset just remeber that the mode should be RGB\n",
        "- We are going to add an index column for better seach experience\n",
        "- I got test and train dataset indivudually to test it with unseen data"
      ]
    },
    {
      "cell_type": "code",
      "execution_count": 198,
      "metadata": {
        "id": "2muktnO8ch2O"
      },
      "outputs": [],
      "source": [
        "dataset_train = load_dataset(\n",
        "    'Bingsu/Human_Action_Recognition', split='train'\n",
        ")\n",
        "values= list(range(len(dataset_train)))\n",
        "dataset_train=dataset_train.add_column('image_id',values)\n",
        "\n",
        "\n",
        "dataset_test = load_dataset(\n",
        "    'Bingsu/Human_Action_Recognition', split='train'\n",
        ")\n",
        "\n",
        "values_test= list(range(len(dataset_test)))\n",
        "dataset_test=dataset_test.add_column('image_id',values_test)"
      ]
    },
    {
      "cell_type": "code",
      "execution_count": 227,
      "metadata": {
        "colab": {
          "base_uri": "https://localhost:8080/",
          "height": 194
        },
        "id": "Gufk6qwmcLf7",
        "outputId": "40b1764a-dd87-4f99-bec6-a6249a269710"
      },
      "outputs": [
        {
          "output_type": "stream",
          "name": "stdout",
          "text": [
            "label of image is : 11\n"
          ]
        },
        {
          "output_type": "execute_result",
          "data": {
            "text/plain": [
              "<PIL.JpegImagePlugin.JpegImageFile image mode=RGB size=240x160>"
            ],
            "image/png": "[encoded data removed]"
          },
          "metadata": {},
          "execution_count": 227
        }
      ],
      "source": [
        "print(f\"label of image is : {dataset_train[0]['labels']}\")\n",
        "dataset_train[0]['image']"
      ]
    },
    {
      "cell_type": "markdown",
      "source": [
        "- To exctrat embedding from the images, we are going to use pretrained facebook dino-vits16 Vision Transformer model."
      ],
      "metadata": {
        "id": "MoNednxsx_6t"
      }
    },
    {
      "cell_type": "code",
      "execution_count": 200,
      "metadata": {
        "colab": {
          "base_uri": "https://localhost:8080/"
        },
        "id": "-Nq7Kt91hC5t",
        "outputId": "6a9e7ff3-65e4-4d6f-ae87-e15b841936fa"
      },
      "outputs": [
        {
          "output_type": "stream",
          "name": "stderr",
          "text": [
            "Some weights of ViTModel were not initialized from the model checkpoint at facebook/dino-vits16 and are newly initialized: ['pooler.dense.bias', 'pooler.dense.weight']\n",
            "You should probably TRAIN this model on a down-stream task to be able to use it for predictions and inference.\n"
          ]
        }
      ],
      "source": [
        "device = torch.device(\"cuda\" if torch.cuda.is_available() else \"cpu\")\n",
        "processor = ViTImageProcessor.from_pretrained('facebook/dino-vits16')\n",
        "model = ViTModel.from_pretrained('facebook/dino-vits16').to(device)"
      ]
    },
    {
      "cell_type": "markdown",
      "source": [
        "- Now let's see an example of an embedding"
      ],
      "metadata": {
        "id": "kuMC08zszLLy"
      }
    },
    {
      "cell_type": "code",
      "execution_count": 201,
      "metadata": {
        "colab": {
          "base_uri": "https://localhost:8080/"
        },
        "id": "itihxJezJMBl",
        "outputId": "01e7e7c9-8e46-42f8-c705-793c7f16e9fa"
      },
      "outputs": [
        {
          "output_type": "execute_result",
          "data": {
            "text/plain": [
              "(torch.Size([1, 3, 224, 224]),\n",
              " {'pixel_values': tensor([[[[2.2318, 2.2318, 2.1975,  ..., 2.1290, 2.1290, 2.1633],\n",
              "           [2.2318, 2.2318, 2.1975,  ..., 2.1290, 2.1290, 2.1462],\n",
              "           [2.2318, 2.2147, 2.1975,  ..., 2.1290, 2.1290, 2.1462],\n",
              "           ...,\n",
              "           [1.9407, 1.9407, 1.9235,  ..., 1.9749, 2.0263, 2.0948],\n",
              "           [1.9578, 1.9578, 1.9407,  ..., 1.9749, 2.0263, 2.0948],\n",
              "           [1.9578, 1.9578, 1.9407,  ..., 1.9749, 2.0263, 2.0948]],\n",
              " \n",
              "          [[2.2535, 2.2535, 2.2185,  ..., 2.0959, 2.1310, 2.1660],\n",
              "           [2.2535, 2.2535, 2.2185,  ..., 2.0959, 2.1310, 2.1485],\n",
              "           [2.2535, 2.2360, 2.2185,  ..., 2.0959, 2.1310, 2.1485],\n",
              "           ...,\n",
              "           [2.1485, 2.1485, 2.1310,  ..., 2.1835, 2.2360, 2.3060],\n",
              "           [2.1660, 2.1660, 2.1485,  ..., 2.1835, 2.2360, 2.3060],\n",
              "           [2.1660, 2.1660, 2.1485,  ..., 2.1835, 2.2360, 2.3060]],\n",
              " \n",
              "          [[2.3786, 2.3786, 2.3437,  ..., 2.3088, 2.3263, 2.3611],\n",
              "           [2.3786, 2.3786, 2.3437,  ..., 2.3088, 2.3263, 2.3437],\n",
              "           [2.3786, 2.3611, 2.3437,  ..., 2.3088, 2.3263, 2.3437],\n",
              "           ...,\n",
              "           [2.3437, 2.3437, 2.3263,  ..., 2.3786, 2.4308, 2.5006],\n",
              "           [2.3611, 2.3611, 2.3437,  ..., 2.3786, 2.4308, 2.5006],\n",
              "           [2.3611, 2.3611, 2.3437,  ..., 2.3786, 2.4308, 2.5006]]]])})"
            ]
          },
          "metadata": {},
          "execution_count": 201
        }
      ],
      "source": [
        "image = dataset[123][\"image\"]\n",
        "inputs = processor(images=image, return_tensors=\"pt\").to(device)\n",
        "inputs['pixel_values'].shape, inputs"
      ]
    },
    {
      "cell_type": "markdown",
      "source": [
        "- We are going to create payload for to insert along with image embeddings.\n",
        "- This will help us to do search on vector databases with filtering."
      ],
      "metadata": {
        "id": "kOV41c2JzdOx"
      }
    },
    {
      "cell_type": "code",
      "execution_count": null,
      "metadata": {
        "colab": {
          "background_save": true
        },
        "id": "7UQliw8MJMBm",
        "outputId": "c474c8ba-b97c-446e-96fc-1341521d8cb8"
      },
      "outputs": [
        {
          "data": {
            "text/plain": [
              "[{'labels': 11, 'image_id': 0},\n",
              " {'labels': 14, 'image_id': 1},\n",
              " {'labels': 7, 'image_id': 2}]"
            ]
          },
          "execution_count": 193,
          "metadata": {},
          "output_type": "execute_result"
        }
      ],
      "source": [
        "payload = dataset_train.select_columns([\n",
        "    \"labels\", \"image_id\"\n",
        "]).to_pandas().to_dict(orient=\"records\")\n",
        "\n",
        "payload[:3]"
      ]
    },
    {
      "cell_type": "markdown",
      "metadata": {
        "id": "Eem-Gom68_lq"
      },
      "source": [
        "- Creating embeddings for inserting to DB usong or ViTs model\n",
        "- This process will take some times(30 mins 12k image in my case)"
      ]
    },
    {
      "cell_type": "code",
      "execution_count": 204,
      "metadata": {
        "colab": {
          "base_uri": "https://localhost:8080/",
          "height": 118,
          "referenced_widgets": [
            "6ec2b5777a8a4cf59f0d2076d3a29482",
            "1e8b1cf3e0a34fbeb638dc8f0f3e5480",
            "619f8f9923b74ea1b75f111d7d7ec47a",
            "28f6e9c066614b67abe94e9cf8f977af",
            "aa81d5b6054a47b5a3154067dfff9d56",
            "adf4b305c23a4919aed02acb82d26dd2",
            "7ebf8a7b92994aa389585236ec4b2d8b",
            "3b6067d466024a05aaa0ac3092c54dff",
            "812c1a856bbf4ae28fbbf7d64bfb97f1",
            "24e68a6e2c504c45867357d4807e40eb",
            "81fc337915ef48b8a04c8cc7c3763684"
          ]
        },
        "id": "z0oRKe1ihQAA",
        "outputId": "dcce2748-dd0a-43a2-f7c2-fbfa43ff5457"
      },
      "outputs": [
        {
          "output_type": "display_data",
          "data": {
            "text/plain": [
              "Map:   0%|          | 0/12600 [00:00<?, ? examples/s]"
            ],
            "application/vnd.jupyter.widget-view+json": {
              "version_major": 2,
              "version_minor": 0,
              "model_id": "6ec2b5777a8a4cf59f0d2076d3a29482"
            }
          },
          "metadata": {}
        },
        {
          "output_type": "execute_result",
          "data": {
            "text/plain": [
              "Dataset({\n",
              "    features: ['image', 'labels', 'image_id', 'embeddings'],\n",
              "    num_rows: 12600\n",
              "})"
            ]
          },
          "metadata": {},
          "execution_count": 204
        }
      ],
      "source": [
        "def get_embeddings(batch):\n",
        "    inputs = processor(images=batch['image'], return_tensors=\"pt\").to(device)\n",
        "    with torch.no_grad():\n",
        "        outputs = model(**inputs).last_hidden_state.mean(dim=1).cpu().numpy()\n",
        "    batch['embeddings'] = outputs\n",
        "    return batch\n",
        "\n",
        "dataset_train = dataset_train.map(get_embeddings, batched=True, batch_size=16)\n",
        "dataset_train"
      ]
    },
    {
      "cell_type": "markdown",
      "source": [
        "- Now lets get the embeddings with creating id columns as well"
      ],
      "metadata": {
        "id": "kEMeowAW0Fla"
      }
    },
    {
      "cell_type": "code",
      "execution_count": 205,
      "metadata": {
        "id": "S88uta42JMBm"
      },
      "outputs": [],
      "source": [
        "ids = list(range(dataset_train.num_rows))\n",
        "embeddings = np.array(dataset_train['embeddings'])"
      ]
    },
    {
      "cell_type": "markdown",
      "metadata": {
        "id": "5kLortVM9FCH"
      },
      "source": [
        "- Inserting to db"
      ]
    },
    {
      "cell_type": "code",
      "execution_count": 206,
      "metadata": {
        "id": "CTiDg_ZWJMBn"
      },
      "outputs": [],
      "source": [
        "batch_size = 1000\n",
        "\n",
        "for i in range(0, dataset_train.num_rows, batch_size):\n",
        "\n",
        "    low_idx = min(i+batch_size, dataset_train.num_rows)\n",
        "\n",
        "    batch_of_ids = ids[i: low_idx]\n",
        "    batch_of_embs = embeddings[i: low_idx]\n",
        "    batch_of_payloads = payload[i: low_idx]\n",
        "\n",
        "    client.upsert(\n",
        "        collection_name=my_collection,\n",
        "        points=models.Batch(\n",
        "            ids=batch_of_ids,\n",
        "            vectors=batch_of_embs,\n",
        "            payloads=batch_of_payloads\n",
        "        )\n",
        "    )"
      ]
    },
    {
      "cell_type": "markdown",
      "source": [
        "- We can check our collection info as follow:"
      ],
      "metadata": {
        "id": "tuiOH0aI0tUJ"
      }
    },
    {
      "cell_type": "code",
      "source": [
        "collection_info = client.get_collection(collection_name='image_collection')\n",
        "list(collection_info)"
      ],
      "metadata": {
        "colab": {
          "base_uri": "https://localhost:8080/"
        },
        "id": "h7oVvxMh0hhk",
        "outputId": "3d1c7d39-66b7-43dc-cd29-4dc910d14042"
      },
      "execution_count": 229,
      "outputs": [
        {
          "output_type": "execute_result",
          "data": {
            "text/plain": [
              "[('status', <CollectionStatus.GREEN: 'green'>),\n",
              " ('optimizer_status', <OptimizersStatusOneOf.OK: 'ok'>),\n",
              " ('vectors_count', 12600),\n",
              " ('indexed_vectors_count', 0),\n",
              " ('points_count', 12600),\n",
              " ('segments_count', 2),\n",
              " ('config',\n",
              "  CollectionConfig(params=CollectionParams(vectors=VectorParams(size=384, distance=<Distance.COSINE: 'Cosine'>, hnsw_config=None, quantization_config=None, on_disk=None), shard_number=1, replication_factor=1, write_consistency_factor=1, on_disk_payload=True), hnsw_config=HnswConfig(m=16, ef_construct=100, full_scan_threshold=10000, max_indexing_threads=0, on_disk=False, payload_m=None), optimizer_config=OptimizersConfig(deleted_threshold=0.2, vacuum_min_vector_number=1000, default_segment_number=0, max_segment_size=None, memmap_threshold=None, indexing_threshold=20000, flush_interval_sec=5, max_optimization_threads=1), wal_config=WalConfig(wal_capacity_mb=32, wal_segments_ahead=0), quantization_config=None)),\n",
              " ('payload_schema', {})]"
            ]
          },
          "metadata": {},
          "execution_count": 229
        }
      ]
    },
    {
      "cell_type": "code",
      "execution_count": 261,
      "metadata": {
        "id": "9dNoEISw_7PK",
        "colab": {
          "base_uri": "https://localhost:8080/",
          "height": 435
        },
        "outputId": "2abdbccd-11c3-40a6-9b00-d0706c637827"
      },
      "outputs": [
        {
          "output_type": "stream",
          "name": "stdout",
          "text": [
            "label of this image is 12\n"
          ]
        },
        {
          "output_type": "stream",
          "name": "stderr",
          "text": [
            "Some weights of ViTModel were not initialized from the model checkpoint at facebook/dino-vits16 and are newly initialized: ['pooler.dense.bias', 'pooler.dense.weight']\n",
            "You should probably TRAIN this model on a down-stream task to be able to use it for predictions and inference.\n"
          ]
        },
        {
          "output_type": "execute_result",
          "data": {
            "text/plain": [
              "          score               label\n",
              "123         1.0            sleeping\n",
              "10574  0.916811  listening_to_music\n",
              "2699   0.909685            sleeping\n",
              "7491   0.909277  listening_to_music\n",
              "5417   0.907981        using_laptop\n",
              "8423   0.907289            sleeping\n",
              "7726   0.905439            sleeping\n",
              "2882   0.904375             hugging\n",
              "10916  0.904311             hugging\n",
              "8354   0.903506        using_laptop"
            ],
            "text/html": [
              "\n",
              "\n",
              "  <div id=\"df-f26dd74d-fe1b-48da-a1fd-c1d1360d69c8\">\n",
              "    <div class=\"colab-df-container\">\n",
              "      <div>\n",
              "<style scoped>\n",
              "    .dataframe tbody tr th:only-of-type {\n",
              "        vertical-align: middle;\n",
              "    }\n",
              "\n",
              "    .dataframe tbody tr th {\n",
              "        vertical-align: top;\n",
              "    }\n",
              "\n",
              "    .dataframe thead th {\n",
              "        text-align: right;\n",
              "    }\n",
              "</style>\n",
              "<table border=\"1\" class=\"dataframe\">\n",
              "  <thead>\n",
              "    <tr style=\"text-align: right;\">\n",
              "      <th></th>\n",
              "      <th>score</th>\n",
              "      <th>label</th>\n",
              "    </tr>\n",
              "  </thead>\n",
              "  <tbody>\n",
              "    <tr>\n",
              "      <th>123</th>\n",
              "      <td>1.0</td>\n",
              "      <td>sleeping</td>\n",
              "    </tr>\n",
              "    <tr>\n",
              "      <th>10574</th>\n",
              "      <td>0.916811</td>\n",
              "      <td>listening_to_music</td>\n",
              "    </tr>\n",
              "    <tr>\n",
              "      <th>2699</th>\n",
              "      <td>0.909685</td>\n",
              "      <td>sleeping</td>\n",
              "    </tr>\n",
              "    <tr>\n",
              "      <th>7491</th>\n",
              "      <td>0.909277</td>\n",
              "      <td>listening_to_music</td>\n",
              "    </tr>\n",
              "    <tr>\n",
              "      <th>5417</th>\n",
              "      <td>0.907981</td>\n",
              "      <td>using_laptop</td>\n",
              "    </tr>\n",
              "    <tr>\n",
              "      <th>8423</th>\n",
              "      <td>0.907289</td>\n",
              "      <td>sleeping</td>\n",
              "    </tr>\n",
              "    <tr>\n",
              "      <th>7726</th>\n",
              "      <td>0.905439</td>\n",
              "      <td>sleeping</td>\n",
              "    </tr>\n",
              "    <tr>\n",
              "      <th>2882</th>\n",
              "      <td>0.904375</td>\n",
              "      <td>hugging</td>\n",
              "    </tr>\n",
              "    <tr>\n",
              "      <th>10916</th>\n",
              "      <td>0.904311</td>\n",
              "      <td>hugging</td>\n",
              "    </tr>\n",
              "    <tr>\n",
              "      <th>8354</th>\n",
              "      <td>0.903506</td>\n",
              "      <td>using_laptop</td>\n",
              "    </tr>\n",
              "  </tbody>\n",
              "</table>\n",
              "</div>\n",
              "      <button class=\"colab-df-convert\" onclick=\"convertToInteractive('df-f26dd74d-fe1b-48da-a1fd-c1d1360d69c8')\"\n",
              "              title=\"Convert this dataframe to an interactive table.\"\n",
              "              style=\"display:none;\">\n",
              "\n",
              "  <svg xmlns=\"http://www.w3.org/2000/svg\" height=\"24px\"viewBox=\"0 0 24 24\"\n",
              "       width=\"24px\">\n",
              "    <path d=\"M0 0h24v24H0V0z\" fill=\"none\"/>\n",
              "    <path d=\"M18.56 5.44l.94 2.06.94-2.06 2.06-.94-2.06-.94-.94-2.06-.94 2.06-2.06.94zm-11 1L8.5 8.5l.94-2.06 2.06-.94-2.06-.94L8.5 2.5l-.94 2.06-2.06.94zm10 10l.94 2.06.94-2.06 2.06-.94-2.06-.94-.94-2.06-.94 2.06-2.06.94z\"/><path d=\"M17.41 7.96l-1.37-1.37c-.4-.4-.92-.59-1.43-.59-.52 0-1.04.2-1.43.59L10.3 9.45l-7.72 7.72c-.78.78-.78 2.05 0 2.83L4 21.41c.39.39.9.59 1.41.59.51 0 1.02-.2 1.41-.59l7.78-7.78 2.81-2.81c.8-.78.8-2.07 0-2.86zM5.41 20L4 18.59l7.72-7.72 1.47 1.35L5.41 20z\"/>\n",
              "  </svg>\n",
              "      </button>\n",
              "\n",
              "\n",
              "\n",
              "    <div id=\"df-be7150e2-16a3-4da1-bb76-4c4ab4b40167\">\n",
              "      <button class=\"colab-df-quickchart\" onclick=\"quickchart('df-be7150e2-16a3-4da1-bb76-4c4ab4b40167')\"\n",
              "              title=\"Suggest charts.\"\n",
              "              style=\"display:none;\">\n",
              "\n",
              "<svg xmlns=\"http://www.w3.org/2000/svg\" height=\"24px\"viewBox=\"0 0 24 24\"\n",
              "     width=\"24px\">\n",
              "    <g>\n",
              "        <path d=\"M19 3H5c-1.1 0-2 .9-2 2v14c0 1.1.9 2 2 2h14c1.1 0 2-.9 2-2V5c0-1.1-.9-2-2-2zM9 17H7v-7h2v7zm4 0h-2V7h2v10zm4 0h-2v-4h2v4z\"/>\n",
              "    </g>\n",
              "</svg>\n",
              "      </button>\n",
              "    </div>\n",
              "\n",
              "<style>\n",
              "  .colab-df-quickchart {\n",
              "    background-color: #E8F0FE;\n",
              "    border: none;\n",
              "    border-radius: 50%;\n",
              "    cursor: pointer;\n",
              "    display: none;\n",
              "    fill: #1967D2;\n",
              "    height: 32px;\n",
              "    padding: 0 0 0 0;\n",
              "    width: 32px;\n",
              "  }\n",
              "\n",
              "  .colab-df-quickchart:hover {\n",
              "    background-color: #E2EBFA;\n",
              "    box-shadow: 0px 1px 2px rgba(60, 64, 67, 0.3), 0px 1px 3px 1px rgba(60, 64, 67, 0.15);\n",
              "    fill: #174EA6;\n",
              "  }\n",
              "\n",
              "  [theme=dark] .colab-df-quickchart {\n",
              "    background-color: #3B4455;\n",
              "    fill: #D2E3FC;\n",
              "  }\n",
              "\n",
              "  [theme=dark] .colab-df-quickchart:hover {\n",
              "    background-color: #434B5C;\n",
              "    box-shadow: 0px 1px 3px 1px rgba(0, 0, 0, 0.15);\n",
              "    filter: drop-shadow(0px 1px 2px rgba(0, 0, 0, 0.3));\n",
              "    fill: #FFFFFF;\n",
              "  }\n",
              "</style>\n",
              "\n",
              "    <script>\n",
              "      async function quickchart(key) {\n",
              "        const containerElement = document.querySelector('#' + key);\n",
              "        const charts = await google.colab.kernel.invokeFunction(\n",
              "            'suggestCharts', [key], {});\n",
              "      }\n",
              "    </script>\n",
              "\n",
              "      <script>\n",
              "\n",
              "function displayQuickchartButton(domScope) {\n",
              "  let quickchartButtonEl =\n",
              "    domScope.querySelector('#df-be7150e2-16a3-4da1-bb76-4c4ab4b40167 button.colab-df-quickchart');\n",
              "  quickchartButtonEl.style.display =\n",
              "    google.colab.kernel.accessAllowed ? 'block' : 'none';\n",
              "}\n",
              "\n",
              "        displayQuickchartButton(document);\n",
              "      </script>\n",
              "      <style>\n",
              "    .colab-df-container {\n",
              "      display:flex;\n",
              "      flex-wrap:wrap;\n",
              "      gap: 12px;\n",
              "    }\n",
              "\n",
              "    .colab-df-convert {\n",
              "      background-color: #E8F0FE;\n",
              "      border: none;\n",
              "      border-radius: 50%;\n",
              "      cursor: pointer;\n",
              "      display: none;\n",
              "      fill: #1967D2;\n",
              "      height: 32px;\n",
              "      padding: 0 0 0 0;\n",
              "      width: 32px;\n",
              "    }\n",
              "\n",
              "    .colab-df-convert:hover {\n",
              "      background-color: #E2EBFA;\n",
              "      box-shadow: 0px 1px 2px rgba(60, 64, 67, 0.3), 0px 1px 3px 1px rgba(60, 64, 67, 0.15);\n",
              "      fill: #174EA6;\n",
              "    }\n",
              "\n",
              "    [theme=dark] .colab-df-convert {\n",
              "      background-color: #3B4455;\n",
              "      fill: #D2E3FC;\n",
              "    }\n",
              "\n",
              "    [theme=dark] .colab-df-convert:hover {\n",
              "      background-color: #434B5C;\n",
              "      box-shadow: 0px 1px 3px 1px rgba(0, 0, 0, 0.15);\n",
              "      filter: drop-shadow(0px 1px 2px rgba(0, 0, 0, 0.3));\n",
              "      fill: #FFFFFF;\n",
              "    }\n",
              "  </style>\n",
              "\n",
              "      <script>\n",
              "        const buttonEl =\n",
              "          document.querySelector('#df-f26dd74d-fe1b-48da-a1fd-c1d1360d69c8 button.colab-df-convert');\n",
              "        buttonEl.style.display =\n",
              "          google.colab.kernel.accessAllowed ? 'block' : 'none';\n",
              "\n",
              "        async function convertToInteractive(key) {\n",
              "          const element = document.querySelector('#df-f26dd74d-fe1b-48da-a1fd-c1d1360d69c8');\n",
              "          const dataTable =\n",
              "            await google.colab.kernel.invokeFunction('convertToInteractive',\n",
              "                                                     [key], {});\n",
              "          if (!dataTable) return;\n",
              "\n",
              "          const docLinkHtml = 'Like what you see? Visit the ' +\n",
              "            '<a target=\"_blank\" href=https://colab.research.google.com/notebooks/data_table.ipynb>data table notebook</a>'\n",
              "            + ' to learn more about interactive tables.';\n",
              "          element.innerHTML = '';\n",
              "          dataTable['output_type'] = 'display_data';\n",
              "          await google.colab.output.renderOutput(dataTable, element);\n",
              "          const docLink = document.createElement('div');\n",
              "          docLink.innerHTML = docLinkHtml;\n",
              "          element.appendChild(docLink);\n",
              "        }\n",
              "      </script>\n",
              "    </div>\n",
              "  </div>\n"
            ]
          },
          "metadata": {},
          "execution_count": 261
        }
      ],
      "source": [
        "label_dict = {0: 'calling',\n",
        " 1: 'clapping',\n",
        " 2: 'cycling',\n",
        " 3: 'dancing',\n",
        " 4: 'drinking',\n",
        " 5: 'eating',\n",
        " 6: 'fighting',\n",
        " 7: 'hugging',\n",
        " 8: 'laughing',\n",
        " 9: 'listening_to_music',\n",
        " 10: 'running',\n",
        " 11: 'sitting',\n",
        " 12: 'sleeping',\n",
        " 13: 'texting',\n",
        " 14: 'using_laptop'}\n",
        "def embed_image(image):\n",
        "  #image = dataset[123][\"image\"]\n",
        "  device = torch.device(\"cuda\" if torch.cuda.is_available() else \"cpu\")\n",
        "  processor = ViTImageProcessor.from_pretrained('facebook/dino-vits16')\n",
        "  model = ViTModel.from_pretrained('facebook/dino-vits16').to(device)\n",
        "  inputs = processor(images=image, return_tensors=\"pt\").to(device)\n",
        "  embedded_image = model(**inputs).last_hidden_state\n",
        "  return embedded_image\n",
        "\n",
        "def search_image(embedded_image):\n",
        "  results = client.search(\n",
        "    collection_name=my_collection,\n",
        "    query_vector=one_embedding.mean(dim=1)[0].tolist(),\n",
        "    limit=10)\n",
        "  result_dict = {}\n",
        "  for item in results:\n",
        "    score = item.score\n",
        "    label = item.payload['labels']\n",
        "    mapped_label = label_dict.get(label, label)  # Use the mapped label or original label if not found\n",
        "    result_dict[item.id] = {'score': score, 'label': mapped_label}\n",
        "  df = pd.DataFrame(result_dict).T\n",
        "\n",
        "  return df\n",
        "\n",
        "image = dataset_test[47]['image']\n",
        "label = dataset_test[47]['labels']\n",
        "print(f'label of this image is {label}')\n",
        "embedded_image = embed_image(image)\n",
        "results = search_image(embedded_image)\n",
        "results"
      ]
    }
  ],
  "metadata": {
    "colab": {
      "provenance": []
    },
    "kernelspec": {
      "display_name": "vdb_audio",
      "language": "python",
      "name": "python3"
    },
    "language_info": {
      "codemirror_mode": {
        "name": "ipython",
        "version": 3
      },
      "file_extension": ".py",
      "mimetype": "text/x-python",
      "name": "python",
      "nbconvert_exporter": "python",
      "pygments_lexer": "ipython3",
      "version": "3.10.11"
    },
    "widgets": {
      "application/vnd.jupyter.widget-state+json": {
        "6ec2b5777a8a4cf59f0d2076d3a29482": {
          "model_module": "@jupyter-widgets/controls",
          "model_name": "HBoxModel",
          "model_module_version": "1.5.0",
          "state": {
            "_dom_classes": [],
            "_model_module": "@jupyter-widgets/controls",
            "_model_module_version": "1.5.0",
            "_model_name": "HBoxModel",
            "_view_count": null,
            "_view_module": "@jupyter-widgets/controls",
            "_view_module_version": "1.5.0",
            "_view_name": "HBoxView",
            "box_style": "",
            "children": [
              "IPY_MODEL_1e8b1cf3e0a34fbeb638dc8f0f3e5480",
              "IPY_MODEL_619f8f9923b74ea1b75f111d7d7ec47a",
              "IPY_MODEL_28f6e9c066614b67abe94e9cf8f977af"
            ],
            "layout": "IPY_MODEL_aa81d5b6054a47b5a3154067dfff9d56"
          }
        },
        "1e8b1cf3e0a34fbeb638dc8f0f3e5480": {
          "model_module": "@jupyter-widgets/controls",
          "model_name": "HTMLModel",
          "model_module_version": "1.5.0",
          "state": {
            "_dom_classes": [],
            "_model_module": "@jupyter-widgets/controls",
            "_model_module_version": "1.5.0",
            "_model_name": "HTMLModel",
            "_view_count": null,
            "_view_module": "@jupyter-widgets/controls",
            "_view_module_version": "1.5.0",
            "_view_name": "HTMLView",
            "description": "",
            "description_tooltip": null,
            "layout": "IPY_MODEL_adf4b305c23a4919aed02acb82d26dd2",
            "placeholder": "​",
            "style": "IPY_MODEL_7ebf8a7b92994aa389585236ec4b2d8b",
            "value": "Map: 100%"
          }
        },
        "619f8f9923b74ea1b75f111d7d7ec47a": {
          "model_module": "@jupyter-widgets/controls",
          "model_name": "FloatProgressModel",
          "model_module_version": "1.5.0",
          "state": {
            "_dom_classes": [],
            "_model_module": "@jupyter-widgets/controls",
            "_model_module_version": "1.5.0",
            "_model_name": "FloatProgressModel",
            "_view_count": null,
            "_view_module": "@jupyter-widgets/controls",
            "_view_module_version": "1.5.0",
            "_view_name": "ProgressView",
            "bar_style": "success",
            "description": "",
            "description_tooltip": null,
            "layout": "IPY_MODEL_3b6067d466024a05aaa0ac3092c54dff",
            "max": 12600,
            "min": 0,
            "orientation": "horizontal",
            "style": "IPY_MODEL_812c1a856bbf4ae28fbbf7d64bfb97f1",
            "value": 12600
          }
        },
        "28f6e9c066614b67abe94e9cf8f977af": {
          "model_module": "@jupyter-widgets/controls",
          "model_name": "HTMLModel",
          "model_module_version": "1.5.0",
          "state": {
            "_dom_classes": [],
            "_model_module": "@jupyter-widgets/controls",
            "_model_module_version": "1.5.0",
            "_model_name": "HTMLModel",
            "_view_count": null,
            "_view_module": "@jupyter-widgets/controls",
            "_view_module_version": "1.5.0",
            "_view_name": "HTMLView",
            "description": "",
            "description_tooltip": null,
            "layout": "IPY_MODEL_24e68a6e2c504c45867357d4807e40eb",
            "placeholder": "​",
            "style": "IPY_MODEL_81fc337915ef48b8a04c8cc7c3763684",
            "value": " 12600/12600 [30:36&lt;00:00,  6.97 examples/s]"
          }
        },
        "aa81d5b6054a47b5a3154067dfff9d56": {
          "model_module": "@jupyter-widgets/base",
          "model_name": "LayoutModel",
          "model_module_version": "1.2.0",
          "state": {
            "_model_module": "@jupyter-widgets/base",
            "_model_module_version": "1.2.0",
            "_model_name": "LayoutModel",
            "_view_count": null,
            "_view_module": "@jupyter-widgets/base",
            "_view_module_version": "1.2.0",
            "_view_name": "LayoutView",
            "align_content": null,
            "align_items": null,
            "align_self": null,
            "border": null,
            "bottom": null,
            "display": null,
            "flex": null,
            "flex_flow": null,
            "grid_area": null,
            "grid_auto_columns": null,
            "grid_auto_flow": null,
            "grid_auto_rows": null,
            "grid_column": null,
            "grid_gap": null,
            "grid_row": null,
            "grid_template_areas": null,
            "grid_template_columns": null,
            "grid_template_rows": null,
            "height": null,
            "justify_content": null,
            "justify_items": null,
            "left": null,
            "margin": null,
            "max_height": null,
            "max_width": null,
            "min_height": null,
            "min_width": null,
            "object_fit": null,
            "object_position": null,
            "order": null,
            "overflow": null,
            "overflow_x": null,
            "overflow_y": null,
            "padding": null,
            "right": null,
            "top": null,
            "visibility": null,
            "width": null
          }
        },
        "adf4b305c23a4919aed02acb82d26dd2": {
          "model_module": "@jupyter-widgets/base",
          "model_name": "LayoutModel",
          "model_module_version": "1.2.0",
          "state": {
            "_model_module": "@jupyter-widgets/base",
            "_model_module_version": "1.2.0",
            "_model_name": "LayoutModel",
            "_view_count": null,
            "_view_module": "@jupyter-widgets/base",
            "_view_module_version": "1.2.0",
            "_view_name": "LayoutView",
            "align_content": null,
            "align_items": null,
            "align_self": null,
            "border": null,
            "bottom": null,
            "display": null,
            "flex": null,
            "flex_flow": null,
            "grid_area": null,
            "grid_auto_columns": null,
            "grid_auto_flow": null,
            "grid_auto_rows": null,
            "grid_column": null,
            "grid_gap": null,
            "grid_row": null,
            "grid_template_areas": null,
            "grid_template_columns": null,
            "grid_template_rows": null,
            "height": null,
            "justify_content": null,
            "justify_items": null,
            "left": null,
            "margin": null,
            "max_height": null,
            "max_width": null,
            "min_height": null,
            "min_width": null,
            "object_fit": null,
            "object_position": null,
            "order": null,
            "overflow": null,
            "overflow_x": null,
            "overflow_y": null,
            "padding": null,
            "right": null,
            "top": null,
            "visibility": null,
            "width": null
          }
        },
        "7ebf8a7b92994aa389585236ec4b2d8b": {
          "model_module": "@jupyter-widgets/controls",
          "model_name": "DescriptionStyleModel",
          "model_module_version": "1.5.0",
          "state": {
            "_model_module": "@jupyter-widgets/controls",
            "_model_module_version": "1.5.0",
            "_model_name": "DescriptionStyleModel",
            "_view_count": null,
            "_view_module": "@jupyter-widgets/base",
            "_view_module_version": "1.2.0",
            "_view_name": "StyleView",
            "description_width": ""
          }
        },
        "3b6067d466024a05aaa0ac3092c54dff": {
          "model_module": "@jupyter-widgets/base",
          "model_name": "LayoutModel",
          "model_module_version": "1.2.0",
          "state": {
            "_model_module": "@jupyter-widgets/base",
            "_model_module_version": "1.2.0",
            "_model_name": "LayoutModel",
            "_view_count": null,
            "_view_module": "@jupyter-widgets/base",
            "_view_module_version": "1.2.0",
            "_view_name": "LayoutView",
            "align_content": null,
            "align_items": null,
            "align_self": null,
            "border": null,
            "bottom": null,
            "display": null,
            "flex": null,
            "flex_flow": null,
            "grid_area": null,
            "grid_auto_columns": null,
            "grid_auto_flow": null,
            "grid_auto_rows": null,
            "grid_column": null,
            "grid_gap": null,
            "grid_row": null,
            "grid_template_areas": null,
            "grid_template_columns": null,
            "grid_template_rows": null,
            "height": null,
            "justify_content": null,
            "justify_items": null,
            "left": null,
            "margin": null,
            "max_height": null,
            "max_width": null,
            "min_height": null,
            "min_width": null,
            "object_fit": null,
            "object_position": null,
            "order": null,
            "overflow": null,
            "overflow_x": null,
            "overflow_y": null,
            "padding": null,
            "right": null,
            "top": null,
            "visibility": null,
            "width": null
          }
        },
        "812c1a856bbf4ae28fbbf7d64bfb97f1": {
          "model_module": "@jupyter-widgets/controls",
          "model_name": "ProgressStyleModel",
          "model_module_version": "1.5.0",
          "state": {
            "_model_module": "@jupyter-widgets/controls",
            "_model_module_version": "1.5.0",
            "_model_name": "ProgressStyleModel",
            "_view_count": null,
            "_view_module": "@jupyter-widgets/base",
            "_view_module_version": "1.2.0",
            "_view_name": "StyleView",
            "bar_color": null,
            "description_width": ""
          }
        },
        "24e68a6e2c504c45867357d4807e40eb": {
          "model_module": "@jupyter-widgets/base",
          "model_name": "LayoutModel",
          "model_module_version": "1.2.0",
          "state": {
            "_model_module": "@jupyter-widgets/base",
            "_model_module_version": "1.2.0",
            "_model_name": "LayoutModel",
            "_view_count": null,
            "_view_module": "@jupyter-widgets/base",
            "_view_module_version": "1.2.0",
            "_view_name": "LayoutView",
            "align_content": null,
            "align_items": null,
            "align_self": null,
            "border": null,
            "bottom": null,
            "display": null,
            "flex": null,
            "flex_flow": null,
            "grid_area": null,
            "grid_auto_columns": null,
            "grid_auto_flow": null,
            "grid_auto_rows": null,
            "grid_column": null,
            "grid_gap": null,
            "grid_row": null,
            "grid_template_areas": null,
            "grid_template_columns": null,
            "grid_template_rows": null,
            "height": null,
            "justify_content": null,
            "justify_items": null,
            "left": null,
            "margin": null,
            "max_height": null,
            "max_width": null,
            "min_height": null,
            "min_width": null,
            "object_fit": null,
            "object_position": null,
            "order": null,
            "overflow": null,
            "overflow_x": null,
            "overflow_y": null,
            "padding": null,
            "right": null,
            "top": null,
            "visibility": null,
            "width": null
          }
        },
        "81fc337915ef48b8a04c8cc7c3763684": {
          "model_module": "@jupyter-widgets/controls",
          "model_name": "DescriptionStyleModel",
          "model_module_version": "1.5.0",
          "state": {
            "_model_module": "@jupyter-widgets/controls",
            "_model_module_version": "1.5.0",
            "_model_name": "DescriptionStyleModel",
            "_view_count": null,
            "_view_module": "@jupyter-widgets/base",
            "_view_module_version": "1.2.0",
            "_view_name": "StyleView",
            "description_width": ""
          }
        }
      }
    }
  },
  "nbformat": 4,
  "nbformat_minor": 0
}
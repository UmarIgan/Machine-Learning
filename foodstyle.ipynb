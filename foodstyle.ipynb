{
 "cells": [
  {
   "cell_type": "code",
   "execution_count": 6,
   "id": "62de7e37",
   "metadata": {},
   "outputs": [],
   "source": [
    "import pandas as pd\n",
    "import numpy as np\n",
    "import geopandas as gpd\n",
    "pd.set_option('display.max_columns', None)"
   ]
  },
  {
   "cell_type": "code",
   "execution_count": 45,
   "id": "4495680b",
   "metadata": {},
   "outputs": [
    {
     "name": "stderr",
     "output_type": "stream",
     "text": [
      "/var/folders/vw/rpcvp4qn2m53bgw4c2xkmmr40000gn/T/ipykernel_23129/3333871273.py:1: DtypeWarning: Columns (4) have mixed types. Specify dtype option on import or set low_memory=False.\n",
      "  dataset = pd.read_csv(\"/Users/ferhatbolukbas/Desktop/foodstyle/dataset.csv\")\n"
     ]
    }
   ],
   "source": [
    "dataset = pd.read_csv(\"/Users/ferhatbolukbas/Desktop/foodstyle/dataset.csv\")\n",
    "capitals = pd.read_csv(\"/Users/ferhatbolukbas/Desktop/foodstyle/europe_capitals_population_and_area.csv\")\n",
    "paris_bounds = pd.read_json(\"/Users/ferhatbolukbas/Desktop/foodstyle/paris_bounding_polygon.json\")"
   ]
  },
  {
   "cell_type": "markdown",
   "id": "d9bc0f4c",
   "metadata": {},
   "source": [
    "### Data cleaning"
   ]
  },
  {
   "cell_type": "code",
   "execution_count": 8,
   "id": "0e3c768b",
   "metadata": {},
   "outputs": [
    {
     "data": {
      "text/html": [
       "<div>\n",
       "<style scoped>\n",
       "    .dataframe tbody tr th:only-of-type {\n",
       "        vertical-align: middle;\n",
       "    }\n",
       "\n",
       "    .dataframe tbody tr th {\n",
       "        vertical-align: top;\n",
       "    }\n",
       "\n",
       "    .dataframe thead th {\n",
       "        text-align: right;\n",
       "    }\n",
       "</style>\n",
       "<table border=\"1\" class=\"dataframe\">\n",
       "  <thead>\n",
       "    <tr style=\"text-align: right;\">\n",
       "      <th></th>\n",
       "      <th>restaurant_link</th>\n",
       "      <th>restaurant_name</th>\n",
       "      <th>original_location</th>\n",
       "      <th>country</th>\n",
       "      <th>region</th>\n",
       "      <th>province</th>\n",
       "      <th>city</th>\n",
       "      <th>address</th>\n",
       "      <th>latitude</th>\n",
       "      <th>longitude</th>\n",
       "      <th>claimed</th>\n",
       "      <th>awards</th>\n",
       "      <th>popularity_detailed</th>\n",
       "      <th>popularity_generic</th>\n",
       "      <th>top_tags</th>\n",
       "      <th>price_level</th>\n",
       "      <th>price_range</th>\n",
       "      <th>meals</th>\n",
       "      <th>cuisines</th>\n",
       "      <th>special_diets</th>\n",
       "      <th>features</th>\n",
       "      <th>vegetarian_friendly</th>\n",
       "      <th>vegan_options</th>\n",
       "      <th>gluten_free</th>\n",
       "      <th>original_open_hours</th>\n",
       "      <th>open_days_per_week</th>\n",
       "      <th>open_hours_per_week</th>\n",
       "      <th>working_shifts_per_week</th>\n",
       "      <th>avg_rating</th>\n",
       "      <th>total_reviews_count</th>\n",
       "      <th>default_language</th>\n",
       "      <th>reviews_count_in_default_language</th>\n",
       "      <th>excellent</th>\n",
       "      <th>very_good</th>\n",
       "      <th>average</th>\n",
       "      <th>poor</th>\n",
       "      <th>terrible</th>\n",
       "      <th>food</th>\n",
       "      <th>service</th>\n",
       "      <th>value</th>\n",
       "      <th>atmosphere</th>\n",
       "      <th>keywords</th>\n",
       "    </tr>\n",
       "  </thead>\n",
       "  <tbody>\n",
       "    <tr>\n",
       "      <th>0</th>\n",
       "      <td>g10001637-d10002227</td>\n",
       "      <td>Le 147</td>\n",
       "      <td>[\"Europe\", \"France\", \"Nouvelle-Aquitaine\", \"Ha...</td>\n",
       "      <td>France</td>\n",
       "      <td>Nouvelle-Aquitaine</td>\n",
       "      <td>Haute-Vienne</td>\n",
       "      <td>Saint-Jouvent</td>\n",
       "      <td>10 Maison Neuve, 87510 Saint-Jouvent France</td>\n",
       "      <td>45.961674</td>\n",
       "      <td>1.169131</td>\n",
       "      <td>Claimed</td>\n",
       "      <td>NaN</td>\n",
       "      <td>#1 of 2 Restaurants in Saint-Jouvent</td>\n",
       "      <td>#1 of 2 places to eat in Saint-Jouvent</td>\n",
       "      <td>Cheap Eats, French</td>\n",
       "      <td>€</td>\n",
       "      <td>NaN</td>\n",
       "      <td>Lunch, Dinner</td>\n",
       "      <td>French</td>\n",
       "      <td>NaN</td>\n",
       "      <td>Reservations, Seating, Wheelchair Accessible, ...</td>\n",
       "      <td>N</td>\n",
       "      <td>N</td>\n",
       "      <td>N</td>\n",
       "      <td>NaN</td>\n",
       "      <td>NaN</td>\n",
       "      <td>NaN</td>\n",
       "      <td>NaN</td>\n",
       "      <td>4.0</td>\n",
       "      <td>36.0</td>\n",
       "      <td>English</td>\n",
       "      <td>2.0</td>\n",
       "      <td>2.0</td>\n",
       "      <td>0.0</td>\n",
       "      <td>0.0</td>\n",
       "      <td>0.0</td>\n",
       "      <td>0.0</td>\n",
       "      <td>4.0</td>\n",
       "      <td>4.5</td>\n",
       "      <td>4.0</td>\n",
       "      <td>NaN</td>\n",
       "      <td>NaN</td>\n",
       "    </tr>\n",
       "    <tr>\n",
       "      <th>1</th>\n",
       "      <td>g10001637-d14975787</td>\n",
       "      <td>Le Saint Jouvent</td>\n",
       "      <td>[\"Europe\", \"France\", \"Nouvelle-Aquitaine\", \"Ha...</td>\n",
       "      <td>France</td>\n",
       "      <td>Nouvelle-Aquitaine</td>\n",
       "      <td>Haute-Vienne</td>\n",
       "      <td>Saint-Jouvent</td>\n",
       "      <td>16 Place de l Eglise, 87510 Saint-Jouvent France</td>\n",
       "      <td>45.957040</td>\n",
       "      <td>1.205480</td>\n",
       "      <td>Unclaimed</td>\n",
       "      <td>NaN</td>\n",
       "      <td>#2 of 2 Restaurants in Saint-Jouvent</td>\n",
       "      <td>#2 of 2 places to eat in Saint-Jouvent</td>\n",
       "      <td>Cheap Eats</td>\n",
       "      <td>€</td>\n",
       "      <td>NaN</td>\n",
       "      <td>NaN</td>\n",
       "      <td>NaN</td>\n",
       "      <td>NaN</td>\n",
       "      <td>NaN</td>\n",
       "      <td>N</td>\n",
       "      <td>N</td>\n",
       "      <td>N</td>\n",
       "      <td>NaN</td>\n",
       "      <td>NaN</td>\n",
       "      <td>NaN</td>\n",
       "      <td>NaN</td>\n",
       "      <td>4.0</td>\n",
       "      <td>5.0</td>\n",
       "      <td>All languages</td>\n",
       "      <td>5.0</td>\n",
       "      <td>2.0</td>\n",
       "      <td>2.0</td>\n",
       "      <td>1.0</td>\n",
       "      <td>0.0</td>\n",
       "      <td>0.0</td>\n",
       "      <td>NaN</td>\n",
       "      <td>NaN</td>\n",
       "      <td>NaN</td>\n",
       "      <td>NaN</td>\n",
       "      <td>NaN</td>\n",
       "    </tr>\n",
       "    <tr>\n",
       "      <th>2</th>\n",
       "      <td>g10002858-d4586832</td>\n",
       "      <td>Au Bout du Pont</td>\n",
       "      <td>[\"Europe\", \"France\", \"Centre-Val de Loire\", \"B...</td>\n",
       "      <td>France</td>\n",
       "      <td>Centre-Val de Loire</td>\n",
       "      <td>Berry</td>\n",
       "      <td>Rivarennes</td>\n",
       "      <td>2 rue des Dames, 36800 Rivarennes France</td>\n",
       "      <td>46.635895</td>\n",
       "      <td>1.386133</td>\n",
       "      <td>Claimed</td>\n",
       "      <td>NaN</td>\n",
       "      <td>#1 of 1 Restaurant in Rivarennes</td>\n",
       "      <td>#1 of 1 places to eat in Rivarennes</td>\n",
       "      <td>Cheap Eats, French, European</td>\n",
       "      <td>€</td>\n",
       "      <td>NaN</td>\n",
       "      <td>Dinner, Lunch, Drinks</td>\n",
       "      <td>French, European</td>\n",
       "      <td>NaN</td>\n",
       "      <td>Reservations, Seating, Table Service, Wheelcha...</td>\n",
       "      <td>N</td>\n",
       "      <td>N</td>\n",
       "      <td>N</td>\n",
       "      <td>NaN</td>\n",
       "      <td>NaN</td>\n",
       "      <td>NaN</td>\n",
       "      <td>NaN</td>\n",
       "      <td>5.0</td>\n",
       "      <td>13.0</td>\n",
       "      <td>English</td>\n",
       "      <td>4.0</td>\n",
       "      <td>3.0</td>\n",
       "      <td>1.0</td>\n",
       "      <td>0.0</td>\n",
       "      <td>0.0</td>\n",
       "      <td>0.0</td>\n",
       "      <td>NaN</td>\n",
       "      <td>NaN</td>\n",
       "      <td>NaN</td>\n",
       "      <td>NaN</td>\n",
       "      <td>NaN</td>\n",
       "    </tr>\n",
       "    <tr>\n",
       "      <th>3</th>\n",
       "      <td>g10002986-d3510044</td>\n",
       "      <td>Le Relais de Naiade</td>\n",
       "      <td>[\"Europe\", \"France\", \"Nouvelle-Aquitaine\", \"Co...</td>\n",
       "      <td>France</td>\n",
       "      <td>Nouvelle-Aquitaine</td>\n",
       "      <td>Correze</td>\n",
       "      <td>Lacelle</td>\n",
       "      <td>9 avenue Porte de la Correze 19170, 19170 Lace...</td>\n",
       "      <td>45.642610</td>\n",
       "      <td>1.824460</td>\n",
       "      <td>Claimed</td>\n",
       "      <td>NaN</td>\n",
       "      <td>#1 of 1 Restaurant in Lacelle</td>\n",
       "      <td>#1 of 1 places to eat in Lacelle</td>\n",
       "      <td>Cheap Eats, French</td>\n",
       "      <td>€</td>\n",
       "      <td>NaN</td>\n",
       "      <td>Lunch, Dinner</td>\n",
       "      <td>French</td>\n",
       "      <td>NaN</td>\n",
       "      <td>Reservations, Seating, Serves Alcohol, Table S...</td>\n",
       "      <td>N</td>\n",
       "      <td>N</td>\n",
       "      <td>N</td>\n",
       "      <td>NaN</td>\n",
       "      <td>NaN</td>\n",
       "      <td>NaN</td>\n",
       "      <td>NaN</td>\n",
       "      <td>4.0</td>\n",
       "      <td>34.0</td>\n",
       "      <td>English</td>\n",
       "      <td>1.0</td>\n",
       "      <td>1.0</td>\n",
       "      <td>0.0</td>\n",
       "      <td>0.0</td>\n",
       "      <td>0.0</td>\n",
       "      <td>0.0</td>\n",
       "      <td>4.5</td>\n",
       "      <td>4.5</td>\n",
       "      <td>4.5</td>\n",
       "      <td>NaN</td>\n",
       "      <td>NaN</td>\n",
       "    </tr>\n",
       "    <tr>\n",
       "      <th>4</th>\n",
       "      <td>g10022428-d9767191</td>\n",
       "      <td>Relais Du MontSeigne</td>\n",
       "      <td>[\"Europe\", \"France\", \"Occitanie\", \"Aveyron\", \"...</td>\n",
       "      <td>France</td>\n",
       "      <td>Occitanie</td>\n",
       "      <td>Aveyron</td>\n",
       "      <td>Saint-Laurent-de-Levezou</td>\n",
       "      <td>route du Montseigne, 12620 Saint-Laurent-de-Le...</td>\n",
       "      <td>44.208860</td>\n",
       "      <td>2.960470</td>\n",
       "      <td>Unclaimed</td>\n",
       "      <td>NaN</td>\n",
       "      <td>#1 of 1 Restaurant in Saint-Laurent-de-Levezou</td>\n",
       "      <td>#1 of 1 places to eat in Saint-Laurent-de-Levezou</td>\n",
       "      <td>Mid-range, French</td>\n",
       "      <td>€€-€€€</td>\n",
       "      <td>NaN</td>\n",
       "      <td>Lunch, Dinner</td>\n",
       "      <td>French</td>\n",
       "      <td>NaN</td>\n",
       "      <td>Reservations, Seating, Wheelchair Accessible, ...</td>\n",
       "      <td>N</td>\n",
       "      <td>N</td>\n",
       "      <td>N</td>\n",
       "      <td>NaN</td>\n",
       "      <td>NaN</td>\n",
       "      <td>NaN</td>\n",
       "      <td>NaN</td>\n",
       "      <td>4.5</td>\n",
       "      <td>11.0</td>\n",
       "      <td>All languages</td>\n",
       "      <td>11.0</td>\n",
       "      <td>4.0</td>\n",
       "      <td>7.0</td>\n",
       "      <td>0.0</td>\n",
       "      <td>0.0</td>\n",
       "      <td>0.0</td>\n",
       "      <td>4.5</td>\n",
       "      <td>4.5</td>\n",
       "      <td>4.5</td>\n",
       "      <td>NaN</td>\n",
       "      <td>NaN</td>\n",
       "    </tr>\n",
       "  </tbody>\n",
       "</table>\n",
       "</div>"
      ],
      "text/plain": [
       "       restaurant_link       restaurant_name  \\\n",
       "0  g10001637-d10002227                Le 147   \n",
       "1  g10001637-d14975787      Le Saint Jouvent   \n",
       "2   g10002858-d4586832       Au Bout du Pont   \n",
       "3   g10002986-d3510044   Le Relais de Naiade   \n",
       "4   g10022428-d9767191  Relais Du MontSeigne   \n",
       "\n",
       "                                   original_location country  \\\n",
       "0  [\"Europe\", \"France\", \"Nouvelle-Aquitaine\", \"Ha...  France   \n",
       "1  [\"Europe\", \"France\", \"Nouvelle-Aquitaine\", \"Ha...  France   \n",
       "2  [\"Europe\", \"France\", \"Centre-Val de Loire\", \"B...  France   \n",
       "3  [\"Europe\", \"France\", \"Nouvelle-Aquitaine\", \"Co...  France   \n",
       "4  [\"Europe\", \"France\", \"Occitanie\", \"Aveyron\", \"...  France   \n",
       "\n",
       "                region      province                      city  \\\n",
       "0   Nouvelle-Aquitaine  Haute-Vienne             Saint-Jouvent   \n",
       "1   Nouvelle-Aquitaine  Haute-Vienne             Saint-Jouvent   \n",
       "2  Centre-Val de Loire         Berry                Rivarennes   \n",
       "3   Nouvelle-Aquitaine       Correze                   Lacelle   \n",
       "4            Occitanie       Aveyron  Saint-Laurent-de-Levezou   \n",
       "\n",
       "                                             address   latitude  longitude  \\\n",
       "0        10 Maison Neuve, 87510 Saint-Jouvent France  45.961674   1.169131   \n",
       "1   16 Place de l Eglise, 87510 Saint-Jouvent France  45.957040   1.205480   \n",
       "2           2 rue des Dames, 36800 Rivarennes France  46.635895   1.386133   \n",
       "3  9 avenue Porte de la Correze 19170, 19170 Lace...  45.642610   1.824460   \n",
       "4  route du Montseigne, 12620 Saint-Laurent-de-Le...  44.208860   2.960470   \n",
       "\n",
       "     claimed awards                             popularity_detailed  \\\n",
       "0    Claimed    NaN            #1 of 2 Restaurants in Saint-Jouvent   \n",
       "1  Unclaimed    NaN            #2 of 2 Restaurants in Saint-Jouvent   \n",
       "2    Claimed    NaN                #1 of 1 Restaurant in Rivarennes   \n",
       "3    Claimed    NaN                   #1 of 1 Restaurant in Lacelle   \n",
       "4  Unclaimed    NaN  #1 of 1 Restaurant in Saint-Laurent-de-Levezou   \n",
       "\n",
       "                                  popularity_generic  \\\n",
       "0             #1 of 2 places to eat in Saint-Jouvent   \n",
       "1             #2 of 2 places to eat in Saint-Jouvent   \n",
       "2                #1 of 1 places to eat in Rivarennes   \n",
       "3                   #1 of 1 places to eat in Lacelle   \n",
       "4  #1 of 1 places to eat in Saint-Laurent-de-Levezou   \n",
       "\n",
       "                       top_tags price_level price_range  \\\n",
       "0            Cheap Eats, French           €         NaN   \n",
       "1                    Cheap Eats           €         NaN   \n",
       "2  Cheap Eats, French, European           €         NaN   \n",
       "3            Cheap Eats, French           €         NaN   \n",
       "4             Mid-range, French      €€-€€€         NaN   \n",
       "\n",
       "                   meals          cuisines special_diets  \\\n",
       "0          Lunch, Dinner            French           NaN   \n",
       "1                    NaN               NaN           NaN   \n",
       "2  Dinner, Lunch, Drinks  French, European           NaN   \n",
       "3          Lunch, Dinner            French           NaN   \n",
       "4          Lunch, Dinner            French           NaN   \n",
       "\n",
       "                                            features vegetarian_friendly  \\\n",
       "0  Reservations, Seating, Wheelchair Accessible, ...                   N   \n",
       "1                                                NaN                   N   \n",
       "2  Reservations, Seating, Table Service, Wheelcha...                   N   \n",
       "3  Reservations, Seating, Serves Alcohol, Table S...                   N   \n",
       "4  Reservations, Seating, Wheelchair Accessible, ...                   N   \n",
       "\n",
       "  vegan_options gluten_free original_open_hours  open_days_per_week  \\\n",
       "0             N           N                 NaN                 NaN   \n",
       "1             N           N                 NaN                 NaN   \n",
       "2             N           N                 NaN                 NaN   \n",
       "3             N           N                 NaN                 NaN   \n",
       "4             N           N                 NaN                 NaN   \n",
       "\n",
       "   open_hours_per_week  working_shifts_per_week  avg_rating  \\\n",
       "0                  NaN                      NaN         4.0   \n",
       "1                  NaN                      NaN         4.0   \n",
       "2                  NaN                      NaN         5.0   \n",
       "3                  NaN                      NaN         4.0   \n",
       "4                  NaN                      NaN         4.5   \n",
       "\n",
       "   total_reviews_count default_language  reviews_count_in_default_language  \\\n",
       "0                 36.0          English                                2.0   \n",
       "1                  5.0    All languages                                5.0   \n",
       "2                 13.0          English                                4.0   \n",
       "3                 34.0          English                                1.0   \n",
       "4                 11.0    All languages                               11.0   \n",
       "\n",
       "   excellent  very_good  average  poor  terrible  food  service  value  \\\n",
       "0        2.0        0.0      0.0   0.0       0.0   4.0      4.5    4.0   \n",
       "1        2.0        2.0      1.0   0.0       0.0   NaN      NaN    NaN   \n",
       "2        3.0        1.0      0.0   0.0       0.0   NaN      NaN    NaN   \n",
       "3        1.0        0.0      0.0   0.0       0.0   4.5      4.5    4.5   \n",
       "4        4.0        7.0      0.0   0.0       0.0   4.5      4.5    4.5   \n",
       "\n",
       "   atmosphere keywords  \n",
       "0         NaN      NaN  \n",
       "1         NaN      NaN  \n",
       "2         NaN      NaN  \n",
       "3         NaN      NaN  \n",
       "4         NaN      NaN  "
      ]
     },
     "execution_count": 8,
     "metadata": {},
     "output_type": "execute_result"
    }
   ],
   "source": [
    "dataset.head()"
   ]
  },
  {
   "cell_type": "code",
   "execution_count": 12,
   "id": "71767f9c",
   "metadata": {},
   "outputs": [
    {
     "data": {
      "text/plain": [
       "{'region': array([<class 'str'>, <class 'float'>], dtype=object),\n",
       " 'province': array([<class 'str'>, <class 'float'>], dtype=object),\n",
       " 'city': array([<class 'str'>, <class 'float'>], dtype=object),\n",
       " 'claimed': array([<class 'str'>, <class 'float'>], dtype=object),\n",
       " 'awards': array([<class 'float'>, <class 'str'>], dtype=object),\n",
       " 'popularity_detailed': array([<class 'str'>, <class 'float'>], dtype=object),\n",
       " 'popularity_generic': array([<class 'str'>, <class 'float'>], dtype=object),\n",
       " 'top_tags': array([<class 'str'>, <class 'float'>], dtype=object),\n",
       " 'price_level': array([<class 'str'>, <class 'float'>], dtype=object),\n",
       " 'price_range': array([<class 'float'>, <class 'str'>], dtype=object),\n",
       " 'meals': array([<class 'str'>, <class 'float'>], dtype=object),\n",
       " 'cuisines': array([<class 'str'>, <class 'float'>], dtype=object),\n",
       " 'special_diets': array([<class 'float'>, <class 'str'>], dtype=object),\n",
       " 'features': array([<class 'str'>, <class 'float'>], dtype=object),\n",
       " 'original_open_hours': array([<class 'float'>, <class 'str'>], dtype=object),\n",
       " 'default_language': array([<class 'str'>, <class 'float'>], dtype=object),\n",
       " 'keywords': array([<class 'float'>, <class 'str'>], dtype=object)}"
      ]
     },
     "execution_count": 12,
     "metadata": {},
     "output_type": "execute_result"
    }
   ],
   "source": [
    "# Identify the columns with mixed data types:\n",
    "\n",
    "columns_data_types = {}\n",
    "\n",
    "# Iterate through each column in the dataframe\n",
    "for column in dataset.columns:\n",
    "    # Get the unique data types for the column\n",
    "    unique_data_types = dataset[column].apply(lambda x: type(x)).unique()\n",
    "    # If there are more than one unique data types, add the column name and its data types to the dictionary\n",
    "    if len(unique_data_types) > 1:\n",
    "        columns_data_types[column] = unique_data_types\n",
    "columns_data_types"
   ]
  },
  {
   "cell_type": "code",
   "execution_count": 14,
   "id": "42ec6468",
   "metadata": {},
   "outputs": [
    {
     "name": "stdout",
     "output_type": "stream",
     "text": [
      "Column: region\n",
      "<class 'str'>: 1033074\n",
      "<class 'float'>: 50323\n",
      "Column: province\n",
      "<class 'str'>: 742765\n",
      "<class 'float'>: 340632\n",
      "Column: city\n",
      "<class 'str'>: 682712\n",
      "<class 'float'>: 400685\n",
      "Column: claimed\n",
      "<class 'str'>: 1081555\n",
      "<class 'float'>: 1842\n",
      "Column: awards\n",
      "<class 'float'>: 820264\n",
      "<class 'str'>: 263133\n",
      "Column: popularity_detailed\n",
      "<class 'str'>: 988409\n",
      "<class 'float'>: 94988\n",
      "Column: popularity_generic\n",
      "<class 'str'>: 985605\n",
      "<class 'float'>: 97792\n",
      "Column: top_tags\n",
      "<class 'str'>: 972763\n",
      "<class 'float'>: 110634\n",
      "Column: price_level\n",
      "<class 'str'>: 806192\n",
      "<class 'float'>: 277205\n",
      "Column: price_range\n",
      "<class 'float'>: 779070\n",
      "<class 'str'>: 304327\n",
      "Column: meals\n",
      "<class 'str'>: 635347\n",
      "<class 'float'>: 448050\n",
      "Column: cuisines\n",
      "<class 'str'>: 914294\n",
      "<class 'float'>: 169103\n",
      "Column: special_diets\n",
      "<class 'float'>: 743141\n",
      "<class 'str'>: 340256\n",
      "Column: features\n",
      "<class 'str'>: 317407\n",
      "<class 'float'>: 765990\n",
      "Column: original_open_hours\n",
      "<class 'float'>: 489565\n",
      "<class 'str'>: 593832\n",
      "Column: default_language\n",
      "<class 'str'>: 988204\n",
      "<class 'float'>: 95193\n",
      "Column: keywords\n",
      "<class 'float'>: 984199\n",
      "<class 'str'>: 99198\n"
     ]
    }
   ],
   "source": [
    "# For each column, count the number of rows per data type:\n",
    "for column, data_types in columns_data_types.items():\n",
    "    print(f'Column: {column}')\n",
    "    for data_type in data_types:\n",
    "        count = dataset[column].apply(lambda x: type(x) == data_type).sum()\n",
    "        print(f'{data_type}: {count}')"
   ]
  },
  {
   "cell_type": "markdown",
   "id": "2ffd40c3",
   "metadata": {},
   "source": [
    "Would removing missing values solve the mixed data type problem?\n",
    "\n",
    "\n",
    "Removing missing values will not necessarily solve the mixed data type problem.\n",
    "The issue is that the data in the column is not consistent and has multiple types.\n",
    "Removing missing values will only change the number of rows per data type but \n",
    "the issue of inconsistent data types will still persist. \n",
    "A better approach would be to either convert the data to a \n",
    "consistent type or exclude the column from analysis."
   ]
  },
  {
   "cell_type": "code",
   "execution_count": null,
   "id": "61ccd8ca",
   "metadata": {},
   "outputs": [],
   "source": [
    "### Data understanding"
   ]
  },
  {
   "cell_type": "code",
   "execution_count": 15,
   "id": "d27dec60",
   "metadata": {},
   "outputs": [
    {
     "name": "stdout",
     "output_type": "stream",
     "text": [
      "                                   excellent  very_good   average      poor  \\\n",
      "excellent                           1.000000   0.842964  0.733120  0.632904   \n",
      "very_good                           0.842964   1.000000  0.928148  0.825488   \n",
      "average                             0.733120   0.928148  1.000000  0.934195   \n",
      "poor                                0.632904   0.825488  0.934195  1.000000   \n",
      "terrible                            0.497784   0.672637  0.791354  0.878500   \n",
      "total_reviews_count                 0.716426   0.710900  0.634119  0.539704   \n",
      "reviews_count_in_default_language   0.959361   0.947613  0.887308  0.805920   \n",
      "food                                0.128760   0.016350 -0.060098 -0.103778   \n",
      "service                             0.134771   0.020838 -0.051280 -0.093287   \n",
      "value                               0.099463  -0.010068 -0.083435 -0.125787   \n",
      "atmosphere                          0.167081   0.067123 -0.014837 -0.057878   \n",
      "avg_rating                          0.093861   0.011779 -0.043494 -0.076040   \n",
      "\n",
      "                                   terrible  total_reviews_count  \\\n",
      "excellent                          0.497784             0.716426   \n",
      "very_good                          0.672637             0.710900   \n",
      "average                            0.791354             0.634119   \n",
      "poor                               0.878500             0.539704   \n",
      "terrible                           1.000000             0.449153   \n",
      "total_reviews_count                0.449153             1.000000   \n",
      "reviews_count_in_default_language  0.674115             0.736594   \n",
      "food                              -0.190457             0.056542   \n",
      "service                           -0.181710             0.037101   \n",
      "value                             -0.195707            -0.005211   \n",
      "atmosphere                        -0.139057             0.093915   \n",
      "avg_rating                        -0.155270             0.036336   \n",
      "\n",
      "                                   reviews_count_in_default_language  \\\n",
      "excellent                                                   0.959361   \n",
      "very_good                                                   0.947613   \n",
      "average                                                     0.887308   \n",
      "poor                                                        0.805920   \n",
      "terrible                                                    0.674115   \n",
      "total_reviews_count                                         0.736594   \n",
      "reviews_count_in_default_language                           1.000000   \n",
      "food                                                        0.054864   \n",
      "service                                                     0.061827   \n",
      "value                                                       0.026536   \n",
      "atmosphere                                                  0.100821   \n",
      "avg_rating                                                  0.038642   \n",
      "\n",
      "                                       food   service     value  atmosphere  \\\n",
      "excellent                          0.128760  0.134771  0.099463    0.167081   \n",
      "very_good                          0.016350  0.020838 -0.010068    0.067123   \n",
      "average                           -0.060098 -0.051280 -0.083435   -0.014837   \n",
      "poor                              -0.103778 -0.093287 -0.125787   -0.057878   \n",
      "terrible                          -0.190457 -0.181710 -0.195707   -0.139057   \n",
      "total_reviews_count                0.056542  0.037101 -0.005211    0.093915   \n",
      "reviews_count_in_default_language  0.054864  0.061827  0.026536    0.100821   \n",
      "food                               1.000000  0.815338  0.824252    0.627063   \n",
      "service                            0.815338  1.000000  0.797524    0.662776   \n",
      "value                              0.824252  0.797524  1.000000    0.560697   \n",
      "atmosphere                         0.627063  0.662776  0.560697    1.000000   \n",
      "avg_rating                         0.823210  0.805857  0.773925    0.628591   \n",
      "\n",
      "                                   avg_rating  \n",
      "excellent                            0.093861  \n",
      "very_good                            0.011779  \n",
      "average                             -0.043494  \n",
      "poor                                -0.076040  \n",
      "terrible                            -0.155270  \n",
      "total_reviews_count                  0.036336  \n",
      "reviews_count_in_default_language    0.038642  \n",
      "food                                 0.823210  \n",
      "service                              0.805857  \n",
      "value                                0.773925  \n",
      "atmosphere                           0.628591  \n",
      "avg_rating                           1.000000  \n"
     ]
    }
   ],
   "source": [
    "#Are the review columns correlated with the rating columns?\n",
    "\n",
    "review_columns = [\"excellent\", \"very_good\", \"average\", \"poor\", \"terrible\", \"total_reviews_count\", \"reviews_count_in_default_language\"]\n",
    "rating_columns = [\"food\", \"service\", \"value\", \"atmosphere\", \"avg_rating\"]\n",
    "\n",
    "# Correlation matrix\n",
    "corr_matrix = dataset[review_columns + rating_columns].corr()\n",
    "\n",
    "# Print the correlation matrix\n",
    "corr_matrix"
   ]
  },
  {
   "cell_type": "code",
   "execution_count": 16,
   "id": "77180d13",
   "metadata": {},
   "outputs": [
    {
     "name": "stdout",
     "output_type": "stream",
     "text": [
      "Average rating for vegetarian-friendly restaurants: nan\n",
      "Average rating for non-vegetarian-friendly restaurants: 4.035942847356148\n"
     ]
    }
   ],
   "source": [
    "#Are vegetarian-friendly restaurants better than non-vegetarian ones?\n",
    "\n",
    "#Create a new column for restaurants with a binary value (1 for vegetarian-friendly and 0 for non-vegetarian-friendly)\n",
    "dataset[\"vegetarian_friendly_binary\"] = dataset[\"vegetarian_friendly\"].apply(lambda x: 1 if x == \"Yes\" else 0)\n",
    "\n",
    "# Compare the average rating for vegetarian-friendly and non-vegetarian-friendly restaurants\n",
    "vegetarian_friendly_avg_rating = dataset[dataset[\"vegetarian_friendly_binary\"] == 1][\"avg_rating\"].mean()\n",
    "non_vegetarian_friendly_avg_rating = dataset[dataset[\"vegetarian_friendly_binary\"] == 0][\"avg_rating\"].mean()\n",
    "\n",
    "print(f'Average rating for vegetarian-friendly restaurants: {vegetarian_friendly_avg_rating}')\n",
    "print(f'Average rating for non-vegetarian-friendly restaurants: {non_vegetarian_friendly_avg_rating}')"
   ]
  },
  {
   "cell_type": "code",
   "execution_count": 21,
   "id": "c8108d19",
   "metadata": {},
   "outputs": [
    {
     "data": {
      "text/plain": [
       "array(['€', '€€-€€€', nan, '€€€€'], dtype=object)"
      ]
     },
     "execution_count": 21,
     "metadata": {},
     "output_type": "execute_result"
    }
   ],
   "source": [
    "dataset[\"price_level\"].unique()"
   ]
  },
  {
   "cell_type": "code",
   "execution_count": 57,
   "id": "83630dfb",
   "metadata": {},
   "outputs": [
    {
     "data": {
      "text/html": [
       "<div>\n",
       "<style scoped>\n",
       "    .dataframe tbody tr th:only-of-type {\n",
       "        vertical-align: middle;\n",
       "    }\n",
       "\n",
       "    .dataframe tbody tr th {\n",
       "        vertical-align: top;\n",
       "    }\n",
       "\n",
       "    .dataframe thead th {\n",
       "        text-align: right;\n",
       "    }\n",
       "</style>\n",
       "<table border=\"1\" class=\"dataframe\">\n",
       "  <thead>\n",
       "    <tr style=\"text-align: right;\">\n",
       "      <th></th>\n",
       "      <th>cuisines</th>\n",
       "      <th>price_level</th>\n",
       "    </tr>\n",
       "  </thead>\n",
       "  <tbody>\n",
       "    <tr>\n",
       "      <th>41512</th>\n",
       "      <td>Fusion, Healthy, Indian</td>\n",
       "      <td>3.0</td>\n",
       "    </tr>\n",
       "    <tr>\n",
       "      <th>41513</th>\n",
       "      <td>Fusion, Healthy, International</td>\n",
       "      <td>3.0</td>\n",
       "    </tr>\n",
       "    <tr>\n",
       "      <th>41514</th>\n",
       "      <td>Fusion, Healthy, Italian, Seafood, Mediterrane...</td>\n",
       "      <td>3.0</td>\n",
       "    </tr>\n",
       "    <tr>\n",
       "      <th>41515</th>\n",
       "      <td>Fusion, Healthy, Japanese</td>\n",
       "      <td>3.0</td>\n",
       "    </tr>\n",
       "    <tr>\n",
       "      <th>41517</th>\n",
       "      <td>Fusion, Healthy, Mediterranean, Spanish</td>\n",
       "      <td>3.0</td>\n",
       "    </tr>\n",
       "    <tr>\n",
       "      <th>41518</th>\n",
       "      <td>Fusion, Healthy, Mediterranean, Wine Bar</td>\n",
       "      <td>3.0</td>\n",
       "    </tr>\n",
       "    <tr>\n",
       "      <th>41519</th>\n",
       "      <td>Fusion, Healthy, Polish, Mediterranean</td>\n",
       "      <td>3.0</td>\n",
       "    </tr>\n",
       "    <tr>\n",
       "      <th>41520</th>\n",
       "      <td>Fusion, Healthy, Portuguese, African, Bar</td>\n",
       "      <td>3.0</td>\n",
       "    </tr>\n",
       "    <tr>\n",
       "      <th>41523</th>\n",
       "      <td>Fusion, Healthy, Soups, Dining bars</td>\n",
       "      <td>3.0</td>\n",
       "    </tr>\n",
       "    <tr>\n",
       "      <th>41524</th>\n",
       "      <td>Fusion, Healthy, Spanish</td>\n",
       "      <td>3.0</td>\n",
       "    </tr>\n",
       "    <tr>\n",
       "      <th>41525</th>\n",
       "      <td>Fusion, Healthy, Street Food</td>\n",
       "      <td>3.0</td>\n",
       "    </tr>\n",
       "    <tr>\n",
       "      <th>41526</th>\n",
       "      <td>Fusion, Healthy, Street Food, Cafe</td>\n",
       "      <td>3.0</td>\n",
       "    </tr>\n",
       "    <tr>\n",
       "      <th>41528</th>\n",
       "      <td>Fusion, Healthy, Street Food, French</td>\n",
       "      <td>3.0</td>\n",
       "    </tr>\n",
       "    <tr>\n",
       "      <th>41529</th>\n",
       "      <td>Fusion, Healthy, Street Food, Hawaiian, Japanese</td>\n",
       "      <td>3.0</td>\n",
       "    </tr>\n",
       "    <tr>\n",
       "      <th>41530</th>\n",
       "      <td>Fusion, Indian, Asian</td>\n",
       "      <td>3.0</td>\n",
       "    </tr>\n",
       "    <tr>\n",
       "      <th>41531</th>\n",
       "      <td>Fusion, Indonesian, Asian</td>\n",
       "      <td>3.0</td>\n",
       "    </tr>\n",
       "    <tr>\n",
       "      <th>41532</th>\n",
       "      <td>Fusion, Indonesian, Seafood, European</td>\n",
       "      <td>3.0</td>\n",
       "    </tr>\n",
       "    <tr>\n",
       "      <th>41535</th>\n",
       "      <td>Fusion, International, European, Healthy, French</td>\n",
       "      <td>3.0</td>\n",
       "    </tr>\n",
       "    <tr>\n",
       "      <th>41536</th>\n",
       "      <td>Fusion, International, Grill, Gastropub</td>\n",
       "      <td>3.0</td>\n",
       "    </tr>\n",
       "    <tr>\n",
       "      <th>41537</th>\n",
       "      <td>Fusion, International, Mediterranean, European</td>\n",
       "      <td>3.0</td>\n",
       "    </tr>\n",
       "    <tr>\n",
       "      <th>41538</th>\n",
       "      <td>Fusion, International, Spanish, Healthy</td>\n",
       "      <td>3.0</td>\n",
       "    </tr>\n",
       "    <tr>\n",
       "      <th>41540</th>\n",
       "      <td>Fusion, Italian, Bar, European, Pub, Wine Bar,...</td>\n",
       "      <td>3.0</td>\n",
       "    </tr>\n",
       "    <tr>\n",
       "      <th>41541</th>\n",
       "      <td>Fusion, Italian, Bar, Mediterranean, European,...</td>\n",
       "      <td>3.0</td>\n",
       "    </tr>\n",
       "    <tr>\n",
       "      <th>41546</th>\n",
       "      <td>Fusion, Italian, European, Contemporary</td>\n",
       "      <td>3.0</td>\n",
       "    </tr>\n",
       "    <tr>\n",
       "      <th>97740</th>\n",
       "      <td>Yunnan</td>\n",
       "      <td>3.0</td>\n",
       "    </tr>\n",
       "  </tbody>\n",
       "</table>\n",
       "</div>"
      ],
      "text/plain": [
       "                                                cuisines  price_level\n",
       "41512                            Fusion, Healthy, Indian          3.0\n",
       "41513                     Fusion, Healthy, International          3.0\n",
       "41514  Fusion, Healthy, Italian, Seafood, Mediterrane...          3.0\n",
       "41515                          Fusion, Healthy, Japanese          3.0\n",
       "41517            Fusion, Healthy, Mediterranean, Spanish          3.0\n",
       "41518           Fusion, Healthy, Mediterranean, Wine Bar          3.0\n",
       "41519             Fusion, Healthy, Polish, Mediterranean          3.0\n",
       "41520          Fusion, Healthy, Portuguese, African, Bar          3.0\n",
       "41523                Fusion, Healthy, Soups, Dining bars          3.0\n",
       "41524                           Fusion, Healthy, Spanish          3.0\n",
       "41525                       Fusion, Healthy, Street Food          3.0\n",
       "41526                 Fusion, Healthy, Street Food, Cafe          3.0\n",
       "41528               Fusion, Healthy, Street Food, French          3.0\n",
       "41529   Fusion, Healthy, Street Food, Hawaiian, Japanese          3.0\n",
       "41530                              Fusion, Indian, Asian          3.0\n",
       "41531                          Fusion, Indonesian, Asian          3.0\n",
       "41532              Fusion, Indonesian, Seafood, European          3.0\n",
       "41535   Fusion, International, European, Healthy, French          3.0\n",
       "41536            Fusion, International, Grill, Gastropub          3.0\n",
       "41537     Fusion, International, Mediterranean, European          3.0\n",
       "41538            Fusion, International, Spanish, Healthy          3.0\n",
       "41540  Fusion, Italian, Bar, European, Pub, Wine Bar,...          3.0\n",
       "41541  Fusion, Italian, Bar, Mediterranean, European,...          3.0\n",
       "41546            Fusion, Italian, European, Contemporary          3.0\n",
       "97740                                             Yunnan          3.0"
      ]
     },
     "execution_count": 57,
     "metadata": {},
     "output_type": "execute_result"
    }
   ],
   "source": [
    "#Are there any significantly more expensive cuisines?\n",
    "# Create a new column for the average price level of a cuisine - note: price_level to int\n",
    "\n",
    "#dicti = {'€':'1', '€€-€€€':'3', '€€€€':'2', 'nan':np.nan}\n",
    "\n",
    "#dataset[\"price_level\"] = dataset[\"price_level\"].replace(dicti)\n",
    "dataset[\"price_level\"] = pd.to_numeric(dataset[\"price_level\"])\n",
    "\n",
    "avg_cuisines_prices = dataset.groupby('cuisines').agg({'price_level':'mean'}).reset_index().dropna().sort_values(by = 'price_level')\n",
    "avg_cuisines_prices.tail(25)"
   ]
  },
  {
   "cell_type": "code",
   "execution_count": null,
   "id": "3f5cbebe",
   "metadata": {},
   "outputs": [],
   "source": [
    "### Business-specific"
   ]
  },
  {
   "cell_type": "markdown",
   "id": "43819e4a",
   "metadata": {},
   "source": [
    "- In the assets directory, you will see a very small dataset called europe_capitals_population_and_area.csv. A gluten-free restaurant wants to open a new restaurant in a European capital where gluten-free restaurants are underrepresented. Assuming there are no other factors, except population and gluten-free restaurant density, what would be the top 5 capitals to open that restaurant?\n",
    "- Think and propose a couple of other ways this dataset could be used to help businesses.\n"
   ]
  },
  {
   "cell_type": "code",
   "execution_count": null,
   "id": "283d8b56",
   "metadata": {},
   "outputs": [],
   "source": []
  },
  {
   "cell_type": "code",
   "execution_count": null,
   "id": "7081128f",
   "metadata": {},
   "outputs": [],
   "source": [
    "dataset_gl = dataset.loc[dataset['gluten_free']=='Y'].groupby(['city', 'country']).size().reset_index()\n",
    "dataset_gl.columns = ['city', 'country', 'num_of_gluten_restorant']\n",
    "\n",
    "final_data = dataset_gl.merge(capitals, on = ['city', 'country'], how = 'left').dropna()\n",
    "\n",
    "final_data['gluten_free_density'] = final_data['num_of_gluten_restorant'] / final_data['Population']\n",
    "final_data.sort_values(by=['gluten_free_density'], inplace=True)\n",
    "final_data"
   ]
  },
  {
   "cell_type": "markdown",
   "id": "0270a732",
   "metadata": {},
   "source": [
    "### Bonus"
   ]
  },
  {
   "cell_type": "code",
   "execution_count": null,
   "id": "d9a7e1e6",
   "metadata": {},
   "outputs": [],
   "source": [
    "In the assets directory, you will see a file called paris_bounding_polygon.json.\n",
    "This contains a list of latitude and longitude coordinates that define a polygon\n",
    "that is considered to represent the Paris city area. For simplicity, \n",
    "we assume the population distribution is uniform in the Paris city area. \n",
    "\n",
    "An Italian restaurant wants to open a restaurant in Paris in a zone where there are\n",
    "the fewest Italian restaurants. What is the best location to open the restaurant \n",
    "(the answer can be a single point or a bounding box/polygonal region depending on the implementation)?"
   ]
  },
  {
   "cell_type": "code",
   "execution_count": 68,
   "id": "d6249040",
   "metadata": {},
   "outputs": [
    {
     "data": {
      "text/html": [
       "<div>\n",
       "<style scoped>\n",
       "    .dataframe tbody tr th:only-of-type {\n",
       "        vertical-align: middle;\n",
       "    }\n",
       "\n",
       "    .dataframe tbody tr th {\n",
       "        vertical-align: top;\n",
       "    }\n",
       "\n",
       "    .dataframe thead th {\n",
       "        text-align: right;\n",
       "    }\n",
       "</style>\n",
       "<table border=\"1\" class=\"dataframe\">\n",
       "  <thead>\n",
       "    <tr style=\"text-align: right;\">\n",
       "      <th></th>\n",
       "      <th>restaurant_link</th>\n",
       "      <th>restaurant_name</th>\n",
       "      <th>original_location</th>\n",
       "      <th>country</th>\n",
       "      <th>region</th>\n",
       "      <th>province</th>\n",
       "      <th>city</th>\n",
       "      <th>address</th>\n",
       "      <th>latitude</th>\n",
       "      <th>longitude</th>\n",
       "      <th>claimed</th>\n",
       "      <th>awards</th>\n",
       "      <th>popularity_detailed</th>\n",
       "      <th>popularity_generic</th>\n",
       "      <th>top_tags</th>\n",
       "      <th>price_level</th>\n",
       "      <th>price_range</th>\n",
       "      <th>meals</th>\n",
       "      <th>cuisines</th>\n",
       "      <th>special_diets</th>\n",
       "      <th>features</th>\n",
       "      <th>vegetarian_friendly</th>\n",
       "      <th>vegan_options</th>\n",
       "      <th>gluten_free</th>\n",
       "      <th>original_open_hours</th>\n",
       "      <th>open_days_per_week</th>\n",
       "      <th>open_hours_per_week</th>\n",
       "      <th>working_shifts_per_week</th>\n",
       "      <th>avg_rating</th>\n",
       "      <th>total_reviews_count</th>\n",
       "      <th>default_language</th>\n",
       "      <th>reviews_count_in_default_language</th>\n",
       "      <th>excellent</th>\n",
       "      <th>very_good</th>\n",
       "      <th>average</th>\n",
       "      <th>poor</th>\n",
       "      <th>terrible</th>\n",
       "      <th>food</th>\n",
       "      <th>service</th>\n",
       "      <th>value</th>\n",
       "      <th>atmosphere</th>\n",
       "      <th>keywords</th>\n",
       "    </tr>\n",
       "  </thead>\n",
       "  <tbody>\n",
       "    <tr>\n",
       "      <th>38542</th>\n",
       "      <td>g187147-d10000085</td>\n",
       "      <td>La Cucina</td>\n",
       "      <td>[\"Europe\", \"France\", \"Ile-de-France\", \"Paris\"]</td>\n",
       "      <td>France</td>\n",
       "      <td>Ile-de-France</td>\n",
       "      <td>NaN</td>\n",
       "      <td>Paris</td>\n",
       "      <td>36 boulevard Garibaldi, 75015 Paris France</td>\n",
       "      <td>48.846660</td>\n",
       "      <td>2.305100</td>\n",
       "      <td>Unclaimed</td>\n",
       "      <td>NaN</td>\n",
       "      <td>#13163 of 15478 Restaurants in Paris</td>\n",
       "      <td>#13978 of 18480 places to eat in Paris</td>\n",
       "      <td>Italian</td>\n",
       "      <td>NaN</td>\n",
       "      <td>NaN</td>\n",
       "      <td>NaN</td>\n",
       "      <td>Italian</td>\n",
       "      <td>NaN</td>\n",
       "      <td>NaN</td>\n",
       "      <td>N</td>\n",
       "      <td>N</td>\n",
       "      <td>N</td>\n",
       "      <td>NaN</td>\n",
       "      <td>NaN</td>\n",
       "      <td>NaN</td>\n",
       "      <td>NaN</td>\n",
       "      <td>3.5</td>\n",
       "      <td>2.0</td>\n",
       "      <td>All languages</td>\n",
       "      <td>2.0</td>\n",
       "      <td>1.0</td>\n",
       "      <td>0.0</td>\n",
       "      <td>0.0</td>\n",
       "      <td>1.0</td>\n",
       "      <td>0.0</td>\n",
       "      <td>NaN</td>\n",
       "      <td>NaN</td>\n",
       "      <td>NaN</td>\n",
       "      <td>NaN</td>\n",
       "      <td>NaN</td>\n",
       "    </tr>\n",
       "    <tr>\n",
       "      <th>38554</th>\n",
       "      <td>g187147-d10027353</td>\n",
       "      <td>L'inconnu</td>\n",
       "      <td>[\"Europe\", \"France\", \"Ile-de-France\", \"Paris\"]</td>\n",
       "      <td>France</td>\n",
       "      <td>Ile-de-France</td>\n",
       "      <td>NaN</td>\n",
       "      <td>Paris</td>\n",
       "      <td>4 rue Pierre Leroux, 75007 Paris France</td>\n",
       "      <td>48.850185</td>\n",
       "      <td>2.318649</td>\n",
       "      <td>Claimed</td>\n",
       "      <td>Michelin 2021 for The Michelin Plate: Good coo...</td>\n",
       "      <td>#1159 of 15478 Restaurants in Paris</td>\n",
       "      <td>#1229 of 18480 places to eat in Paris</td>\n",
       "      <td>Fine Dining, Italian, European</td>\n",
       "      <td>2.0</td>\n",
       "      <td>NaN</td>\n",
       "      <td>Lunch, Dinner</td>\n",
       "      <td>Italian, European</td>\n",
       "      <td>NaN</td>\n",
       "      <td>Reservations, Seating, Wheelchair Accessible, ...</td>\n",
       "      <td>N</td>\n",
       "      <td>N</td>\n",
       "      <td>N</td>\n",
       "      <td>NaN</td>\n",
       "      <td>NaN</td>\n",
       "      <td>NaN</td>\n",
       "      <td>NaN</td>\n",
       "      <td>4.5</td>\n",
       "      <td>127.0</td>\n",
       "      <td>English</td>\n",
       "      <td>26.0</td>\n",
       "      <td>19.0</td>\n",
       "      <td>5.0</td>\n",
       "      <td>1.0</td>\n",
       "      <td>0.0</td>\n",
       "      <td>1.0</td>\n",
       "      <td>4.5</td>\n",
       "      <td>4.5</td>\n",
       "      <td>4.0</td>\n",
       "      <td>NaN</td>\n",
       "      <td>NaN</td>\n",
       "    </tr>\n",
       "    <tr>\n",
       "      <th>38555</th>\n",
       "      <td>g187147-d10027589</td>\n",
       "      <td>Soyouz</td>\n",
       "      <td>[\"Europe\", \"France\", \"Ile-de-France\", \"Paris\"]</td>\n",
       "      <td>France</td>\n",
       "      <td>Ile-de-France</td>\n",
       "      <td>NaN</td>\n",
       "      <td>Paris</td>\n",
       "      <td>11 rue de l Esperance, 75013 Paris France</td>\n",
       "      <td>48.827220</td>\n",
       "      <td>2.348650</td>\n",
       "      <td>Unclaimed</td>\n",
       "      <td>NaN</td>\n",
       "      <td>#9028 of 15478 Restaurants in Paris</td>\n",
       "      <td>#9635 of 18480 places to eat in Paris</td>\n",
       "      <td>Cheap Eats, Italian, Pizza</td>\n",
       "      <td>1.0</td>\n",
       "      <td>NaN</td>\n",
       "      <td>NaN</td>\n",
       "      <td>Italian, Pizza</td>\n",
       "      <td>NaN</td>\n",
       "      <td>Reservations, Seating, Wheelchair Accessible</td>\n",
       "      <td>N</td>\n",
       "      <td>N</td>\n",
       "      <td>N</td>\n",
       "      <td>NaN</td>\n",
       "      <td>NaN</td>\n",
       "      <td>NaN</td>\n",
       "      <td>NaN</td>\n",
       "      <td>4.0</td>\n",
       "      <td>15.0</td>\n",
       "      <td>English</td>\n",
       "      <td>1.0</td>\n",
       "      <td>0.0</td>\n",
       "      <td>0.0</td>\n",
       "      <td>0.0</td>\n",
       "      <td>0.0</td>\n",
       "      <td>1.0</td>\n",
       "      <td>4.0</td>\n",
       "      <td>4.0</td>\n",
       "      <td>4.0</td>\n",
       "      <td>NaN</td>\n",
       "      <td>NaN</td>\n",
       "    </tr>\n",
       "    <tr>\n",
       "      <th>38569</th>\n",
       "      <td>g187147-d10034691</td>\n",
       "      <td>Marius</td>\n",
       "      <td>[\"Europe\", \"France\", \"Ile-de-France\", \"Paris\"]</td>\n",
       "      <td>France</td>\n",
       "      <td>Ile-de-France</td>\n",
       "      <td>NaN</td>\n",
       "      <td>Paris</td>\n",
       "      <td>186 rue Ordener, 75018 Paris France</td>\n",
       "      <td>48.894110</td>\n",
       "      <td>2.333324</td>\n",
       "      <td>Claimed</td>\n",
       "      <td>NaN</td>\n",
       "      <td>#7473 of 15478 Restaurants in Paris</td>\n",
       "      <td>#7957 of 18480 places to eat in Paris</td>\n",
       "      <td>Cheap Eats, Italian</td>\n",
       "      <td>1.0</td>\n",
       "      <td>€10-€20</td>\n",
       "      <td>Dinner, Lunch, After-hours, Drinks</td>\n",
       "      <td>Italian</td>\n",
       "      <td>NaN</td>\n",
       "      <td>NaN</td>\n",
       "      <td>N</td>\n",
       "      <td>N</td>\n",
       "      <td>N</td>\n",
       "      <td>{\"Mon\": [\"12:00-15:00\", \"18:30-23:00\"], \"Tue\":...</td>\n",
       "      <td>7.0</td>\n",
       "      <td>52.5</td>\n",
       "      <td>14.0</td>\n",
       "      <td>4.5</td>\n",
       "      <td>16.0</td>\n",
       "      <td>English</td>\n",
       "      <td>2.0</td>\n",
       "      <td>2.0</td>\n",
       "      <td>0.0</td>\n",
       "      <td>0.0</td>\n",
       "      <td>0.0</td>\n",
       "      <td>0.0</td>\n",
       "      <td>4.5</td>\n",
       "      <td>5.0</td>\n",
       "      <td>5.0</td>\n",
       "      <td>NaN</td>\n",
       "      <td>NaN</td>\n",
       "    </tr>\n",
       "    <tr>\n",
       "      <th>38572</th>\n",
       "      <td>g187147-d10039974</td>\n",
       "      <td>PI HOUR Batignolles</td>\n",
       "      <td>[\"Europe\", \"France\", \"Ile-de-France\", \"Paris\"]</td>\n",
       "      <td>France</td>\n",
       "      <td>Ile-de-France</td>\n",
       "      <td>NaN</td>\n",
       "      <td>Paris</td>\n",
       "      <td>16 rue Jacquemont, 75017 Paris France</td>\n",
       "      <td>48.887800</td>\n",
       "      <td>2.322460</td>\n",
       "      <td>Claimed</td>\n",
       "      <td>Certificate of Excellence 2017</td>\n",
       "      <td>#3982 of 15478 Restaurants in Paris</td>\n",
       "      <td>#4204 of 18480 places to eat in Paris</td>\n",
       "      <td>Mid-range, Italian, Pizza, Vegetarian Friendly</td>\n",
       "      <td>3.0</td>\n",
       "      <td>€10-€25</td>\n",
       "      <td>NaN</td>\n",
       "      <td>Italian, Pizza</td>\n",
       "      <td>Vegetarian Friendly</td>\n",
       "      <td>NaN</td>\n",
       "      <td>Y</td>\n",
       "      <td>N</td>\n",
       "      <td>N</td>\n",
       "      <td>NaN</td>\n",
       "      <td>NaN</td>\n",
       "      <td>NaN</td>\n",
       "      <td>NaN</td>\n",
       "      <td>4.5</td>\n",
       "      <td>47.0</td>\n",
       "      <td>All languages</td>\n",
       "      <td>47.0</td>\n",
       "      <td>34.0</td>\n",
       "      <td>11.0</td>\n",
       "      <td>1.0</td>\n",
       "      <td>0.0</td>\n",
       "      <td>1.0</td>\n",
       "      <td>4.5</td>\n",
       "      <td>4.5</td>\n",
       "      <td>4.5</td>\n",
       "      <td>NaN</td>\n",
       "      <td>NaN</td>\n",
       "    </tr>\n",
       "    <tr>\n",
       "      <th>...</th>\n",
       "      <td>...</td>\n",
       "      <td>...</td>\n",
       "      <td>...</td>\n",
       "      <td>...</td>\n",
       "      <td>...</td>\n",
       "      <td>...</td>\n",
       "      <td>...</td>\n",
       "      <td>...</td>\n",
       "      <td>...</td>\n",
       "      <td>...</td>\n",
       "      <td>...</td>\n",
       "      <td>...</td>\n",
       "      <td>...</td>\n",
       "      <td>...</td>\n",
       "      <td>...</td>\n",
       "      <td>...</td>\n",
       "      <td>...</td>\n",
       "      <td>...</td>\n",
       "      <td>...</td>\n",
       "      <td>...</td>\n",
       "      <td>...</td>\n",
       "      <td>...</td>\n",
       "      <td>...</td>\n",
       "      <td>...</td>\n",
       "      <td>...</td>\n",
       "      <td>...</td>\n",
       "      <td>...</td>\n",
       "      <td>...</td>\n",
       "      <td>...</td>\n",
       "      <td>...</td>\n",
       "      <td>...</td>\n",
       "      <td>...</td>\n",
       "      <td>...</td>\n",
       "      <td>...</td>\n",
       "      <td>...</td>\n",
       "      <td>...</td>\n",
       "      <td>...</td>\n",
       "      <td>...</td>\n",
       "      <td>...</td>\n",
       "      <td>...</td>\n",
       "      <td>...</td>\n",
       "      <td>...</td>\n",
       "    </tr>\n",
       "    <tr>\n",
       "      <th>56612</th>\n",
       "      <td>g187147-d9826837</td>\n",
       "      <td>Pizza Verdi</td>\n",
       "      <td>[\"Europe\", \"France\", \"Ile-de-France\", \"Paris\"]</td>\n",
       "      <td>France</td>\n",
       "      <td>Ile-de-France</td>\n",
       "      <td>NaN</td>\n",
       "      <td>Paris</td>\n",
       "      <td>40 rue du Faubourg Saint Denis, 75010 Paris Fr...</td>\n",
       "      <td>48.871387</td>\n",
       "      <td>2.353561</td>\n",
       "      <td>Claimed</td>\n",
       "      <td>NaN</td>\n",
       "      <td>#11044 of 15476 Restaurants in Paris</td>\n",
       "      <td>#11759 of 18480 places to eat in Paris</td>\n",
       "      <td>Cheap Eats, Italian, Pizza, Vegetarian Friendly</td>\n",
       "      <td>1.0</td>\n",
       "      <td>€9-€17</td>\n",
       "      <td>NaN</td>\n",
       "      <td>Italian, Pizza</td>\n",
       "      <td>Vegetarian Friendly</td>\n",
       "      <td>NaN</td>\n",
       "      <td>Y</td>\n",
       "      <td>N</td>\n",
       "      <td>N</td>\n",
       "      <td>NaN</td>\n",
       "      <td>NaN</td>\n",
       "      <td>NaN</td>\n",
       "      <td>NaN</td>\n",
       "      <td>3.5</td>\n",
       "      <td>24.0</td>\n",
       "      <td>English</td>\n",
       "      <td>2.0</td>\n",
       "      <td>0.0</td>\n",
       "      <td>0.0</td>\n",
       "      <td>2.0</td>\n",
       "      <td>0.0</td>\n",
       "      <td>0.0</td>\n",
       "      <td>3.5</td>\n",
       "      <td>3.5</td>\n",
       "      <td>4.0</td>\n",
       "      <td>NaN</td>\n",
       "      <td>NaN</td>\n",
       "    </tr>\n",
       "    <tr>\n",
       "      <th>56636</th>\n",
       "      <td>g187147-d9849038</td>\n",
       "      <td>66 Yeast</td>\n",
       "      <td>[\"Europe\", \"France\", \"Ile-de-France\", \"Paris\"]</td>\n",
       "      <td>France</td>\n",
       "      <td>Ile-de-France</td>\n",
       "      <td>NaN</td>\n",
       "      <td>Paris</td>\n",
       "      <td>66 rue d Hauteville, 75010 Paris France</td>\n",
       "      <td>48.874920</td>\n",
       "      <td>2.350872</td>\n",
       "      <td>Unclaimed</td>\n",
       "      <td>NaN</td>\n",
       "      <td>#7702 of 15476 Restaurants in Paris</td>\n",
       "      <td>#8207 of 18480 places to eat in Paris</td>\n",
       "      <td>Mid-range, Italian, Pizza</td>\n",
       "      <td>3.0</td>\n",
       "      <td>€8-€20</td>\n",
       "      <td>Dinner</td>\n",
       "      <td>Pizza, Italian</td>\n",
       "      <td>NaN</td>\n",
       "      <td>NaN</td>\n",
       "      <td>N</td>\n",
       "      <td>N</td>\n",
       "      <td>N</td>\n",
       "      <td>NaN</td>\n",
       "      <td>NaN</td>\n",
       "      <td>NaN</td>\n",
       "      <td>NaN</td>\n",
       "      <td>4.5</td>\n",
       "      <td>14.0</td>\n",
       "      <td>English</td>\n",
       "      <td>2.0</td>\n",
       "      <td>1.0</td>\n",
       "      <td>1.0</td>\n",
       "      <td>0.0</td>\n",
       "      <td>0.0</td>\n",
       "      <td>0.0</td>\n",
       "      <td>4.5</td>\n",
       "      <td>5.0</td>\n",
       "      <td>4.5</td>\n",
       "      <td>NaN</td>\n",
       "      <td>NaN</td>\n",
       "    </tr>\n",
       "    <tr>\n",
       "      <th>56649</th>\n",
       "      <td>g187147-d9872703</td>\n",
       "      <td>Sette traiteur</td>\n",
       "      <td>[\"Europe\", \"France\", \"Ile-de-France\", \"Paris\"]</td>\n",
       "      <td>France</td>\n",
       "      <td>Ile-de-France</td>\n",
       "      <td>NaN</td>\n",
       "      <td>Paris</td>\n",
       "      <td>7 rue Eugene Sue, 75018 Paris France</td>\n",
       "      <td>48.891030</td>\n",
       "      <td>2.346260</td>\n",
       "      <td>Claimed</td>\n",
       "      <td>NaN</td>\n",
       "      <td>#8902 of 15476 Restaurants in Paris</td>\n",
       "      <td>#9496 of 18480 places to eat in Paris</td>\n",
       "      <td>Cheap Eats, Italian</td>\n",
       "      <td>1.0</td>\n",
       "      <td>NaN</td>\n",
       "      <td>NaN</td>\n",
       "      <td>Italian</td>\n",
       "      <td>NaN</td>\n",
       "      <td>Reservations</td>\n",
       "      <td>N</td>\n",
       "      <td>N</td>\n",
       "      <td>N</td>\n",
       "      <td>NaN</td>\n",
       "      <td>NaN</td>\n",
       "      <td>NaN</td>\n",
       "      <td>NaN</td>\n",
       "      <td>5.0</td>\n",
       "      <td>7.0</td>\n",
       "      <td>English</td>\n",
       "      <td>1.0</td>\n",
       "      <td>1.0</td>\n",
       "      <td>0.0</td>\n",
       "      <td>0.0</td>\n",
       "      <td>0.0</td>\n",
       "      <td>0.0</td>\n",
       "      <td>5.0</td>\n",
       "      <td>5.0</td>\n",
       "      <td>5.0</td>\n",
       "      <td>NaN</td>\n",
       "      <td>NaN</td>\n",
       "    </tr>\n",
       "    <tr>\n",
       "      <th>56661</th>\n",
       "      <td>g187147-d9979778</td>\n",
       "      <td>Racina</td>\n",
       "      <td>[\"Europe\", \"France\", \"Ile-de-France\", \"Paris\"]</td>\n",
       "      <td>France</td>\n",
       "      <td>Ile-de-France</td>\n",
       "      <td>NaN</td>\n",
       "      <td>Paris</td>\n",
       "      <td>43 rue Descartes, 75005 Paris France</td>\n",
       "      <td>48.845330</td>\n",
       "      <td>2.349156</td>\n",
       "      <td>Claimed</td>\n",
       "      <td>Travellers' Choice, Certificate of Excellence ...</td>\n",
       "      <td>#350 of 15476 Restaurants in Paris</td>\n",
       "      <td>#371 of 18480 places to eat in Paris</td>\n",
       "      <td>Cheap Eats, Italian, Pizza, Mediterranean</td>\n",
       "      <td>1.0</td>\n",
       "      <td>€6-€20</td>\n",
       "      <td>NaN</td>\n",
       "      <td>Italian, Pizza, Mediterranean, European, Deli</td>\n",
       "      <td>Vegetarian Friendly, Vegan Options</td>\n",
       "      <td>NaN</td>\n",
       "      <td>Y</td>\n",
       "      <td>Y</td>\n",
       "      <td>N</td>\n",
       "      <td>{\"Mon\": [\"11:30-20:45\"], \"Tue\": [\"11:30-20:45\"...</td>\n",
       "      <td>6.0</td>\n",
       "      <td>55.5</td>\n",
       "      <td>6.0</td>\n",
       "      <td>4.5</td>\n",
       "      <td>327.0</td>\n",
       "      <td>English</td>\n",
       "      <td>50.0</td>\n",
       "      <td>37.0</td>\n",
       "      <td>6.0</td>\n",
       "      <td>4.0</td>\n",
       "      <td>1.0</td>\n",
       "      <td>2.0</td>\n",
       "      <td>4.5</td>\n",
       "      <td>4.5</td>\n",
       "      <td>4.5</td>\n",
       "      <td>NaN</td>\n",
       "      <td>NaN</td>\n",
       "    </tr>\n",
       "    <tr>\n",
       "      <th>56670</th>\n",
       "      <td>g187147-d9996090</td>\n",
       "      <td>Gemini Les Halles</td>\n",
       "      <td>[\"Europe\", \"France\", \"Ile-de-France\", \"Paris\"]</td>\n",
       "      <td>France</td>\n",
       "      <td>Ile-de-France</td>\n",
       "      <td>NaN</td>\n",
       "      <td>Paris</td>\n",
       "      <td>16 rue des Halles, 75001 Paris France</td>\n",
       "      <td>48.859966</td>\n",
       "      <td>2.346760</td>\n",
       "      <td>Claimed</td>\n",
       "      <td>Travellers' Choice, Certificate of Excellence ...</td>\n",
       "      <td>#2614 of 15476 Restaurants in Paris</td>\n",
       "      <td>#2759 of 18480 places to eat in Paris</td>\n",
       "      <td>Mid-range, Italian, Pizza, Mediterranean</td>\n",
       "      <td>3.0</td>\n",
       "      <td>€10-€35</td>\n",
       "      <td>NaN</td>\n",
       "      <td>Italian, Pizza, Mediterranean, European</td>\n",
       "      <td>Vegan Options, Gluten Free Options, Vegetarian...</td>\n",
       "      <td>NaN</td>\n",
       "      <td>Y</td>\n",
       "      <td>Y</td>\n",
       "      <td>Y</td>\n",
       "      <td>{\"Mon\": [\"12:00-14:30\"], \"Tue\": [\"12:00-14:30\"...</td>\n",
       "      <td>6.0</td>\n",
       "      <td>23.0</td>\n",
       "      <td>8.0</td>\n",
       "      <td>4.0</td>\n",
       "      <td>283.0</td>\n",
       "      <td>English</td>\n",
       "      <td>36.0</td>\n",
       "      <td>22.0</td>\n",
       "      <td>8.0</td>\n",
       "      <td>2.0</td>\n",
       "      <td>2.0</td>\n",
       "      <td>2.0</td>\n",
       "      <td>4.0</td>\n",
       "      <td>4.0</td>\n",
       "      <td>3.5</td>\n",
       "      <td>NaN</td>\n",
       "      <td>pasta, gluten free pizza, family restaurant, o...</td>\n",
       "    </tr>\n",
       "  </tbody>\n",
       "</table>\n",
       "<p>1729 rows × 42 columns</p>\n",
       "</div>"
      ],
      "text/plain": [
       "         restaurant_link      restaurant_name  \\\n",
       "38542  g187147-d10000085            La Cucina   \n",
       "38554  g187147-d10027353            L'inconnu   \n",
       "38555  g187147-d10027589               Soyouz   \n",
       "38569  g187147-d10034691               Marius   \n",
       "38572  g187147-d10039974  PI HOUR Batignolles   \n",
       "...                  ...                  ...   \n",
       "56612   g187147-d9826837          Pizza Verdi   \n",
       "56636   g187147-d9849038             66 Yeast   \n",
       "56649   g187147-d9872703       Sette traiteur   \n",
       "56661   g187147-d9979778               Racina   \n",
       "56670   g187147-d9996090    Gemini Les Halles   \n",
       "\n",
       "                                    original_location country         region  \\\n",
       "38542  [\"Europe\", \"France\", \"Ile-de-France\", \"Paris\"]  France  Ile-de-France   \n",
       "38554  [\"Europe\", \"France\", \"Ile-de-France\", \"Paris\"]  France  Ile-de-France   \n",
       "38555  [\"Europe\", \"France\", \"Ile-de-France\", \"Paris\"]  France  Ile-de-France   \n",
       "38569  [\"Europe\", \"France\", \"Ile-de-France\", \"Paris\"]  France  Ile-de-France   \n",
       "38572  [\"Europe\", \"France\", \"Ile-de-France\", \"Paris\"]  France  Ile-de-France   \n",
       "...                                               ...     ...            ...   \n",
       "56612  [\"Europe\", \"France\", \"Ile-de-France\", \"Paris\"]  France  Ile-de-France   \n",
       "56636  [\"Europe\", \"France\", \"Ile-de-France\", \"Paris\"]  France  Ile-de-France   \n",
       "56649  [\"Europe\", \"France\", \"Ile-de-France\", \"Paris\"]  France  Ile-de-France   \n",
       "56661  [\"Europe\", \"France\", \"Ile-de-France\", \"Paris\"]  France  Ile-de-France   \n",
       "56670  [\"Europe\", \"France\", \"Ile-de-France\", \"Paris\"]  France  Ile-de-France   \n",
       "\n",
       "      province   city                                            address  \\\n",
       "38542      NaN  Paris         36 boulevard Garibaldi, 75015 Paris France   \n",
       "38554      NaN  Paris            4 rue Pierre Leroux, 75007 Paris France   \n",
       "38555      NaN  Paris          11 rue de l Esperance, 75013 Paris France   \n",
       "38569      NaN  Paris                186 rue Ordener, 75018 Paris France   \n",
       "38572      NaN  Paris              16 rue Jacquemont, 75017 Paris France   \n",
       "...        ...    ...                                                ...   \n",
       "56612      NaN  Paris  40 rue du Faubourg Saint Denis, 75010 Paris Fr...   \n",
       "56636      NaN  Paris            66 rue d Hauteville, 75010 Paris France   \n",
       "56649      NaN  Paris               7 rue Eugene Sue, 75018 Paris France   \n",
       "56661      NaN  Paris               43 rue Descartes, 75005 Paris France   \n",
       "56670      NaN  Paris              16 rue des Halles, 75001 Paris France   \n",
       "\n",
       "        latitude  longitude    claimed  \\\n",
       "38542  48.846660   2.305100  Unclaimed   \n",
       "38554  48.850185   2.318649    Claimed   \n",
       "38555  48.827220   2.348650  Unclaimed   \n",
       "38569  48.894110   2.333324    Claimed   \n",
       "38572  48.887800   2.322460    Claimed   \n",
       "...          ...        ...        ...   \n",
       "56612  48.871387   2.353561    Claimed   \n",
       "56636  48.874920   2.350872  Unclaimed   \n",
       "56649  48.891030   2.346260    Claimed   \n",
       "56661  48.845330   2.349156    Claimed   \n",
       "56670  48.859966   2.346760    Claimed   \n",
       "\n",
       "                                                  awards  \\\n",
       "38542                                                NaN   \n",
       "38554  Michelin 2021 for The Michelin Plate: Good coo...   \n",
       "38555                                                NaN   \n",
       "38569                                                NaN   \n",
       "38572                     Certificate of Excellence 2017   \n",
       "...                                                  ...   \n",
       "56612                                                NaN   \n",
       "56636                                                NaN   \n",
       "56649                                                NaN   \n",
       "56661  Travellers' Choice, Certificate of Excellence ...   \n",
       "56670  Travellers' Choice, Certificate of Excellence ...   \n",
       "\n",
       "                        popularity_detailed  \\\n",
       "38542  #13163 of 15478 Restaurants in Paris   \n",
       "38554   #1159 of 15478 Restaurants in Paris   \n",
       "38555   #9028 of 15478 Restaurants in Paris   \n",
       "38569   #7473 of 15478 Restaurants in Paris   \n",
       "38572   #3982 of 15478 Restaurants in Paris   \n",
       "...                                     ...   \n",
       "56612  #11044 of 15476 Restaurants in Paris   \n",
       "56636   #7702 of 15476 Restaurants in Paris   \n",
       "56649   #8902 of 15476 Restaurants in Paris   \n",
       "56661    #350 of 15476 Restaurants in Paris   \n",
       "56670   #2614 of 15476 Restaurants in Paris   \n",
       "\n",
       "                           popularity_generic  \\\n",
       "38542  #13978 of 18480 places to eat in Paris   \n",
       "38554   #1229 of 18480 places to eat in Paris   \n",
       "38555   #9635 of 18480 places to eat in Paris   \n",
       "38569   #7957 of 18480 places to eat in Paris   \n",
       "38572   #4204 of 18480 places to eat in Paris   \n",
       "...                                       ...   \n",
       "56612  #11759 of 18480 places to eat in Paris   \n",
       "56636   #8207 of 18480 places to eat in Paris   \n",
       "56649   #9496 of 18480 places to eat in Paris   \n",
       "56661    #371 of 18480 places to eat in Paris   \n",
       "56670   #2759 of 18480 places to eat in Paris   \n",
       "\n",
       "                                              top_tags  price_level  \\\n",
       "38542                                          Italian          NaN   \n",
       "38554                   Fine Dining, Italian, European          2.0   \n",
       "38555                       Cheap Eats, Italian, Pizza          1.0   \n",
       "38569                              Cheap Eats, Italian          1.0   \n",
       "38572   Mid-range, Italian, Pizza, Vegetarian Friendly          3.0   \n",
       "...                                                ...          ...   \n",
       "56612  Cheap Eats, Italian, Pizza, Vegetarian Friendly          1.0   \n",
       "56636                        Mid-range, Italian, Pizza          3.0   \n",
       "56649                              Cheap Eats, Italian          1.0   \n",
       "56661        Cheap Eats, Italian, Pizza, Mediterranean          1.0   \n",
       "56670         Mid-range, Italian, Pizza, Mediterranean          3.0   \n",
       "\n",
       "      price_range                               meals  \\\n",
       "38542         NaN                                 NaN   \n",
       "38554         NaN                       Lunch, Dinner   \n",
       "38555         NaN                                 NaN   \n",
       "38569     €10-€20  Dinner, Lunch, After-hours, Drinks   \n",
       "38572     €10-€25                                 NaN   \n",
       "...           ...                                 ...   \n",
       "56612      €9-€17                                 NaN   \n",
       "56636      €8-€20                              Dinner   \n",
       "56649         NaN                                 NaN   \n",
       "56661      €6-€20                                 NaN   \n",
       "56670     €10-€35                                 NaN   \n",
       "\n",
       "                                            cuisines  \\\n",
       "38542                                        Italian   \n",
       "38554                              Italian, European   \n",
       "38555                                 Italian, Pizza   \n",
       "38569                                        Italian   \n",
       "38572                                 Italian, Pizza   \n",
       "...                                              ...   \n",
       "56612                                 Italian, Pizza   \n",
       "56636                                 Pizza, Italian   \n",
       "56649                                        Italian   \n",
       "56661  Italian, Pizza, Mediterranean, European, Deli   \n",
       "56670        Italian, Pizza, Mediterranean, European   \n",
       "\n",
       "                                           special_diets  \\\n",
       "38542                                                NaN   \n",
       "38554                                                NaN   \n",
       "38555                                                NaN   \n",
       "38569                                                NaN   \n",
       "38572                                Vegetarian Friendly   \n",
       "...                                                  ...   \n",
       "56612                                Vegetarian Friendly   \n",
       "56636                                                NaN   \n",
       "56649                                                NaN   \n",
       "56661                 Vegetarian Friendly, Vegan Options   \n",
       "56670  Vegan Options, Gluten Free Options, Vegetarian...   \n",
       "\n",
       "                                                features vegetarian_friendly  \\\n",
       "38542                                                NaN                   N   \n",
       "38554  Reservations, Seating, Wheelchair Accessible, ...                   N   \n",
       "38555       Reservations, Seating, Wheelchair Accessible                   N   \n",
       "38569                                                NaN                   N   \n",
       "38572                                                NaN                   Y   \n",
       "...                                                  ...                 ...   \n",
       "56612                                                NaN                   Y   \n",
       "56636                                                NaN                   N   \n",
       "56649                                       Reservations                   N   \n",
       "56661                                                NaN                   Y   \n",
       "56670                                                NaN                   Y   \n",
       "\n",
       "      vegan_options gluten_free  \\\n",
       "38542             N           N   \n",
       "38554             N           N   \n",
       "38555             N           N   \n",
       "38569             N           N   \n",
       "38572             N           N   \n",
       "...             ...         ...   \n",
       "56612             N           N   \n",
       "56636             N           N   \n",
       "56649             N           N   \n",
       "56661             Y           N   \n",
       "56670             Y           Y   \n",
       "\n",
       "                                     original_open_hours  open_days_per_week  \\\n",
       "38542                                                NaN                 NaN   \n",
       "38554                                                NaN                 NaN   \n",
       "38555                                                NaN                 NaN   \n",
       "38569  {\"Mon\": [\"12:00-15:00\", \"18:30-23:00\"], \"Tue\":...                 7.0   \n",
       "38572                                                NaN                 NaN   \n",
       "...                                                  ...                 ...   \n",
       "56612                                                NaN                 NaN   \n",
       "56636                                                NaN                 NaN   \n",
       "56649                                                NaN                 NaN   \n",
       "56661  {\"Mon\": [\"11:30-20:45\"], \"Tue\": [\"11:30-20:45\"...                 6.0   \n",
       "56670  {\"Mon\": [\"12:00-14:30\"], \"Tue\": [\"12:00-14:30\"...                 6.0   \n",
       "\n",
       "       open_hours_per_week  working_shifts_per_week  avg_rating  \\\n",
       "38542                  NaN                      NaN         3.5   \n",
       "38554                  NaN                      NaN         4.5   \n",
       "38555                  NaN                      NaN         4.0   \n",
       "38569                 52.5                     14.0         4.5   \n",
       "38572                  NaN                      NaN         4.5   \n",
       "...                    ...                      ...         ...   \n",
       "56612                  NaN                      NaN         3.5   \n",
       "56636                  NaN                      NaN         4.5   \n",
       "56649                  NaN                      NaN         5.0   \n",
       "56661                 55.5                      6.0         4.5   \n",
       "56670                 23.0                      8.0         4.0   \n",
       "\n",
       "       total_reviews_count default_language  \\\n",
       "38542                  2.0    All languages   \n",
       "38554                127.0          English   \n",
       "38555                 15.0          English   \n",
       "38569                 16.0          English   \n",
       "38572                 47.0    All languages   \n",
       "...                    ...              ...   \n",
       "56612                 24.0          English   \n",
       "56636                 14.0          English   \n",
       "56649                  7.0          English   \n",
       "56661                327.0          English   \n",
       "56670                283.0          English   \n",
       "\n",
       "       reviews_count_in_default_language  excellent  very_good  average  poor  \\\n",
       "38542                                2.0        1.0        0.0      0.0   1.0   \n",
       "38554                               26.0       19.0        5.0      1.0   0.0   \n",
       "38555                                1.0        0.0        0.0      0.0   0.0   \n",
       "38569                                2.0        2.0        0.0      0.0   0.0   \n",
       "38572                               47.0       34.0       11.0      1.0   0.0   \n",
       "...                                  ...        ...        ...      ...   ...   \n",
       "56612                                2.0        0.0        0.0      2.0   0.0   \n",
       "56636                                2.0        1.0        1.0      0.0   0.0   \n",
       "56649                                1.0        1.0        0.0      0.0   0.0   \n",
       "56661                               50.0       37.0        6.0      4.0   1.0   \n",
       "56670                               36.0       22.0        8.0      2.0   2.0   \n",
       "\n",
       "       terrible  food  service  value  atmosphere  \\\n",
       "38542       0.0   NaN      NaN    NaN         NaN   \n",
       "38554       1.0   4.5      4.5    4.0         NaN   \n",
       "38555       1.0   4.0      4.0    4.0         NaN   \n",
       "38569       0.0   4.5      5.0    5.0         NaN   \n",
       "38572       1.0   4.5      4.5    4.5         NaN   \n",
       "...         ...   ...      ...    ...         ...   \n",
       "56612       0.0   3.5      3.5    4.0         NaN   \n",
       "56636       0.0   4.5      5.0    4.5         NaN   \n",
       "56649       0.0   5.0      5.0    5.0         NaN   \n",
       "56661       2.0   4.5      4.5    4.5         NaN   \n",
       "56670       2.0   4.0      4.0    3.5         NaN   \n",
       "\n",
       "                                                keywords  \n",
       "38542                                                NaN  \n",
       "38554                                                NaN  \n",
       "38555                                                NaN  \n",
       "38569                                                NaN  \n",
       "38572                                                NaN  \n",
       "...                                                  ...  \n",
       "56612                                                NaN  \n",
       "56636                                                NaN  \n",
       "56649                                                NaN  \n",
       "56661                                                NaN  \n",
       "56670  pasta, gluten free pizza, family restaurant, o...  \n",
       "\n",
       "[1729 rows x 42 columns]"
      ]
     },
     "execution_count": 68,
     "metadata": {},
     "output_type": "execute_result"
    }
   ],
   "source": [
    "italy_cuisines_in_paris = dataset.loc[dataset['city']=='Paris'].loc[dataset['cuisines'].str.contains('Italian')==True]\n",
    "italy_cuisines_in_paris"
   ]
  },
  {
   "cell_type": "code",
   "execution_count": 73,
   "id": "5575e86d",
   "metadata": {},
   "outputs": [],
   "source": [
    "boundries = paris_bounds.values"
   ]
  },
  {
   "cell_type": "code",
   "execution_count": 91,
   "id": "b3d68bee",
   "metadata": {
    "scrolled": true
   },
   "outputs": [
    {
     "data": {
      "application/vnd.plotly.v1+json": {
       "config": {
        "plotlyServerURL": "https://plot.ly"
       },
       "data": [
        {
         "coloraxis": "coloraxis",
         "hovertemplate": "price_level=%{z}<br>latitude=%{lat}<br>longitude=%{lon}<extra></extra>",
         "lat": [
          48.84666,
          48.850185,
          48.82722,
          48.89411,
          48.8878,
          48.862854,
          48.855732,
          48.87142,
          48.89294,
          48.87404,
          48.865307,
          48.840794,
          48.869675,
          48.845577,
          48.851547,
          48.841766,
          48.877193,
          48.866108,
          48.881496,
          48.856136,
          48.849625,
          48.861225,
          48.8499,
          48.844597,
          48.865356,
          48.863358,
          48.865314,
          48.88346,
          48.83845,
          48.8542,
          48.861027,
          48.85683,
          48.849438,
          48.840916,
          48.876904,
          48.826805,
          48.83675,
          48.853935,
          48.86606,
          48.87081,
          48.883762,
          48.868572,
          48.83421,
          48.879627,
          48.84932,
          48.835827,
          48.84046,
          48.89143,
          48.86592,
          48.86556,
          48.879284,
          48.85229,
          48.846905,
          48.881405,
          48.881268,
          48.870674,
          48.87643,
          48.85555,
          48.889565,
          48.861145,
          48.87523,
          48.884033,
          48.84304,
          48.87647,
          48.842953,
          48.868782,
          48.879242,
          48.88498,
          48.85024,
          48.8288,
          48.87927,
          48.85597,
          48.855297,
          48.869267,
          48.881165,
          48.834133,
          48.88213,
          48.8863,
          48.87141,
          48.86192,
          48.83096,
          48.848938,
          48.886677,
          48.865875,
          48.879528,
          48.879536,
          48.86236,
          48.88943,
          48.89832,
          48.84384,
          48.84722,
          48.832115,
          48.85885,
          48.860924,
          48.85318,
          48.8579,
          48.86122,
          48.853554,
          48.84525,
          48.87092,
          48.86549,
          48.855076,
          48.852203,
          48.853737,
          48.86399,
          48.875683,
          48.850273,
          48.856743,
          48.89102,
          48.883724,
          48.875782,
          48.86589,
          48.82787,
          48.8565,
          48.881298,
          48.849045,
          48.85562,
          48.88696,
          48.867622,
          48.88566,
          48.82786,
          48.86338,
          48.867355,
          48.855026,
          48.88338,
          48.83968,
          48.86266,
          48.86507,
          48.87862,
          48.89084,
          48.894257,
          48.86791,
          48.8725,
          48.895744,
          48.887806,
          48.887928,
          48.884636,
          48.84143,
          48.86826,
          48.884304,
          48.880882,
          48.866894,
          48.882965,
          48.847637,
          48.8749,
          48.86982,
          48.86225,
          48.87276,
          48.87502,
          48.889915,
          48.88103,
          48.85,
          48.840733,
          48.87215,
          48.85828,
          48.84336,
          48.86284,
          48.86225,
          48.86178,
          48.864708,
          48.890484,
          48.86441,
          48.85418,
          48.8703,
          48.875137,
          48.86827,
          48.839508,
          48.844303,
          48.852337,
          48.87994,
          48.85193,
          48.87474,
          48.83343,
          48.8538,
          48.883587,
          48.870663,
          48.886654,
          48.856705,
          48.88504,
          48.84865,
          48.876923,
          48.869965,
          48.87743,
          48.8663,
          48.877865,
          48.849064,
          48.87001,
          48.871807,
          48.87138,
          48.86482,
          48.894356,
          48.866344,
          48.88026,
          48.86659,
          48.87351,
          48.88413,
          48.884674,
          48.87652,
          48.869812,
          48.830666,
          48.8566,
          48.87652,
          48.84616,
          48.83849,
          48.86018,
          48.84404,
          48.88197,
          48.86872,
          48.83377,
          48.865555,
          48.88524,
          48.83945,
          48.858143,
          48.84277,
          48.82433,
          48.89891,
          48.865932,
          48.87889,
          48.89266,
          48.88433,
          48.84349,
          48.85385,
          48.86471,
          48.89088,
          48.84185,
          48.828987,
          48.871113,
          48.864407,
          48.832077,
          48.83821,
          48.85537,
          48.870083,
          48.87323,
          48.87115,
          48.8404,
          48.86886,
          48.86959,
          48.846203,
          48.835785,
          48.85414,
          48.90364,
          48.851772,
          48.86266,
          48.870197,
          48.874714,
          48.87365,
          48.83975,
          48.8834,
          48.85015,
          48.877777,
          48.866943,
          48.85278,
          48.85926,
          48.860283,
          48.85464,
          48.855827,
          48.88015,
          48.863316,
          48.86219,
          48.88353,
          48.88022,
          48.84446,
          48.841667,
          48.879642,
          48.8856,
          48.851715,
          48.848022,
          48.846767,
          48.854,
          48.86042,
          48.87971,
          48.8534,
          48.86507,
          48.828636,
          48.8804,
          48.8819,
          48.842133,
          48.860687,
          48.87902,
          48.843822,
          48.869537,
          48.857494,
          48.875507,
          48.835743,
          48.840237,
          48.85556,
          48.88955,
          48.83578,
          48.871597,
          48.84176,
          48.84348,
          48.88304,
          48.859768,
          48.863956,
          48.88502,
          48.876762,
          48.87945,
          48.860558,
          48.868713,
          48.844723,
          48.85009,
          48.88798,
          48.833748,
          48.87257,
          48.855988,
          48.86657,
          48.864155,
          48.886402,
          48.890327,
          48.8917,
          48.83759,
          48.886127,
          48.85943,
          48.88474,
          48.83822,
          48.89095,
          48.88113,
          48.87708,
          48.84735,
          48.84997,
          48.877106,
          48.864315,
          48.8522,
          48.83922,
          48.833824,
          48.891632,
          48.8602,
          48.83507,
          48.8528,
          48.868927,
          48.82114,
          48.82979,
          48.837032,
          48.89367,
          48.871773,
          48.84967,
          48.86681,
          48.856125,
          48.88092,
          48.85054,
          48.88448,
          48.87013,
          48.87272,
          48.85857,
          48.86732,
          48.823612,
          48.8628,
          48.858475,
          48.864834,
          48.87409,
          48.84567,
          48.854782,
          48.83297,
          48.8725,
          48.83619,
          48.88232,
          48.88306,
          48.849136,
          48.864513,
          48.89502,
          48.84651,
          48.87708,
          48.855686,
          48.86263,
          48.82043,
          48.89,
          48.8709,
          48.868435,
          48.872513,
          48.84707,
          48.88509,
          48.855484,
          48.835148,
          48.86361,
          48.84905,
          48.851532,
          48.862064,
          48.85122,
          48.87239,
          48.87605,
          48.860924,
          48.86505,
          48.87758,
          48.85885,
          48.84273,
          48.880844,
          48.85229,
          48.862743,
          48.879566,
          48.85923,
          48.879475,
          48.84514,
          48.89021,
          48.85227,
          48.874634,
          48.854206,
          48.85562,
          48.82945,
          48.891003,
          48.85662,
          48.87929,
          48.85307,
          48.88251,
          48.88119,
          48.84229,
          48.891136,
          48.833614,
          48.8284,
          48.89098,
          48.86994,
          48.87116,
          48.853813,
          48.85486,
          48.83561,
          48.854908,
          48.85378,
          48.860065,
          48.88327,
          48.86694,
          48.85583,
          48.84783,
          48.882057,
          48.84873,
          48.89157,
          48.85118,
          48.8731,
          48.833656,
          48.877487,
          48.849445,
          48.86585,
          48.868015,
          48.85728,
          48.86553,
          48.86866,
          48.85688,
          48.86258,
          48.84055,
          48.88327,
          48.853848,
          48.83906,
          48.88354,
          48.855904,
          48.878292,
          48.855034,
          48.86571,
          48.884808,
          48.8619,
          48.83144,
          48.84481,
          48.840557,
          48.884956,
          48.88481,
          48.84315,
          48.84409,
          48.832638,
          48.87749,
          48.864845,
          48.84019,
          48.856495,
          48.87518,
          48.866367,
          48.86403,
          48.89523,
          48.885696,
          48.88325,
          48.8513,
          48.86061,
          48.847553,
          48.844936,
          48.87305,
          48.848476,
          48.86264,
          48.87984,
          48.879192,
          48.858482,
          48.87357,
          48.86217,
          48.85333,
          48.89232,
          48.82296,
          48.874912,
          48.861885,
          48.852753,
          48.8683,
          48.851524,
          48.850544,
          48.8255,
          48.841198,
          48.84239,
          48.83465,
          48.85307,
          48.86488,
          48.86803,
          48.83433,
          48.84329,
          48.87315,
          48.87957,
          48.82789,
          48.82634,
          48.84162,
          48.83321,
          48.8849,
          48.84023,
          48.878677,
          48.85585,
          48.890125,
          48.84778,
          48.87607,
          48.858463,
          48.84672,
          48.8416,
          48.86499,
          48.90261,
          48.86398,
          48.84456,
          48.87131,
          48.85368,
          48.848476,
          48.871,
          48.84454,
          48.86657,
          48.86884,
          48.82003,
          48.88493,
          48.84731,
          48.8784,
          48.85518,
          48.837917,
          48.87246,
          48.88233,
          48.856483,
          48.8732,
          48.858913,
          48.89107,
          48.82753,
          48.86423,
          48.85645,
          48.875298,
          48.86643,
          48.828598,
          48.847637,
          48.86261,
          48.867085,
          48.859627,
          48.857502,
          48.83357,
          48.86978,
          48.8746,
          48.865437,
          48.887154,
          48.873417,
          48.8615,
          48.86416,
          48.867138,
          48.8504,
          48.84746,
          48.82911,
          48.86095,
          48.85961,
          48.84713,
          48.850086,
          48.83393,
          48.885216,
          48.89386,
          48.849163,
          48.851414,
          48.87109,
          48.87132,
          48.83656,
          48.850777,
          48.879852,
          48.89038,
          48.8405,
          48.86189,
          48.87547,
          48.87503,
          48.858612,
          48.865273,
          48.83491,
          48.869522,
          48.884712,
          48.8565,
          48.884617,
          48.85167,
          48.84009,
          48.86381,
          48.86324,
          48.84731,
          48.872543,
          48.87253,
          48.884163,
          48.85413,
          48.851524,
          48.85615,
          48.87317,
          48.85813,
          48.836464,
          48.880238,
          48.885784,
          48.86508,
          48.888874,
          48.84624,
          48.84345,
          48.843742,
          48.854668,
          48.873478,
          48.83315,
          48.884827,
          48.82608,
          48.8661,
          48.86955,
          48.88354,
          48.86022,
          48.87007,
          48.852863,
          48.86066,
          48.879684,
          48.88819,
          48.84088,
          48.841633,
          48.864838,
          48.842384,
          48.85769,
          48.84803,
          48.86523,
          48.879684,
          48.84314,
          48.881294,
          48.86767,
          48.86356,
          48.89361,
          48.85182,
          48.870552,
          48.84977,
          48.84713,
          48.85048,
          48.850845,
          48.85638,
          48.82949,
          48.851395,
          48.887268,
          48.8729,
          48.84747,
          48.843613,
          48.882378,
          48.889828,
          48.88445,
          48.874897,
          48.840717,
          48.85646,
          48.86145,
          48.83954,
          48.851482,
          48.8714,
          48.89221,
          48.85575,
          48.86614,
          48.831463,
          null,
          48.85688,
          48.83338,
          48.858192,
          48.83338,
          48.846058,
          48.8298,
          48.88163,
          48.859642,
          48.87997,
          48.8854,
          48.850555,
          48.874805,
          48.84936,
          48.866234,
          48.856636,
          48.858418,
          48.870655,
          48.84998,
          48.8524,
          48.88777,
          48.88533,
          48.8605,
          48.843502,
          48.867233,
          48.858944,
          48.86981,
          48.83697,
          48.830914,
          48.863335,
          48.846046,
          48.86423,
          48.87357,
          48.87434,
          48.88069,
          48.88351,
          48.861767,
          48.8693,
          48.87162,
          48.88624,
          48.87675,
          48.850506,
          48.85504,
          48.875698,
          48.81937,
          48.87005,
          48.86236,
          48.866173,
          48.86074,
          48.84394,
          48.86596,
          48.86375,
          48.84546,
          48.876793,
          48.85073,
          48.89285,
          48.86631,
          48.877277,
          48.87277,
          48.88408,
          48.852596,
          48.833874,
          48.88626,
          48.84523,
          48.86171,
          48.88815,
          48.84441,
          48.873665,
          48.849693,
          48.87897,
          48.85461,
          48.873203,
          48.83014,
          48.85767,
          48.844826,
          48.86992,
          48.88086,
          48.87344,
          48.87156,
          48.877037,
          48.88261,
          48.87587,
          48.86641,
          48.884586,
          48.8692,
          48.86946,
          48.8294,
          48.86662,
          48.87383,
          48.87226,
          48.87001,
          48.864246,
          48.85097,
          48.83688,
          48.84258,
          48.83398,
          48.87305,
          48.876404,
          48.852978,
          48.88095,
          48.873043,
          48.83431,
          48.881813,
          48.873867,
          48.872498,
          48.8755,
          48.88247,
          48.85952,
          48.860798,
          48.87275,
          48.87098,
          48.846035,
          48.869556,
          48.88422,
          48.87628,
          48.840153,
          48.849796,
          48.84313,
          48.85172,
          48.877213,
          48.889557,
          48.86276,
          null,
          48.851765,
          48.8555,
          48.859264,
          48.85344,
          48.87774,
          48.84961,
          48.848984,
          48.850124,
          48.874676,
          null,
          48.873764,
          48.84496,
          48.86965,
          48.842075,
          48.869976,
          48.89853,
          48.84136,
          48.888435,
          48.891705,
          48.88318,
          48.87371,
          48.874092,
          48.88851,
          48.8501,
          48.840553,
          48.869797,
          48.87774,
          48.85151,
          48.85969,
          48.88968,
          48.84604,
          48.87923,
          48.84162,
          48.87778,
          48.868996,
          48.858704,
          48.86803,
          48.85912,
          48.85977,
          48.88008,
          48.858704,
          48.858704,
          48.85154,
          48.853447,
          48.84234,
          48.888733,
          48.85486,
          48.835537,
          48.88474,
          48.8594,
          48.87241,
          48.858704,
          48.84831,
          48.88395,
          48.89255,
          48.86763,
          48.853664,
          48.83284,
          48.87089,
          48.868538,
          48.84234,
          48.87927,
          48.863945,
          48.853306,
          48.858906,
          48.84697,
          48.82643,
          48.86265,
          48.84508,
          48.847046,
          48.872223,
          48.86666,
          48.86881,
          48.871754,
          48.877213,
          48.85841,
          48.877724,
          48.87738,
          48.865368,
          48.84746,
          48.889507,
          48.854523,
          48.8622,
          48.877945,
          48.863926,
          48.87268,
          48.878197,
          48.846287,
          48.86483,
          48.843975,
          48.85419,
          48.887356,
          48.868874,
          48.858704,
          48.874454,
          48.869602,
          48.866577,
          48.85835,
          48.850925,
          48.893238,
          48.874454,
          48.846165,
          48.856815,
          48.859047,
          48.8743,
          48.841297,
          48.875496,
          48.85064,
          48.847168,
          48.87436,
          48.85931,
          48.84788,
          48.85418,
          48.87948,
          48.88217,
          48.877567,
          48.8716,
          48.85286,
          48.85196,
          48.88499,
          48.87642,
          48.853333,
          48.8817,
          48.89612,
          48.868195,
          48.852264,
          48.84734,
          48.83398,
          48.87584,
          48.8566,
          48.87343,
          48.86249,
          48.84877,
          48.87671,
          48.87784,
          48.85634,
          48.83719,
          48.84545,
          48.85395,
          48.86551,
          48.82158,
          48.825,
          48.853546,
          48.841187,
          48.862988,
          48.86482,
          48.87584,
          48.871525,
          48.83437,
          48.88485,
          48.870895,
          48.88187,
          48.876488,
          48.856983,
          48.833263,
          48.850666,
          48.864098,
          48.877945,
          48.824165,
          48.837944,
          48.87359,
          48.879837,
          48.86571,
          48.85931,
          48.84297,
          48.84384,
          48.858536,
          48.84735,
          48.86315,
          48.88224,
          48.866592,
          48.886806,
          48.84161,
          48.84725,
          48.84936,
          48.86064,
          48.8504,
          48.87344,
          48.85706,
          48.865395,
          48.853294,
          48.85361,
          48.87388,
          48.848675,
          48.868618,
          48.88381,
          48.88421,
          48.86665,
          48.87927,
          48.86885,
          48.88408,
          48.86028,
          48.856564,
          48.84992,
          48.87239,
          48.87845,
          48.865513,
          48.88209,
          48.870514,
          48.86254,
          48.87351,
          48.83894,
          48.855988,
          48.865086,
          48.85721,
          48.859314,
          48.86873,
          48.851337,
          48.853622,
          48.85641,
          48.874405,
          48.8711,
          48.88347,
          48.85168,
          48.87304,
          48.82882,
          48.85268,
          48.86863,
          48.838875,
          48.857765,
          48.83983,
          48.88481,
          48.858704,
          48.872066,
          48.83623,
          48.844345,
          48.84499,
          48.85227,
          48.865314,
          48.845146,
          48.871407,
          48.857716,
          48.85914,
          48.88217,
          48.880062,
          48.85296,
          48.87711,
          48.87111,
          48.86961,
          48.84201,
          48.854927,
          48.88162,
          48.87405,
          48.84104,
          48.84104,
          48.85756,
          48.854687,
          48.83549,
          48.872646,
          48.86077,
          48.89206,
          48.87183,
          48.884666,
          48.84253,
          48.882946,
          48.868874,
          48.8732,
          48.880356,
          48.863483,
          48.84689,
          48.83321,
          48.83737,
          48.88201,
          48.850094,
          48.839615,
          48.866257,
          48.866215,
          48.855556,
          48.87248,
          48.86864,
          48.868988,
          48.87269,
          48.8331,
          48.85446,
          48.84819,
          48.88454,
          48.86111,
          48.84678,
          48.87011,
          48.876026,
          48.83277,
          48.851547,
          48.884144,
          48.68697,
          48.85227,
          48.84453,
          48.86425,
          48.828888,
          48.867905,
          48.838467,
          48.849113,
          48.84105,
          48.85043,
          48.85379,
          48.882504,
          48.861027,
          48.8753,
          48.888863,
          48.866344,
          48.82755,
          48.885212,
          48.87143,
          48.847496,
          48.852535,
          48.879215,
          48.861465,
          48.83735,
          48.848812,
          48.87963,
          48.8741,
          48.879955,
          48.87161,
          48.870903,
          48.88877,
          48.86881,
          48.875355,
          48.89646,
          48.856163,
          48.88173,
          48.87177,
          48.88114,
          48.86662,
          48.87288,
          48.87285,
          48.848495,
          48.88143,
          48.8836,
          48.87525,
          48.8872,
          48.87989,
          48.84416,
          48.872086,
          48.84801,
          48.87204,
          48.8452,
          48.877316,
          48.88045,
          48.832832,
          48.89226,
          48.83239,
          48.88199,
          48.860023,
          48.865025,
          48.83324,
          48.84077,
          48.833496,
          48.86821,
          48.83857,
          48.86487,
          48.85376,
          48.84702,
          48.85068,
          48.874023,
          48.888893,
          48.843987,
          48.84896,
          48.89278,
          48.84706,
          48.83612,
          48.834305,
          48.841045,
          48.89423,
          48.84425,
          48.862747,
          48.88442,
          48.86158,
          48.85179,
          48.87847,
          48.851902,
          48.8711,
          48.87524,
          48.86184,
          48.851658,
          48.88424,
          48.87122,
          48.86083,
          48.861324,
          48.837044,
          48.85081,
          48.86654,
          48.884182,
          48.855625,
          48.875736,
          48.860462,
          48.83826,
          48.83804,
          48.865387,
          48.845825,
          48.84938,
          48.83312,
          48.86162,
          48.860367,
          48.85924,
          48.89059,
          48.850697,
          48.84659,
          48.843277,
          48.854153,
          48.8376,
          48.83975,
          48.878853,
          48.8639,
          48.851566,
          48.87398,
          48.875957,
          48.87771,
          48.885166,
          48.84843,
          48.84711,
          48.84925,
          48.8453,
          48.88461,
          48.86568,
          48.85337,
          null,
          48.880432,
          48.83924,
          48.828335,
          48.8845,
          48.839653,
          48.84195,
          48.86596,
          48.84357,
          48.85003,
          48.873707,
          48.883118,
          48.865456,
          48.884842,
          48.82638,
          48.8687,
          48.87349,
          48.8735,
          48.877537,
          48.890835,
          48.82812,
          48.85273,
          48.867012,
          48.85333,
          48.89009,
          48.84426,
          48.84372,
          48.84124,
          48.88553,
          48.83493,
          48.82391,
          48.828575,
          48.858505,
          48.860268,
          48.88518,
          48.859257,
          48.83027,
          48.888493,
          48.851032,
          48.861942,
          48.845554,
          48.84685,
          48.85651,
          48.846313,
          48.87003,
          48.890293,
          48.860355,
          48.87267,
          48.86417,
          48.83095,
          48.86404,
          48.88186,
          48.88085,
          48.857815,
          48.874817,
          48.87182,
          48.85261,
          48.86028,
          48.87087,
          48.87252,
          48.83395,
          48.836143,
          48.8243,
          48.82262,
          48.8742,
          48.88157,
          48.863045,
          48.84779,
          48.87248,
          48.83802,
          48.84452,
          48.88709,
          48.853016,
          48.843334,
          48.8404,
          48.87986,
          48.860012,
          48.85095,
          48.876373,
          48.854595,
          48.84876,
          48.86803,
          48.88565,
          48.84526,
          48.871174,
          48.88221,
          48.83128,
          48.871517,
          48.873066,
          48.82941,
          48.847286,
          48.85676,
          48.831142,
          48.84574,
          48.845005,
          48.86161,
          48.82149,
          48.83675,
          48.85192,
          48.831543,
          48.82846,
          48.881943,
          48.878803,
          48.838863,
          48.84574,
          48.88167,
          48.88499,
          48.87743,
          48.880936,
          48.87894,
          48.85325,
          48.83377,
          48.85086,
          48.83377,
          48.85294,
          48.89059,
          48.86374,
          48.848343,
          48.86667,
          48.86064,
          48.83974,
          48.85924,
          48.89347,
          48.8486,
          48.85552,
          48.866985,
          48.839096,
          48.87552,
          48.885708,
          48.87918,
          48.89706,
          48.854156,
          48.88068,
          48.86814,
          48.858173,
          48.882416,
          48.852512,
          48.884823,
          48.858704,
          48.87697,
          48.88005,
          48.85567,
          48.86755,
          48.87884,
          48.8395,
          48.86762,
          48.88681,
          48.868256,
          48.886974,
          48.83544,
          48.835556,
          48.885338,
          48.872574,
          48.87107,
          48.843334,
          48.871784,
          48.869022,
          48.873215,
          48.83258,
          48.88085,
          48.88103,
          48.891266,
          48.88037,
          48.85072,
          48.8383,
          48.837624,
          48.8398,
          48.841526,
          48.83436,
          48.88442,
          48.89084,
          48.87716,
          48.87523,
          48.87443,
          48.86841,
          48.848915,
          48.857876,
          48.88204,
          48.862152,
          48.849194,
          48.887276,
          48.8645,
          48.866203,
          48.82406,
          48.85744,
          48.864166,
          48.8501,
          48.870728,
          48.84304,
          48.8677,
          48.87323,
          48.84974,
          48.86929,
          48.855938,
          48.85239,
          48.875816,
          48.858204,
          48.844543,
          48.882244,
          48.848568,
          48.873558,
          48.8753,
          48.82786,
          48.85304,
          48.87416,
          48.82386,
          48.87047,
          48.86703,
          48.83237,
          48.875397,
          48.849365,
          48.84493,
          48.867645,
          48.868946,
          48.867756,
          48.82781,
          48.87095,
          48.86096,
          48.864857,
          48.85519,
          48.872456,
          48.85395,
          48.83539,
          48.84525,
          48.87126,
          48.86535,
          48.83621,
          48.82325,
          48.878788,
          48.822052,
          48.887974,
          48.868565,
          48.873135,
          48.88211,
          48.84081,
          48.843575,
          48.853428,
          48.88704,
          48.876392,
          48.88925,
          48.886585,
          48.88664,
          48.855785,
          48.875687,
          48.85064,
          48.838203,
          48.866524,
          48.85479,
          48.849346,
          48.86693,
          48.849987,
          48.82775,
          48.876736,
          48.88407,
          48.848717,
          48.889084,
          48.84829,
          48.86698,
          48.875916,
          48.83947,
          48.83017,
          48.836685,
          48.884464,
          48.89552,
          48.845463,
          48.887592,
          48.88298,
          48.883755,
          48.89397,
          48.89051,
          48.8837,
          48.886524,
          48.874256,
          48.87786,
          48.88028,
          48.871704,
          48.89186,
          48.870003,
          48.85193,
          48.87564,
          48.88982,
          48.874,
          48.842175,
          48.85461,
          48.82891,
          48.86497,
          48.86825,
          48.846394,
          48.83759,
          48.873924,
          48.87059,
          48.866234,
          48.88881,
          48.83556,
          48.8641,
          48.86203,
          48.88493,
          48.86862,
          48.85189,
          48.852047,
          48.851994,
          48.853416,
          48.84654,
          48.865078,
          48.88749,
          48.85689,
          48.83857,
          48.87117,
          48.885063,
          48.842667,
          48.838615,
          48.84216,
          48.841026,
          48.89737,
          48.88146,
          48.87143,
          48.84223,
          48.852978,
          48.86707,
          48.885235,
          48.89423,
          48.86984,
          48.868675,
          48.88013,
          48.84049,
          48.8574,
          48.858345,
          48.865147,
          48.861942,
          48.86902,
          48.882416,
          48.86707,
          48.889496,
          48.873444,
          48.859097,
          48.85559,
          48.837498,
          48.866,
          48.859394,
          48.874985,
          48.836884,
          48.843605,
          48.843994,
          48.852592,
          48.888493,
          48.87198,
          48.871876,
          48.8415,
          48.863804,
          48.850937,
          48.879467,
          48.86753,
          48.82648,
          48.86481,
          48.85002,
          48.871826,
          48.86772,
          48.851933,
          48.869564,
          48.873245,
          48.885235,
          48.85014,
          48.84784,
          48.856857,
          48.86403,
          48.881058,
          48.846046,
          48.85357,
          48.859062,
          48.842384,
          48.88113,
          48.85617,
          48.88153,
          48.851562,
          48.840862,
          48.87843,
          48.85406,
          48.854187,
          48.846794,
          48.85324,
          48.87863,
          48.88546,
          48.85748,
          48.83619,
          48.87002,
          48.845688,
          48.867912,
          48.87272,
          48.880608,
          48.86641,
          48.846767,
          48.85694,
          48.834087,
          48.84547,
          48.853462,
          48.849308,
          48.879868,
          48.853333,
          48.87732,
          48.883835,
          48.88349,
          48.864094,
          48.86468,
          48.849094,
          48.840366,
          48.88812,
          48.879494,
          48.854145,
          48.84178,
          48.889862,
          48.82734,
          48.86488,
          48.85006,
          48.845543,
          48.89331,
          48.84154,
          48.84151,
          48.88642,
          48.85722,
          48.84828,
          48.880108,
          48.85361,
          48.875854,
          48.86043,
          48.83948,
          48.847458,
          48.86348,
          48.86893,
          48.84416,
          48.866913,
          48.870636,
          48.84481,
          48.867428,
          48.87163,
          48.851776,
          48.88616,
          48.85251,
          48.846924,
          48.87653,
          48.85381,
          48.84256,
          48.87075,
          48.86141,
          48.866188,
          48.84658,
          48.85638,
          48.879173,
          48.840416,
          48.86026,
          48.856316,
          48.83945,
          48.85352,
          48.835125,
          48.85719,
          48.84678,
          48.893543,
          48.88158,
          48.87745,
          48.8709,
          48.885643,
          48.865223,
          48.864426,
          48.85053,
          48.868526,
          48.85281,
          48.842926,
          48.8688,
          48.86148,
          48.82642,
          48.87068,
          48.84845,
          48.830124,
          48.880085,
          48.843334,
          48.86807,
          48.86432,
          48.88963,
          48.852425,
          48.82595,
          48.88282,
          48.87455,
          48.81936,
          48.85332,
          48.852493,
          48.884125,
          48.86692,
          48.87536,
          48.84952,
          48.83405,
          48.88499,
          48.88024,
          48.848892,
          48.83983,
          48.857452,
          48.876774,
          48.833298,
          48.85259,
          48.870388,
          48.8663,
          48.825,
          48.83201,
          48.85426,
          48.852173,
          48.86296,
          48.88011,
          48.870625,
          48.856506,
          48.875427,
          48.86103,
          48.84641,
          48.85541,
          48.85879,
          48.88582,
          48.84852,
          48.844296,
          48.84568,
          48.827534,
          48.84334,
          48.86086,
          48.871323,
          48.857212,
          48.88411,
          48.87678,
          48.8464,
          48.88102,
          48.87203,
          48.871536,
          48.8932,
          48.877254,
          48.871387,
          48.87492,
          48.89103,
          48.84533,
          48.859966
         ],
         "lon": [
          2.3051,
          2.318649,
          2.34865,
          2.333324,
          2.32246,
          2.348407,
          2.272544,
          2.34586,
          2.326749,
          2.375001,
          2.384831,
          2.344798,
          2.305515,
          2.371861,
          2.338181,
          2.349713,
          2.350419,
          2.344592,
          2.373611,
          2.325189,
          2.377803,
          2.34252,
          2.35211,
          2.302133,
          2.350356,
          2.346358,
          2.384917,
          2.303914,
          2.30079,
          2.338168,
          2.340959,
          2.356261,
          2.291288,
          2.262275,
          2.291944,
          2.339206,
          2.35018,
          2.361198,
          2.357474,
          2.31774,
          2.339535,
          2.289224,
          2.30204,
          2.286447,
          2.374711,
          2.324547,
          2.265582,
          2.350629,
          2.29794,
          2.33229,
          2.349173,
          2.355469,
          2.347857,
          2.285787,
          2.391744,
          2.336904,
          2.357397,
          2.37138,
          2.348393,
          2.344422,
          2.30383,
          2.322561,
          2.3066,
          2.32122,
          2.277364,
          2.292574,
          2.354417,
          2.335786,
          2.38196,
          2.32963,
          2.335024,
          2.359091,
          2.363396,
          2.357003,
          2.363919,
          2.353686,
          2.32578,
          2.317858,
          2.341797,
          2.35189,
          2.32876,
          2.34759,
          2.311822,
          2.346753,
          2.287105,
          2.339985,
          2.36332,
          2.381608,
          2.37469,
          2.28327,
          2.341414,
          2.358611,
          2.29853,
          2.343925,
          2.363856,
          2.3069,
          2.34343,
          2.343494,
          2.32044,
          2.34274,
          2.37696,
          2.361347,
          2.344407,
          2.396435,
          2.363952,
          2.331259,
          2.330765,
          2.306446,
          2.3347,
          2.343035,
          2.322969,
          2.34629,
          2.37202,
          2.40307,
          2.316671,
          2.377301,
          2.404175,
          2.31234,
          2.332376,
          2.30393,
          2.327757,
          2.27403,
          2.396483,
          2.375833,
          2.341817,
          2.340004,
          2.36223,
          2.346977,
          2.28963,
          2.36119,
          2.34593,
          2.335451,
          2.307186,
          2.389475,
          2.306381,
          2.306799,
          2.290801,
          2.31753,
          2.35041,
          2.339181,
          2.351094,
          2.296964,
          2.300731,
          2.348492,
          2.35562,
          2.342842,
          2.364712,
          2.37098,
          2.32036,
          2.343033,
          2.298975,
          2.350581,
          2.277725,
          2.32729,
          2.354651,
          2.33121,
          2.35998,
          2.34184,
          2.38296,
          2.350277,
          2.383711,
          2.37302,
          2.275935,
          2.36094,
          2.341504,
          2.34344,
          2.300243,
          2.308949,
          2.335219,
          2.34508,
          2.39028,
          2.355657,
          2.30931,
          2.331335,
          2.369768,
          2.350413,
          2.359521,
          2.398025,
          2.365665,
          2.3549,
          2.300975,
          2.306668,
          2.29468,
          2.350929,
          2.365703,
          2.374575,
          2.350551,
          2.338792,
          2.28354,
          2.362939,
          2.343143,
          2.273322,
          2.29562,
          2.345961,
          2.322323,
          2.29723,
          2.339015,
          2.33533,
          2.356166,
          2.33394,
          2.378021,
          2.33533,
          2.35438,
          2.39936,
          2.30745,
          2.28171,
          2.334444,
          2.3353,
          2.36537,
          2.384476,
          2.33457,
          2.39248,
          2.301731,
          2.322716,
          2.32869,
          2.37278,
          2.353242,
          2.296591,
          2.32531,
          2.31455,
          2.293736,
          2.332818,
          2.348488,
          2.33954,
          2.34349,
          2.327851,
          2.365392,
          2.371967,
          2.324703,
          2.35155,
          2.37187,
          2.359399,
          2.35331,
          2.31559,
          2.33336,
          2.3792,
          2.36932,
          2.343035,
          2.293242,
          2.337,
          2.368158,
          2.312777,
          2.352263,
          2.283056,
          2.372658,
          2.314079,
          2.360819,
          2.36822,
          2.317774,
          2.287396,
          2.376181,
          2.345278,
          2.323773,
          2.348217,
          2.289239,
          2.337567,
          2.29943,
          2.361751,
          2.377444,
          2.326794,
          2.343378,
          2.339312,
          2.330644,
          2.294722,
          2.31998,
          2.367061,
          2.323625,
          2.321334,
          2.38775,
          2.30946,
          2.289897,
          2.400404,
          2.283003,
          2.296578,
          2.39087,
          2.334025,
          2.349826,
          2.341167,
          2.34697,
          2.388397,
          2.303413,
          2.273129,
          2.308904,
          2.323653,
          2.351693,
          2.37081,
          2.37794,
          2.29313,
          2.362474,
          2.277975,
          2.29796,
          2.324838,
          2.300483,
          2.346528,
          2.329797,
          2.347032,
          2.34341,
          2.305858,
          2.30864,
          2.318683,
          2.373891,
          2.30674,
          2.360804,
          2.3436,
          2.367061,
          2.363439,
          2.332404,
          2.39372,
          2.319922,
          2.34398,
          2.29733,
          2.334174,
          2.3557,
          2.309521,
          2.29742,
          2.36135,
          2.334575,
          2.34446,
          2.39448,
          2.299383,
          2.295875,
          2.398049,
          2.334719,
          2.2857,
          2.369986,
          2.320915,
          2.350694,
          2.30964,
          2.35371,
          2.333756,
          2.34253,
          2.37136,
          2.338333,
          2.34291,
          2.333319,
          2.29529,
          2.371553,
          2.304322,
          2.323144,
          2.38104,
          2.31237,
          2.34171,
          2.363508,
          2.39018,
          2.333045,
          2.330697,
          2.34837,
          2.345824,
          2.335701,
          2.34413,
          2.38278,
          2.371674,
          2.386549,
          2.327531,
          2.39195,
          2.30448,
          2.34617,
          2.354156,
          2.349419,
          2.38224,
          2.372132,
          2.324744,
          2.357206,
          2.325082,
          2.37372,
          2.32039,
          2.344836,
          2.389871,
          2.324334,
          2.27292,
          2.30632,
          2.389969,
          2.326522,
          2.369685,
          2.37475,
          2.343019,
          2.365893,
          2.383325,
          2.296492,
          2.28971,
          2.3803,
          2.36589,
          2.306222,
          2.29853,
          2.32867,
          2.292419,
          2.40433,
          2.36296,
          2.33615,
          2.37592,
          2.334058,
          2.254554,
          2.35796,
          2.4067,
          2.347934,
          2.309756,
          2.3053,
          2.30178,
          2.325136,
          2.37374,
          2.35658,
          2.345542,
          2.332874,
          2.31397,
          2.33829,
          2.329009,
          2.304471,
          2.38058,
          2.331411,
          2.28441,
          2.308261,
          2.33775,
          2.379292,
          2.40191,
          2.363158,
          2.34371,
          2.364402,
          2.298906,
          2.369468,
          2.37523,
          2.346973,
          2.334163,
          2.34044,
          2.33533,
          2.30983,
          2.316932,
          2.322747,
          2.29505,
          2.291389,
          2.283493,
          2.402128,
          2.38482,
          2.37652,
          2.34779,
          2.37465,
          2.337879,
          2.399297,
          2.32772,
          2.296761,
          2.39583,
          2.27787,
          2.368456,
          2.284353,
          2.363243,
          2.3458,
          2.340226,
          2.350975,
          2.32667,
          2.321223,
          2.324547,
          2.315629,
          2.39253,
          2.30667,
          2.38732,
          2.288822,
          2.27033,
          2.332864,
          2.34062,
          2.303292,
          2.3221,
          2.273373,
          2.343569,
          2.343344,
          2.297946,
          2.34501,
          2.277496,
          2.36778,
          2.365559,
          2.402961,
          2.31659,
          2.350806,
          2.36326,
          2.355785,
          2.34002,
          2.302749,
          2.34272,
          2.34965,
          2.335893,
          2.345075,
          2.35778,
          2.339655,
          2.364808,
          2.407193,
          2.34739,
          2.323735,
          2.377415,
          2.35023,
          2.329833,
          2.34969,
          2.32753,
          2.331408,
          2.358935,
          2.35818,
          2.2954,
          2.30055,
          2.38364,
          2.336111,
          2.372003,
          2.3124,
          2.31318,
          2.28936,
          2.32303,
          2.3688,
          2.3702,
          2.356544,
          2.312005,
          2.35211,
          2.370403,
          2.382991,
          2.372693,
          2.308179,
          2.367003,
          2.33053,
          2.34658,
          2.331784,
          2.34799,
          2.411528,
          2.282679,
          2.34711,
          2.3546,
          2.28157,
          2.28942,
          2.25789,
          2.29617,
          2.30053,
          2.30253,
          2.3721,
          2.281891,
          2.35744,
          2.328105,
          2.326705,
          2.33024,
          2.386092,
          2.37648,
          2.37109,
          2.36851,
          2.266807,
          2.39441,
          2.35987,
          2.350988,
          2.294294,
          2.338033,
          2.287779,
          2.306236,
          2.305561,
          2.354129,
          2.310763,
          2.320923,
          2.336411,
          2.297364,
          2.343729,
          2.366181,
          2.34991,
          2.375972,
          2.3897,
          2.30241,
          2.32769,
          2.342476,
          2.350407,
          2.37025,
          2.342175,
          2.29044,
          2.31126,
          2.345192,
          2.349659,
          2.339217,
          2.30813,
          2.360682,
          2.35357,
          2.39234,
          2.335076,
          2.319841,
          2.3159,
          2.343499,
          2.350042,
          2.31313,
          2.35445,
          2.360283,
          2.28937,
          2.344599,
          2.298817,
          2.40307,
          2.304092,
          2.31835,
          2.30267,
          2.37543,
          2.385956,
          2.32991,
          2.324132,
          2.34463,
          2.331417,
          2.386864,
          2.347292,
          2.3726,
          2.35226,
          2.377342,
          2.31919,
          2.35188,
          2.381632,
          2.37633,
          2.322559,
          2.40591,
          2.27758,
          2.315086,
          2.339306,
          2.383475,
          2.303806,
          2.330733,
          2.34669,
          2.34106,
          2.33572,
          2.339705,
          2.37573,
          2.32587,
          2.353656,
          2.28267,
          2.289584,
          2.392452,
          2.28844,
          2.389316,
          2.359086,
          2.328927,
          2.36435,
          2.398421,
          2.35007,
          2.289584,
          2.349183,
          2.328206,
          2.35526,
          2.37875,
          2.32235,
          2.276964,
          2.289458,
          2.40628,
          2.37025,
          2.349426,
          2.300519,
          2.324077,
          2.32291,
          2.324747,
          2.31197,
          2.298308,
          2.34699,
          2.349467,
          2.324386,
          2.341796,
          2.333322,
          2.283838,
          2.315759,
          2.30435,
          2.35838,
          2.349934,
          2.277784,
          2.312051,
          2.32419,
          2.361346,
          2.37975,
          2.341761,
          null,
          2.37836,
          2.32404,
          2.273331,
          2.32404,
          2.374569,
          2.328771,
          2.352671,
          2.348129,
          2.349738,
          2.3354,
          2.379992,
          2.325261,
          2.33912,
          2.31681,
          2.301763,
          2.310056,
          2.321753,
          2.32329,
          2.34541,
          2.38989,
          2.3255,
          2.345592,
          2.349492,
          2.359902,
          2.344948,
          2.33111,
          2.3722,
          2.292975,
          2.379911,
          2.269894,
          2.36579,
          2.364971,
          2.34806,
          2.341314,
          2.32951,
          2.340864,
          2.33747,
          2.32174,
          2.39269,
          2.29118,
          2.382133,
          2.362503,
          2.350136,
          2.359715,
          2.36077,
          2.36513,
          2.288333,
          2.351231,
          2.330433,
          2.36556,
          2.36265,
          2.40363,
          2.336038,
          2.300442,
          2.3504,
          2.34751,
          2.346212,
          2.328968,
          2.339788,
          2.387865,
          2.324456,
          2.33337,
          2.34255,
          2.37208,
          2.32123,
          2.31809,
          2.300478,
          2.268611,
          2.29655,
          2.38468,
          2.309587,
          2.301985,
          2.317389,
          2.349074,
          2.3705,
          2.365524,
          2.317843,
          2.341749,
          2.314173,
          2.31692,
          2.296569,
          2.32818,
          2.300311,
          2.357689,
          2.31069,
          2.31375,
          2.34712,
          2.32247,
          2.30401,
          2.353536,
          2.347865,
          2.350936,
          2.349055,
          2.32611,
          2.31804,
          2.34278,
          2.348547,
          2.382961,
          2.34494,
          2.343265,
          2.29561,
          2.345178,
          2.379832,
          2.328314,
          2.35867,
          2.31435,
          2.3769,
          2.345819,
          2.302342,
          2.34652,
          2.40096,
          2.296525,
          2.331184,
          2.340756,
          2.335134,
          2.295485,
          2.32087,
          2.333736,
          2.28566,
          2.308033,
          2.37146,
          null,
          2.33836,
          2.305122,
          2.323615,
          2.37058,
          2.29537,
          2.38857,
          2.287184,
          2.349546,
          2.340945,
          null,
          2.364984,
          2.34927,
          2.3794,
          2.290652,
          2.284308,
          2.3751,
          2.319298,
          2.393201,
          2.343983,
          2.333921,
          2.348,
          2.343693,
          2.31919,
          2.34783,
          2.350413,
          2.33966,
          2.29537,
          2.34799,
          2.37566,
          2.3426,
          2.28491,
          2.33668,
          2.330053,
          2.28475,
          2.356418,
          2.342865,
          2.29819,
          2.344189,
          2.36781,
          2.3524,
          2.342865,
          2.342865,
          2.349669,
          2.366034,
          2.29069,
          2.355587,
          2.37505,
          2.324001,
          2.3258,
          2.367635,
          2.34866,
          2.342865,
          2.324167,
          2.33112,
          2.34344,
          2.302284,
          2.331194,
          2.27835,
          2.302139,
          2.326914,
          2.329382,
          2.353393,
          2.370383,
          2.336955,
          2.30755,
          2.4075,
          2.365215,
          2.340767,
          2.264014,
          2.372564,
          2.404592,
          2.286181,
          2.35574,
          2.328211,
          2.351382,
          2.38278,
          2.351641,
          2.354001,
          2.333171,
          2.34806,
          2.344088,
          2.289218,
          2.3629,
          2.337426,
          2.370504,
          2.329233,
          2.299296,
          2.406071,
          2.373811,
          2.354965,
          2.289151,
          2.336079,
          2.35305,
          2.342865,
          2.320929,
          2.369991,
          2.34721,
          2.328414,
          2.345017,
          2.363429,
          2.38919,
          2.37513,
          2.364311,
          2.353579,
          2.33505,
          2.31937,
          2.303749,
          2.341604,
          2.286025,
          2.3257,
          2.37528,
          2.37667,
          2.33901,
          2.337225,
          2.31977,
          2.299044,
          2.310075,
          2.40591,
          2.39828,
          2.378472,
          2.28344,
          2.342474,
          2.309993,
          2.338294,
          2.2917,
          2.337572,
          2.29843,
          2.3875,
          2.32237,
          2.35666,
          2.37077,
          2.34821,
          2.263747,
          2.33755,
          2.29356,
          2.302608,
          2.260431,
          2.3443,
          2.338278,
          2.38956,
          2.36502,
          2.357562,
          2.370307,
          2.303738,
          2.388508,
          2.347394,
          2.34236,
          2.341949,
          2.34527,
          2.34214,
          2.323164,
          2.288944,
          2.343416,
          2.378344,
          2.287114,
          2.291903,
          2.341894,
          2.365294,
          2.335767,
          2.347518,
          2.34513,
          2.362151,
          2.3458,
          2.34768,
          2.34855,
          2.28327,
          2.35169,
          2.30427,
          2.359713,
          2.333199,
          2.302145,
          2.323261,
          2.266508,
          2.30585,
          2.37759,
          2.301197,
          2.382008,
          2.36462,
          2.372699,
          2.331394,
          2.330921,
          2.39323,
          2.30809,
          2.348406,
          2.281633,
          2.29296,
          2.29681,
          2.365126,
          2.35416,
          2.3744,
          2.341574,
          2.35475,
          2.358425,
          2.351586,
          2.353663,
          2.34287,
          2.289063,
          2.33319,
          2.365544,
          2.366367,
          2.334464,
          2.26634,
          2.36295,
          2.346837,
          2.31856,
          2.344319,
          2.325478,
          2.381639,
          2.338003,
          2.302653,
          2.332917,
          2.35288,
          2.327485,
          2.34701,
          2.343035,
          2.36985,
          2.345355,
          2.341769,
          2.381857,
          2.366404,
          2.36076,
          2.327,
          2.285144,
          2.303439,
          2.35473,
          2.349221,
          2.349194,
          2.33374,
          2.377233,
          2.271457,
          2.312158,
          2.354465,
          2.38641,
          2.31977,
          2.320356,
          2.346057,
          2.34014,
          2.33486,
          2.310964,
          2.293603,
          2.367384,
          2.292171,
          2.343044,
          2.325114,
          2.34382,
          2.368037,
          2.295484,
          2.35883,
          2.323494,
          2.355442,
          2.31738,
          2.36235,
          2.34175,
          2.31192,
          2.294733,
          2.33639,
          2.362275,
          2.352669,
          2.332892,
          2.285778,
          2.28936,
          2.27873,
          2.28626,
          2.37463,
          2.321748,
          2.359556,
          2.347883,
          2.359723,
          2.32741,
          2.36266,
          2.355851,
          2.364706,
          2.30393,
          2.396044,
          2.392525,
          2.34123,
          2.37754,
          2.38318,
          2.31926,
          2.317709,
          2.32086,
          2.310403,
          2.341597,
          2.35242,
          2.337587,
          2.34966,
          2.3414,
          2.3075,
          2.378008,
          2.25709,
          2.390833,
          2.387626,
          2.2672,
          2.336963,
          2.333343,
          2.380876,
          2.39286,
          2.334527,
          2.331369,
          2.31496,
          2.335978,
          2.38043,
          2.309811,
          2.290608,
          2.334926,
          2.348629,
          2.38343,
          2.320392,
          2.3362,
          2.34189,
          2.329356,
          2.345899,
          2.284833,
          2.316701,
          2.401853,
          2.35112,
          2.33887,
          2.394722,
          2.31758,
          2.343125,
          2.29417,
          2.34712,
          2.33124,
          2.30243,
          2.293836,
          2.28519,
          2.33267,
          2.293751,
          2.31958,
          2.362189,
          2.322894,
          2.292794,
          2.33974,
          2.339792,
          2.381425,
          2.295499,
          2.3518,
          2.316011,
          2.339941,
          2.31511,
          2.36763,
          2.354391,
          2.288894,
          2.38668,
          2.34895,
          2.286651,
          2.3356,
          2.396241,
          2.37585,
          2.367525,
          2.38436,
          2.39405,
          2.339803,
          2.34479,
          2.256758,
          2.37121,
          2.34257,
          2.35208,
          2.40561,
          2.326072,
          2.31361,
          2.33691,
          2.29438,
          2.359921,
          2.30024,
          2.34803,
          2.31778,
          2.36427,
          2.277631,
          2.39282,
          2.367179,
          2.38031,
          2.371941,
          2.30476,
          2.335408,
          2.367833,
          2.343397,
          2.352622,
          2.37423,
          2.36353,
          2.342187,
          2.371201,
          2.286892,
          2.355794,
          2.28845,
          2.405075,
          2.373347,
          2.380029,
          2.326123,
          2.35409,
          2.275533,
          2.361711,
          2.3004,
          2.3456,
          2.339559,
          2.34106,
          2.304717,
          2.362392,
          2.40158,
          2.34972,
          2.290447,
          2.3606,
          2.310282,
          2.31685,
          2.344003,
          2.291831,
          2.295536,
          2.347065,
          2.36742,
          2.297604,
          2.40286,
          2.36849,
          2.34584,
          2.36677,
          null,
          2.325483,
          2.30921,
          2.326617,
          2.294433,
          2.263097,
          2.37581,
          2.301474,
          2.27756,
          2.385903,
          2.342647,
          2.332928,
          2.288882,
          2.371894,
          2.34285,
          2.284794,
          2.31017,
          2.32215,
          2.341156,
          2.345701,
          2.37201,
          2.33771,
          2.302254,
          2.38815,
          2.39873,
          2.33103,
          2.29672,
          2.373804,
          2.38006,
          2.40607,
          2.34159,
          2.352764,
          2.382313,
          2.348024,
          2.32428,
          2.297906,
          2.35266,
          2.320487,
          2.374485,
          2.334461,
          2.34455,
          2.38518,
          2.27963,
          2.373885,
          2.285214,
          2.341831,
          2.356152,
          2.377408,
          2.341699,
          2.348324,
          2.346538,
          2.34535,
          2.39485,
          2.37946,
          2.342931,
          2.39188,
          2.298511,
          2.30948,
          2.31164,
          2.31424,
          2.3219,
          2.292608,
          2.3282,
          2.32734,
          2.31579,
          2.3479,
          2.348285,
          2.3738,
          2.3296,
          2.29576,
          2.348757,
          2.31344,
          2.293265,
          2.383461,
          2.368991,
          2.33566,
          2.350722,
          2.40619,
          2.356585,
          2.396708,
          2.325143,
          2.33551,
          2.30889,
          2.37919,
          2.345372,
          2.34571,
          2.36887,
          2.323367,
          2.354633,
          2.31745,
          2.298203,
          2.356921,
          2.374131,
          2.37998,
          2.320821,
          2.37405,
          2.333717,
          2.39238,
          2.33463,
          2.341267,
          2.316402,
          2.305278,
          2.298411,
          2.322913,
          2.349068,
          2.315799,
          2.29399,
          2.34476,
          2.374226,
          2.36368,
          2.342722,
          2.36537,
          2.3783,
          2.32993,
          2.34573,
          2.3456,
          2.27727,
          2.259868,
          2.373056,
          2.31923,
          2.284698,
          2.3402,
          2.32305,
          2.3934,
          2.27484,
          2.397797,
          2.404164,
          2.3171,
          2.347379,
          2.31491,
          2.38457,
          2.296352,
          2.28618,
          2.387501,
          2.349658,
          2.296122,
          2.345232,
          2.307797,
          2.302564,
          2.35519,
          2.36487,
          2.35769,
          2.37521,
          2.32689,
          2.381376,
          2.33946,
          2.3398,
          2.298837,
          2.339851,
          2.30303,
          2.281389,
          2.296944,
          2.324826,
          2.30939,
          2.325,
          2.347576,
          2.339761,
          2.326128,
          2.31827,
          2.34621,
          2.33145,
          2.377972,
          2.286381,
          2.39167,
          2.356328,
          2.283647,
          2.30575,
          2.323822,
          2.30605,
          2.30024,
          2.31791,
          2.39541,
          2.30383,
          2.34546,
          2.335103,
          2.282478,
          2.3005,
          2.34982,
          2.349474,
          2.287775,
          2.392478,
          2.40003,
          2.377086,
          2.32327,
          2.27819,
          2.403833,
          2.29199,
          2.291402,
          2.3066,
          2.35624,
          2.32469,
          2.37885,
          2.33601,
          2.340355,
          2.333722,
          2.286556,
          2.369271,
          2.354829,
          2.319709,
          2.327726,
          2.345244,
          2.30401,
          2.34952,
          2.344558,
          2.3393,
          2.323333,
          2.34043,
          2.29867,
          2.30306,
          2.387514,
          2.294687,
          2.34965,
          2.301388,
          2.286261,
          2.332659,
          2.330628,
          2.341558,
          2.345411,
          2.369393,
          2.330708,
          2.359165,
          2.332742,
          2.325883,
          2.297843,
          2.353491,
          2.361878,
          2.284444,
          2.3166,
          2.346525,
          2.349631,
          2.318648,
          2.281628,
          2.342386,
          2.30391,
          2.331035,
          2.354485,
          2.361661,
          2.336,
          2.290275,
          2.3041,
          2.333912,
          2.30465,
          2.35993,
          2.300204,
          2.328033,
          2.294503,
          2.282512,
          2.329411,
          2.303457,
          2.30364,
          2.385474,
          2.349469,
          2.326887,
          2.340964,
          2.265698,
          2.346386,
          2.376793,
          2.30305,
          2.293779,
          2.26296,
          2.35377,
          2.295166,
          2.333601,
          2.34841,
          2.372125,
          2.298472,
          2.30301,
          2.292857,
          2.3332,
          2.390901,
          2.32888,
          2.345492,
          2.306705,
          2.34472,
          2.34325,
          2.352939,
          2.36356,
          2.371683,
          2.39028,
          2.286761,
          2.376086,
          2.38408,
          2.324575,
          2.38468,
          2.38182,
          2.34791,
          2.3861,
          2.278642,
          2.354269,
          2.386351,
          2.321292,
          2.3671,
          2.32354,
          2.29542,
          2.287725,
          2.3487,
          2.31067,
          2.32556,
          2.334742,
          2.335236,
          2.333725,
          2.334058,
          2.286719,
          2.291459,
          2.31186,
          2.40974,
          2.32204,
          2.309593,
          2.356042,
          2.277546,
          2.259493,
          2.30084,
          2.265853,
          2.385325,
          2.3317,
          2.336609,
          2.39286,
          2.382961,
          2.348602,
          2.336,
          2.33691,
          2.290753,
          2.368075,
          2.340361,
          2.361898,
          2.36784,
          2.27361,
          2.362383,
          2.383604,
          2.33452,
          2.323528,
          2.343917,
          2.326292,
          2.337885,
          2.347642,
          2.357503,
          2.258342,
          2.347046,
          2.301456,
          2.306883,
          2.318494,
          2.294464,
          2.372177,
          2.335913,
          2.333035,
          2.36672,
          2.367769,
          2.33172,
          2.345676,
          2.377645,
          2.289691,
          2.400708,
          2.323679,
          2.347233,
          2.272391,
          2.329046,
          2.33743,
          2.334903,
          2.306735,
          2.343389,
          2.335995,
          2.31861,
          2.403874,
          2.355534,
          2.334186,
          2.341575,
          2.295777,
          2.338,
          2.300529,
          2.321378,
          2.298472,
          2.32079,
          2.339781,
          2.338239,
          2.277919,
          2.34106,
          2.338783,
          2.367381,
          2.304898,
          2.335916,
          2.33152,
          2.289776,
          2.303,
          2.35838,
          2.28411,
          2.296482,
          2.32124,
          2.3095,
          2.285453,
          2.285553,
          2.381161,
          2.277736,
          2.318017,
          2.34254,
          2.370238,
          2.366445,
          2.329269,
          2.330969,
          2.31499,
          2.321803,
          2.326667,
          2.386238,
          2.340689,
          2.319188,
          2.392953,
          2.3167,
          2.343327,
          2.323247,
          2.328396,
          2.32125,
          2.37063,
          2.39655,
          2.276315,
          2.344619,
          2.323335,
          2.32742,
          2.32624,
          2.343925,
          2.30475,
          2.37414,
          2.340324,
          2.39323,
          2.293683,
          2.348311,
          2.26138,
          2.322225,
          2.33322,
          2.34,
          2.410843,
          2.374507,
          2.275201,
          2.37299,
          2.332175,
          2.32541,
          2.338181,
          2.31876,
          2.3351,
          2.342939,
          2.337163,
          2.26519,
          2.32439,
          2.34883,
          2.36434,
          2.3793,
          2.30463,
          2.302189,
          2.329453,
          2.312994,
          2.348021,
          2.302596,
          2.39248,
          2.370336,
          2.320272,
          2.38214,
          2.38318,
          2.327313,
          2.346561,
          2.31465,
          2.318,
          2.31065,
          2.284302,
          2.368683,
          2.38198,
          2.386181,
          2.366242,
          2.364209,
          2.300482,
          2.343997,
          2.371249,
          2.32674,
          2.37409,
          2.310597,
          2.344469,
          2.292906,
          2.372822,
          2.3978,
          2.34136,
          2.346497,
          2.313706,
          2.34644,
          2.330856,
          2.373951,
          2.33083,
          2.374202,
          2.341458,
          2.37613,
          2.343317,
          2.325024,
          2.331042,
          2.315499,
          2.317564,
          2.286801,
          2.314769,
          2.27479,
          2.337614,
          2.37468,
          2.344533,
          2.285147,
          2.3645,
          2.346483,
          2.354978,
          2.30696,
          2.393439,
          2.36215,
          2.29703,
          2.310053,
          2.279457,
          2.325409,
          2.3426,
          2.32725,
          2.37476,
          2.2983,
          2.31406,
          2.353532,
          2.352431,
          2.35399,
          2.332262,
          2.299884,
          2.378167,
          2.307725,
          2.317318,
          2.314142,
          2.40499,
          2.35211,
          2.334651,
          2.348017,
          2.356988,
          2.3432,
          2.321291,
          2.353561,
          2.350872,
          2.34626,
          2.349156,
          2.34676
         ],
         "name": "",
         "radius": 10,
         "subplot": "mapbox",
         "type": "densitymapbox",
         "z": [
          null,
          2,
          1,
          1,
          3,
          3,
          3,
          3,
          3,
          3,
          3,
          3,
          3,
          3,
          3,
          1,
          1,
          3,
          3,
          3,
          1,
          3,
          3,
          3,
          3,
          3,
          3,
          3,
          1,
          3,
          3,
          3,
          3,
          1,
          3,
          3,
          3,
          3,
          3,
          3,
          3,
          2,
          3,
          2,
          3,
          3,
          2,
          3,
          3,
          3,
          3,
          3,
          3,
          3,
          3,
          3,
          1,
          3,
          3,
          1,
          3,
          3,
          1,
          3,
          1,
          2,
          1,
          3,
          null,
          null,
          3,
          3,
          1,
          1,
          3,
          3,
          3,
          3,
          3,
          1,
          3,
          3,
          3,
          3,
          3,
          3,
          3,
          3,
          3,
          3,
          1,
          3,
          3,
          1,
          3,
          3,
          3,
          3,
          1,
          3,
          1,
          1,
          3,
          3,
          3,
          3,
          3,
          3,
          3,
          3,
          3,
          3,
          3,
          null,
          3,
          3,
          null,
          3,
          3,
          3,
          3,
          3,
          3,
          3,
          3,
          3,
          3,
          3,
          null,
          null,
          3,
          3,
          3,
          3,
          3,
          2,
          3,
          3,
          3,
          3,
          3,
          3,
          3,
          3,
          3,
          3,
          3,
          3,
          null,
          1,
          3,
          null,
          3,
          3,
          3,
          3,
          3,
          3,
          3,
          3,
          3,
          3,
          3,
          1,
          1,
          3,
          3,
          3,
          3,
          3,
          3,
          3,
          3,
          3,
          3,
          3,
          3,
          1,
          1,
          1,
          2,
          3,
          null,
          1,
          1,
          3,
          3,
          3,
          1,
          3,
          3,
          3,
          3,
          3,
          3,
          3,
          3,
          1,
          3,
          1,
          3,
          1,
          1,
          3,
          3,
          3,
          3,
          3,
          3,
          3,
          3,
          3,
          1,
          1,
          1,
          3,
          3,
          1,
          3,
          3,
          3,
          2,
          3,
          3,
          3,
          3,
          1,
          1,
          1,
          3,
          3,
          3,
          3,
          2,
          3,
          3,
          3,
          1,
          3,
          3,
          2,
          3,
          3,
          3,
          3,
          3,
          3,
          null,
          3,
          3,
          3,
          1,
          3,
          3,
          3,
          3,
          3,
          null,
          3,
          3,
          3,
          1,
          3,
          3,
          null,
          3,
          3,
          3,
          null,
          3,
          3,
          3,
          1,
          3,
          3,
          3,
          3,
          3,
          null,
          3,
          3,
          3,
          3,
          3,
          3,
          3,
          1,
          3,
          3,
          3,
          3,
          3,
          3,
          3,
          3,
          3,
          3,
          3,
          2,
          3,
          3,
          null,
          3,
          3,
          3,
          3,
          3,
          3,
          3,
          1,
          3,
          3,
          3,
          3,
          3,
          null,
          3,
          null,
          3,
          3,
          3,
          3,
          3,
          3,
          3,
          3,
          3,
          3,
          null,
          3,
          1,
          1,
          3,
          null,
          3,
          1,
          3,
          2,
          3,
          1,
          3,
          3,
          3,
          1,
          3,
          3,
          null,
          3,
          3,
          1,
          2,
          3,
          3,
          3,
          3,
          3,
          3,
          3,
          1,
          3,
          1,
          3,
          3,
          1,
          3,
          3,
          3,
          3,
          3,
          2,
          null,
          1,
          3,
          3,
          3,
          3,
          3,
          3,
          3,
          3,
          3,
          1,
          3,
          3,
          1,
          null,
          3,
          3,
          3,
          3,
          3,
          3,
          3,
          3,
          3,
          3,
          3,
          1,
          3,
          null,
          3,
          3,
          3,
          3,
          null,
          3,
          3,
          3,
          3,
          3,
          2,
          3,
          1,
          3,
          3,
          3,
          3,
          3,
          3,
          3,
          null,
          3,
          1,
          3,
          3,
          3,
          3,
          3,
          3,
          3,
          3,
          3,
          3,
          3,
          3,
          3,
          3,
          3,
          3,
          null,
          1,
          3,
          3,
          3,
          null,
          3,
          3,
          1,
          3,
          3,
          3,
          null,
          3,
          1,
          3,
          3,
          3,
          3,
          3,
          3,
          3,
          3,
          3,
          3,
          null,
          3,
          1,
          3,
          3,
          3,
          3,
          null,
          1,
          1,
          null,
          1,
          1,
          3,
          3,
          3,
          3,
          3,
          1,
          3,
          3,
          3,
          3,
          3,
          3,
          1,
          3,
          3,
          1,
          3,
          3,
          3,
          1,
          3,
          1,
          null,
          3,
          1,
          null,
          3,
          3,
          3,
          3,
          1,
          3,
          1,
          3,
          null,
          null,
          3,
          null,
          3,
          3,
          3,
          3,
          null,
          null,
          3,
          null,
          null,
          3,
          3,
          1,
          3,
          3,
          3,
          2,
          null,
          3,
          3,
          null,
          3,
          2,
          3,
          3,
          3,
          3,
          3,
          3,
          3,
          3,
          3,
          3,
          3,
          3,
          3,
          3,
          3,
          3,
          3,
          1,
          1,
          null,
          3,
          3,
          null,
          1,
          1,
          3,
          3,
          1,
          3,
          3,
          3,
          3,
          3,
          3,
          3,
          null,
          3,
          3,
          3,
          3,
          3,
          3,
          1,
          3,
          3,
          3,
          3,
          3,
          3,
          3,
          3,
          3,
          3,
          1,
          3,
          3,
          3,
          null,
          3,
          1,
          3,
          3,
          3,
          3,
          null,
          3,
          3,
          3,
          3,
          3,
          3,
          1,
          3,
          3,
          3,
          3,
          3,
          3,
          3,
          null,
          1,
          3,
          3,
          3,
          3,
          3,
          1,
          3,
          3,
          3,
          3,
          3,
          3,
          null,
          3,
          3,
          3,
          null,
          3,
          null,
          3,
          3,
          3,
          3,
          3,
          2,
          1,
          3,
          3,
          3,
          3,
          3,
          null,
          null,
          3,
          1,
          3,
          null,
          3,
          1,
          3,
          3,
          null,
          3,
          3,
          3,
          1,
          3,
          3,
          3,
          null,
          3,
          3,
          3,
          3,
          2,
          3,
          3,
          3,
          3,
          null,
          3,
          2,
          1,
          3,
          3,
          3,
          3,
          3,
          3,
          3,
          3,
          null,
          3,
          3,
          3,
          1,
          3,
          3,
          3,
          2,
          null,
          3,
          3,
          3,
          3,
          3,
          null,
          3,
          3,
          3,
          3,
          3,
          null,
          3,
          3,
          1,
          3,
          3,
          3,
          3,
          3,
          3,
          3,
          3,
          3,
          3,
          null,
          2,
          3,
          3,
          null,
          2,
          3,
          1,
          1,
          3,
          3,
          3,
          3,
          3,
          3,
          3,
          3,
          3,
          3,
          2,
          3,
          null,
          3,
          null,
          3,
          3,
          3,
          null,
          3,
          1,
          null,
          null,
          3,
          null,
          1,
          null,
          3,
          3,
          3,
          3,
          3,
          null,
          3,
          3,
          3,
          3,
          2,
          3,
          3,
          3,
          3,
          3,
          1,
          3,
          3,
          3,
          3,
          3,
          3,
          3,
          null,
          3,
          3,
          null,
          3,
          1,
          3,
          3,
          null,
          3,
          3,
          3,
          null,
          null,
          3,
          3,
          3,
          3,
          3,
          null,
          null,
          null,
          null,
          3,
          null,
          null,
          3,
          1,
          3,
          3,
          3,
          3,
          3,
          3,
          3,
          null,
          3,
          3,
          3,
          3,
          3,
          3,
          1,
          null,
          2,
          3,
          3,
          3,
          3,
          3,
          3,
          3,
          3,
          3,
          null,
          3,
          2,
          3,
          3,
          3,
          3,
          3,
          3,
          3,
          3,
          3,
          3,
          3,
          3,
          null,
          3,
          3,
          null,
          3,
          3,
          3,
          3,
          3,
          3,
          null,
          3,
          3,
          3,
          3,
          3,
          3,
          3,
          3,
          3,
          1,
          3,
          3,
          3,
          3,
          3,
          3,
          3,
          3,
          3,
          1,
          1,
          null,
          3,
          3,
          null,
          1,
          3,
          3,
          3,
          1,
          3,
          null,
          3,
          3,
          3,
          1,
          3,
          3,
          3,
          2,
          3,
          3,
          3,
          3,
          3,
          3,
          3,
          3,
          1,
          3,
          null,
          1,
          3,
          3,
          null,
          3,
          1,
          3,
          1,
          3,
          3,
          3,
          3,
          3,
          3,
          1,
          null,
          3,
          3,
          3,
          3,
          3,
          3,
          3,
          1,
          3,
          3,
          3,
          3,
          2,
          1,
          3,
          3,
          3,
          3,
          3,
          1,
          3,
          3,
          3,
          3,
          null,
          3,
          3,
          3,
          3,
          3,
          3,
          null,
          null,
          3,
          3,
          null,
          null,
          3,
          3,
          3,
          3,
          3,
          3,
          null,
          3,
          null,
          3,
          3,
          3,
          3,
          3,
          3,
          3,
          3,
          3,
          3,
          1,
          2,
          3,
          1,
          3,
          3,
          3,
          3,
          3,
          1,
          3,
          3,
          3,
          3,
          3,
          null,
          3,
          3,
          null,
          3,
          3,
          null,
          3,
          3,
          3,
          3,
          null,
          null,
          3,
          3,
          null,
          3,
          3,
          3,
          3,
          3,
          3,
          3,
          3,
          3,
          3,
          3,
          3,
          3,
          null,
          1,
          3,
          1,
          3,
          3,
          3,
          3,
          2,
          3,
          3,
          null,
          3,
          null,
          3,
          3,
          3,
          3,
          1,
          null,
          3,
          3,
          3,
          3,
          3,
          3,
          1,
          null,
          null,
          3,
          3,
          3,
          3,
          3,
          3,
          3,
          null,
          3,
          3,
          3,
          3,
          3,
          3,
          3,
          1,
          1,
          1,
          3,
          3,
          null,
          3,
          3,
          3,
          3,
          3,
          3,
          3,
          3,
          null,
          3,
          3,
          3,
          3,
          3,
          3,
          3,
          1,
          3,
          3,
          3,
          3,
          3,
          null,
          null,
          1,
          3,
          null,
          3,
          1,
          3,
          3,
          3,
          3,
          3,
          3,
          3,
          3,
          3,
          3,
          null,
          null,
          3,
          3,
          null,
          1,
          3,
          null,
          3,
          3,
          3,
          3,
          null,
          1,
          3,
          3,
          3,
          null,
          1,
          3,
          3,
          1,
          null,
          3,
          3,
          null,
          null,
          3,
          3,
          3,
          3,
          3,
          null,
          1,
          3,
          3,
          3,
          3,
          3,
          null,
          null,
          1,
          3,
          3,
          3,
          1,
          3,
          3,
          3,
          3,
          null,
          3,
          3,
          3,
          3,
          3,
          3,
          3,
          1,
          3,
          3,
          1,
          1,
          1,
          3,
          3,
          3,
          3,
          3,
          3,
          3,
          3,
          1,
          null,
          null,
          null,
          3,
          1,
          3,
          3,
          3,
          null,
          3,
          3,
          3,
          3,
          3,
          1,
          3,
          3,
          3,
          1,
          null,
          3,
          3,
          1,
          null,
          3,
          null,
          3,
          null,
          3,
          1,
          3,
          3,
          1,
          3,
          3,
          3,
          1,
          3,
          3,
          3,
          3,
          1,
          3,
          3,
          3,
          3,
          3,
          3,
          3,
          3,
          3,
          3,
          3,
          null,
          null,
          1,
          3,
          null,
          1,
          null,
          1,
          null,
          1,
          3,
          1,
          1,
          1,
          null,
          3,
          3,
          1,
          null,
          1,
          null,
          3,
          3,
          3,
          1,
          3,
          1,
          3,
          1,
          1,
          1,
          1,
          3,
          1,
          3,
          1,
          1,
          3,
          1,
          1,
          3,
          1,
          null,
          3,
          null,
          3,
          1,
          3,
          3,
          1,
          1,
          1,
          3,
          3,
          3,
          3,
          1,
          3,
          1,
          1,
          3,
          1,
          3,
          3,
          3,
          3,
          3,
          1,
          3,
          3,
          3,
          1,
          3,
          3,
          3,
          3,
          3,
          3,
          3,
          3,
          3,
          3,
          3,
          3,
          3,
          3,
          3,
          3,
          1,
          2,
          3,
          3,
          1,
          1,
          null,
          3,
          3,
          3,
          null,
          3,
          3,
          3,
          null,
          3,
          1,
          3,
          3,
          1,
          3,
          1,
          3,
          3,
          3,
          1,
          1,
          3,
          3,
          3,
          3,
          3,
          3,
          1,
          1,
          3,
          3,
          3,
          3,
          3,
          3,
          1,
          3,
          3,
          3,
          3,
          3,
          1,
          3,
          null,
          3,
          null,
          null,
          1,
          3,
          3,
          3,
          3,
          3,
          1,
          3,
          3,
          null,
          1,
          3,
          3,
          3,
          null,
          1,
          3,
          1,
          1,
          3,
          2,
          3,
          3,
          3,
          2,
          3,
          3,
          3,
          3,
          2,
          3,
          3,
          1,
          3,
          1,
          3,
          3,
          3,
          3,
          2,
          3,
          null,
          3,
          3,
          3,
          null,
          3,
          3,
          3,
          3,
          3,
          2,
          3,
          2,
          3,
          3,
          3,
          2,
          3,
          3,
          3,
          3,
          3,
          3,
          3,
          3,
          2,
          3,
          3,
          3,
          1,
          null,
          1,
          1,
          1,
          3,
          null,
          3,
          null,
          3,
          1,
          null,
          3,
          3,
          null,
          3,
          null,
          3,
          1,
          1,
          3,
          3,
          3,
          3,
          null,
          3,
          3,
          3,
          3,
          3,
          null,
          3,
          3,
          3,
          3,
          null,
          3,
          3,
          3,
          3,
          3,
          3,
          3,
          null,
          null,
          1,
          3,
          3,
          3,
          null,
          1,
          3,
          3,
          3,
          3,
          3,
          3,
          3,
          1,
          1,
          3,
          3,
          3,
          1,
          3,
          3,
          1,
          2,
          3,
          3,
          3,
          null,
          1,
          3,
          3,
          3,
          3,
          3,
          3,
          3,
          1,
          3,
          3,
          3,
          3,
          null,
          3,
          3,
          3,
          3,
          3,
          3,
          3,
          3,
          3,
          3,
          3,
          3,
          3,
          3,
          3,
          3,
          3,
          3,
          1,
          null,
          3,
          3,
          3,
          null,
          3,
          3,
          3,
          3,
          3,
          3,
          3,
          3,
          null,
          3,
          null,
          1,
          3,
          3,
          2,
          3,
          3,
          3,
          3,
          3,
          1,
          3,
          3,
          3,
          3,
          3,
          3,
          3,
          1,
          3,
          3,
          3,
          3,
          3,
          3,
          3,
          3,
          3,
          3,
          3,
          3,
          3,
          3,
          1,
          1,
          3,
          3,
          3,
          3,
          3,
          3,
          3,
          3,
          3,
          null,
          2,
          3,
          3,
          3,
          1,
          3,
          1,
          2,
          null,
          3,
          3,
          3,
          3,
          1,
          3,
          3,
          3,
          1,
          1,
          1,
          1,
          3,
          3,
          3,
          3,
          3,
          3,
          3,
          3,
          3,
          3,
          3,
          2,
          1,
          3,
          3,
          3,
          3,
          1,
          2,
          1,
          3,
          3,
          1,
          1,
          3,
          3,
          3,
          null,
          null,
          3,
          3,
          null,
          1,
          3,
          3,
          3,
          1,
          3,
          3,
          3,
          3,
          1,
          3,
          3,
          3,
          3,
          1,
          3,
          3,
          3,
          3,
          1,
          3,
          1,
          3,
          3,
          1,
          3,
          3,
          3,
          1,
          1,
          3,
          3,
          1,
          3,
          3,
          3,
          3,
          3,
          3,
          3,
          3,
          3,
          3,
          3,
          1,
          3,
          3,
          null,
          1,
          1,
          3,
          1,
          1,
          3
         ]
        }
       ],
       "layout": {
        "coloraxis": {
         "colorbar": {
          "title": {
           "text": "price_level"
          }
         },
         "colorscale": [
          [
           0,
           "#0d0887"
          ],
          [
           0.1111111111111111,
           "#46039f"
          ],
          [
           0.2222222222222222,
           "#7201a8"
          ],
          [
           0.3333333333333333,
           "#9c179e"
          ],
          [
           0.4444444444444444,
           "#bd3786"
          ],
          [
           0.5555555555555556,
           "#d8576b"
          ],
          [
           0.6666666666666666,
           "#ed7953"
          ],
          [
           0.7777777777777778,
           "#fb9f3a"
          ],
          [
           0.8888888888888888,
           "#fdca26"
          ],
          [
           1,
           "#f0f921"
          ]
         ]
        },
        "legend": {
         "tracegroupgap": 0
        },
        "mapbox": {
         "center": {
          "lat": 48.85662216690112,
          "lon": 2.3428763772885635
         },
         "domain": {
          "x": [
           0,
           1
          ],
          "y": [
           0,
           1
          ]
         },
         "layers": [
          {
           "below": "traces",
           "color": "red",
           "source": {
            "features": [
             {
              "geometry": {
               "coordinates": [
                [
                 [
                  2.2241686,
                  48.8534419
                 ],
                 [
                  2.2241606,
                  48.8534778
                 ],
                 [
                  2.2241429,
                  48.8535779
                 ],
                 [
                  2.2241349,
                  48.8536539
                 ],
                 [
                  2.224129,
                  48.853759
                 ],
                 [
                  2.2241249,
                  48.8538689
                 ],
                 [
                  2.2241249,
                  48.8540199
                 ],
                 [
                  2.2241219,
                  48.8541989
                 ],
                 [
                  2.224158,
                  48.8546149
                 ],
                 [
                  2.224257,
                  48.8552409
                 ],
                 [
                  2.224317,
                  48.85555
                 ],
                 [
                  2.224371,
                  48.85581
                 ],
                 [
                  2.224466,
                  48.856232
                 ],
                 [
                  2.224579,
                  48.856632
                 ],
                 [
                  2.224789,
                  48.857329
                 ],
                 [
                  2.224877,
                  48.857605
                 ],
                 [
                  2.225001,
                  48.85798
                 ],
                 [
                  2.225056,
                  48.858124
                 ],
                 [
                  2.225116,
                  48.858268
                 ],
                 [
                  2.22523,
                  48.858519
                 ],
                 [
                  2.225286,
                  48.858627
                 ],
                 [
                  2.2254300000000002,
                  48.858914
                 ],
                 [
                  2.2257078,
                  48.8594357
                 ],
                 [
                  2.2264044,
                  48.8609577
                 ],
                 [
                  2.2269049,
                  48.8617931
                 ],
                 [
                  2.2272918,
                  48.8625733
                 ],
                 [
                  2.2279465,
                  48.8643329
                 ],
                 [
                  2.2282435,
                  48.8651445
                 ],
                 [
                  2.228425,
                  48.8654293
                 ],
                 [
                  2.228652,
                  48.8657664
                 ],
                 [
                  2.2294748,
                  48.8667271
                 ],
                 [
                  2.2295816,
                  48.8668473
                 ],
                 [
                  2.23037,
                  48.8677341
                 ],
                 [
                  2.2312282,
                  48.8686235
                 ],
                 [
                  2.232076,
                  48.869507
                 ],
                 [
                  2.2328437,
                  48.8697546
                 ],
                 [
                  2.2340186,
                  48.8700811
                 ],
                 [
                  2.2373728,
                  48.8710132
                 ],
                 [
                  2.239672,
                  48.8715756
                 ],
                 [
                  2.2401154,
                  48.8717174
                 ],
                 [
                  2.2404625,
                  48.8718877
                 ],
                 [
                  2.2410476,
                  48.8722767
                 ],
                 [
                  2.2433601,
                  48.8741265
                 ],
                 [
                  2.2456227,
                  48.8763641
                 ],
                 [
                  2.2476141,
                  48.875871
                 ],
                 [
                  2.2495862,
                  48.8753761
                 ],
                 [
                  2.2548149,
                  48.8740805
                 ],
                 [
                  2.2550572,
                  48.8741525
                 ],
                 [
                  2.2554112,
                  48.8742636
                 ],
                 [
                  2.2584073,
                  48.8800973
                 ],
                 [
                  2.2584626,
                  48.8801181
                 ],
                 [
                  2.2584893,
                  48.8801283
                 ],
                 [
                  2.2588832,
                  48.8802792
                 ],
                 [
                  2.2588875,
                  48.8802807
                 ],
                 [
                  2.2602672,
                  48.8801053
                 ],
                 [
                  2.2646217,
                  48.8795663
                 ],
                 [
                  2.2774903,
                  48.8779625
                 ],
                 [
                  2.2780343,
                  48.8781258
                 ],
                 [
                  2.2786074,
                  48.8782982
                 ],
                 [
                  2.2786175,
                  48.8783012
                 ],
                 [
                  2.2798011,
                  48.8786534
                 ],
                 [
                  2.2799642,
                  48.8787024
                 ],
                 [
                  2.2808973999999997,
                  48.8827945
                 ],
                 [
                  2.2809933,
                  48.8829463
                 ],
                 [
                  2.2811175,
                  48.8830469
                 ],
                 [
                  2.2818271,
                  48.8835988
                 ],
                 [
                  2.2818613,
                  48.8836254
                 ],
                 [
                  2.2821522,
                  48.8838487
                 ],
                 [
                  2.2844692,
                  48.8856279
                 ],
                 [
                  2.285491,
                  48.886437
                 ],
                 [
                  2.2856608,
                  48.8865706
                 ],
                 [
                  2.2860663,
                  48.8867704
                 ],
                 [
                  2.2871097,
                  48.8872829
                 ],
                 [
                  2.2877583,
                  48.8875999
                 ],
                 [
                  2.2896452,
                  48.8885253
                 ],
                 [
                  2.2911749,
                  48.889275
                 ],
                 [
                  2.2911515,
                  48.8892968
                 ],
                 [
                  2.2915042,
                  48.8894591
                 ],
                 [
                  2.2916837,
                  48.8894788
                 ],
                 [
                  2.2927237,
                  48.8895994
                 ],
                 [
                  2.292944,
                  48.8896198
                 ],
                 [
                  2.2935121,
                  48.8896858
                 ],
                 [
                  2.2937036,
                  48.8897081
                 ],
                 [
                  2.2940331,
                  48.889748
                 ],
                 [
                  2.2940396,
                  48.8897487
                 ],
                 [
                  2.294239,
                  48.8897734
                 ],
                 [
                  2.2942516,
                  48.889775
                 ],
                 [
                  2.2943705,
                  48.8897883
                 ],
                 [
                  2.2950469,
                  48.8898692
                 ],
                 [
                  2.29556,
                  48.8901352
                 ],
                 [
                  2.2956134,
                  48.8901629
                 ],
                 [
                  2.2956666,
                  48.8901903
                 ],
                 [
                  2.2964596,
                  48.8905998
                 ],
                 [
                  2.2973247,
                  48.8910559
                 ],
                 [
                  2.2974274,
                  48.8911092
                 ],
                 [
                  2.2974716,
                  48.8911326
                 ],
                 [
                  2.2978671,
                  48.8913425
                 ],
                 [
                  2.2980112,
                  48.8914188
                 ],
                 [
                  2.2980293,
                  48.8914282
                 ],
                 [
                  2.2980951,
                  48.8914625
                 ],
                 [
                  2.2981869,
                  48.8915108
                 ],
                 [
                  2.2982029,
                  48.8915192
                 ],
                 [
                  2.2985613,
                  48.8917077
                 ],
                 [
                  2.2986328,
                  48.891742
                 ],
                 [
                  2.2989986,
                  48.8919132
                 ],
                 [
                  2.29906,
                  48.891942
                 ],
                 [
                  2.2993263,
                  48.8920679
                 ],
                 [
                  2.2994757,
                  48.8921386
                 ],
                 [
                  2.2996847,
                  48.8922374
                 ],
                 [
                  2.2998265,
                  48.8923037
                 ],
                 [
                  2.3000303,
                  48.892399
                 ],
                 [
                  2.3003454,
                  48.8925463
                 ],
                 [
                  2.3004252,
                  48.8925831
                 ],
                 [
                  2.300466,
                  48.8926015
                 ],
                 [
                  2.3006258,
                  48.8926735
                 ],
                 [
                  2.3015592,
                  48.8931164
                 ],
                 [
                  2.3032772,
                  48.8939169
                 ],
                 [
                  2.3033949,
                  48.8939748
                 ],
                 [
                  2.3037933,
                  48.8941706
                 ],
                 [
                  2.3054722,
                  48.894968
                 ],
                 [
                  2.3056499,
                  48.8950524
                 ],
                 [
                  2.3060163,
                  48.895227
                 ],
                 [
                  2.3071852,
                  48.895784
                 ],
                 [
                  2.3073107,
                  48.8958473
                 ],
                 [
                  2.3075545,
                  48.8959598
                 ],
                 [
                  2.3076111,
                  48.8959813
                 ],
                 [
                  2.3076874,
                  48.8960103
                 ],
                 [
                  2.3077462,
                  48.8960324
                 ],
                 [
                  2.3078196,
                  48.89606
                 ],
                 [
                  2.3078748,
                  48.8960808
                 ],
                 [
                  2.3079848,
                  48.8961221
                 ],
                 [
                  2.3095441,
                  48.896708
                 ],
                 [
                  2.3118553,
                  48.897577
                 ],
                 [
                  2.3123423,
                  48.8977601
                 ],
                 [
                  2.3130853,
                  48.8979785
                 ],
                 [
                  2.3134018,
                  48.8980716
                 ],
                 [
                  2.3152945,
                  48.8986503
                 ],
                 [
                  2.316169,
                  48.8989407
                 ],
                 [
                  2.3185322,
                  48.8996333
                 ],
                 [
                  2.3187182,
                  48.8997442
                 ],
                 [
                  2.319099,
                  48.8999762
                 ],
                 [
                  2.3198901,
                  48.9004581
                 ],
                 [
                  2.3202377,
                  48.9006804
                 ],
                 [
                  2.3203575,
                  48.9007571
                 ],
                 [
                  2.3213033,
                  48.9007949
                 ],
                 [
                  2.3222857,
                  48.9008264
                 ],
                 [
                  2.3240848,
                  48.9008857
                 ],
                 [
                  2.3258801,
                  48.9009525
                 ],
                 [
                  2.3277816,
                  48.9009897
                 ],
                 [
                  2.3301825,
                  48.901028
                 ],
                 [
                  2.334615,
                  48.9011357
                 ],
                 [
                  2.3346298,
                  48.9011361
                 ],
                 [
                  2.3346874,
                  48.9011373
                 ],
                 [
                  2.3347159,
                  48.9011379
                 ],
                 [
                  2.3348349,
                  48.9011408
                 ],
                 [
                  2.335107,
                  48.9011475
                 ],
                 [
                  2.3352678,
                  48.9011501
                 ],
                 [
                  2.3353792,
                  48.9011527
                 ],
                 [
                  2.3354308,
                  48.9011537
                 ],
                 [
                  2.3354926,
                  48.9011552
                 ],
                 [
                  2.3355071,
                  48.9011554
                 ],
                 [
                  2.3356163,
                  48.9011577
                 ],
                 [
                  2.3356538000000002,
                  48.9011583
                 ],
                 [
                  2.3358319,
                  48.9011621
                 ],
                 [
                  2.3360335,
                  48.9011669
                 ],
                 [
                  2.3360627,
                  48.9011676
                 ],
                 [
                  2.3361724,
                  48.9011702
                 ],
                 [
                  2.336375,
                  48.9011751
                 ],
                 [
                  2.336543,
                  48.9011783
                 ],
                 [
                  2.3365958,
                  48.9011794
                 ],
                 [
                  2.3367056,
                  48.9011817
                 ],
                 [
                  2.336717,
                  48.9011819
                 ],
                 [
                  2.3367567,
                  48.9011829
                 ],
                 [
                  2.3369673,
                  48.9011881
                 ],
                 [
                  2.3371368,
                  48.9011927
                 ],
                 [
                  2.3371435,
                  48.9011929
                 ],
                 [
                  2.3372745,
                  48.9011971
                 ],
                 [
                  2.3441096999999997,
                  48.9013303
                 ],
                 [
                  2.3480617,
                  48.9014138
                 ],
                 [
                  2.3519495,
                  48.9014916
                 ],
                 [
                  2.3519837,
                  48.9014931
                 ],
                 [
                  2.3530999,
                  48.9015069
                 ],
                 [
                  2.3532526,
                  48.9015126
                 ],
                 [
                  2.3550659,
                  48.9015474
                 ],
                 [
                  2.3578445,
                  48.9016087
                 ],
                 [
                  2.3588508,
                  48.901624
                 ],
                 [
                  2.3615108,
                  48.9016786
                 ],
                 [
                  2.3617146,
                  48.9016827
                 ],
                 [
                  2.3619858,
                  48.9016883
                 ],
                 [
                  2.3656078,
                  48.9017625
                 ],
                 [
                  2.370105,
                  48.9018542
                 ],
                 [
                  2.3702923,
                  48.90186
                 ],
                 [
                  2.3715507,
                  48.9018858
                 ],
                 [
                  2.3759783,
                  48.9019808
                 ],
                 [
                  2.3790003,
                  48.9020474
                 ],
                 [
                  2.380076,
                  48.9020689
                 ],
                 [
                  2.3844292,
                  48.902156
                 ],
                 [
                  2.3849847,
                  48.9020514
                 ],
                 [
                  2.386186,
                  48.9018252
                 ],
                 [
                  2.3872399,
                  48.9016274
                 ],
                 [
                  2.3892039,
                  48.901259
                 ],
                 [
                  2.3893895,
                  48.9012193
                 ],
                 [
                  2.390567,
                  48.9010035
                 ],
                 [
                  2.3906903,
                  48.900981
                 ],
                 [
                  2.3912104,
                  48.9006945
                 ],
                 [
                  2.3912181,
                  48.9006901
                 ],
                 [
                  2.3912231999999998,
                  48.9006873
                 ],
                 [
                  2.3912782999999997,
                  48.9006562
                 ],
                 [
                  2.39374,
                  48.8992669
                 ],
                 [
                  2.3955273,
                  48.8982616
                 ],
                 [
                  2.3957809,
                  48.8978504
                 ],
                 [
                  2.3960266,
                  48.8974516
                 ],
                 [
                  2.396441,
                  48.8967793
                 ],
                 [
                  2.3964597,
                  48.8967483
                 ],
                 [
                  2.3969294,
                  48.895982
                 ],
                 [
                  2.3969976,
                  48.8958672
                 ],
                 [
                  2.397026,
                  48.8958205
                 ],
                 [
                  2.3970729,
                  48.8957431
                 ],
                 [
                  2.397727,
                  48.8946512
                 ],
                 [
                  2.3977623,
                  48.8945923
                 ],
                 [
                  2.3980139,
                  48.8936755
                 ],
                 [
                  2.3980215,
                  48.8936458
                 ],
                 [
                  2.3980284,
                  48.8936194
                 ],
                 [
                  2.398046,
                  48.893558
                 ],
                 [
                  2.3980795,
                  48.8934363
                 ],
                 [
                  2.3981193,
                  48.8932835
                 ],
                 [
                  2.398286,
                  48.8926312
                 ],
                 [
                  2.3986236,
                  48.8913434
                 ],
                 [
                  2.3987974,
                  48.89024
                 ],
                 [
                  2.3989125,
                  48.8895601
                 ],
                 [
                  2.3991662,
                  48.8883266
                 ],
                 [
                  2.399187,
                  48.8882317
                 ],
                 [
                  2.3991914,
                  48.8876709
                 ],
                 [
                  2.3991918,
                  48.8876325
                 ],
                 [
                  2.3992027,
                  48.8867094
                 ],
                 [
                  2.3992041,
                  48.8865379
                 ],
                 [
                  2.3992053,
                  48.8863475
                 ],
                 [
                  2.3992055,
                  48.8863277
                 ],
                 [
                  2.3992061,
                  48.8862896
                 ],
                 [
                  2.3992067,
                  48.8862375
                 ],
                 [
                  2.3992053,
                  48.8858667
                 ],
                 [
                  2.399206,
                  48.8858502
                 ],
                 [
                  2.3992138,
                  48.8854185
                 ],
                 [
                  2.4000892,
                  48.8838139
                 ],
                 [
                  2.40046,
                  48.8835019
                 ],
                 [
                  2.4014666,
                  48.8826087
                 ],
                 [
                  2.4037145,
                  48.8814825
                 ],
                 [
                  2.4046095,
                  48.8812172
                 ],
                 [
                  2.4071367,
                  48.8805111
                 ],
                 [
                  2.4083756,
                  48.8803799
                 ],
                 [
                  2.4092903,
                  48.8802755
                 ],
                 [
                  2.4108364,
                  48.8784234
                 ],
                 [
                  2.4108559,
                  48.8784045
                 ],
                 [
                  2.4118562,
                  48.877152
                 ],
                 [
                  2.4125003,
                  48.8763788
                 ],
                 [
                  2.412525,
                  48.8762834
                 ],
                 [
                  2.4125297,
                  48.8762513
                 ],
                 [
                  2.4128442,
                  48.8752063
                 ],
                 [
                  2.4128549,
                  48.8751692
                 ],
                 [
                  2.4131542,
                  48.8741348
                 ],
                 [
                  2.4131861,
                  48.8740448
                 ],
                 [
                  2.4132183,
                  48.8739412
                 ],
                 [
                  2.4132894,
                  48.8736942
                 ],
                 [
                  2.4134012,
                  48.8733081
                 ],
                 [
                  2.4134472,
                  48.8731507
                 ],
                 [
                  2.4136293,
                  48.8724716
                 ],
                 [
                  2.4136461,
                  48.8724055
                 ],
                 [
                  2.4137226,
                  48.8716597
                 ],
                 [
                  2.4137851,
                  48.8708747
                 ],
                 [
                  2.4138209,
                  48.8705645
                 ],
                 [
                  2.4139452,
                  48.8695112
                 ],
                 [
                  2.4139679,
                  48.8693058
                 ],
                 [
                  2.4140042,
                  48.8689246
                 ],
                 [
                  2.4139667,
                  48.8678519
                 ],
                 [
                  2.413965,
                  48.8675931
                 ],
                 [
                  2.4139614,
                  48.8674618
                 ],
                 [
                  2.413912,
                  48.8656741
                 ],
                 [
                  2.4138943,
                  48.8651715
                 ],
                 [
                  2.4138599,
                  48.8640705
                 ],
                 [
                  2.4139019,
                  48.8637647
                 ],
                 [
                  2.4139144,
                  48.8636722
                 ],
                 [
                  2.4139599,
                  48.863334
                 ],
                 [
                  2.4140589,
                  48.8625711
                 ],
                 [
                  2.4145003,
                  48.8598239
                 ],
                 [
                  2.4146685,
                  48.8588654
                 ],
                 [
                  2.4147117,
                  48.8587061
                 ],
                 [
                  2.4148508,
                  48.8577988
                 ],
                 [
                  2.4149658,
                  48.8570845
                 ],
                 [
                  2.4151669,
                  48.8558675
                 ],
                 [
                  2.4152668999999998,
                  48.8552629
                 ],
                 [
                  2.4152827,
                  48.8551803
                 ],
                 [
                  2.4153405,
                  48.8548473
                 ],
                 [
                  2.4154609,
                  48.8542264
                 ],
                 [
                  2.415524,
                  48.8539324
                 ],
                 [
                  2.4155987,
                  48.8534671
                 ],
                 [
                  2.4157102999999998,
                  48.8527876
                 ],
                 [
                  2.4158824,
                  48.8518014
                 ],
                 [
                  2.4160139,
                  48.850994
                 ],
                 [
                  2.416038,
                  48.8508465
                 ],
                 [
                  2.4161976,
                  48.8498896
                 ],
                 [
                  2.4163604,
                  48.8492351
                 ],
                 [
                  2.4164374,
                  48.8487895
                 ],
                 [
                  2.4164078,
                  48.8486413
                 ],
                 [
                  2.4164034,
                  48.8486194
                 ],
                 [
                  2.4163914,
                  48.8485641
                 ],
                 [
                  2.4163563999999997,
                  48.8483846
                 ],
                 [
                  2.4163042,
                  48.8481235
                 ],
                 [
                  2.4162954,
                  48.8480794
                 ],
                 [
                  2.4162624,
                  48.8479143
                 ],
                 [
                  2.4162557,
                  48.8478811
                 ],
                 [
                  2.4162005,
                  48.847605
                 ],
                 [
                  2.4161931,
                  48.8475679
                 ],
                 [
                  2.4161844,
                  48.8475243
                 ],
                 [
                  2.4161771,
                  48.847488
                 ],
                 [
                  2.4161592,
                  48.8473985
                 ],
                 [
                  2.4161555999999997,
                  48.8473806
                 ],
                 [
                  2.4161381,
                  48.8472933
                 ],
                 [
                  2.416119,
                  48.8472048
                 ],
                 [
                  2.4160713,
                  48.8469823
                 ],
                 [
                  2.4159924999999998,
                  48.8466141
                 ],
                 [
                  2.4159592,
                  48.8465376
                 ],
                 [
                  2.4159441,
                  48.8464432
                 ],
                 [
                  2.4158669,
                  48.8459597
                 ],
                 [
                  2.4158594,
                  48.8459217
                 ],
                 [
                  2.4158087999999998,
                  48.845667399999996
                 ],
                 [
                  2.4157915,
                  48.845581
                 ],
                 [
                  2.4157929,
                  48.8455794
                 ],
                 [
                  2.4157654,
                  48.8454469
                 ],
                 [
                  2.4157465,
                  48.8453599
                 ],
                 [
                  2.4157227,
                  48.8452458
                 ],
                 [
                  2.4156926,
                  48.8451059
                 ],
                 [
                  2.4153127,
                  48.8438715
                 ],
                 [
                  2.4153056,
                  48.8438487
                 ],
                 [
                  2.4152498,
                  48.843665
                 ],
                 [
                  2.4152089,
                  48.8435303
                 ],
                 [
                  2.4151811,
                  48.8434373
                 ],
                 [
                  2.4151778999999998,
                  48.8434269
                 ],
                 [
                  2.415142,
                  48.8433199
                 ],
                 [
                  2.4144914,
                  48.8412349
                 ],
                 [
                  2.4143497,
                  48.8407524
                 ],
                 [
                  2.4143134,
                  48.8406323
                 ],
                 [
                  2.4142862,
                  48.840537
                 ],
                 [
                  2.4142573,
                  48.8404383
                 ],
                 [
                  2.4142499,
                  48.8404131
                 ],
                 [
                  2.4140655,
                  48.8397848
                 ],
                 [
                  2.414057,
                  48.8397453
                 ],
                 [
                  2.413979,
                  48.8394953
                 ],
                 [
                  2.4139569,
                  48.8394154
                 ],
                 [
                  2.4139342,
                  48.8393326
                 ],
                 [
                  2.4139277,
                  48.8393105
                 ],
                 [
                  2.4139049999999997,
                  48.839233
                 ],
                 [
                  2.413898,
                  48.8392091
                 ],
                 [
                  2.4138875,
                  48.8391732
                 ],
                 [
                  2.4138588,
                  48.8390754
                 ],
                 [
                  2.4138484,
                  48.8390399
                 ],
                 [
                  2.4138157,
                  48.8389282
                 ],
                 [
                  2.4138044,
                  48.8388899
                 ],
                 [
                  2.4137922,
                  48.8388481
                 ],
                 [
                  2.4137822,
                  48.8388141
                 ],
                 [
                  2.413719,
                  48.8385985
                 ],
                 [
                  2.4136412,
                  48.8383331
                 ],
                 [
                  2.4135969,
                  48.8381827
                 ],
                 [
                  2.4135428,
                  48.8379881
                 ],
                 [
                  2.4135331,
                  48.8379541
                 ],
                 [
                  2.4135128999999997,
                  48.8378838
                 ],
                 [
                  2.4133719,
                  48.8375096
                 ],
                 [
                  2.4133474,
                  48.8374388
                 ],
                 [
                  2.4133095,
                  48.837337
                 ],
                 [
                  2.4131424,
                  48.8368954
                 ],
                 [
                  2.4131004,
                  48.8367846
                 ],
                 [
                  2.4130361,
                  48.8366109
                 ],
                 [
                  2.4130221,
                  48.8365726
                 ],
                 [
                  2.4130023,
                  48.8365188
                 ],
                 [
                  2.4129803,
                  48.8364593
                 ],
                 [
                  2.4129586,
                  48.8364003
                 ],
                 [
                  2.4129238,
                  48.8363064
                 ],
                 [
                  2.4128577,
                  48.8361171
                 ],
                 [
                  2.4128197,
                  48.8360143
                 ],
                 [
                  2.4127861,
                  48.8359233
                 ],
                 [
                  2.4127744,
                  48.8358916
                 ],
                 [
                  2.4124881,
                  48.8351162
                 ],
                 [
                  2.4124103999999997,
                  48.8349173
                 ],
                 [
                  2.4122756,
                  48.8345479
                 ],
                 [
                  2.4119259,
                  48.8343242
                 ],
                 [
                  2.4114,
                  48.833972
                 ],
                 [
                  2.4113208999999998,
                  48.833917
                 ],
                 [
                  2.4112276,
                  48.8338666
                 ],
                 [
                  2.4114268,
                  48.8338326
                 ],
                 [
                  2.4127938,
                  48.833631
                 ],
                 [
                  2.4131253,
                  48.8336049
                 ],
                 [
                  2.4134256,
                  48.8335871
                 ],
                 [
                  2.4136525,
                  48.8335769
                 ],
                 [
                  2.4139055,
                  48.8335711
                 ],
                 [
                  2.4141386,
                  48.833571
                 ],
                 [
                  2.4143692,
                  48.8335759
                 ],
                 [
                  2.4146219,
                  48.8335877
                 ],
                 [
                  2.4148829,
                  48.8336055
                 ],
                 [
                  2.4151222,
                  48.833626
                 ],
                 [
                  2.4153615,
                  48.8336512
                 ],
                 [
                  2.4156076,
                  48.8336823
                 ],
                 [
                  2.4158614,
                  48.8337185
                 ],
                 [
                  2.4161106,
                  48.833761
                 ],
                 [
                  2.4163435,
                  48.8338049
                 ],
                 [
                  2.4166365,
                  48.8338658
                 ],
                 [
                  2.4168863,
                  48.8339254
                 ],
                 [
                  2.4171162,
                  48.8339854
                 ],
                 [
                  2.4173318,
                  48.8340448
                 ],
                 [
                  2.4188687,
                  48.8345183
                 ],
                 [
                  2.4216018999999998,
                  48.8355527
                 ],
                 [
                  2.4221083,
                  48.83578
                 ],
                 [
                  2.4221763,
                  48.8358143
                 ],
                 [
                  2.4216968,
                  48.8366691
                 ],
                 [
                  2.4216385,
                  48.8368104
                 ],
                 [
                  2.4215632,
                  48.8370386
                 ],
                 [
                  2.4215306,
                  48.83715
                 ],
                 [
                  2.4214238999999997,
                  48.8377072
                 ],
                 [
                  2.4213,
                  48.8382468
                 ],
                 [
                  2.4212226,
                  48.8385555
                 ],
                 [
                  2.421074,
                  48.8390539
                 ],
                 [
                  2.4209918999999998,
                  48.8393016
                 ],
                 [
                  2.4208564,
                  48.8396534
                 ],
                 [
                  2.4207248999999997,
                  48.839946499999996
                 ],
                 [
                  2.4206044,
                  48.8401879
                 ],
                 [
                  2.4204178,
                  48.8404984
                 ],
                 [
                  2.4203843,
                  48.8405539
                 ],
                 [
                  2.4202690000000002,
                  48.840693
                 ],
                 [
                  2.4200343,
                  48.8408961
                 ],
                 [
                  2.419858,
                  48.8410675
                 ],
                 [
                  2.4195701,
                  48.8415358
                 ],
                 [
                  2.4194237,
                  48.8424867
                 ],
                 [
                  2.4195372,
                  48.8426934
                 ],
                 [
                  2.4195776,
                  48.8427352
                 ],
                 [
                  2.4196351,
                  48.8427756
                 ],
                 [
                  2.4197109,
                  48.8428349
                 ],
                 [
                  2.4197727,
                  48.8428955
                 ],
                 [
                  2.4198245,
                  48.8429555
                 ],
                 [
                  2.4198733,
                  48.8430323
                 ],
                 [
                  2.4199038,
                  48.8431027
                 ],
                 [
                  2.4199144,
                  48.8431492
                 ],
                 [
                  2.4199206,
                  48.8432328
                 ],
                 [
                  2.4199177,
                  48.8432968
                 ],
                 [
                  2.4199052,
                  48.8433561
                 ],
                 [
                  2.4198823,
                  48.8434266
                 ],
                 [
                  2.4221064,
                  48.844498
                 ],
                 [
                  2.4223441,
                  48.8443737
                 ],
                 [
                  2.4224549,
                  48.8442955
                 ],
                 [
                  2.4225741,
                  48.8441997
                 ],
                 [
                  2.4227583,
                  48.8440059
                 ],
                 [
                  2.4228582,
                  48.8438881
                 ],
                 [
                  2.4229404,
                  48.8437789
                 ],
                 [
                  2.4230659,
                  48.8435911
                 ],
                 [
                  2.4231928,
                  48.8434022
                 ],
                 [
                  2.423478,
                  48.8429793
                 ],
                 [
                  2.4237003,
                  48.842686
                 ],
                 [
                  2.4240616,
                  48.8423349
                 ],
                 [
                  2.4245669,
                  48.841947
                 ],
                 [
                  2.4248157,
                  48.8419003
                 ],
                 [
                  2.4247605,
                  48.8417695
                 ],
                 [
                  2.4250455,
                  48.841725
                 ],
                 [
                  2.4250912,
                  48.8417201
                 ],
                 [
                  2.4255748,
                  48.84168
                 ],
                 [
                  2.4275631,
                  48.8415092
                 ],
                 [
                  2.4282675,
                  48.8414483
                 ],
                 [
                  2.4324459,
                  48.8410907
                 ],
                 [
                  2.4336379,
                  48.8409864
                 ],
                 [
                  2.4336793,
                  48.8411933
                 ],
                 [
                  2.4339621,
                  48.8411692
                 ],
                 [
                  2.4341386,
                  48.8411542
                 ],
                 [
                  2.4371919,
                  48.8408913
                 ],
                 [
                  2.4372727,
                  48.8412909
                 ],
                 [
                  2.4375339,
                  48.8425655
                 ],
                 [
                  2.4375527999999997,
                  48.8426581
                 ],
                 [
                  2.4378988,
                  48.8443708
                 ],
                 [
                  2.4379406,
                  48.8445688
                 ],
                 [
                  2.4393834,
                  48.8444429
                 ],
                 [
                  2.4405117,
                  48.8443462
                 ],
                 [
                  2.440577,
                  48.8446958
                 ],
                 [
                  2.4405928,
                  48.844776
                 ],
                 [
                  2.4405999,
                  48.8448104
                 ],
                 [
                  2.4406084999999997,
                  48.8448545
                 ],
                 [
                  2.4406162,
                  48.8448879
                 ],
                 [
                  2.4408087,
                  48.8448716
                 ],
                 [
                  2.4408737,
                  48.8452101
                 ],
                 [
                  2.4407416,
                  48.8452087
                 ],
                 [
                  2.4406947,
                  48.8452082
                 ],
                 [
                  2.4407662,
                  48.8459165
                 ],
                 [
                  2.4465261,
                  48.8457499
                 ],
                 [
                  2.4465525,
                  48.8457294
                 ],
                 [
                  2.4464103,
                  48.8449317
                 ],
                 [
                  2.4478414,
                  48.8447921
                 ],
                 [
                  2.4493917,
                  48.8446367
                 ],
                 [
                  2.4522022,
                  48.8442275
                 ],
                 [
                  2.4536734,
                  48.8440233
                 ],
                 [
                  2.4580644,
                  48.8434559
                 ],
                 [
                  2.4596988,
                  48.8431435
                 ],
                 [
                  2.4608392,
                  48.8429217
                 ],
                 [
                  2.4611297,
                  48.8428536
                 ],
                 [
                  2.4617396,
                  48.8426945
                 ],
                 [
                  2.4622058,
                  48.8425514
                 ],
                 [
                  2.4627325,
                  48.8423677
                 ],
                 [
                  2.4632645,
                  48.8421665
                 ],
                 [
                  2.4638397,
                  48.841913
                 ],
                 [
                  2.4642296999999997,
                  48.8417134
                 ],
                 [
                  2.4645545,
                  48.8415233
                 ],
                 [
                  2.4649936,
                  48.841232
                 ],
                 [
                  2.4652874,
                  48.8410223
                 ],
                 [
                  2.4656632,
                  48.8407344
                 ],
                 [
                  2.4659364,
                  48.8405091
                 ],
                 [
                  2.4663775,
                  48.840114
                 ],
                 [
                  2.4665407,
                  48.8399408
                 ],
                 [
                  2.4672316,
                  48.8390936
                 ],
                 [
                  2.4684575,
                  48.8378711
                 ],
                 [
                  2.4693052,
                  48.8371196
                 ],
                 [
                  2.4694169,
                  48.8370044
                 ],
                 [
                  2.4695047,
                  48.8368913
                 ],
                 [
                  2.4696975,
                  48.8365901
                 ],
                 [
                  2.4697215999999997,
                  48.8365474
                 ],
                 [
                  2.4697459,
                  48.836491
                 ],
                 [
                  2.4697573999999998,
                  48.836445499999996
                 ],
                 [
                  2.4697602,
                  48.836384699999996
                 ],
                 [
                  2.4697035,
                  48.8355555
                 ],
                 [
                  2.4696266,
                  48.8352842
                 ],
                 [
                  2.4694892,
                  48.8348337
                 ],
                 [
                  2.4693885,
                  48.8346145
                 ],
                 [
                  2.4692958,
                  48.8344541
                 ],
                 [
                  2.4691776,
                  48.8342828
                 ],
                 [
                  2.4690501,
                  48.8341223
                 ],
                 [
                  2.4689374,
                  48.8339906
                 ],
                 [
                  2.4687574,
                  48.833815
                 ],
                 [
                  2.4685897,
                  48.8336788
                 ],
                 [
                  2.4683752,
                  48.8335372
                 ],
                 [
                  2.4680973,
                  48.833399
                 ],
                 [
                  2.4676891,
                  48.8332163
                 ],
                 [
                  2.4667271,
                  48.8327215
                 ],
                 [
                  2.4664275,
                  48.8325222
                 ],
                 [
                  2.4660875,
                  48.8322528
                 ],
                 [
                  2.4658973,
                  48.8320719
                 ],
                 [
                  2.4657204999999998,
                  48.8318871
                 ],
                 [
                  2.4654908,
                  48.8316036
                 ],
                 [
                  2.4653606999999997,
                  48.8314052
                 ],
                 [
                  2.4652296,
                  48.8311513
                 ],
                 [
                  2.4651046,
                  48.8308407
                 ],
                 [
                  2.4649828,
                  48.8304476
                 ],
                 [
                  2.4646418,
                  48.8293647
                 ],
                 [
                  2.4645141,
                  48.8286098
                 ],
                 [
                  2.4645496,
                  48.8279406
                 ],
                 [
                  2.4646097,
                  48.8276268
                 ],
                 [
                  2.4649031,
                  48.8275733
                 ],
                 [
                  2.4650873,
                  48.8275398
                 ],
                 [
                  2.4652295,
                  48.8276698
                 ],
                 [
                  2.46543,
                  48.8275699
                 ],
                 [
                  2.4661776,
                  48.8273333
                 ],
                 [
                  2.4658461,
                  48.8264972
                 ],
                 [
                  2.465761,
                  48.8262824
                 ],
                 [
                  2.4656948,
                  48.8260717
                 ],
                 [
                  2.4653589,
                  48.8250035
                 ],
                 [
                  2.4651006,
                  48.8249857
                 ],
                 [
                  2.4651733,
                  48.8246935
                 ],
                 [
                  2.4652474,
                  48.8244957
                 ],
                 [
                  2.4647171,
                  48.8232775
                 ],
                 [
                  2.4646662,
                  48.8232738
                 ],
                 [
                  2.4629064,
                  48.8202031
                 ],
                 [
                  2.4626386,
                  48.8193436
                 ],
                 [
                  2.4625235,
                  48.819266999999996
                 ],
                 [
                  2.4628097,
                  48.819077
                 ],
                 [
                  2.4628031999999997,
                  48.8190282
                 ],
                 [
                  2.4613077,
                  48.8182984
                 ],
                 [
                  2.4597545,
                  48.8175402
                 ],
                 [
                  2.4591969,
                  48.8173344
                 ],
                 [
                  2.4592492999999997,
                  48.8172453
                 ],
                 [
                  2.4586327,
                  48.8170122
                 ],
                 [
                  2.4572152,
                  48.8170182
                 ],
                 [
                  2.454688,
                  48.8171307
                 ],
                 [
                  2.4545494,
                  48.8171369
                 ],
                 [
                  2.4538888,
                  48.8172212
                 ],
                 [
                  2.4533172,
                  48.8172941
                 ],
                 [
                  2.4508256,
                  48.8178086
                 ],
                 [
                  2.4496376,
                  48.817962
                 ],
                 [
                  2.4476125,
                  48.8180268
                 ],
                 [
                  2.4449831,
                  48.8179497
                 ],
                 [
                  2.442673,
                  48.8179576
                 ],
                 [
                  2.4421595,
                  48.8179762
                 ],
                 [
                  2.4416505,
                  48.8180389
                 ],
                 [
                  2.4400143,
                  48.8183507
                 ],
                 [
                  2.4398636,
                  48.8183635
                 ],
                 [
                  2.4397507,
                  48.8183664
                 ],
                 [
                  2.4395917,
                  48.8183629
                 ],
                 [
                  2.4373499,
                  48.818219
                 ],
                 [
                  2.437387,
                  48.8185935
                 ],
                 [
                  2.437425,
                  48.8188266
                 ],
                 [
                  2.4374703,
                  48.8191047
                 ],
                 [
                  2.4373606,
                  48.8191833
                 ],
                 [
                  2.4372529,
                  48.8192433
                 ],
                 [
                  2.4370878,
                  48.8193167
                 ],
                 [
                  2.4369678,
                  48.8193634
                 ],
                 [
                  2.4367627,
                  48.8194299
                 ],
                 [
                  2.4364604,
                  48.8195157
                 ],
                 [
                  2.4362661,
                  48.8195603
                 ],
                 [
                  2.4361091999999998,
                  48.8195849
                 ],
                 [
                  2.4359635,
                  48.8196001
                 ],
                 [
                  2.4351649,
                  48.8196494
                 ],
                 [
                  2.4351352,
                  48.8196472
                 ],
                 [
                  2.4350769,
                  48.8196336
                 ],
                 [
                  2.4349332,
                  48.819591
                 ],
                 [
                  2.4348187,
                  48.8195443
                 ],
                 [
                  2.4345004,
                  48.8193731
                 ],
                 [
                  2.4343233,
                  48.8193853
                 ],
                 [
                  2.43418,
                  48.8192813
                 ],
                 [
                  2.4342696999999998,
                  48.8199244
                 ],
                 [
                  2.4343025,
                  48.820156
                 ],
                 [
                  2.4324743,
                  48.8214199
                 ],
                 [
                  2.4328895,
                  48.8216903
                 ],
                 [
                  2.432624,
                  48.8219015
                 ],
                 [
                  2.4321897,
                  48.8216183
                 ],
                 [
                  2.4321532,
                  48.8216437
                 ],
                 [
                  2.4303715,
                  48.8228804
                 ],
                 [
                  2.4305491,
                  48.8230771
                 ],
                 [
                  2.4306204,
                  48.8231558
                 ],
                 [
                  2.4306910999999998,
                  48.8232341
                 ],
                 [
                  2.4302391,
                  48.8234025
                 ],
                 [
                  2.4297507,
                  48.8235653
                 ],
                 [
                  2.4292496999999997,
                  48.8237086
                 ],
                 [
                  2.4289465,
                  48.8237863
                 ],
                 [
                  2.4283754,
                  48.8239123
                 ],
                 [
                  2.4278324,
                  48.8240111
                 ],
                 [
                  2.4271517,
                  48.8241114
                 ],
                 [
                  2.4265005,
                  48.8241836
                 ],
                 [
                  2.4259570999999998,
                  48.824229
                 ],
                 [
                  2.4256512,
                  48.8242479
                 ],
                 [
                  2.4249496,
                  48.8242682
                 ],
                 [
                  2.4244749,
                  48.82427
                 ],
                 [
                  2.4239784,
                  48.8242591
                 ],
                 [
                  2.4228734,
                  48.824208
                 ],
                 [
                  2.422527,
                  48.8241911
                 ],
                 [
                  2.4219893,
                  48.8241649
                 ],
                 [
                  2.4217807000000002,
                  48.8241548
                 ],
                 [
                  2.4217075,
                  48.8241527
                 ],
                 [
                  2.4208099,
                  48.824127
                 ],
                 [
                  2.4203538,
                  48.8241284
                 ],
                 [
                  2.4199463,
                  48.8241522
                 ],
                 [
                  2.4198698,
                  48.8241585
                 ],
                 [
                  2.4195332,
                  48.8242058
                 ],
                 [
                  2.419036,
                  48.8242976
                 ],
                 [
                  2.4186791,
                  48.8243818
                 ],
                 [
                  2.4180741,
                  48.8245385
                 ],
                 [
                  2.4176275,
                  48.8246398
                 ],
                 [
                  2.4172152000000002,
                  48.8247202
                 ],
                 [
                  2.4167079,
                  48.824794
                 ],
                 [
                  2.4163895,
                  48.824825
                 ],
                 [
                  2.4160729,
                  48.8248443
                 ],
                 [
                  2.4156613,
                  48.8248575
                 ],
                 [
                  2.4151561,
                  48.8248594
                 ],
                 [
                  2.4146247,
                  48.8248465
                 ],
                 [
                  2.4138483,
                  48.824796
                 ],
                 [
                  2.4131933,
                  48.8247907
                 ],
                 [
                  2.4126165,
                  48.8248159
                 ],
                 [
                  2.4122981,
                  48.8248408
                 ],
                 [
                  2.4118361,
                  48.8248881
                 ],
                 [
                  2.4112922,
                  48.8249669
                 ],
                 [
                  2.4108039,
                  48.8250515
                 ],
                 [
                  2.410518,
                  48.825116
                 ],
                 [
                  2.4102555,
                  48.8251885
                 ],
                 [
                  2.4102443,
                  48.8251915
                 ],
                 [
                  2.4100481,
                  48.8252583
                 ],
                 [
                  2.4099036,
                  48.8253074
                 ],
                 [
                  2.4096218,
                  48.8254188
                 ],
                 [
                  2.4092442,
                  48.8255892
                 ],
                 [
                  2.4087713,
                  48.8258283
                 ],
                 [
                  2.4083082,
                  48.8260909
                 ],
                 [
                  2.4077059,
                  48.8264733
                 ],
                 [
                  2.4072826,
                  48.8267645
                 ],
                 [
                  2.4065165,
                  48.8273595
                 ],
                 [
                  2.4062282,
                  48.8275739
                 ],
                 [
                  2.4054525,
                  48.8281473
                 ],
                 [
                  2.4051945,
                  48.8283312
                 ],
                 [
                  2.404918,
                  48.8285174
                 ],
                 [
                  2.4045836,
                  48.828725
                 ],
                 [
                  2.4042667,
                  48.8289036
                 ],
                 [
                  2.4039186,
                  48.8290696
                 ],
                 [
                  2.4036628,
                  48.8291807
                 ],
                 [
                  2.4030824,
                  48.8294232
                 ],
                 [
                  2.4024879,
                  48.8296468
                 ],
                 [
                  2.4014939,
                  48.8293657
                 ],
                 [
                  2.4013057,
                  48.8293102
                 ],
                 [
                  2.4009961,
                  48.8292234
                 ],
                 [
                  2.3997742,
                  48.8288783
                 ],
                 [
                  2.3957464,
                  48.8277321
                 ],
                 [
                  2.3943522,
                  48.8275127
                 ],
                 [
                  2.3933003,
                  48.8270539
                 ],
                 [
                  2.393214,
                  48.8270163
                 ],
                 [
                  2.3909512,
                  48.8260324
                 ],
                 [
                  2.3902558,
                  48.8257262
                 ],
                 [
                  2.3897775,
                  48.8255203
                 ],
                 [
                  2.3888381,
                  48.8250197
                 ],
                 [
                  2.3888124,
                  48.8250059
                 ],
                 [
                  2.3871708,
                  48.8244232
                 ],
                 [
                  2.3851504,
                  48.8237014
                 ],
                 [
                  2.3839639999999997,
                  48.8232812
                 ],
                 [
                  2.3815135,
                  48.8224128
                 ],
                 [
                  2.3807452,
                  48.8216876
                 ],
                 [
                  2.3790587,
                  48.821139
                 ],
                 [
                  2.3778589,
                  48.820748
                 ],
                 [
                  2.3778096,
                  48.8207311
                 ],
                 [
                  2.3777749999999997,
                  48.8207192
                 ],
                 [
                  2.376025,
                  48.8201182
                 ],
                 [
                  2.3746098,
                  48.8196608
                 ],
                 [
                  2.3741539,
                  48.8195135
                 ],
                 [
                  2.3669818,
                  48.8172057
                 ],
                 [
                  2.3661678,
                  48.8169137
                 ],
                 [
                  2.3647313,
                  48.8164816
                 ],
                 [
                  2.3642488999999998,
                  48.8163268
                 ],
                 [
                  2.3634078,
                  48.8160593
                 ],
                 [
                  2.3566126,
                  48.8159806
                 ],
                 [
                  2.3559172999999998,
                  48.8159723
                 ],
                 [
                  2.3523989,
                  48.8185339
                 ],
                 [
                  2.3486893,
                  48.8167276
                 ],
                 [
                  2.3485475,
                  48.8166586
                 ],
                 [
                  2.3484942,
                  48.8166327
                 ],
                 [
                  2.3483611,
                  48.8165677
                 ],
                 [
                  2.3481887,
                  48.8164836
                 ],
                 [
                  2.3479768,
                  48.8163803
                 ],
                 [
                  2.3477868,
                  48.8162876
                 ],
                 [
                  2.347389,
                  48.8160944
                 ],
                 [
                  2.3471918,
                  48.8159982
                 ],
                 [
                  2.3469205,
                  48.8158654
                 ],
                 [
                  2.3466224,
                  48.8158942
                 ],
                 [
                  2.3464266,
                  48.8159133
                 ],
                 [
                  2.3444323,
                  48.8161064
                 ],
                 [
                  2.3444967,
                  48.8155755
                 ],
                 [
                  2.3439740000000002,
                  48.8157661
                 ],
                 [
                  2.3436497,
                  48.8158679
                 ],
                 [
                  2.3430541,
                  48.8160661
                 ],
                 [
                  2.3416672,
                  48.8163436
                 ],
                 [
                  2.3404582,
                  48.8164067
                 ],
                 [
                  2.3402932,
                  48.8164153
                 ],
                 [
                  2.3395286,
                  48.8164436
                 ],
                 [
                  2.3386643,
                  48.8164844
                 ],
                 [
                  2.3380169,
                  48.8165201
                 ],
                 [
                  2.3360472,
                  48.816624
                 ],
                 [
                  2.3355935,
                  48.8166544
                 ],
                 [
                  2.3353358,
                  48.8166748
                 ],
                 [
                  2.3352203,
                  48.8166827
                 ],
                 [
                  2.3351407,
                  48.8166868
                 ],
                 [
                  2.3349406999999998,
                  48.8166964
                 ],
                 [
                  2.3348307,
                  48.8167016
                 ],
                 [
                  2.3347207,
                  48.8167068
                 ],
                 [
                  2.3338206,
                  48.8167556
                 ],
                 [
                  2.3337086,
                  48.8167638
                 ],
                 [
                  2.3322415,
                  48.8169651
                 ],
                 [
                  2.3321297,
                  48.8169814
                 ],
                 [
                  2.3319782,
                  48.8170022
                 ],
                 [
                  2.33196,
                  48.8170041
                 ],
                 [
                  2.33192,
                  48.8170081
                 ],
                 [
                  2.3317414,
                  48.8170262
                 ],
                 [
                  2.3320935,
                  48.8176872
                 ],
                 [
                  2.3323719,
                  48.8182069
                 ],
                 [
                  2.3321646,
                  48.818259499999996
                 ],
                 [
                  2.3317783,
                  48.818344
                 ],
                 [
                  2.3315752,
                  48.8183899
                 ],
                 [
                  2.3312994,
                  48.8184489
                 ],
                 [
                  2.3308144,
                  48.8185552
                 ],
                 [
                  2.330793,
                  48.8185597
                 ],
                 [
                  2.3302868,
                  48.8186664
                 ],
                 [
                  2.3302117,
                  48.818683300000004
                 ],
                 [
                  2.3301822,
                  48.8186898
                 ],
                 [
                  2.3293502999999998,
                  48.8188782
                 ],
                 [
                  2.3292675,
                  48.8188951
                 ],
                 [
                  2.3274555,
                  48.8193015
                 ],
                 [
                  2.3269174,
                  48.8194224
                 ],
                 [
                  2.3268722,
                  48.8194324
                 ],
                 [
                  2.3268014,
                  48.8194458
                 ],
                 [
                  2.3266627,
                  48.8194772
                 ],
                 [
                  2.3266295,
                  48.8194848
                 ],
                 [
                  2.3263255,
                  48.819553
                 ],
                 [
                  2.3262721,
                  48.8195651
                 ],
                 [
                  2.3261186,
                  48.8195998
                 ],
                 [
                  2.3260856,
                  48.8196072
                 ],
                 [
                  2.325938,
                  48.8196405
                 ],
                 [
                  2.3257661,
                  48.8196803
                 ],
                 [
                  2.3255964000000002,
                  48.8197194
                 ],
                 [
                  2.3213172,
                  48.820676
                 ],
                 [
                  2.3210278,
                  48.8207397
                 ],
                 [
                  2.3208709,
                  48.8207739
                 ],
                 [
                  2.3206348,
                  48.8208256
                 ],
                 [
                  2.3198358,
                  48.8210035
                 ],
                 [
                  2.3191231,
                  48.8211615
                 ],
                 [
                  2.3187898000000002,
                  48.8212354
                 ],
                 [
                  2.3187512999999997,
                  48.8212439
                 ],
                 [
                  2.3187249,
                  48.8212497
                 ],
                 [
                  2.3187012,
                  48.821255
                 ],
                 [
                  2.3183848,
                  48.8213252
                 ],
                 [
                  2.3183325999999997,
                  48.8213367
                 ],
                 [
                  2.318011,
                  48.8214081
                 ],
                 [
                  2.3168502,
                  48.8216633
                 ],
                 [
                  2.3147320000000002,
                  48.8221407
                 ],
                 [
                  2.3145538,
                  48.822174
                 ],
                 [
                  2.3143633,
                  48.8222148
                 ],
                 [
                  2.314133,
                  48.8222632
                 ],
                 [
                  2.3138,
                  48.8223339
                 ],
                 [
                  2.3133907,
                  48.8224326
                 ],
                 [
                  2.3133857,
                  48.822426899999996
                 ],
                 [
                  2.3130139,
                  48.8225108
                 ],
                 [
                  2.3115240999999997,
                  48.8228465
                 ],
                 [
                  2.3102584,
                  48.8231256
                 ],
                 [
                  2.308423,
                  48.823528
                 ],
                 [
                  2.3068117,
                  48.8238869
                 ],
                 [
                  2.3065022,
                  48.8239535
                 ],
                 [
                  2.3063461,
                  48.8239892
                 ],
                 [
                  2.305836,
                  48.8241052
                 ],
                 [
                  2.3043777,
                  48.8244361
                 ],
                 [
                  2.3041229,
                  48.8244931
                 ],
                 [
                  2.3040439,
                  48.824512
                 ],
                 [
                  2.3040035,
                  48.8245201
                 ],
                 [
                  2.3039804999999998,
                  48.8245257
                 ],
                 [
                  2.3023384,
                  48.8249028
                 ],
                 [
                  2.3017791,
                  48.8250223
                 ],
                 [
                  2.3013179,
                  48.8251252
                 ],
                 [
                  2.3007146,
                  48.8252543
                 ],
                 [
                  2.2976469,
                  48.8259109
                 ],
                 [
                  2.2942296,
                  48.8266901
                 ],
                 [
                  2.2922207,
                  48.8271379
                 ],
                 [
                  2.2920116999999998,
                  48.8272254
                 ],
                 [
                  2.2909034,
                  48.8276894
                 ],
                 [
                  2.2893877,
                  48.8283239
                 ],
                 [
                  2.2854691,
                  48.8299788
                 ],
                 [
                  2.2833629,
                  48.8308617
                 ],
                 [
                  2.2805217,
                  48.831905
                 ],
                 [
                  2.2790539,
                  48.8324454
                 ],
                 [
                  2.2763584,
                  48.8302146
                 ],
                 [
                  2.2757908000000002,
                  48.8297038
                 ],
                 [
                  2.2734265,
                  48.8283053
                 ],
                 [
                  2.2727442,
                  48.8279332
                 ],
                 [
                  2.2713364,
                  48.8279055
                 ],
                 [
                  2.2678061,
                  48.8278499
                 ],
                 [
                  2.2677743,
                  48.8278688
                 ],
                 [
                  2.2676048,
                  48.8279672
                 ],
                 [
                  2.2672998,
                  48.8315589
                 ],
                 [
                  2.2696717,
                  48.8328133
                 ],
                 [
                  2.2700296,
                  48.8330081
                 ],
                 [
                  2.2699508,
                  48.8330727
                 ],
                 [
                  2.2699135999999998,
                  48.8330986
                 ],
                 [
                  2.2688782,
                  48.8338148
                 ],
                 [
                  2.2683707,
                  48.8342121
                 ],
                 [
                  2.2679483,
                  48.8345762
                 ],
                 [
                  2.2674688,
                  48.8346265
                 ],
                 [
                  2.2669247,
                  48.8345171
                 ],
                 [
                  2.2661777,
                  48.8344521
                 ],
                 [
                  2.2649159,
                  48.834231
                 ],
                 [
                  2.264369,
                  48.8341436
                 ],
                 [
                  2.26296,
                  48.8338989
                 ],
                 [
                  2.2627756,
                  48.833918
                 ],
                 [
                  2.2620167,
                  48.8340107
                 ],
                 [
                  2.2616455,
                  48.834056
                 ],
                 [
                  2.2611656,
                  48.8341061
                 ],
                 [
                  2.2594654,
                  48.8343047
                 ],
                 [
                  2.2574584,
                  48.8345392
                 ],
                 [
                  2.2571083,
                  48.8345789
                 ],
                 [
                  2.2568401,
                  48.8346093
                 ],
                 [
                  2.2561684,
                  48.8346874
                 ],
                 [
                  2.2551536,
                  48.8348049
                 ],
                 [
                  2.2541951,
                  48.8359203
                 ],
                 [
                  2.2540884,
                  48.8360473
                 ],
                 [
                  2.2539355,
                  48.8362258
                 ],
                 [
                  2.2537826,
                  48.8364043
                 ],
                 [
                  2.2535027,
                  48.8367306
                 ],
                 [
                  2.2533993,
                  48.8368544
                 ],
                 [
                  2.2533008,
                  48.8369684
                 ],
                 [
                  2.2532107,
                  48.8370758
                 ],
                 [
                  2.253014,
                  48.8373102
                 ],
                 [
                  2.2523049,
                  48.8381357
                 ],
                 [
                  2.2522186,
                  48.838236
                 ],
                 [
                  2.2520858,
                  48.8383916
                 ],
                 [
                  2.2520553,
                  48.8384273
                 ],
                 [
                  2.2516489,
                  48.8389057
                 ],
                 [
                  2.2516067,
                  48.8392844
                 ],
                 [
                  2.2515939,
                  48.839405
                 ],
                 [
                  2.2515681,
                  48.839646
                 ],
                 [
                  2.2515678,
                  48.8396486
                 ],
                 [
                  2.2515423,
                  48.8398869
                 ],
                 [
                  2.2515293,
                  48.8400073
                 ],
                 [
                  2.251493,
                  48.8403643
                 ],
                 [
                  2.2514061,
                  48.8411522
                 ],
                 [
                  2.2513016,
                  48.8420892
                 ],
                 [
                  2.2512996,
                  48.8421089
                 ],
                 [
                  2.251272,
                  48.8423976
                 ],
                 [
                  2.2512194,
                  48.8428913
                 ],
                 [
                  2.2525351000000002,
                  48.8455693
                 ],
                 [
                  2.2509426,
                  48.8456004
                 ],
                 [
                  2.2509157,
                  48.8456
                 ],
                 [
                  2.250872,
                  48.8456004
                 ],
                 [
                  2.2508284,
                  48.8456087
                 ],
                 [
                  2.2506759,
                  48.8456267
                 ],
                 [
                  2.2505438,
                  48.8456557
                 ],
                 [
                  2.2504945,
                  48.8456704
                 ],
                 [
                  2.2504219,
                  48.845688
                 ],
                 [
                  2.2497544,
                  48.8458481
                 ],
                 [
                  2.2478828,
                  48.8463268
                 ],
                 [
                  2.2467289,
                  48.8466377
                 ],
                 [
                  2.245559,
                  48.846937
                 ],
                 [
                  2.2430007,
                  48.8475951
                 ],
                 [
                  2.2424666,
                  48.847731
                 ],
                 [
                  2.242352,
                  48.8478301
                 ],
                 [
                  2.2420888,
                  48.848059
                 ],
                 [
                  2.2415952,
                  48.8484902
                 ],
                 [
                  2.2415171,
                  48.8485576
                 ],
                 [
                  2.2415047,
                  48.8485684
                 ],
                 [
                  2.2414248,
                  48.8486374
                 ],
                 [
                  2.2403097,
                  48.8496003
                 ],
                 [
                  2.2401177,
                  48.8497482
                 ],
                 [
                  2.2399503,
                  48.8498535
                 ],
                 [
                  2.2396971,
                  48.8499781
                 ],
                 [
                  2.239558,
                  48.8500378
                 ],
                 [
                  2.2393244,
                  48.8501069
                 ],
                 [
                  2.239084,
                  48.8501601
                 ],
                 [
                  2.2381442,
                  48.8503672
                 ],
                 [
                  2.2377999,
                  48.8504401
                 ],
                 [
                  2.2263608,
                  48.8529593
                 ],
                 [
                  2.2255595,
                  48.8531357
                 ],
                 [
                  2.2241686,
                  48.8534419
                 ]
                ]
               ],
               "type": "Polygon"
              },
              "type": "Feature"
             }
            ],
            "type": "FeatureCollection"
           },
           "type": "line"
          }
         ],
         "style": "stamen-terrain",
         "zoom": 12
        },
        "margin": {
         "b": 0,
         "l": 0,
         "r": 0,
         "t": 0
        },
        "template": {
         "data": {
          "bar": [
           {
            "error_x": {
             "color": "#2a3f5f"
            },
            "error_y": {
             "color": "#2a3f5f"
            },
            "marker": {
             "line": {
              "color": "#E5ECF6",
              "width": 0.5
             },
             "pattern": {
              "fillmode": "overlay",
              "size": 10,
              "solidity": 0.2
             }
            },
            "type": "bar"
           }
          ],
          "barpolar": [
           {
            "marker": {
             "line": {
              "color": "#E5ECF6",
              "width": 0.5
             },
             "pattern": {
              "fillmode": "overlay",
              "size": 10,
              "solidity": 0.2
             }
            },
            "type": "barpolar"
           }
          ],
          "carpet": [
           {
            "aaxis": {
             "endlinecolor": "#2a3f5f",
             "gridcolor": "white",
             "linecolor": "white",
             "minorgridcolor": "white",
             "startlinecolor": "#2a3f5f"
            },
            "baxis": {
             "endlinecolor": "#2a3f5f",
             "gridcolor": "white",
             "linecolor": "white",
             "minorgridcolor": "white",
             "startlinecolor": "#2a3f5f"
            },
            "type": "carpet"
           }
          ],
          "choropleth": [
           {
            "colorbar": {
             "outlinewidth": 0,
             "ticks": ""
            },
            "type": "choropleth"
           }
          ],
          "contour": [
           {
            "colorbar": {
             "outlinewidth": 0,
             "ticks": ""
            },
            "colorscale": [
             [
              0,
              "#0d0887"
             ],
             [
              0.1111111111111111,
              "#46039f"
             ],
             [
              0.2222222222222222,
              "#7201a8"
             ],
             [
              0.3333333333333333,
              "#9c179e"
             ],
             [
              0.4444444444444444,
              "#bd3786"
             ],
             [
              0.5555555555555556,
              "#d8576b"
             ],
             [
              0.6666666666666666,
              "#ed7953"
             ],
             [
              0.7777777777777778,
              "#fb9f3a"
             ],
             [
              0.8888888888888888,
              "#fdca26"
             ],
             [
              1,
              "#f0f921"
             ]
            ],
            "type": "contour"
           }
          ],
          "contourcarpet": [
           {
            "colorbar": {
             "outlinewidth": 0,
             "ticks": ""
            },
            "type": "contourcarpet"
           }
          ],
          "heatmap": [
           {
            "colorbar": {
             "outlinewidth": 0,
             "ticks": ""
            },
            "colorscale": [
             [
              0,
              "#0d0887"
             ],
             [
              0.1111111111111111,
              "#46039f"
             ],
             [
              0.2222222222222222,
              "#7201a8"
             ],
             [
              0.3333333333333333,
              "#9c179e"
             ],
             [
              0.4444444444444444,
              "#bd3786"
             ],
             [
              0.5555555555555556,
              "#d8576b"
             ],
             [
              0.6666666666666666,
              "#ed7953"
             ],
             [
              0.7777777777777778,
              "#fb9f3a"
             ],
             [
              0.8888888888888888,
              "#fdca26"
             ],
             [
              1,
              "#f0f921"
             ]
            ],
            "type": "heatmap"
           }
          ],
          "heatmapgl": [
           {
            "colorbar": {
             "outlinewidth": 0,
             "ticks": ""
            },
            "colorscale": [
             [
              0,
              "#0d0887"
             ],
             [
              0.1111111111111111,
              "#46039f"
             ],
             [
              0.2222222222222222,
              "#7201a8"
             ],
             [
              0.3333333333333333,
              "#9c179e"
             ],
             [
              0.4444444444444444,
              "#bd3786"
             ],
             [
              0.5555555555555556,
              "#d8576b"
             ],
             [
              0.6666666666666666,
              "#ed7953"
             ],
             [
              0.7777777777777778,
              "#fb9f3a"
             ],
             [
              0.8888888888888888,
              "#fdca26"
             ],
             [
              1,
              "#f0f921"
             ]
            ],
            "type": "heatmapgl"
           }
          ],
          "histogram": [
           {
            "marker": {
             "pattern": {
              "fillmode": "overlay",
              "size": 10,
              "solidity": 0.2
             }
            },
            "type": "histogram"
           }
          ],
          "histogram2d": [
           {
            "colorbar": {
             "outlinewidth": 0,
             "ticks": ""
            },
            "colorscale": [
             [
              0,
              "#0d0887"
             ],
             [
              0.1111111111111111,
              "#46039f"
             ],
             [
              0.2222222222222222,
              "#7201a8"
             ],
             [
              0.3333333333333333,
              "#9c179e"
             ],
             [
              0.4444444444444444,
              "#bd3786"
             ],
             [
              0.5555555555555556,
              "#d8576b"
             ],
             [
              0.6666666666666666,
              "#ed7953"
             ],
             [
              0.7777777777777778,
              "#fb9f3a"
             ],
             [
              0.8888888888888888,
              "#fdca26"
             ],
             [
              1,
              "#f0f921"
             ]
            ],
            "type": "histogram2d"
           }
          ],
          "histogram2dcontour": [
           {
            "colorbar": {
             "outlinewidth": 0,
             "ticks": ""
            },
            "colorscale": [
             [
              0,
              "#0d0887"
             ],
             [
              0.1111111111111111,
              "#46039f"
             ],
             [
              0.2222222222222222,
              "#7201a8"
             ],
             [
              0.3333333333333333,
              "#9c179e"
             ],
             [
              0.4444444444444444,
              "#bd3786"
             ],
             [
              0.5555555555555556,
              "#d8576b"
             ],
             [
              0.6666666666666666,
              "#ed7953"
             ],
             [
              0.7777777777777778,
              "#fb9f3a"
             ],
             [
              0.8888888888888888,
              "#fdca26"
             ],
             [
              1,
              "#f0f921"
             ]
            ],
            "type": "histogram2dcontour"
           }
          ],
          "mesh3d": [
           {
            "colorbar": {
             "outlinewidth": 0,
             "ticks": ""
            },
            "type": "mesh3d"
           }
          ],
          "parcoords": [
           {
            "line": {
             "colorbar": {
              "outlinewidth": 0,
              "ticks": ""
             }
            },
            "type": "parcoords"
           }
          ],
          "pie": [
           {
            "automargin": true,
            "type": "pie"
           }
          ],
          "scatter": [
           {
            "fillpattern": {
             "fillmode": "overlay",
             "size": 10,
             "solidity": 0.2
            },
            "type": "scatter"
           }
          ],
          "scatter3d": [
           {
            "line": {
             "colorbar": {
              "outlinewidth": 0,
              "ticks": ""
             }
            },
            "marker": {
             "colorbar": {
              "outlinewidth": 0,
              "ticks": ""
             }
            },
            "type": "scatter3d"
           }
          ],
          "scattercarpet": [
           {
            "marker": {
             "colorbar": {
              "outlinewidth": 0,
              "ticks": ""
             }
            },
            "type": "scattercarpet"
           }
          ],
          "scattergeo": [
           {
            "marker": {
             "colorbar": {
              "outlinewidth": 0,
              "ticks": ""
             }
            },
            "type": "scattergeo"
           }
          ],
          "scattergl": [
           {
            "marker": {
             "colorbar": {
              "outlinewidth": 0,
              "ticks": ""
             }
            },
            "type": "scattergl"
           }
          ],
          "scattermapbox": [
           {
            "marker": {
             "colorbar": {
              "outlinewidth": 0,
              "ticks": ""
             }
            },
            "type": "scattermapbox"
           }
          ],
          "scatterpolar": [
           {
            "marker": {
             "colorbar": {
              "outlinewidth": 0,
              "ticks": ""
             }
            },
            "type": "scatterpolar"
           }
          ],
          "scatterpolargl": [
           {
            "marker": {
             "colorbar": {
              "outlinewidth": 0,
              "ticks": ""
             }
            },
            "type": "scatterpolargl"
           }
          ],
          "scatterternary": [
           {
            "marker": {
             "colorbar": {
              "outlinewidth": 0,
              "ticks": ""
             }
            },
            "type": "scatterternary"
           }
          ],
          "surface": [
           {
            "colorbar": {
             "outlinewidth": 0,
             "ticks": ""
            },
            "colorscale": [
             [
              0,
              "#0d0887"
             ],
             [
              0.1111111111111111,
              "#46039f"
             ],
             [
              0.2222222222222222,
              "#7201a8"
             ],
             [
              0.3333333333333333,
              "#9c179e"
             ],
             [
              0.4444444444444444,
              "#bd3786"
             ],
             [
              0.5555555555555556,
              "#d8576b"
             ],
             [
              0.6666666666666666,
              "#ed7953"
             ],
             [
              0.7777777777777778,
              "#fb9f3a"
             ],
             [
              0.8888888888888888,
              "#fdca26"
             ],
             [
              1,
              "#f0f921"
             ]
            ],
            "type": "surface"
           }
          ],
          "table": [
           {
            "cells": {
             "fill": {
              "color": "#EBF0F8"
             },
             "line": {
              "color": "white"
             }
            },
            "header": {
             "fill": {
              "color": "#C8D4E3"
             },
             "line": {
              "color": "white"
             }
            },
            "type": "table"
           }
          ]
         },
         "layout": {
          "annotationdefaults": {
           "arrowcolor": "#2a3f5f",
           "arrowhead": 0,
           "arrowwidth": 1
          },
          "autotypenumbers": "strict",
          "coloraxis": {
           "colorbar": {
            "outlinewidth": 0,
            "ticks": ""
           }
          },
          "colorscale": {
           "diverging": [
            [
             0,
             "#8e0152"
            ],
            [
             0.1,
             "#c51b7d"
            ],
            [
             0.2,
             "#de77ae"
            ],
            [
             0.3,
             "#f1b6da"
            ],
            [
             0.4,
             "#fde0ef"
            ],
            [
             0.5,
             "#f7f7f7"
            ],
            [
             0.6,
             "#e6f5d0"
            ],
            [
             0.7,
             "#b8e186"
            ],
            [
             0.8,
             "#7fbc41"
            ],
            [
             0.9,
             "#4d9221"
            ],
            [
             1,
             "#276419"
            ]
           ],
           "sequential": [
            [
             0,
             "#0d0887"
            ],
            [
             0.1111111111111111,
             "#46039f"
            ],
            [
             0.2222222222222222,
             "#7201a8"
            ],
            [
             0.3333333333333333,
             "#9c179e"
            ],
            [
             0.4444444444444444,
             "#bd3786"
            ],
            [
             0.5555555555555556,
             "#d8576b"
            ],
            [
             0.6666666666666666,
             "#ed7953"
            ],
            [
             0.7777777777777778,
             "#fb9f3a"
            ],
            [
             0.8888888888888888,
             "#fdca26"
            ],
            [
             1,
             "#f0f921"
            ]
           ],
           "sequentialminus": [
            [
             0,
             "#0d0887"
            ],
            [
             0.1111111111111111,
             "#46039f"
            ],
            [
             0.2222222222222222,
             "#7201a8"
            ],
            [
             0.3333333333333333,
             "#9c179e"
            ],
            [
             0.4444444444444444,
             "#bd3786"
            ],
            [
             0.5555555555555556,
             "#d8576b"
            ],
            [
             0.6666666666666666,
             "#ed7953"
            ],
            [
             0.7777777777777778,
             "#fb9f3a"
            ],
            [
             0.8888888888888888,
             "#fdca26"
            ],
            [
             1,
             "#f0f921"
            ]
           ]
          },
          "colorway": [
           "#636efa",
           "#EF553B",
           "#00cc96",
           "#ab63fa",
           "#FFA15A",
           "#19d3f3",
           "#FF6692",
           "#B6E880",
           "#FF97FF",
           "#FECB52"
          ],
          "font": {
           "color": "#2a3f5f"
          },
          "geo": {
           "bgcolor": "white",
           "lakecolor": "white",
           "landcolor": "#E5ECF6",
           "showlakes": true,
           "showland": true,
           "subunitcolor": "white"
          },
          "hoverlabel": {
           "align": "left"
          },
          "hovermode": "closest",
          "mapbox": {
           "style": "light"
          },
          "paper_bgcolor": "white",
          "plot_bgcolor": "#E5ECF6",
          "polar": {
           "angularaxis": {
            "gridcolor": "white",
            "linecolor": "white",
            "ticks": ""
           },
           "bgcolor": "#E5ECF6",
           "radialaxis": {
            "gridcolor": "white",
            "linecolor": "white",
            "ticks": ""
           }
          },
          "scene": {
           "xaxis": {
            "backgroundcolor": "#E5ECF6",
            "gridcolor": "white",
            "gridwidth": 2,
            "linecolor": "white",
            "showbackground": true,
            "ticks": "",
            "zerolinecolor": "white"
           },
           "yaxis": {
            "backgroundcolor": "#E5ECF6",
            "gridcolor": "white",
            "gridwidth": 2,
            "linecolor": "white",
            "showbackground": true,
            "ticks": "",
            "zerolinecolor": "white"
           },
           "zaxis": {
            "backgroundcolor": "#E5ECF6",
            "gridcolor": "white",
            "gridwidth": 2,
            "linecolor": "white",
            "showbackground": true,
            "ticks": "",
            "zerolinecolor": "white"
           }
          },
          "shapedefaults": {
           "line": {
            "color": "#2a3f5f"
           }
          },
          "ternary": {
           "aaxis": {
            "gridcolor": "white",
            "linecolor": "white",
            "ticks": ""
           },
           "baxis": {
            "gridcolor": "white",
            "linecolor": "white",
            "ticks": ""
           },
           "bgcolor": "#E5ECF6",
           "caxis": {
            "gridcolor": "white",
            "linecolor": "white",
            "ticks": ""
           }
          },
          "title": {
           "x": 0.05
          },
          "xaxis": {
           "automargin": true,
           "gridcolor": "white",
           "linecolor": "white",
           "ticks": "",
           "title": {
            "standoff": 15
           },
           "zerolinecolor": "white",
           "zerolinewidth": 2
          },
          "yaxis": {
           "automargin": true,
           "gridcolor": "white",
           "linecolor": "white",
           "ticks": "",
           "title": {
            "standoff": 15
           },
           "zerolinecolor": "white",
           "zerolinewidth": 2
          }
         }
        }
       }
      },
      "text/html": [
       "<div>                            <div id=\"c94308db-9c74-4800-b7a8-bc05cb399139\" class=\"plotly-graph-div\" style=\"height:525px; width:100%;\"></div>            <script type=\"text/javascript\">                require([\"plotly\"], function(Plotly) {                    window.PLOTLYENV=window.PLOTLYENV || {};                                    if (document.getElementById(\"c94308db-9c74-4800-b7a8-bc05cb399139\")) {                    Plotly.newPlot(                        \"c94308db-9c74-4800-b7a8-bc05cb399139\",                        [{\"coloraxis\":\"coloraxis\",\"hovertemplate\":\"price_level=%{z}<br>latitude=%{lat}<br>longitude=%{lon}<extra></extra>\",\"lat\":[48.84666,48.850185,48.82722,48.89411,48.8878,48.862854,48.855732,48.87142,48.89294,48.87404,48.865307,48.840794,48.869675,48.845577,48.851547,48.841766,48.877193,48.866108,48.881496,48.856136,48.849625,48.861225,48.8499,48.844597,48.865356,48.863358,48.865314,48.88346,48.83845,48.8542,48.861027,48.85683,48.849438,48.840916,48.876904,48.826805,48.83675,48.853935,48.86606,48.87081,48.883762,48.868572,48.83421,48.879627,48.84932,48.835827,48.84046,48.89143,48.86592,48.86556,48.879284,48.85229,48.846905,48.881405,48.881268,48.870674,48.87643,48.85555,48.889565,48.861145,48.87523,48.884033,48.84304,48.87647,48.842953,48.868782,48.879242,48.88498,48.85024,48.8288,48.87927,48.85597,48.855297,48.869267,48.881165,48.834133,48.88213,48.8863,48.87141,48.86192,48.83096,48.848938,48.886677,48.865875,48.879528,48.879536,48.86236,48.88943,48.89832,48.84384,48.84722,48.832115,48.85885,48.860924,48.85318,48.8579,48.86122,48.853554,48.84525,48.87092,48.86549,48.855076,48.852203,48.853737,48.86399,48.875683,48.850273,48.856743,48.89102,48.883724,48.875782,48.86589,48.82787,48.8565,48.881298,48.849045,48.85562,48.88696,48.867622,48.88566,48.82786,48.86338,48.867355,48.855026,48.88338,48.83968,48.86266,48.86507,48.87862,48.89084,48.894257,48.86791,48.8725,48.895744,48.887806,48.887928,48.884636,48.84143,48.86826,48.884304,48.880882,48.866894,48.882965,48.847637,48.8749,48.86982,48.86225,48.87276,48.87502,48.889915,48.88103,48.85,48.840733,48.87215,48.85828,48.84336,48.86284,48.86225,48.86178,48.864708,48.890484,48.86441,48.85418,48.8703,48.875137,48.86827,48.839508,48.844303,48.852337,48.87994,48.85193,48.87474,48.83343,48.8538,48.883587,48.870663,48.886654,48.856705,48.88504,48.84865,48.876923,48.869965,48.87743,48.8663,48.877865,48.849064,48.87001,48.871807,48.87138,48.86482,48.894356,48.866344,48.88026,48.86659,48.87351,48.88413,48.884674,48.87652,48.869812,48.830666,48.8566,48.87652,48.84616,48.83849,48.86018,48.84404,48.88197,48.86872,48.83377,48.865555,48.88524,48.83945,48.858143,48.84277,48.82433,48.89891,48.865932,48.87889,48.89266,48.88433,48.84349,48.85385,48.86471,48.89088,48.84185,48.828987,48.871113,48.864407,48.832077,48.83821,48.85537,48.870083,48.87323,48.87115,48.8404,48.86886,48.86959,48.846203,48.835785,48.85414,48.90364,48.851772,48.86266,48.870197,48.874714,48.87365,48.83975,48.8834,48.85015,48.877777,48.866943,48.85278,48.85926,48.860283,48.85464,48.855827,48.88015,48.863316,48.86219,48.88353,48.88022,48.84446,48.841667,48.879642,48.8856,48.851715,48.848022,48.846767,48.854,48.86042,48.87971,48.8534,48.86507,48.828636,48.8804,48.8819,48.842133,48.860687,48.87902,48.843822,48.869537,48.857494,48.875507,48.835743,48.840237,48.85556,48.88955,48.83578,48.871597,48.84176,48.84348,48.88304,48.859768,48.863956,48.88502,48.876762,48.87945,48.860558,48.868713,48.844723,48.85009,48.88798,48.833748,48.87257,48.855988,48.86657,48.864155,48.886402,48.890327,48.8917,48.83759,48.886127,48.85943,48.88474,48.83822,48.89095,48.88113,48.87708,48.84735,48.84997,48.877106,48.864315,48.8522,48.83922,48.833824,48.891632,48.8602,48.83507,48.8528,48.868927,48.82114,48.82979,48.837032,48.89367,48.871773,48.84967,48.86681,48.856125,48.88092,48.85054,48.88448,48.87013,48.87272,48.85857,48.86732,48.823612,48.8628,48.858475,48.864834,48.87409,48.84567,48.854782,48.83297,48.8725,48.83619,48.88232,48.88306,48.849136,48.864513,48.89502,48.84651,48.87708,48.855686,48.86263,48.82043,48.89,48.8709,48.868435,48.872513,48.84707,48.88509,48.855484,48.835148,48.86361,48.84905,48.851532,48.862064,48.85122,48.87239,48.87605,48.860924,48.86505,48.87758,48.85885,48.84273,48.880844,48.85229,48.862743,48.879566,48.85923,48.879475,48.84514,48.89021,48.85227,48.874634,48.854206,48.85562,48.82945,48.891003,48.85662,48.87929,48.85307,48.88251,48.88119,48.84229,48.891136,48.833614,48.8284,48.89098,48.86994,48.87116,48.853813,48.85486,48.83561,48.854908,48.85378,48.860065,48.88327,48.86694,48.85583,48.84783,48.882057,48.84873,48.89157,48.85118,48.8731,48.833656,48.877487,48.849445,48.86585,48.868015,48.85728,48.86553,48.86866,48.85688,48.86258,48.84055,48.88327,48.853848,48.83906,48.88354,48.855904,48.878292,48.855034,48.86571,48.884808,48.8619,48.83144,48.84481,48.840557,48.884956,48.88481,48.84315,48.84409,48.832638,48.87749,48.864845,48.84019,48.856495,48.87518,48.866367,48.86403,48.89523,48.885696,48.88325,48.8513,48.86061,48.847553,48.844936,48.87305,48.848476,48.86264,48.87984,48.879192,48.858482,48.87357,48.86217,48.85333,48.89232,48.82296,48.874912,48.861885,48.852753,48.8683,48.851524,48.850544,48.8255,48.841198,48.84239,48.83465,48.85307,48.86488,48.86803,48.83433,48.84329,48.87315,48.87957,48.82789,48.82634,48.84162,48.83321,48.8849,48.84023,48.878677,48.85585,48.890125,48.84778,48.87607,48.858463,48.84672,48.8416,48.86499,48.90261,48.86398,48.84456,48.87131,48.85368,48.848476,48.871,48.84454,48.86657,48.86884,48.82003,48.88493,48.84731,48.8784,48.85518,48.837917,48.87246,48.88233,48.856483,48.8732,48.858913,48.89107,48.82753,48.86423,48.85645,48.875298,48.86643,48.828598,48.847637,48.86261,48.867085,48.859627,48.857502,48.83357,48.86978,48.8746,48.865437,48.887154,48.873417,48.8615,48.86416,48.867138,48.8504,48.84746,48.82911,48.86095,48.85961,48.84713,48.850086,48.83393,48.885216,48.89386,48.849163,48.851414,48.87109,48.87132,48.83656,48.850777,48.879852,48.89038,48.8405,48.86189,48.87547,48.87503,48.858612,48.865273,48.83491,48.869522,48.884712,48.8565,48.884617,48.85167,48.84009,48.86381,48.86324,48.84731,48.872543,48.87253,48.884163,48.85413,48.851524,48.85615,48.87317,48.85813,48.836464,48.880238,48.885784,48.86508,48.888874,48.84624,48.84345,48.843742,48.854668,48.873478,48.83315,48.884827,48.82608,48.8661,48.86955,48.88354,48.86022,48.87007,48.852863,48.86066,48.879684,48.88819,48.84088,48.841633,48.864838,48.842384,48.85769,48.84803,48.86523,48.879684,48.84314,48.881294,48.86767,48.86356,48.89361,48.85182,48.870552,48.84977,48.84713,48.85048,48.850845,48.85638,48.82949,48.851395,48.887268,48.8729,48.84747,48.843613,48.882378,48.889828,48.88445,48.874897,48.840717,48.85646,48.86145,48.83954,48.851482,48.8714,48.89221,48.85575,48.86614,48.831463,null,48.85688,48.83338,48.858192,48.83338,48.846058,48.8298,48.88163,48.859642,48.87997,48.8854,48.850555,48.874805,48.84936,48.866234,48.856636,48.858418,48.870655,48.84998,48.8524,48.88777,48.88533,48.8605,48.843502,48.867233,48.858944,48.86981,48.83697,48.830914,48.863335,48.846046,48.86423,48.87357,48.87434,48.88069,48.88351,48.861767,48.8693,48.87162,48.88624,48.87675,48.850506,48.85504,48.875698,48.81937,48.87005,48.86236,48.866173,48.86074,48.84394,48.86596,48.86375,48.84546,48.876793,48.85073,48.89285,48.86631,48.877277,48.87277,48.88408,48.852596,48.833874,48.88626,48.84523,48.86171,48.88815,48.84441,48.873665,48.849693,48.87897,48.85461,48.873203,48.83014,48.85767,48.844826,48.86992,48.88086,48.87344,48.87156,48.877037,48.88261,48.87587,48.86641,48.884586,48.8692,48.86946,48.8294,48.86662,48.87383,48.87226,48.87001,48.864246,48.85097,48.83688,48.84258,48.83398,48.87305,48.876404,48.852978,48.88095,48.873043,48.83431,48.881813,48.873867,48.872498,48.8755,48.88247,48.85952,48.860798,48.87275,48.87098,48.846035,48.869556,48.88422,48.87628,48.840153,48.849796,48.84313,48.85172,48.877213,48.889557,48.86276,null,48.851765,48.8555,48.859264,48.85344,48.87774,48.84961,48.848984,48.850124,48.874676,null,48.873764,48.84496,48.86965,48.842075,48.869976,48.89853,48.84136,48.888435,48.891705,48.88318,48.87371,48.874092,48.88851,48.8501,48.840553,48.869797,48.87774,48.85151,48.85969,48.88968,48.84604,48.87923,48.84162,48.87778,48.868996,48.858704,48.86803,48.85912,48.85977,48.88008,48.858704,48.858704,48.85154,48.853447,48.84234,48.888733,48.85486,48.835537,48.88474,48.8594,48.87241,48.858704,48.84831,48.88395,48.89255,48.86763,48.853664,48.83284,48.87089,48.868538,48.84234,48.87927,48.863945,48.853306,48.858906,48.84697,48.82643,48.86265,48.84508,48.847046,48.872223,48.86666,48.86881,48.871754,48.877213,48.85841,48.877724,48.87738,48.865368,48.84746,48.889507,48.854523,48.8622,48.877945,48.863926,48.87268,48.878197,48.846287,48.86483,48.843975,48.85419,48.887356,48.868874,48.858704,48.874454,48.869602,48.866577,48.85835,48.850925,48.893238,48.874454,48.846165,48.856815,48.859047,48.8743,48.841297,48.875496,48.85064,48.847168,48.87436,48.85931,48.84788,48.85418,48.87948,48.88217,48.877567,48.8716,48.85286,48.85196,48.88499,48.87642,48.853333,48.8817,48.89612,48.868195,48.852264,48.84734,48.83398,48.87584,48.8566,48.87343,48.86249,48.84877,48.87671,48.87784,48.85634,48.83719,48.84545,48.85395,48.86551,48.82158,48.825,48.853546,48.841187,48.862988,48.86482,48.87584,48.871525,48.83437,48.88485,48.870895,48.88187,48.876488,48.856983,48.833263,48.850666,48.864098,48.877945,48.824165,48.837944,48.87359,48.879837,48.86571,48.85931,48.84297,48.84384,48.858536,48.84735,48.86315,48.88224,48.866592,48.886806,48.84161,48.84725,48.84936,48.86064,48.8504,48.87344,48.85706,48.865395,48.853294,48.85361,48.87388,48.848675,48.868618,48.88381,48.88421,48.86665,48.87927,48.86885,48.88408,48.86028,48.856564,48.84992,48.87239,48.87845,48.865513,48.88209,48.870514,48.86254,48.87351,48.83894,48.855988,48.865086,48.85721,48.859314,48.86873,48.851337,48.853622,48.85641,48.874405,48.8711,48.88347,48.85168,48.87304,48.82882,48.85268,48.86863,48.838875,48.857765,48.83983,48.88481,48.858704,48.872066,48.83623,48.844345,48.84499,48.85227,48.865314,48.845146,48.871407,48.857716,48.85914,48.88217,48.880062,48.85296,48.87711,48.87111,48.86961,48.84201,48.854927,48.88162,48.87405,48.84104,48.84104,48.85756,48.854687,48.83549,48.872646,48.86077,48.89206,48.87183,48.884666,48.84253,48.882946,48.868874,48.8732,48.880356,48.863483,48.84689,48.83321,48.83737,48.88201,48.850094,48.839615,48.866257,48.866215,48.855556,48.87248,48.86864,48.868988,48.87269,48.8331,48.85446,48.84819,48.88454,48.86111,48.84678,48.87011,48.876026,48.83277,48.851547,48.884144,48.68697,48.85227,48.84453,48.86425,48.828888,48.867905,48.838467,48.849113,48.84105,48.85043,48.85379,48.882504,48.861027,48.8753,48.888863,48.866344,48.82755,48.885212,48.87143,48.847496,48.852535,48.879215,48.861465,48.83735,48.848812,48.87963,48.8741,48.879955,48.87161,48.870903,48.88877,48.86881,48.875355,48.89646,48.856163,48.88173,48.87177,48.88114,48.86662,48.87288,48.87285,48.848495,48.88143,48.8836,48.87525,48.8872,48.87989,48.84416,48.872086,48.84801,48.87204,48.8452,48.877316,48.88045,48.832832,48.89226,48.83239,48.88199,48.860023,48.865025,48.83324,48.84077,48.833496,48.86821,48.83857,48.86487,48.85376,48.84702,48.85068,48.874023,48.888893,48.843987,48.84896,48.89278,48.84706,48.83612,48.834305,48.841045,48.89423,48.84425,48.862747,48.88442,48.86158,48.85179,48.87847,48.851902,48.8711,48.87524,48.86184,48.851658,48.88424,48.87122,48.86083,48.861324,48.837044,48.85081,48.86654,48.884182,48.855625,48.875736,48.860462,48.83826,48.83804,48.865387,48.845825,48.84938,48.83312,48.86162,48.860367,48.85924,48.89059,48.850697,48.84659,48.843277,48.854153,48.8376,48.83975,48.878853,48.8639,48.851566,48.87398,48.875957,48.87771,48.885166,48.84843,48.84711,48.84925,48.8453,48.88461,48.86568,48.85337,null,48.880432,48.83924,48.828335,48.8845,48.839653,48.84195,48.86596,48.84357,48.85003,48.873707,48.883118,48.865456,48.884842,48.82638,48.8687,48.87349,48.8735,48.877537,48.890835,48.82812,48.85273,48.867012,48.85333,48.89009,48.84426,48.84372,48.84124,48.88553,48.83493,48.82391,48.828575,48.858505,48.860268,48.88518,48.859257,48.83027,48.888493,48.851032,48.861942,48.845554,48.84685,48.85651,48.846313,48.87003,48.890293,48.860355,48.87267,48.86417,48.83095,48.86404,48.88186,48.88085,48.857815,48.874817,48.87182,48.85261,48.86028,48.87087,48.87252,48.83395,48.836143,48.8243,48.82262,48.8742,48.88157,48.863045,48.84779,48.87248,48.83802,48.84452,48.88709,48.853016,48.843334,48.8404,48.87986,48.860012,48.85095,48.876373,48.854595,48.84876,48.86803,48.88565,48.84526,48.871174,48.88221,48.83128,48.871517,48.873066,48.82941,48.847286,48.85676,48.831142,48.84574,48.845005,48.86161,48.82149,48.83675,48.85192,48.831543,48.82846,48.881943,48.878803,48.838863,48.84574,48.88167,48.88499,48.87743,48.880936,48.87894,48.85325,48.83377,48.85086,48.83377,48.85294,48.89059,48.86374,48.848343,48.86667,48.86064,48.83974,48.85924,48.89347,48.8486,48.85552,48.866985,48.839096,48.87552,48.885708,48.87918,48.89706,48.854156,48.88068,48.86814,48.858173,48.882416,48.852512,48.884823,48.858704,48.87697,48.88005,48.85567,48.86755,48.87884,48.8395,48.86762,48.88681,48.868256,48.886974,48.83544,48.835556,48.885338,48.872574,48.87107,48.843334,48.871784,48.869022,48.873215,48.83258,48.88085,48.88103,48.891266,48.88037,48.85072,48.8383,48.837624,48.8398,48.841526,48.83436,48.88442,48.89084,48.87716,48.87523,48.87443,48.86841,48.848915,48.857876,48.88204,48.862152,48.849194,48.887276,48.8645,48.866203,48.82406,48.85744,48.864166,48.8501,48.870728,48.84304,48.8677,48.87323,48.84974,48.86929,48.855938,48.85239,48.875816,48.858204,48.844543,48.882244,48.848568,48.873558,48.8753,48.82786,48.85304,48.87416,48.82386,48.87047,48.86703,48.83237,48.875397,48.849365,48.84493,48.867645,48.868946,48.867756,48.82781,48.87095,48.86096,48.864857,48.85519,48.872456,48.85395,48.83539,48.84525,48.87126,48.86535,48.83621,48.82325,48.878788,48.822052,48.887974,48.868565,48.873135,48.88211,48.84081,48.843575,48.853428,48.88704,48.876392,48.88925,48.886585,48.88664,48.855785,48.875687,48.85064,48.838203,48.866524,48.85479,48.849346,48.86693,48.849987,48.82775,48.876736,48.88407,48.848717,48.889084,48.84829,48.86698,48.875916,48.83947,48.83017,48.836685,48.884464,48.89552,48.845463,48.887592,48.88298,48.883755,48.89397,48.89051,48.8837,48.886524,48.874256,48.87786,48.88028,48.871704,48.89186,48.870003,48.85193,48.87564,48.88982,48.874,48.842175,48.85461,48.82891,48.86497,48.86825,48.846394,48.83759,48.873924,48.87059,48.866234,48.88881,48.83556,48.8641,48.86203,48.88493,48.86862,48.85189,48.852047,48.851994,48.853416,48.84654,48.865078,48.88749,48.85689,48.83857,48.87117,48.885063,48.842667,48.838615,48.84216,48.841026,48.89737,48.88146,48.87143,48.84223,48.852978,48.86707,48.885235,48.89423,48.86984,48.868675,48.88013,48.84049,48.8574,48.858345,48.865147,48.861942,48.86902,48.882416,48.86707,48.889496,48.873444,48.859097,48.85559,48.837498,48.866,48.859394,48.874985,48.836884,48.843605,48.843994,48.852592,48.888493,48.87198,48.871876,48.8415,48.863804,48.850937,48.879467,48.86753,48.82648,48.86481,48.85002,48.871826,48.86772,48.851933,48.869564,48.873245,48.885235,48.85014,48.84784,48.856857,48.86403,48.881058,48.846046,48.85357,48.859062,48.842384,48.88113,48.85617,48.88153,48.851562,48.840862,48.87843,48.85406,48.854187,48.846794,48.85324,48.87863,48.88546,48.85748,48.83619,48.87002,48.845688,48.867912,48.87272,48.880608,48.86641,48.846767,48.85694,48.834087,48.84547,48.853462,48.849308,48.879868,48.853333,48.87732,48.883835,48.88349,48.864094,48.86468,48.849094,48.840366,48.88812,48.879494,48.854145,48.84178,48.889862,48.82734,48.86488,48.85006,48.845543,48.89331,48.84154,48.84151,48.88642,48.85722,48.84828,48.880108,48.85361,48.875854,48.86043,48.83948,48.847458,48.86348,48.86893,48.84416,48.866913,48.870636,48.84481,48.867428,48.87163,48.851776,48.88616,48.85251,48.846924,48.87653,48.85381,48.84256,48.87075,48.86141,48.866188,48.84658,48.85638,48.879173,48.840416,48.86026,48.856316,48.83945,48.85352,48.835125,48.85719,48.84678,48.893543,48.88158,48.87745,48.8709,48.885643,48.865223,48.864426,48.85053,48.868526,48.85281,48.842926,48.8688,48.86148,48.82642,48.87068,48.84845,48.830124,48.880085,48.843334,48.86807,48.86432,48.88963,48.852425,48.82595,48.88282,48.87455,48.81936,48.85332,48.852493,48.884125,48.86692,48.87536,48.84952,48.83405,48.88499,48.88024,48.848892,48.83983,48.857452,48.876774,48.833298,48.85259,48.870388,48.8663,48.825,48.83201,48.85426,48.852173,48.86296,48.88011,48.870625,48.856506,48.875427,48.86103,48.84641,48.85541,48.85879,48.88582,48.84852,48.844296,48.84568,48.827534,48.84334,48.86086,48.871323,48.857212,48.88411,48.87678,48.8464,48.88102,48.87203,48.871536,48.8932,48.877254,48.871387,48.87492,48.89103,48.84533,48.859966],\"lon\":[2.3051,2.318649,2.34865,2.333324,2.32246,2.348407,2.272544,2.34586,2.326749,2.375001,2.384831,2.344798,2.305515,2.371861,2.338181,2.349713,2.350419,2.344592,2.373611,2.325189,2.377803,2.34252,2.35211,2.302133,2.350356,2.346358,2.384917,2.303914,2.30079,2.338168,2.340959,2.356261,2.291288,2.262275,2.291944,2.339206,2.35018,2.361198,2.357474,2.31774,2.339535,2.289224,2.30204,2.286447,2.374711,2.324547,2.265582,2.350629,2.29794,2.33229,2.349173,2.355469,2.347857,2.285787,2.391744,2.336904,2.357397,2.37138,2.348393,2.344422,2.30383,2.322561,2.3066,2.32122,2.277364,2.292574,2.354417,2.335786,2.38196,2.32963,2.335024,2.359091,2.363396,2.357003,2.363919,2.353686,2.32578,2.317858,2.341797,2.35189,2.32876,2.34759,2.311822,2.346753,2.287105,2.339985,2.36332,2.381608,2.37469,2.28327,2.341414,2.358611,2.29853,2.343925,2.363856,2.3069,2.34343,2.343494,2.32044,2.34274,2.37696,2.361347,2.344407,2.396435,2.363952,2.331259,2.330765,2.306446,2.3347,2.343035,2.322969,2.34629,2.37202,2.40307,2.316671,2.377301,2.404175,2.31234,2.332376,2.30393,2.327757,2.27403,2.396483,2.375833,2.341817,2.340004,2.36223,2.346977,2.28963,2.36119,2.34593,2.335451,2.307186,2.389475,2.306381,2.306799,2.290801,2.31753,2.35041,2.339181,2.351094,2.296964,2.300731,2.348492,2.35562,2.342842,2.364712,2.37098,2.32036,2.343033,2.298975,2.350581,2.277725,2.32729,2.354651,2.33121,2.35998,2.34184,2.38296,2.350277,2.383711,2.37302,2.275935,2.36094,2.341504,2.34344,2.300243,2.308949,2.335219,2.34508,2.39028,2.355657,2.30931,2.331335,2.369768,2.350413,2.359521,2.398025,2.365665,2.3549,2.300975,2.306668,2.29468,2.350929,2.365703,2.374575,2.350551,2.338792,2.28354,2.362939,2.343143,2.273322,2.29562,2.345961,2.322323,2.29723,2.339015,2.33533,2.356166,2.33394,2.378021,2.33533,2.35438,2.39936,2.30745,2.28171,2.334444,2.3353,2.36537,2.384476,2.33457,2.39248,2.301731,2.322716,2.32869,2.37278,2.353242,2.296591,2.32531,2.31455,2.293736,2.332818,2.348488,2.33954,2.34349,2.327851,2.365392,2.371967,2.324703,2.35155,2.37187,2.359399,2.35331,2.31559,2.33336,2.3792,2.36932,2.343035,2.293242,2.337,2.368158,2.312777,2.352263,2.283056,2.372658,2.314079,2.360819,2.36822,2.317774,2.287396,2.376181,2.345278,2.323773,2.348217,2.289239,2.337567,2.29943,2.361751,2.377444,2.326794,2.343378,2.339312,2.330644,2.294722,2.31998,2.367061,2.323625,2.321334,2.38775,2.30946,2.289897,2.400404,2.283003,2.296578,2.39087,2.334025,2.349826,2.341167,2.34697,2.388397,2.303413,2.273129,2.308904,2.323653,2.351693,2.37081,2.37794,2.29313,2.362474,2.277975,2.29796,2.324838,2.300483,2.346528,2.329797,2.347032,2.34341,2.305858,2.30864,2.318683,2.373891,2.30674,2.360804,2.3436,2.367061,2.363439,2.332404,2.39372,2.319922,2.34398,2.29733,2.334174,2.3557,2.309521,2.29742,2.36135,2.334575,2.34446,2.39448,2.299383,2.295875,2.398049,2.334719,2.2857,2.369986,2.320915,2.350694,2.30964,2.35371,2.333756,2.34253,2.37136,2.338333,2.34291,2.333319,2.29529,2.371553,2.304322,2.323144,2.38104,2.31237,2.34171,2.363508,2.39018,2.333045,2.330697,2.34837,2.345824,2.335701,2.34413,2.38278,2.371674,2.386549,2.327531,2.39195,2.30448,2.34617,2.354156,2.349419,2.38224,2.372132,2.324744,2.357206,2.325082,2.37372,2.32039,2.344836,2.389871,2.324334,2.27292,2.30632,2.389969,2.326522,2.369685,2.37475,2.343019,2.365893,2.383325,2.296492,2.28971,2.3803,2.36589,2.306222,2.29853,2.32867,2.292419,2.40433,2.36296,2.33615,2.37592,2.334058,2.254554,2.35796,2.4067,2.347934,2.309756,2.3053,2.30178,2.325136,2.37374,2.35658,2.345542,2.332874,2.31397,2.33829,2.329009,2.304471,2.38058,2.331411,2.28441,2.308261,2.33775,2.379292,2.40191,2.363158,2.34371,2.364402,2.298906,2.369468,2.37523,2.346973,2.334163,2.34044,2.33533,2.30983,2.316932,2.322747,2.29505,2.291389,2.283493,2.402128,2.38482,2.37652,2.34779,2.37465,2.337879,2.399297,2.32772,2.296761,2.39583,2.27787,2.368456,2.284353,2.363243,2.3458,2.340226,2.350975,2.32667,2.321223,2.324547,2.315629,2.39253,2.30667,2.38732,2.288822,2.27033,2.332864,2.34062,2.303292,2.3221,2.273373,2.343569,2.343344,2.297946,2.34501,2.277496,2.36778,2.365559,2.402961,2.31659,2.350806,2.36326,2.355785,2.34002,2.302749,2.34272,2.34965,2.335893,2.345075,2.35778,2.339655,2.364808,2.407193,2.34739,2.323735,2.377415,2.35023,2.329833,2.34969,2.32753,2.331408,2.358935,2.35818,2.2954,2.30055,2.38364,2.336111,2.372003,2.3124,2.31318,2.28936,2.32303,2.3688,2.3702,2.356544,2.312005,2.35211,2.370403,2.382991,2.372693,2.308179,2.367003,2.33053,2.34658,2.331784,2.34799,2.411528,2.282679,2.34711,2.3546,2.28157,2.28942,2.25789,2.29617,2.30053,2.30253,2.3721,2.281891,2.35744,2.328105,2.326705,2.33024,2.386092,2.37648,2.37109,2.36851,2.266807,2.39441,2.35987,2.350988,2.294294,2.338033,2.287779,2.306236,2.305561,2.354129,2.310763,2.320923,2.336411,2.297364,2.343729,2.366181,2.34991,2.375972,2.3897,2.30241,2.32769,2.342476,2.350407,2.37025,2.342175,2.29044,2.31126,2.345192,2.349659,2.339217,2.30813,2.360682,2.35357,2.39234,2.335076,2.319841,2.3159,2.343499,2.350042,2.31313,2.35445,2.360283,2.28937,2.344599,2.298817,2.40307,2.304092,2.31835,2.30267,2.37543,2.385956,2.32991,2.324132,2.34463,2.331417,2.386864,2.347292,2.3726,2.35226,2.377342,2.31919,2.35188,2.381632,2.37633,2.322559,2.40591,2.27758,2.315086,2.339306,2.383475,2.303806,2.330733,2.34669,2.34106,2.33572,2.339705,2.37573,2.32587,2.353656,2.28267,2.289584,2.392452,2.28844,2.389316,2.359086,2.328927,2.36435,2.398421,2.35007,2.289584,2.349183,2.328206,2.35526,2.37875,2.32235,2.276964,2.289458,2.40628,2.37025,2.349426,2.300519,2.324077,2.32291,2.324747,2.31197,2.298308,2.34699,2.349467,2.324386,2.341796,2.333322,2.283838,2.315759,2.30435,2.35838,2.349934,2.277784,2.312051,2.32419,2.361346,2.37975,2.341761,null,2.37836,2.32404,2.273331,2.32404,2.374569,2.328771,2.352671,2.348129,2.349738,2.3354,2.379992,2.325261,2.33912,2.31681,2.301763,2.310056,2.321753,2.32329,2.34541,2.38989,2.3255,2.345592,2.349492,2.359902,2.344948,2.33111,2.3722,2.292975,2.379911,2.269894,2.36579,2.364971,2.34806,2.341314,2.32951,2.340864,2.33747,2.32174,2.39269,2.29118,2.382133,2.362503,2.350136,2.359715,2.36077,2.36513,2.288333,2.351231,2.330433,2.36556,2.36265,2.40363,2.336038,2.300442,2.3504,2.34751,2.346212,2.328968,2.339788,2.387865,2.324456,2.33337,2.34255,2.37208,2.32123,2.31809,2.300478,2.268611,2.29655,2.38468,2.309587,2.301985,2.317389,2.349074,2.3705,2.365524,2.317843,2.341749,2.314173,2.31692,2.296569,2.32818,2.300311,2.357689,2.31069,2.31375,2.34712,2.32247,2.30401,2.353536,2.347865,2.350936,2.349055,2.32611,2.31804,2.34278,2.348547,2.382961,2.34494,2.343265,2.29561,2.345178,2.379832,2.328314,2.35867,2.31435,2.3769,2.345819,2.302342,2.34652,2.40096,2.296525,2.331184,2.340756,2.335134,2.295485,2.32087,2.333736,2.28566,2.308033,2.37146,null,2.33836,2.305122,2.323615,2.37058,2.29537,2.38857,2.287184,2.349546,2.340945,null,2.364984,2.34927,2.3794,2.290652,2.284308,2.3751,2.319298,2.393201,2.343983,2.333921,2.348,2.343693,2.31919,2.34783,2.350413,2.33966,2.29537,2.34799,2.37566,2.3426,2.28491,2.33668,2.330053,2.28475,2.356418,2.342865,2.29819,2.344189,2.36781,2.3524,2.342865,2.342865,2.349669,2.366034,2.29069,2.355587,2.37505,2.324001,2.3258,2.367635,2.34866,2.342865,2.324167,2.33112,2.34344,2.302284,2.331194,2.27835,2.302139,2.326914,2.329382,2.353393,2.370383,2.336955,2.30755,2.4075,2.365215,2.340767,2.264014,2.372564,2.404592,2.286181,2.35574,2.328211,2.351382,2.38278,2.351641,2.354001,2.333171,2.34806,2.344088,2.289218,2.3629,2.337426,2.370504,2.329233,2.299296,2.406071,2.373811,2.354965,2.289151,2.336079,2.35305,2.342865,2.320929,2.369991,2.34721,2.328414,2.345017,2.363429,2.38919,2.37513,2.364311,2.353579,2.33505,2.31937,2.303749,2.341604,2.286025,2.3257,2.37528,2.37667,2.33901,2.337225,2.31977,2.299044,2.310075,2.40591,2.39828,2.378472,2.28344,2.342474,2.309993,2.338294,2.2917,2.337572,2.29843,2.3875,2.32237,2.35666,2.37077,2.34821,2.263747,2.33755,2.29356,2.302608,2.260431,2.3443,2.338278,2.38956,2.36502,2.357562,2.370307,2.303738,2.388508,2.347394,2.34236,2.341949,2.34527,2.34214,2.323164,2.288944,2.343416,2.378344,2.287114,2.291903,2.341894,2.365294,2.335767,2.347518,2.34513,2.362151,2.3458,2.34768,2.34855,2.28327,2.35169,2.30427,2.359713,2.333199,2.302145,2.323261,2.266508,2.30585,2.37759,2.301197,2.382008,2.36462,2.372699,2.331394,2.330921,2.39323,2.30809,2.348406,2.281633,2.29296,2.29681,2.365126,2.35416,2.3744,2.341574,2.35475,2.358425,2.351586,2.353663,2.34287,2.289063,2.33319,2.365544,2.366367,2.334464,2.26634,2.36295,2.346837,2.31856,2.344319,2.325478,2.381639,2.338003,2.302653,2.332917,2.35288,2.327485,2.34701,2.343035,2.36985,2.345355,2.341769,2.381857,2.366404,2.36076,2.327,2.285144,2.303439,2.35473,2.349221,2.349194,2.33374,2.377233,2.271457,2.312158,2.354465,2.38641,2.31977,2.320356,2.346057,2.34014,2.33486,2.310964,2.293603,2.367384,2.292171,2.343044,2.325114,2.34382,2.368037,2.295484,2.35883,2.323494,2.355442,2.31738,2.36235,2.34175,2.31192,2.294733,2.33639,2.362275,2.352669,2.332892,2.285778,2.28936,2.27873,2.28626,2.37463,2.321748,2.359556,2.347883,2.359723,2.32741,2.36266,2.355851,2.364706,2.30393,2.396044,2.392525,2.34123,2.37754,2.38318,2.31926,2.317709,2.32086,2.310403,2.341597,2.35242,2.337587,2.34966,2.3414,2.3075,2.378008,2.25709,2.390833,2.387626,2.2672,2.336963,2.333343,2.380876,2.39286,2.334527,2.331369,2.31496,2.335978,2.38043,2.309811,2.290608,2.334926,2.348629,2.38343,2.320392,2.3362,2.34189,2.329356,2.345899,2.284833,2.316701,2.401853,2.35112,2.33887,2.394722,2.31758,2.343125,2.29417,2.34712,2.33124,2.30243,2.293836,2.28519,2.33267,2.293751,2.31958,2.362189,2.322894,2.292794,2.33974,2.339792,2.381425,2.295499,2.3518,2.316011,2.339941,2.31511,2.36763,2.354391,2.288894,2.38668,2.34895,2.286651,2.3356,2.396241,2.37585,2.367525,2.38436,2.39405,2.339803,2.34479,2.256758,2.37121,2.34257,2.35208,2.40561,2.326072,2.31361,2.33691,2.29438,2.359921,2.30024,2.34803,2.31778,2.36427,2.277631,2.39282,2.367179,2.38031,2.371941,2.30476,2.335408,2.367833,2.343397,2.352622,2.37423,2.36353,2.342187,2.371201,2.286892,2.355794,2.28845,2.405075,2.373347,2.380029,2.326123,2.35409,2.275533,2.361711,2.3004,2.3456,2.339559,2.34106,2.304717,2.362392,2.40158,2.34972,2.290447,2.3606,2.310282,2.31685,2.344003,2.291831,2.295536,2.347065,2.36742,2.297604,2.40286,2.36849,2.34584,2.36677,null,2.325483,2.30921,2.326617,2.294433,2.263097,2.37581,2.301474,2.27756,2.385903,2.342647,2.332928,2.288882,2.371894,2.34285,2.284794,2.31017,2.32215,2.341156,2.345701,2.37201,2.33771,2.302254,2.38815,2.39873,2.33103,2.29672,2.373804,2.38006,2.40607,2.34159,2.352764,2.382313,2.348024,2.32428,2.297906,2.35266,2.320487,2.374485,2.334461,2.34455,2.38518,2.27963,2.373885,2.285214,2.341831,2.356152,2.377408,2.341699,2.348324,2.346538,2.34535,2.39485,2.37946,2.342931,2.39188,2.298511,2.30948,2.31164,2.31424,2.3219,2.292608,2.3282,2.32734,2.31579,2.3479,2.348285,2.3738,2.3296,2.29576,2.348757,2.31344,2.293265,2.383461,2.368991,2.33566,2.350722,2.40619,2.356585,2.396708,2.325143,2.33551,2.30889,2.37919,2.345372,2.34571,2.36887,2.323367,2.354633,2.31745,2.298203,2.356921,2.374131,2.37998,2.320821,2.37405,2.333717,2.39238,2.33463,2.341267,2.316402,2.305278,2.298411,2.322913,2.349068,2.315799,2.29399,2.34476,2.374226,2.36368,2.342722,2.36537,2.3783,2.32993,2.34573,2.3456,2.27727,2.259868,2.373056,2.31923,2.284698,2.3402,2.32305,2.3934,2.27484,2.397797,2.404164,2.3171,2.347379,2.31491,2.38457,2.296352,2.28618,2.387501,2.349658,2.296122,2.345232,2.307797,2.302564,2.35519,2.36487,2.35769,2.37521,2.32689,2.381376,2.33946,2.3398,2.298837,2.339851,2.30303,2.281389,2.296944,2.324826,2.30939,2.325,2.347576,2.339761,2.326128,2.31827,2.34621,2.33145,2.377972,2.286381,2.39167,2.356328,2.283647,2.30575,2.323822,2.30605,2.30024,2.31791,2.39541,2.30383,2.34546,2.335103,2.282478,2.3005,2.34982,2.349474,2.287775,2.392478,2.40003,2.377086,2.32327,2.27819,2.403833,2.29199,2.291402,2.3066,2.35624,2.32469,2.37885,2.33601,2.340355,2.333722,2.286556,2.369271,2.354829,2.319709,2.327726,2.345244,2.30401,2.34952,2.344558,2.3393,2.323333,2.34043,2.29867,2.30306,2.387514,2.294687,2.34965,2.301388,2.286261,2.332659,2.330628,2.341558,2.345411,2.369393,2.330708,2.359165,2.332742,2.325883,2.297843,2.353491,2.361878,2.284444,2.3166,2.346525,2.349631,2.318648,2.281628,2.342386,2.30391,2.331035,2.354485,2.361661,2.336,2.290275,2.3041,2.333912,2.30465,2.35993,2.300204,2.328033,2.294503,2.282512,2.329411,2.303457,2.30364,2.385474,2.349469,2.326887,2.340964,2.265698,2.346386,2.376793,2.30305,2.293779,2.26296,2.35377,2.295166,2.333601,2.34841,2.372125,2.298472,2.30301,2.292857,2.3332,2.390901,2.32888,2.345492,2.306705,2.34472,2.34325,2.352939,2.36356,2.371683,2.39028,2.286761,2.376086,2.38408,2.324575,2.38468,2.38182,2.34791,2.3861,2.278642,2.354269,2.386351,2.321292,2.3671,2.32354,2.29542,2.287725,2.3487,2.31067,2.32556,2.334742,2.335236,2.333725,2.334058,2.286719,2.291459,2.31186,2.40974,2.32204,2.309593,2.356042,2.277546,2.259493,2.30084,2.265853,2.385325,2.3317,2.336609,2.39286,2.382961,2.348602,2.336,2.33691,2.290753,2.368075,2.340361,2.361898,2.36784,2.27361,2.362383,2.383604,2.33452,2.323528,2.343917,2.326292,2.337885,2.347642,2.357503,2.258342,2.347046,2.301456,2.306883,2.318494,2.294464,2.372177,2.335913,2.333035,2.36672,2.367769,2.33172,2.345676,2.377645,2.289691,2.400708,2.323679,2.347233,2.272391,2.329046,2.33743,2.334903,2.306735,2.343389,2.335995,2.31861,2.403874,2.355534,2.334186,2.341575,2.295777,2.338,2.300529,2.321378,2.298472,2.32079,2.339781,2.338239,2.277919,2.34106,2.338783,2.367381,2.304898,2.335916,2.33152,2.289776,2.303,2.35838,2.28411,2.296482,2.32124,2.3095,2.285453,2.285553,2.381161,2.277736,2.318017,2.34254,2.370238,2.366445,2.329269,2.330969,2.31499,2.321803,2.326667,2.386238,2.340689,2.319188,2.392953,2.3167,2.343327,2.323247,2.328396,2.32125,2.37063,2.39655,2.276315,2.344619,2.323335,2.32742,2.32624,2.343925,2.30475,2.37414,2.340324,2.39323,2.293683,2.348311,2.26138,2.322225,2.33322,2.34,2.410843,2.374507,2.275201,2.37299,2.332175,2.32541,2.338181,2.31876,2.3351,2.342939,2.337163,2.26519,2.32439,2.34883,2.36434,2.3793,2.30463,2.302189,2.329453,2.312994,2.348021,2.302596,2.39248,2.370336,2.320272,2.38214,2.38318,2.327313,2.346561,2.31465,2.318,2.31065,2.284302,2.368683,2.38198,2.386181,2.366242,2.364209,2.300482,2.343997,2.371249,2.32674,2.37409,2.310597,2.344469,2.292906,2.372822,2.3978,2.34136,2.346497,2.313706,2.34644,2.330856,2.373951,2.33083,2.374202,2.341458,2.37613,2.343317,2.325024,2.331042,2.315499,2.317564,2.286801,2.314769,2.27479,2.337614,2.37468,2.344533,2.285147,2.3645,2.346483,2.354978,2.30696,2.393439,2.36215,2.29703,2.310053,2.279457,2.325409,2.3426,2.32725,2.37476,2.2983,2.31406,2.353532,2.352431,2.35399,2.332262,2.299884,2.378167,2.307725,2.317318,2.314142,2.40499,2.35211,2.334651,2.348017,2.356988,2.3432,2.321291,2.353561,2.350872,2.34626,2.349156,2.34676],\"name\":\"\",\"radius\":10,\"subplot\":\"mapbox\",\"z\":[null,2.0,1.0,1.0,3.0,3.0,3.0,3.0,3.0,3.0,3.0,3.0,3.0,3.0,3.0,1.0,1.0,3.0,3.0,3.0,1.0,3.0,3.0,3.0,3.0,3.0,3.0,3.0,1.0,3.0,3.0,3.0,3.0,1.0,3.0,3.0,3.0,3.0,3.0,3.0,3.0,2.0,3.0,2.0,3.0,3.0,2.0,3.0,3.0,3.0,3.0,3.0,3.0,3.0,3.0,3.0,1.0,3.0,3.0,1.0,3.0,3.0,1.0,3.0,1.0,2.0,1.0,3.0,null,null,3.0,3.0,1.0,1.0,3.0,3.0,3.0,3.0,3.0,1.0,3.0,3.0,3.0,3.0,3.0,3.0,3.0,3.0,3.0,3.0,1.0,3.0,3.0,1.0,3.0,3.0,3.0,3.0,1.0,3.0,1.0,1.0,3.0,3.0,3.0,3.0,3.0,3.0,3.0,3.0,3.0,3.0,3.0,null,3.0,3.0,null,3.0,3.0,3.0,3.0,3.0,3.0,3.0,3.0,3.0,3.0,3.0,null,null,3.0,3.0,3.0,3.0,3.0,2.0,3.0,3.0,3.0,3.0,3.0,3.0,3.0,3.0,3.0,3.0,3.0,3.0,null,1.0,3.0,null,3.0,3.0,3.0,3.0,3.0,3.0,3.0,3.0,3.0,3.0,3.0,1.0,1.0,3.0,3.0,3.0,3.0,3.0,3.0,3.0,3.0,3.0,3.0,3.0,3.0,1.0,1.0,1.0,2.0,3.0,null,1.0,1.0,3.0,3.0,3.0,1.0,3.0,3.0,3.0,3.0,3.0,3.0,3.0,3.0,1.0,3.0,1.0,3.0,1.0,1.0,3.0,3.0,3.0,3.0,3.0,3.0,3.0,3.0,3.0,1.0,1.0,1.0,3.0,3.0,1.0,3.0,3.0,3.0,2.0,3.0,3.0,3.0,3.0,1.0,1.0,1.0,3.0,3.0,3.0,3.0,2.0,3.0,3.0,3.0,1.0,3.0,3.0,2.0,3.0,3.0,3.0,3.0,3.0,3.0,null,3.0,3.0,3.0,1.0,3.0,3.0,3.0,3.0,3.0,null,3.0,3.0,3.0,1.0,3.0,3.0,null,3.0,3.0,3.0,null,3.0,3.0,3.0,1.0,3.0,3.0,3.0,3.0,3.0,null,3.0,3.0,3.0,3.0,3.0,3.0,3.0,1.0,3.0,3.0,3.0,3.0,3.0,3.0,3.0,3.0,3.0,3.0,3.0,2.0,3.0,3.0,null,3.0,3.0,3.0,3.0,3.0,3.0,3.0,1.0,3.0,3.0,3.0,3.0,3.0,null,3.0,null,3.0,3.0,3.0,3.0,3.0,3.0,3.0,3.0,3.0,3.0,null,3.0,1.0,1.0,3.0,null,3.0,1.0,3.0,2.0,3.0,1.0,3.0,3.0,3.0,1.0,3.0,3.0,null,3.0,3.0,1.0,2.0,3.0,3.0,3.0,3.0,3.0,3.0,3.0,1.0,3.0,1.0,3.0,3.0,1.0,3.0,3.0,3.0,3.0,3.0,2.0,null,1.0,3.0,3.0,3.0,3.0,3.0,3.0,3.0,3.0,3.0,1.0,3.0,3.0,1.0,null,3.0,3.0,3.0,3.0,3.0,3.0,3.0,3.0,3.0,3.0,3.0,1.0,3.0,null,3.0,3.0,3.0,3.0,null,3.0,3.0,3.0,3.0,3.0,2.0,3.0,1.0,3.0,3.0,3.0,3.0,3.0,3.0,3.0,null,3.0,1.0,3.0,3.0,3.0,3.0,3.0,3.0,3.0,3.0,3.0,3.0,3.0,3.0,3.0,3.0,3.0,3.0,null,1.0,3.0,3.0,3.0,null,3.0,3.0,1.0,3.0,3.0,3.0,null,3.0,1.0,3.0,3.0,3.0,3.0,3.0,3.0,3.0,3.0,3.0,3.0,null,3.0,1.0,3.0,3.0,3.0,3.0,null,1.0,1.0,null,1.0,1.0,3.0,3.0,3.0,3.0,3.0,1.0,3.0,3.0,3.0,3.0,3.0,3.0,1.0,3.0,3.0,1.0,3.0,3.0,3.0,1.0,3.0,1.0,null,3.0,1.0,null,3.0,3.0,3.0,3.0,1.0,3.0,1.0,3.0,null,null,3.0,null,3.0,3.0,3.0,3.0,null,null,3.0,null,null,3.0,3.0,1.0,3.0,3.0,3.0,2.0,null,3.0,3.0,null,3.0,2.0,3.0,3.0,3.0,3.0,3.0,3.0,3.0,3.0,3.0,3.0,3.0,3.0,3.0,3.0,3.0,3.0,3.0,1.0,1.0,null,3.0,3.0,null,1.0,1.0,3.0,3.0,1.0,3.0,3.0,3.0,3.0,3.0,3.0,3.0,null,3.0,3.0,3.0,3.0,3.0,3.0,1.0,3.0,3.0,3.0,3.0,3.0,3.0,3.0,3.0,3.0,3.0,1.0,3.0,3.0,3.0,null,3.0,1.0,3.0,3.0,3.0,3.0,null,3.0,3.0,3.0,3.0,3.0,3.0,1.0,3.0,3.0,3.0,3.0,3.0,3.0,3.0,null,1.0,3.0,3.0,3.0,3.0,3.0,1.0,3.0,3.0,3.0,3.0,3.0,3.0,null,3.0,3.0,3.0,null,3.0,null,3.0,3.0,3.0,3.0,3.0,2.0,1.0,3.0,3.0,3.0,3.0,3.0,null,null,3.0,1.0,3.0,null,3.0,1.0,3.0,3.0,null,3.0,3.0,3.0,1.0,3.0,3.0,3.0,null,3.0,3.0,3.0,3.0,2.0,3.0,3.0,3.0,3.0,null,3.0,2.0,1.0,3.0,3.0,3.0,3.0,3.0,3.0,3.0,3.0,null,3.0,3.0,3.0,1.0,3.0,3.0,3.0,2.0,null,3.0,3.0,3.0,3.0,3.0,null,3.0,3.0,3.0,3.0,3.0,null,3.0,3.0,1.0,3.0,3.0,3.0,3.0,3.0,3.0,3.0,3.0,3.0,3.0,null,2.0,3.0,3.0,null,2.0,3.0,1.0,1.0,3.0,3.0,3.0,3.0,3.0,3.0,3.0,3.0,3.0,3.0,2.0,3.0,null,3.0,null,3.0,3.0,3.0,null,3.0,1.0,null,null,3.0,null,1.0,null,3.0,3.0,3.0,3.0,3.0,null,3.0,3.0,3.0,3.0,2.0,3.0,3.0,3.0,3.0,3.0,1.0,3.0,3.0,3.0,3.0,3.0,3.0,3.0,null,3.0,3.0,null,3.0,1.0,3.0,3.0,null,3.0,3.0,3.0,null,null,3.0,3.0,3.0,3.0,3.0,null,null,null,null,3.0,null,null,3.0,1.0,3.0,3.0,3.0,3.0,3.0,3.0,3.0,null,3.0,3.0,3.0,3.0,3.0,3.0,1.0,null,2.0,3.0,3.0,3.0,3.0,3.0,3.0,3.0,3.0,3.0,null,3.0,2.0,3.0,3.0,3.0,3.0,3.0,3.0,3.0,3.0,3.0,3.0,3.0,3.0,null,3.0,3.0,null,3.0,3.0,3.0,3.0,3.0,3.0,null,3.0,3.0,3.0,3.0,3.0,3.0,3.0,3.0,3.0,1.0,3.0,3.0,3.0,3.0,3.0,3.0,3.0,3.0,3.0,1.0,1.0,null,3.0,3.0,null,1.0,3.0,3.0,3.0,1.0,3.0,null,3.0,3.0,3.0,1.0,3.0,3.0,3.0,2.0,3.0,3.0,3.0,3.0,3.0,3.0,3.0,3.0,1.0,3.0,null,1.0,3.0,3.0,null,3.0,1.0,3.0,1.0,3.0,3.0,3.0,3.0,3.0,3.0,1.0,null,3.0,3.0,3.0,3.0,3.0,3.0,3.0,1.0,3.0,3.0,3.0,3.0,2.0,1.0,3.0,3.0,3.0,3.0,3.0,1.0,3.0,3.0,3.0,3.0,null,3.0,3.0,3.0,3.0,3.0,3.0,null,null,3.0,3.0,null,null,3.0,3.0,3.0,3.0,3.0,3.0,null,3.0,null,3.0,3.0,3.0,3.0,3.0,3.0,3.0,3.0,3.0,3.0,1.0,2.0,3.0,1.0,3.0,3.0,3.0,3.0,3.0,1.0,3.0,3.0,3.0,3.0,3.0,null,3.0,3.0,null,3.0,3.0,null,3.0,3.0,3.0,3.0,null,null,3.0,3.0,null,3.0,3.0,3.0,3.0,3.0,3.0,3.0,3.0,3.0,3.0,3.0,3.0,3.0,null,1.0,3.0,1.0,3.0,3.0,3.0,3.0,2.0,3.0,3.0,null,3.0,null,3.0,3.0,3.0,3.0,1.0,null,3.0,3.0,3.0,3.0,3.0,3.0,1.0,null,null,3.0,3.0,3.0,3.0,3.0,3.0,3.0,null,3.0,3.0,3.0,3.0,3.0,3.0,3.0,1.0,1.0,1.0,3.0,3.0,null,3.0,3.0,3.0,3.0,3.0,3.0,3.0,3.0,null,3.0,3.0,3.0,3.0,3.0,3.0,3.0,1.0,3.0,3.0,3.0,3.0,3.0,null,null,1.0,3.0,null,3.0,1.0,3.0,3.0,3.0,3.0,3.0,3.0,3.0,3.0,3.0,3.0,null,null,3.0,3.0,null,1.0,3.0,null,3.0,3.0,3.0,3.0,null,1.0,3.0,3.0,3.0,null,1.0,3.0,3.0,1.0,null,3.0,3.0,null,null,3.0,3.0,3.0,3.0,3.0,null,1.0,3.0,3.0,3.0,3.0,3.0,null,null,1.0,3.0,3.0,3.0,1.0,3.0,3.0,3.0,3.0,null,3.0,3.0,3.0,3.0,3.0,3.0,3.0,1.0,3.0,3.0,1.0,1.0,1.0,3.0,3.0,3.0,3.0,3.0,3.0,3.0,3.0,1.0,null,null,null,3.0,1.0,3.0,3.0,3.0,null,3.0,3.0,3.0,3.0,3.0,1.0,3.0,3.0,3.0,1.0,null,3.0,3.0,1.0,null,3.0,null,3.0,null,3.0,1.0,3.0,3.0,1.0,3.0,3.0,3.0,1.0,3.0,3.0,3.0,3.0,1.0,3.0,3.0,3.0,3.0,3.0,3.0,3.0,3.0,3.0,3.0,3.0,null,null,1.0,3.0,null,1.0,null,1.0,null,1.0,3.0,1.0,1.0,1.0,null,3.0,3.0,1.0,null,1.0,null,3.0,3.0,3.0,1.0,3.0,1.0,3.0,1.0,1.0,1.0,1.0,3.0,1.0,3.0,1.0,1.0,3.0,1.0,1.0,3.0,1.0,null,3.0,null,3.0,1.0,3.0,3.0,1.0,1.0,1.0,3.0,3.0,3.0,3.0,1.0,3.0,1.0,1.0,3.0,1.0,3.0,3.0,3.0,3.0,3.0,1.0,3.0,3.0,3.0,1.0,3.0,3.0,3.0,3.0,3.0,3.0,3.0,3.0,3.0,3.0,3.0,3.0,3.0,3.0,3.0,3.0,1.0,2.0,3.0,3.0,1.0,1.0,null,3.0,3.0,3.0,null,3.0,3.0,3.0,null,3.0,1.0,3.0,3.0,1.0,3.0,1.0,3.0,3.0,3.0,1.0,1.0,3.0,3.0,3.0,3.0,3.0,3.0,1.0,1.0,3.0,3.0,3.0,3.0,3.0,3.0,1.0,3.0,3.0,3.0,3.0,3.0,1.0,3.0,null,3.0,null,null,1.0,3.0,3.0,3.0,3.0,3.0,1.0,3.0,3.0,null,1.0,3.0,3.0,3.0,null,1.0,3.0,1.0,1.0,3.0,2.0,3.0,3.0,3.0,2.0,3.0,3.0,3.0,3.0,2.0,3.0,3.0,1.0,3.0,1.0,3.0,3.0,3.0,3.0,2.0,3.0,null,3.0,3.0,3.0,null,3.0,3.0,3.0,3.0,3.0,2.0,3.0,2.0,3.0,3.0,3.0,2.0,3.0,3.0,3.0,3.0,3.0,3.0,3.0,3.0,2.0,3.0,3.0,3.0,1.0,null,1.0,1.0,1.0,3.0,null,3.0,null,3.0,1.0,null,3.0,3.0,null,3.0,null,3.0,1.0,1.0,3.0,3.0,3.0,3.0,null,3.0,3.0,3.0,3.0,3.0,null,3.0,3.0,3.0,3.0,null,3.0,3.0,3.0,3.0,3.0,3.0,3.0,null,null,1.0,3.0,3.0,3.0,null,1.0,3.0,3.0,3.0,3.0,3.0,3.0,3.0,1.0,1.0,3.0,3.0,3.0,1.0,3.0,3.0,1.0,2.0,3.0,3.0,3.0,null,1.0,3.0,3.0,3.0,3.0,3.0,3.0,3.0,1.0,3.0,3.0,3.0,3.0,null,3.0,3.0,3.0,3.0,3.0,3.0,3.0,3.0,3.0,3.0,3.0,3.0,3.0,3.0,3.0,3.0,3.0,3.0,1.0,null,3.0,3.0,3.0,null,3.0,3.0,3.0,3.0,3.0,3.0,3.0,3.0,null,3.0,null,1.0,3.0,3.0,2.0,3.0,3.0,3.0,3.0,3.0,1.0,3.0,3.0,3.0,3.0,3.0,3.0,3.0,1.0,3.0,3.0,3.0,3.0,3.0,3.0,3.0,3.0,3.0,3.0,3.0,3.0,3.0,3.0,1.0,1.0,3.0,3.0,3.0,3.0,3.0,3.0,3.0,3.0,3.0,null,2.0,3.0,3.0,3.0,1.0,3.0,1.0,2.0,null,3.0,3.0,3.0,3.0,1.0,3.0,3.0,3.0,1.0,1.0,1.0,1.0,3.0,3.0,3.0,3.0,3.0,3.0,3.0,3.0,3.0,3.0,3.0,2.0,1.0,3.0,3.0,3.0,3.0,1.0,2.0,1.0,3.0,3.0,1.0,1.0,3.0,3.0,3.0,null,null,3.0,3.0,null,1.0,3.0,3.0,3.0,1.0,3.0,3.0,3.0,3.0,1.0,3.0,3.0,3.0,3.0,1.0,3.0,3.0,3.0,3.0,1.0,3.0,1.0,3.0,3.0,1.0,3.0,3.0,3.0,1.0,1.0,3.0,3.0,1.0,3.0,3.0,3.0,3.0,3.0,3.0,3.0,3.0,3.0,3.0,3.0,1.0,3.0,3.0,null,1.0,1.0,3.0,1.0,1.0,3.0],\"type\":\"densitymapbox\"}],                        {\"template\":{\"data\":{\"histogram2dcontour\":[{\"type\":\"histogram2dcontour\",\"colorbar\":{\"outlinewidth\":0,\"ticks\":\"\"},\"colorscale\":[[0.0,\"#0d0887\"],[0.1111111111111111,\"#46039f\"],[0.2222222222222222,\"#7201a8\"],[0.3333333333333333,\"#9c179e\"],[0.4444444444444444,\"#bd3786\"],[0.5555555555555556,\"#d8576b\"],[0.6666666666666666,\"#ed7953\"],[0.7777777777777778,\"#fb9f3a\"],[0.8888888888888888,\"#fdca26\"],[1.0,\"#f0f921\"]]}],\"choropleth\":[{\"type\":\"choropleth\",\"colorbar\":{\"outlinewidth\":0,\"ticks\":\"\"}}],\"histogram2d\":[{\"type\":\"histogram2d\",\"colorbar\":{\"outlinewidth\":0,\"ticks\":\"\"},\"colorscale\":[[0.0,\"#0d0887\"],[0.1111111111111111,\"#46039f\"],[0.2222222222222222,\"#7201a8\"],[0.3333333333333333,\"#9c179e\"],[0.4444444444444444,\"#bd3786\"],[0.5555555555555556,\"#d8576b\"],[0.6666666666666666,\"#ed7953\"],[0.7777777777777778,\"#fb9f3a\"],[0.8888888888888888,\"#fdca26\"],[1.0,\"#f0f921\"]]}],\"heatmap\":[{\"type\":\"heatmap\",\"colorbar\":{\"outlinewidth\":0,\"ticks\":\"\"},\"colorscale\":[[0.0,\"#0d0887\"],[0.1111111111111111,\"#46039f\"],[0.2222222222222222,\"#7201a8\"],[0.3333333333333333,\"#9c179e\"],[0.4444444444444444,\"#bd3786\"],[0.5555555555555556,\"#d8576b\"],[0.6666666666666666,\"#ed7953\"],[0.7777777777777778,\"#fb9f3a\"],[0.8888888888888888,\"#fdca26\"],[1.0,\"#f0f921\"]]}],\"heatmapgl\":[{\"type\":\"heatmapgl\",\"colorbar\":{\"outlinewidth\":0,\"ticks\":\"\"},\"colorscale\":[[0.0,\"#0d0887\"],[0.1111111111111111,\"#46039f\"],[0.2222222222222222,\"#7201a8\"],[0.3333333333333333,\"#9c179e\"],[0.4444444444444444,\"#bd3786\"],[0.5555555555555556,\"#d8576b\"],[0.6666666666666666,\"#ed7953\"],[0.7777777777777778,\"#fb9f3a\"],[0.8888888888888888,\"#fdca26\"],[1.0,\"#f0f921\"]]}],\"contourcarpet\":[{\"type\":\"contourcarpet\",\"colorbar\":{\"outlinewidth\":0,\"ticks\":\"\"}}],\"contour\":[{\"type\":\"contour\",\"colorbar\":{\"outlinewidth\":0,\"ticks\":\"\"},\"colorscale\":[[0.0,\"#0d0887\"],[0.1111111111111111,\"#46039f\"],[0.2222222222222222,\"#7201a8\"],[0.3333333333333333,\"#9c179e\"],[0.4444444444444444,\"#bd3786\"],[0.5555555555555556,\"#d8576b\"],[0.6666666666666666,\"#ed7953\"],[0.7777777777777778,\"#fb9f3a\"],[0.8888888888888888,\"#fdca26\"],[1.0,\"#f0f921\"]]}],\"surface\":[{\"type\":\"surface\",\"colorbar\":{\"outlinewidth\":0,\"ticks\":\"\"},\"colorscale\":[[0.0,\"#0d0887\"],[0.1111111111111111,\"#46039f\"],[0.2222222222222222,\"#7201a8\"],[0.3333333333333333,\"#9c179e\"],[0.4444444444444444,\"#bd3786\"],[0.5555555555555556,\"#d8576b\"],[0.6666666666666666,\"#ed7953\"],[0.7777777777777778,\"#fb9f3a\"],[0.8888888888888888,\"#fdca26\"],[1.0,\"#f0f921\"]]}],\"mesh3d\":[{\"type\":\"mesh3d\",\"colorbar\":{\"outlinewidth\":0,\"ticks\":\"\"}}],\"scatter\":[{\"fillpattern\":{\"fillmode\":\"overlay\",\"size\":10,\"solidity\":0.2},\"type\":\"scatter\"}],\"parcoords\":[{\"type\":\"parcoords\",\"line\":{\"colorbar\":{\"outlinewidth\":0,\"ticks\":\"\"}}}],\"scatterpolargl\":[{\"type\":\"scatterpolargl\",\"marker\":{\"colorbar\":{\"outlinewidth\":0,\"ticks\":\"\"}}}],\"bar\":[{\"error_x\":{\"color\":\"#2a3f5f\"},\"error_y\":{\"color\":\"#2a3f5f\"},\"marker\":{\"line\":{\"color\":\"#E5ECF6\",\"width\":0.5},\"pattern\":{\"fillmode\":\"overlay\",\"size\":10,\"solidity\":0.2}},\"type\":\"bar\"}],\"scattergeo\":[{\"type\":\"scattergeo\",\"marker\":{\"colorbar\":{\"outlinewidth\":0,\"ticks\":\"\"}}}],\"scatterpolar\":[{\"type\":\"scatterpolar\",\"marker\":{\"colorbar\":{\"outlinewidth\":0,\"ticks\":\"\"}}}],\"histogram\":[{\"marker\":{\"pattern\":{\"fillmode\":\"overlay\",\"size\":10,\"solidity\":0.2}},\"type\":\"histogram\"}],\"scattergl\":[{\"type\":\"scattergl\",\"marker\":{\"colorbar\":{\"outlinewidth\":0,\"ticks\":\"\"}}}],\"scatter3d\":[{\"type\":\"scatter3d\",\"line\":{\"colorbar\":{\"outlinewidth\":0,\"ticks\":\"\"}},\"marker\":{\"colorbar\":{\"outlinewidth\":0,\"ticks\":\"\"}}}],\"scattermapbox\":[{\"type\":\"scattermapbox\",\"marker\":{\"colorbar\":{\"outlinewidth\":0,\"ticks\":\"\"}}}],\"scatterternary\":[{\"type\":\"scatterternary\",\"marker\":{\"colorbar\":{\"outlinewidth\":0,\"ticks\":\"\"}}}],\"scattercarpet\":[{\"type\":\"scattercarpet\",\"marker\":{\"colorbar\":{\"outlinewidth\":0,\"ticks\":\"\"}}}],\"carpet\":[{\"aaxis\":{\"endlinecolor\":\"#2a3f5f\",\"gridcolor\":\"white\",\"linecolor\":\"white\",\"minorgridcolor\":\"white\",\"startlinecolor\":\"#2a3f5f\"},\"baxis\":{\"endlinecolor\":\"#2a3f5f\",\"gridcolor\":\"white\",\"linecolor\":\"white\",\"minorgridcolor\":\"white\",\"startlinecolor\":\"#2a3f5f\"},\"type\":\"carpet\"}],\"table\":[{\"cells\":{\"fill\":{\"color\":\"#EBF0F8\"},\"line\":{\"color\":\"white\"}},\"header\":{\"fill\":{\"color\":\"#C8D4E3\"},\"line\":{\"color\":\"white\"}},\"type\":\"table\"}],\"barpolar\":[{\"marker\":{\"line\":{\"color\":\"#E5ECF6\",\"width\":0.5},\"pattern\":{\"fillmode\":\"overlay\",\"size\":10,\"solidity\":0.2}},\"type\":\"barpolar\"}],\"pie\":[{\"automargin\":true,\"type\":\"pie\"}]},\"layout\":{\"autotypenumbers\":\"strict\",\"colorway\":[\"#636efa\",\"#EF553B\",\"#00cc96\",\"#ab63fa\",\"#FFA15A\",\"#19d3f3\",\"#FF6692\",\"#B6E880\",\"#FF97FF\",\"#FECB52\"],\"font\":{\"color\":\"#2a3f5f\"},\"hovermode\":\"closest\",\"hoverlabel\":{\"align\":\"left\"},\"paper_bgcolor\":\"white\",\"plot_bgcolor\":\"#E5ECF6\",\"polar\":{\"bgcolor\":\"#E5ECF6\",\"angularaxis\":{\"gridcolor\":\"white\",\"linecolor\":\"white\",\"ticks\":\"\"},\"radialaxis\":{\"gridcolor\":\"white\",\"linecolor\":\"white\",\"ticks\":\"\"}},\"ternary\":{\"bgcolor\":\"#E5ECF6\",\"aaxis\":{\"gridcolor\":\"white\",\"linecolor\":\"white\",\"ticks\":\"\"},\"baxis\":{\"gridcolor\":\"white\",\"linecolor\":\"white\",\"ticks\":\"\"},\"caxis\":{\"gridcolor\":\"white\",\"linecolor\":\"white\",\"ticks\":\"\"}},\"coloraxis\":{\"colorbar\":{\"outlinewidth\":0,\"ticks\":\"\"}},\"colorscale\":{\"sequential\":[[0.0,\"#0d0887\"],[0.1111111111111111,\"#46039f\"],[0.2222222222222222,\"#7201a8\"],[0.3333333333333333,\"#9c179e\"],[0.4444444444444444,\"#bd3786\"],[0.5555555555555556,\"#d8576b\"],[0.6666666666666666,\"#ed7953\"],[0.7777777777777778,\"#fb9f3a\"],[0.8888888888888888,\"#fdca26\"],[1.0,\"#f0f921\"]],\"sequentialminus\":[[0.0,\"#0d0887\"],[0.1111111111111111,\"#46039f\"],[0.2222222222222222,\"#7201a8\"],[0.3333333333333333,\"#9c179e\"],[0.4444444444444444,\"#bd3786\"],[0.5555555555555556,\"#d8576b\"],[0.6666666666666666,\"#ed7953\"],[0.7777777777777778,\"#fb9f3a\"],[0.8888888888888888,\"#fdca26\"],[1.0,\"#f0f921\"]],\"diverging\":[[0,\"#8e0152\"],[0.1,\"#c51b7d\"],[0.2,\"#de77ae\"],[0.3,\"#f1b6da\"],[0.4,\"#fde0ef\"],[0.5,\"#f7f7f7\"],[0.6,\"#e6f5d0\"],[0.7,\"#b8e186\"],[0.8,\"#7fbc41\"],[0.9,\"#4d9221\"],[1,\"#276419\"]]},\"xaxis\":{\"gridcolor\":\"white\",\"linecolor\":\"white\",\"ticks\":\"\",\"title\":{\"standoff\":15},\"zerolinecolor\":\"white\",\"automargin\":true,\"zerolinewidth\":2},\"yaxis\":{\"gridcolor\":\"white\",\"linecolor\":\"white\",\"ticks\":\"\",\"title\":{\"standoff\":15},\"zerolinecolor\":\"white\",\"automargin\":true,\"zerolinewidth\":2},\"scene\":{\"xaxis\":{\"backgroundcolor\":\"#E5ECF6\",\"gridcolor\":\"white\",\"linecolor\":\"white\",\"showbackground\":true,\"ticks\":\"\",\"zerolinecolor\":\"white\",\"gridwidth\":2},\"yaxis\":{\"backgroundcolor\":\"#E5ECF6\",\"gridcolor\":\"white\",\"linecolor\":\"white\",\"showbackground\":true,\"ticks\":\"\",\"zerolinecolor\":\"white\",\"gridwidth\":2},\"zaxis\":{\"backgroundcolor\":\"#E5ECF6\",\"gridcolor\":\"white\",\"linecolor\":\"white\",\"showbackground\":true,\"ticks\":\"\",\"zerolinecolor\":\"white\",\"gridwidth\":2}},\"shapedefaults\":{\"line\":{\"color\":\"#2a3f5f\"}},\"annotationdefaults\":{\"arrowcolor\":\"#2a3f5f\",\"arrowhead\":0,\"arrowwidth\":1},\"geo\":{\"bgcolor\":\"white\",\"landcolor\":\"#E5ECF6\",\"subunitcolor\":\"white\",\"showland\":true,\"showlakes\":true,\"lakecolor\":\"white\"},\"title\":{\"x\":0.05},\"mapbox\":{\"style\":\"light\"}}},\"mapbox\":{\"domain\":{\"x\":[0.0,1.0],\"y\":[0.0,1.0]},\"center\":{\"lat\":48.85662216690112,\"lon\":2.3428763772885635},\"zoom\":12,\"style\":\"stamen-terrain\",\"layers\":[{\"below\":\"traces\",\"color\":\"red\",\"source\":{\"type\":\"FeatureCollection\",\"features\":[{\"type\":\"Feature\",\"geometry\":{\"type\":\"Polygon\",\"coordinates\":[[[2.2241686,48.8534419],[2.2241606,48.8534778],[2.2241429,48.8535779],[2.2241349,48.8536539],[2.224129,48.853759],[2.2241249,48.8538689],[2.2241249,48.8540199],[2.2241219,48.8541989],[2.224158,48.8546149],[2.224257,48.8552409],[2.224317,48.85555],[2.224371,48.85581],[2.224466,48.856232],[2.224579,48.856632],[2.224789,48.857329],[2.224877,48.857605],[2.225001,48.85798],[2.225056,48.858124],[2.225116,48.858268],[2.22523,48.858519],[2.225286,48.858627],[2.2254300000000002,48.858914],[2.2257078,48.8594357],[2.2264044,48.8609577],[2.2269049,48.8617931],[2.2272918,48.8625733],[2.2279465,48.8643329],[2.2282435,48.8651445],[2.228425,48.8654293],[2.228652,48.8657664],[2.2294748,48.8667271],[2.2295816,48.8668473],[2.23037,48.8677341],[2.2312282,48.8686235],[2.232076,48.869507],[2.2328437,48.8697546],[2.2340186,48.8700811],[2.2373728,48.8710132],[2.239672,48.8715756],[2.2401154,48.8717174],[2.2404625,48.8718877],[2.2410476,48.8722767],[2.2433601,48.8741265],[2.2456227,48.8763641],[2.2476141,48.875871],[2.2495862,48.8753761],[2.2548149,48.8740805],[2.2550572,48.8741525],[2.2554112,48.8742636],[2.2584073,48.8800973],[2.2584626,48.8801181],[2.2584893,48.8801283],[2.2588832,48.8802792],[2.2588875,48.8802807],[2.2602672,48.8801053],[2.2646217,48.8795663],[2.2774903,48.8779625],[2.2780343,48.8781258],[2.2786074,48.8782982],[2.2786175,48.8783012],[2.2798011,48.8786534],[2.2799642,48.8787024],[2.2808973999999997,48.8827945],[2.2809933,48.8829463],[2.2811175,48.8830469],[2.2818271,48.8835988],[2.2818613,48.8836254],[2.2821522,48.8838487],[2.2844692,48.8856279],[2.285491,48.886437],[2.2856608,48.8865706],[2.2860663,48.8867704],[2.2871097,48.8872829],[2.2877583,48.8875999],[2.2896452,48.8885253],[2.2911749,48.889275],[2.2911515,48.8892968],[2.2915042,48.8894591],[2.2916837,48.8894788],[2.2927237,48.8895994],[2.292944,48.8896198],[2.2935121,48.8896858],[2.2937036,48.8897081],[2.2940331,48.889748],[2.2940396,48.8897487],[2.294239,48.8897734],[2.2942516,48.889775],[2.2943705,48.8897883],[2.2950469,48.8898692],[2.29556,48.8901352],[2.2956134,48.8901629],[2.2956666,48.8901903],[2.2964596,48.8905998],[2.2973247,48.8910559],[2.2974274,48.8911092],[2.2974716,48.8911326],[2.2978671,48.8913425],[2.2980112,48.8914188],[2.2980293,48.8914282],[2.2980951,48.8914625],[2.2981869,48.8915108],[2.2982029,48.8915192],[2.2985613,48.8917077],[2.2986328,48.891742],[2.2989986,48.8919132],[2.29906,48.891942],[2.2993263,48.8920679],[2.2994757,48.8921386],[2.2996847,48.8922374],[2.2998265,48.8923037],[2.3000303,48.892399],[2.3003454,48.8925463],[2.3004252,48.8925831],[2.300466,48.8926015],[2.3006258,48.8926735],[2.3015592,48.8931164],[2.3032772,48.8939169],[2.3033949,48.8939748],[2.3037933,48.8941706],[2.3054722,48.894968],[2.3056499,48.8950524],[2.3060163,48.895227],[2.3071852,48.895784],[2.3073107,48.8958473],[2.3075545,48.8959598],[2.3076111,48.8959813],[2.3076874,48.8960103],[2.3077462,48.8960324],[2.3078196,48.89606],[2.3078748,48.8960808],[2.3079848,48.8961221],[2.3095441,48.896708],[2.3118553,48.897577],[2.3123423,48.8977601],[2.3130853,48.8979785],[2.3134018,48.8980716],[2.3152945,48.8986503],[2.316169,48.8989407],[2.3185322,48.8996333],[2.3187182,48.8997442],[2.319099,48.8999762],[2.3198901,48.9004581],[2.3202377,48.9006804],[2.3203575,48.9007571],[2.3213033,48.9007949],[2.3222857,48.9008264],[2.3240848,48.9008857],[2.3258801,48.9009525],[2.3277816,48.9009897],[2.3301825,48.901028],[2.334615,48.9011357],[2.3346298,48.9011361],[2.3346874,48.9011373],[2.3347159,48.9011379],[2.3348349,48.9011408],[2.335107,48.9011475],[2.3352678,48.9011501],[2.3353792,48.9011527],[2.3354308,48.9011537],[2.3354926,48.9011552],[2.3355071,48.9011554],[2.3356163,48.9011577],[2.3356538000000002,48.9011583],[2.3358319,48.9011621],[2.3360335,48.9011669],[2.3360627,48.9011676],[2.3361724,48.9011702],[2.336375,48.9011751],[2.336543,48.9011783],[2.3365958,48.9011794],[2.3367056,48.9011817],[2.336717,48.9011819],[2.3367567,48.9011829],[2.3369673,48.9011881],[2.3371368,48.9011927],[2.3371435,48.9011929],[2.3372745,48.9011971],[2.3441096999999997,48.9013303],[2.3480617,48.9014138],[2.3519495,48.9014916],[2.3519837,48.9014931],[2.3530999,48.9015069],[2.3532526,48.9015126],[2.3550659,48.9015474],[2.3578445,48.9016087],[2.3588508,48.901624],[2.3615108,48.9016786],[2.3617146,48.9016827],[2.3619858,48.9016883],[2.3656078,48.9017625],[2.370105,48.9018542],[2.3702923,48.90186],[2.3715507,48.9018858],[2.3759783,48.9019808],[2.3790003,48.9020474],[2.380076,48.9020689],[2.3844292,48.902156],[2.3849847,48.9020514],[2.386186,48.9018252],[2.3872399,48.9016274],[2.3892039,48.901259],[2.3893895,48.9012193],[2.390567,48.9010035],[2.3906903,48.900981],[2.3912104,48.9006945],[2.3912181,48.9006901],[2.3912231999999998,48.9006873],[2.3912782999999997,48.9006562],[2.39374,48.8992669],[2.3955273,48.8982616],[2.3957809,48.8978504],[2.3960266,48.8974516],[2.396441,48.8967793],[2.3964597,48.8967483],[2.3969294,48.895982],[2.3969976,48.8958672],[2.397026,48.8958205],[2.3970729,48.8957431],[2.397727,48.8946512],[2.3977623,48.8945923],[2.3980139,48.8936755],[2.3980215,48.8936458],[2.3980284,48.8936194],[2.398046,48.893558],[2.3980795,48.8934363],[2.3981193,48.8932835],[2.398286,48.8926312],[2.3986236,48.8913434],[2.3987974,48.89024],[2.3989125,48.8895601],[2.3991662,48.8883266],[2.399187,48.8882317],[2.3991914,48.8876709],[2.3991918,48.8876325],[2.3992027,48.8867094],[2.3992041,48.8865379],[2.3992053,48.8863475],[2.3992055,48.8863277],[2.3992061,48.8862896],[2.3992067,48.8862375],[2.3992053,48.8858667],[2.399206,48.8858502],[2.3992138,48.8854185],[2.4000892,48.8838139],[2.40046,48.8835019],[2.4014666,48.8826087],[2.4037145,48.8814825],[2.4046095,48.8812172],[2.4071367,48.8805111],[2.4083756,48.8803799],[2.4092903,48.8802755],[2.4108364,48.8784234],[2.4108559,48.8784045],[2.4118562,48.877152],[2.4125003,48.8763788],[2.412525,48.8762834],[2.4125297,48.8762513],[2.4128442,48.8752063],[2.4128549,48.8751692],[2.4131542,48.8741348],[2.4131861,48.8740448],[2.4132183,48.8739412],[2.4132894,48.8736942],[2.4134012,48.8733081],[2.4134472,48.8731507],[2.4136293,48.8724716],[2.4136461,48.8724055],[2.4137226,48.8716597],[2.4137851,48.8708747],[2.4138209,48.8705645],[2.4139452,48.8695112],[2.4139679,48.8693058],[2.4140042,48.8689246],[2.4139667,48.8678519],[2.413965,48.8675931],[2.4139614,48.8674618],[2.413912,48.8656741],[2.4138943,48.8651715],[2.4138599,48.8640705],[2.4139019,48.8637647],[2.4139144,48.8636722],[2.4139599,48.863334],[2.4140589,48.8625711],[2.4145003,48.8598239],[2.4146685,48.8588654],[2.4147117,48.8587061],[2.4148508,48.8577988],[2.4149658,48.8570845],[2.4151669,48.8558675],[2.4152668999999998,48.8552629],[2.4152827,48.8551803],[2.4153405,48.8548473],[2.4154609,48.8542264],[2.415524,48.8539324],[2.4155987,48.8534671],[2.4157102999999998,48.8527876],[2.4158824,48.8518014],[2.4160139,48.850994],[2.416038,48.8508465],[2.4161976,48.8498896],[2.4163604,48.8492351],[2.4164374,48.8487895],[2.4164078,48.8486413],[2.4164034,48.8486194],[2.4163914,48.8485641],[2.4163563999999997,48.8483846],[2.4163042,48.8481235],[2.4162954,48.8480794],[2.4162624,48.8479143],[2.4162557,48.8478811],[2.4162005,48.847605],[2.4161931,48.8475679],[2.4161844,48.8475243],[2.4161771,48.847488],[2.4161592,48.8473985],[2.4161555999999997,48.8473806],[2.4161381,48.8472933],[2.416119,48.8472048],[2.4160713,48.8469823],[2.4159924999999998,48.8466141],[2.4159592,48.8465376],[2.4159441,48.8464432],[2.4158669,48.8459597],[2.4158594,48.8459217],[2.4158087999999998,48.845667399999996],[2.4157915,48.845581],[2.4157929,48.8455794],[2.4157654,48.8454469],[2.4157465,48.8453599],[2.4157227,48.8452458],[2.4156926,48.8451059],[2.4153127,48.8438715],[2.4153056,48.8438487],[2.4152498,48.843665],[2.4152089,48.8435303],[2.4151811,48.8434373],[2.4151778999999998,48.8434269],[2.415142,48.8433199],[2.4144914,48.8412349],[2.4143497,48.8407524],[2.4143134,48.8406323],[2.4142862,48.840537],[2.4142573,48.8404383],[2.4142499,48.8404131],[2.4140655,48.8397848],[2.414057,48.8397453],[2.413979,48.8394953],[2.4139569,48.8394154],[2.4139342,48.8393326],[2.4139277,48.8393105],[2.4139049999999997,48.839233],[2.413898,48.8392091],[2.4138875,48.8391732],[2.4138588,48.8390754],[2.4138484,48.8390399],[2.4138157,48.8389282],[2.4138044,48.8388899],[2.4137922,48.8388481],[2.4137822,48.8388141],[2.413719,48.8385985],[2.4136412,48.8383331],[2.4135969,48.8381827],[2.4135428,48.8379881],[2.4135331,48.8379541],[2.4135128999999997,48.8378838],[2.4133719,48.8375096],[2.4133474,48.8374388],[2.4133095,48.837337],[2.4131424,48.8368954],[2.4131004,48.8367846],[2.4130361,48.8366109],[2.4130221,48.8365726],[2.4130023,48.8365188],[2.4129803,48.8364593],[2.4129586,48.8364003],[2.4129238,48.8363064],[2.4128577,48.8361171],[2.4128197,48.8360143],[2.4127861,48.8359233],[2.4127744,48.8358916],[2.4124881,48.8351162],[2.4124103999999997,48.8349173],[2.4122756,48.8345479],[2.4119259,48.8343242],[2.4114,48.833972],[2.4113208999999998,48.833917],[2.4112276,48.8338666],[2.4114268,48.8338326],[2.4127938,48.833631],[2.4131253,48.8336049],[2.4134256,48.8335871],[2.4136525,48.8335769],[2.4139055,48.8335711],[2.4141386,48.833571],[2.4143692,48.8335759],[2.4146219,48.8335877],[2.4148829,48.8336055],[2.4151222,48.833626],[2.4153615,48.8336512],[2.4156076,48.8336823],[2.4158614,48.8337185],[2.4161106,48.833761],[2.4163435,48.8338049],[2.4166365,48.8338658],[2.4168863,48.8339254],[2.4171162,48.8339854],[2.4173318,48.8340448],[2.4188687,48.8345183],[2.4216018999999998,48.8355527],[2.4221083,48.83578],[2.4221763,48.8358143],[2.4216968,48.8366691],[2.4216385,48.8368104],[2.4215632,48.8370386],[2.4215306,48.83715],[2.4214238999999997,48.8377072],[2.4213,48.8382468],[2.4212226,48.8385555],[2.421074,48.8390539],[2.4209918999999998,48.8393016],[2.4208564,48.8396534],[2.4207248999999997,48.839946499999996],[2.4206044,48.8401879],[2.4204178,48.8404984],[2.4203843,48.8405539],[2.4202690000000002,48.840693],[2.4200343,48.8408961],[2.419858,48.8410675],[2.4195701,48.8415358],[2.4194237,48.8424867],[2.4195372,48.8426934],[2.4195776,48.8427352],[2.4196351,48.8427756],[2.4197109,48.8428349],[2.4197727,48.8428955],[2.4198245,48.8429555],[2.4198733,48.8430323],[2.4199038,48.8431027],[2.4199144,48.8431492],[2.4199206,48.8432328],[2.4199177,48.8432968],[2.4199052,48.8433561],[2.4198823,48.8434266],[2.4221064,48.844498],[2.4223441,48.8443737],[2.4224549,48.8442955],[2.4225741,48.8441997],[2.4227583,48.8440059],[2.4228582,48.8438881],[2.4229404,48.8437789],[2.4230659,48.8435911],[2.4231928,48.8434022],[2.423478,48.8429793],[2.4237003,48.842686],[2.4240616,48.8423349],[2.4245669,48.841947],[2.4248157,48.8419003],[2.4247605,48.8417695],[2.4250455,48.841725],[2.4250912,48.8417201],[2.4255748,48.84168],[2.4275631,48.8415092],[2.4282675,48.8414483],[2.4324459,48.8410907],[2.4336379,48.8409864],[2.4336793,48.8411933],[2.4339621,48.8411692],[2.4341386,48.8411542],[2.4371919,48.8408913],[2.4372727,48.8412909],[2.4375339,48.8425655],[2.4375527999999997,48.8426581],[2.4378988,48.8443708],[2.4379406,48.8445688],[2.4393834,48.8444429],[2.4405117,48.8443462],[2.440577,48.8446958],[2.4405928,48.844776],[2.4405999,48.8448104],[2.4406084999999997,48.8448545],[2.4406162,48.8448879],[2.4408087,48.8448716],[2.4408737,48.8452101],[2.4407416,48.8452087],[2.4406947,48.8452082],[2.4407662,48.8459165],[2.4465261,48.8457499],[2.4465525,48.8457294],[2.4464103,48.8449317],[2.4478414,48.8447921],[2.4493917,48.8446367],[2.4522022,48.8442275],[2.4536734,48.8440233],[2.4580644,48.8434559],[2.4596988,48.8431435],[2.4608392,48.8429217],[2.4611297,48.8428536],[2.4617396,48.8426945],[2.4622058,48.8425514],[2.4627325,48.8423677],[2.4632645,48.8421665],[2.4638397,48.841913],[2.4642296999999997,48.8417134],[2.4645545,48.8415233],[2.4649936,48.841232],[2.4652874,48.8410223],[2.4656632,48.8407344],[2.4659364,48.8405091],[2.4663775,48.840114],[2.4665407,48.8399408],[2.4672316,48.8390936],[2.4684575,48.8378711],[2.4693052,48.8371196],[2.4694169,48.8370044],[2.4695047,48.8368913],[2.4696975,48.8365901],[2.4697215999999997,48.8365474],[2.4697459,48.836491],[2.4697573999999998,48.836445499999996],[2.4697602,48.836384699999996],[2.4697035,48.8355555],[2.4696266,48.8352842],[2.4694892,48.8348337],[2.4693885,48.8346145],[2.4692958,48.8344541],[2.4691776,48.8342828],[2.4690501,48.8341223],[2.4689374,48.8339906],[2.4687574,48.833815],[2.4685897,48.8336788],[2.4683752,48.8335372],[2.4680973,48.833399],[2.4676891,48.8332163],[2.4667271,48.8327215],[2.4664275,48.8325222],[2.4660875,48.8322528],[2.4658973,48.8320719],[2.4657204999999998,48.8318871],[2.4654908,48.8316036],[2.4653606999999997,48.8314052],[2.4652296,48.8311513],[2.4651046,48.8308407],[2.4649828,48.8304476],[2.4646418,48.8293647],[2.4645141,48.8286098],[2.4645496,48.8279406],[2.4646097,48.8276268],[2.4649031,48.8275733],[2.4650873,48.8275398],[2.4652295,48.8276698],[2.46543,48.8275699],[2.4661776,48.8273333],[2.4658461,48.8264972],[2.465761,48.8262824],[2.4656948,48.8260717],[2.4653589,48.8250035],[2.4651006,48.8249857],[2.4651733,48.8246935],[2.4652474,48.8244957],[2.4647171,48.8232775],[2.4646662,48.8232738],[2.4629064,48.8202031],[2.4626386,48.8193436],[2.4625235,48.819266999999996],[2.4628097,48.819077],[2.4628031999999997,48.8190282],[2.4613077,48.8182984],[2.4597545,48.8175402],[2.4591969,48.8173344],[2.4592492999999997,48.8172453],[2.4586327,48.8170122],[2.4572152,48.8170182],[2.454688,48.8171307],[2.4545494,48.8171369],[2.4538888,48.8172212],[2.4533172,48.8172941],[2.4508256,48.8178086],[2.4496376,48.817962],[2.4476125,48.8180268],[2.4449831,48.8179497],[2.442673,48.8179576],[2.4421595,48.8179762],[2.4416505,48.8180389],[2.4400143,48.8183507],[2.4398636,48.8183635],[2.4397507,48.8183664],[2.4395917,48.8183629],[2.4373499,48.818219],[2.437387,48.8185935],[2.437425,48.8188266],[2.4374703,48.8191047],[2.4373606,48.8191833],[2.4372529,48.8192433],[2.4370878,48.8193167],[2.4369678,48.8193634],[2.4367627,48.8194299],[2.4364604,48.8195157],[2.4362661,48.8195603],[2.4361091999999998,48.8195849],[2.4359635,48.8196001],[2.4351649,48.8196494],[2.4351352,48.8196472],[2.4350769,48.8196336],[2.4349332,48.819591],[2.4348187,48.8195443],[2.4345004,48.8193731],[2.4343233,48.8193853],[2.43418,48.8192813],[2.4342696999999998,48.8199244],[2.4343025,48.820156],[2.4324743,48.8214199],[2.4328895,48.8216903],[2.432624,48.8219015],[2.4321897,48.8216183],[2.4321532,48.8216437],[2.4303715,48.8228804],[2.4305491,48.8230771],[2.4306204,48.8231558],[2.4306910999999998,48.8232341],[2.4302391,48.8234025],[2.4297507,48.8235653],[2.4292496999999997,48.8237086],[2.4289465,48.8237863],[2.4283754,48.8239123],[2.4278324,48.8240111],[2.4271517,48.8241114],[2.4265005,48.8241836],[2.4259570999999998,48.824229],[2.4256512,48.8242479],[2.4249496,48.8242682],[2.4244749,48.82427],[2.4239784,48.8242591],[2.4228734,48.824208],[2.422527,48.8241911],[2.4219893,48.8241649],[2.4217807000000002,48.8241548],[2.4217075,48.8241527],[2.4208099,48.824127],[2.4203538,48.8241284],[2.4199463,48.8241522],[2.4198698,48.8241585],[2.4195332,48.8242058],[2.419036,48.8242976],[2.4186791,48.8243818],[2.4180741,48.8245385],[2.4176275,48.8246398],[2.4172152000000002,48.8247202],[2.4167079,48.824794],[2.4163895,48.824825],[2.4160729,48.8248443],[2.4156613,48.8248575],[2.4151561,48.8248594],[2.4146247,48.8248465],[2.4138483,48.824796],[2.4131933,48.8247907],[2.4126165,48.8248159],[2.4122981,48.8248408],[2.4118361,48.8248881],[2.4112922,48.8249669],[2.4108039,48.8250515],[2.410518,48.825116],[2.4102555,48.8251885],[2.4102443,48.8251915],[2.4100481,48.8252583],[2.4099036,48.8253074],[2.4096218,48.8254188],[2.4092442,48.8255892],[2.4087713,48.8258283],[2.4083082,48.8260909],[2.4077059,48.8264733],[2.4072826,48.8267645],[2.4065165,48.8273595],[2.4062282,48.8275739],[2.4054525,48.8281473],[2.4051945,48.8283312],[2.404918,48.8285174],[2.4045836,48.828725],[2.4042667,48.8289036],[2.4039186,48.8290696],[2.4036628,48.8291807],[2.4030824,48.8294232],[2.4024879,48.8296468],[2.4014939,48.8293657],[2.4013057,48.8293102],[2.4009961,48.8292234],[2.3997742,48.8288783],[2.3957464,48.8277321],[2.3943522,48.8275127],[2.3933003,48.8270539],[2.393214,48.8270163],[2.3909512,48.8260324],[2.3902558,48.8257262],[2.3897775,48.8255203],[2.3888381,48.8250197],[2.3888124,48.8250059],[2.3871708,48.8244232],[2.3851504,48.8237014],[2.3839639999999997,48.8232812],[2.3815135,48.8224128],[2.3807452,48.8216876],[2.3790587,48.821139],[2.3778589,48.820748],[2.3778096,48.8207311],[2.3777749999999997,48.8207192],[2.376025,48.8201182],[2.3746098,48.8196608],[2.3741539,48.8195135],[2.3669818,48.8172057],[2.3661678,48.8169137],[2.3647313,48.8164816],[2.3642488999999998,48.8163268],[2.3634078,48.8160593],[2.3566126,48.8159806],[2.3559172999999998,48.8159723],[2.3523989,48.8185339],[2.3486893,48.8167276],[2.3485475,48.8166586],[2.3484942,48.8166327],[2.3483611,48.8165677],[2.3481887,48.8164836],[2.3479768,48.8163803],[2.3477868,48.8162876],[2.347389,48.8160944],[2.3471918,48.8159982],[2.3469205,48.8158654],[2.3466224,48.8158942],[2.3464266,48.8159133],[2.3444323,48.8161064],[2.3444967,48.8155755],[2.3439740000000002,48.8157661],[2.3436497,48.8158679],[2.3430541,48.8160661],[2.3416672,48.8163436],[2.3404582,48.8164067],[2.3402932,48.8164153],[2.3395286,48.8164436],[2.3386643,48.8164844],[2.3380169,48.8165201],[2.3360472,48.816624],[2.3355935,48.8166544],[2.3353358,48.8166748],[2.3352203,48.8166827],[2.3351407,48.8166868],[2.3349406999999998,48.8166964],[2.3348307,48.8167016],[2.3347207,48.8167068],[2.3338206,48.8167556],[2.3337086,48.8167638],[2.3322415,48.8169651],[2.3321297,48.8169814],[2.3319782,48.8170022],[2.33196,48.8170041],[2.33192,48.8170081],[2.3317414,48.8170262],[2.3320935,48.8176872],[2.3323719,48.8182069],[2.3321646,48.818259499999996],[2.3317783,48.818344],[2.3315752,48.8183899],[2.3312994,48.8184489],[2.3308144,48.8185552],[2.330793,48.8185597],[2.3302868,48.8186664],[2.3302117,48.818683300000004],[2.3301822,48.8186898],[2.3293502999999998,48.8188782],[2.3292675,48.8188951],[2.3274555,48.8193015],[2.3269174,48.8194224],[2.3268722,48.8194324],[2.3268014,48.8194458],[2.3266627,48.8194772],[2.3266295,48.8194848],[2.3263255,48.819553],[2.3262721,48.8195651],[2.3261186,48.8195998],[2.3260856,48.8196072],[2.325938,48.8196405],[2.3257661,48.8196803],[2.3255964000000002,48.8197194],[2.3213172,48.820676],[2.3210278,48.8207397],[2.3208709,48.8207739],[2.3206348,48.8208256],[2.3198358,48.8210035],[2.3191231,48.8211615],[2.3187898000000002,48.8212354],[2.3187512999999997,48.8212439],[2.3187249,48.8212497],[2.3187012,48.821255],[2.3183848,48.8213252],[2.3183325999999997,48.8213367],[2.318011,48.8214081],[2.3168502,48.8216633],[2.3147320000000002,48.8221407],[2.3145538,48.822174],[2.3143633,48.8222148],[2.314133,48.8222632],[2.3138,48.8223339],[2.3133907,48.8224326],[2.3133857,48.822426899999996],[2.3130139,48.8225108],[2.3115240999999997,48.8228465],[2.3102584,48.8231256],[2.308423,48.823528],[2.3068117,48.8238869],[2.3065022,48.8239535],[2.3063461,48.8239892],[2.305836,48.8241052],[2.3043777,48.8244361],[2.3041229,48.8244931],[2.3040439,48.824512],[2.3040035,48.8245201],[2.3039804999999998,48.8245257],[2.3023384,48.8249028],[2.3017791,48.8250223],[2.3013179,48.8251252],[2.3007146,48.8252543],[2.2976469,48.8259109],[2.2942296,48.8266901],[2.2922207,48.8271379],[2.2920116999999998,48.8272254],[2.2909034,48.8276894],[2.2893877,48.8283239],[2.2854691,48.8299788],[2.2833629,48.8308617],[2.2805217,48.831905],[2.2790539,48.8324454],[2.2763584,48.8302146],[2.2757908000000002,48.8297038],[2.2734265,48.8283053],[2.2727442,48.8279332],[2.2713364,48.8279055],[2.2678061,48.8278499],[2.2677743,48.8278688],[2.2676048,48.8279672],[2.2672998,48.8315589],[2.2696717,48.8328133],[2.2700296,48.8330081],[2.2699508,48.8330727],[2.2699135999999998,48.8330986],[2.2688782,48.8338148],[2.2683707,48.8342121],[2.2679483,48.8345762],[2.2674688,48.8346265],[2.2669247,48.8345171],[2.2661777,48.8344521],[2.2649159,48.834231],[2.264369,48.8341436],[2.26296,48.8338989],[2.2627756,48.833918],[2.2620167,48.8340107],[2.2616455,48.834056],[2.2611656,48.8341061],[2.2594654,48.8343047],[2.2574584,48.8345392],[2.2571083,48.8345789],[2.2568401,48.8346093],[2.2561684,48.8346874],[2.2551536,48.8348049],[2.2541951,48.8359203],[2.2540884,48.8360473],[2.2539355,48.8362258],[2.2537826,48.8364043],[2.2535027,48.8367306],[2.2533993,48.8368544],[2.2533008,48.8369684],[2.2532107,48.8370758],[2.253014,48.8373102],[2.2523049,48.8381357],[2.2522186,48.838236],[2.2520858,48.8383916],[2.2520553,48.8384273],[2.2516489,48.8389057],[2.2516067,48.8392844],[2.2515939,48.839405],[2.2515681,48.839646],[2.2515678,48.8396486],[2.2515423,48.8398869],[2.2515293,48.8400073],[2.251493,48.8403643],[2.2514061,48.8411522],[2.2513016,48.8420892],[2.2512996,48.8421089],[2.251272,48.8423976],[2.2512194,48.8428913],[2.2525351000000002,48.8455693],[2.2509426,48.8456004],[2.2509157,48.8456],[2.250872,48.8456004],[2.2508284,48.8456087],[2.2506759,48.8456267],[2.2505438,48.8456557],[2.2504945,48.8456704],[2.2504219,48.845688],[2.2497544,48.8458481],[2.2478828,48.8463268],[2.2467289,48.8466377],[2.245559,48.846937],[2.2430007,48.8475951],[2.2424666,48.847731],[2.242352,48.8478301],[2.2420888,48.848059],[2.2415952,48.8484902],[2.2415171,48.8485576],[2.2415047,48.8485684],[2.2414248,48.8486374],[2.2403097,48.8496003],[2.2401177,48.8497482],[2.2399503,48.8498535],[2.2396971,48.8499781],[2.239558,48.8500378],[2.2393244,48.8501069],[2.239084,48.8501601],[2.2381442,48.8503672],[2.2377999,48.8504401],[2.2263608,48.8529593],[2.2255595,48.8531357],[2.2241686,48.8534419]]]}}]},\"type\":\"line\"}]},\"coloraxis\":{\"colorbar\":{\"title\":{\"text\":\"price_level\"}},\"colorscale\":[[0.0,\"#0d0887\"],[0.1111111111111111,\"#46039f\"],[0.2222222222222222,\"#7201a8\"],[0.3333333333333333,\"#9c179e\"],[0.4444444444444444,\"#bd3786\"],[0.5555555555555556,\"#d8576b\"],[0.6666666666666666,\"#ed7953\"],[0.7777777777777778,\"#fb9f3a\"],[0.8888888888888888,\"#fdca26\"],[1.0,\"#f0f921\"]]},\"legend\":{\"tracegroupgap\":0},\"margin\":{\"t\":0,\"l\":0,\"r\":0,\"b\":0}},                        {\"responsive\": true}                    ).then(function(){\n",
       "                            \n",
       "var gd = document.getElementById('c94308db-9c74-4800-b7a8-bc05cb399139');\n",
       "var x = new MutationObserver(function (mutations, observer) {{\n",
       "        var display = window.getComputedStyle(gd).display;\n",
       "        if (!display || display === 'none') {{\n",
       "            console.log([gd, 'removed!']);\n",
       "            Plotly.purge(gd);\n",
       "            observer.disconnect();\n",
       "        }}\n",
       "}});\n",
       "\n",
       "// Listen for the removal of the full notebook cells\n",
       "var notebookContainer = gd.closest('#notebook-container');\n",
       "if (notebookContainer) {{\n",
       "    x.observe(notebookContainer, {childList: true});\n",
       "}}\n",
       "\n",
       "// Listen for the clearing of the current output cell\n",
       "var outputEl = gd.closest('.output');\n",
       "if (outputEl) {{\n",
       "    x.observe(outputEl, {childList: true});\n",
       "}}\n",
       "\n",
       "                        })                };                });            </script>        </div>"
      ]
     },
     "metadata": {},
     "output_type": "display_data"
    }
   ],
   "source": [
    "import pandas as pd\n",
    "import plotly.express as px\n",
    "fig = px.density_mapbox(italy_cuisines_in_paris, lat='latitude', lon='longitude', z='price_level', radius=10,\n",
    "                        center=dict(lat=0, lon=180), zoom=0,\n",
    "                        mapbox_style=\"stamen-terrain\")\n",
    "fig.update_layout(\n",
    "    mapbox = {\n",
    "        'style': \"stamen-terrain\",\n",
    "        'center': { 'lon': 2.3428763772885635 , 'lat': 48.85662216690112},\n",
    "        'zoom': 12, 'layers': [{\n",
    "            'source': {\n",
    "                'type': \"FeatureCollection\",\n",
    "                'features': [{\n",
    "                    'type': \"Feature\",\n",
    "                    'geometry': {\n",
    "                        'type': \"Polygon\",\n",
    "                        'coordinates':  [boundries]\n",
    "                    }\n",
    "                }]\n",
    "            },\n",
    "            'type': \"line\", 'below': \"traces\", 'color': \"red\"}]},\n",
    "    margin = {'l':0, 'r':0, 'b':0, 't':0})\n",
    "fig.show()"
   ]
  }
 ],
 "metadata": {
  "kernelspec": {
   "display_name": "Python 3 (ipykernel)",
   "language": "python",
   "name": "python3"
  },
  "language_info": {
   "codemirror_mode": {
    "name": "ipython",
    "version": 3
   },
   "file_extension": ".py",
   "mimetype": "text/x-python",
   "name": "python",
   "nbconvert_exporter": "python",
   "pygments_lexer": "ipython3",
   "version": "3.10.1"
  }
 },
 "nbformat": 4,
 "nbformat_minor": 5
}
